{
 "cells": [
  {
   "cell_type": "code",
   "execution_count": 1,
   "id": "fbf1adab",
   "metadata": {},
   "outputs": [],
   "source": [
    "# import pandas library\n",
    "import pandas as pd"
   ]
  },
  {
   "cell_type": "code",
   "execution_count": 2,
   "id": "ad36396d",
   "metadata": {},
   "outputs": [],
   "source": [
    "# import numpy libary\n",
    "import numpy as np"
   ]
  },
  {
   "cell_type": "code",
   "execution_count": 3,
   "id": "ad6a1efa",
   "metadata": {},
   "outputs": [],
   "source": [
    "# import matplotlib for graphing\n",
    "import matplotlib.pyplot as plt"
   ]
  },
  {
   "cell_type": "markdown",
   "id": "f957ff6b",
   "metadata": {},
   "source": [
    "**1 Instacart Orders Data**"
   ]
  },
  {
   "cell_type": "markdown",
   "id": "5a1b8236",
   "metadata": {},
   "source": [
    "**instacart_orders.csv: each row corresponds to one order on the Instacart app**\n",
    "\n",
    "- **order_id**: ID number that uniquely identifies each order\n",
    "- **user_id**: ID number that uniquely identifies each customer account\n",
    "- **order_number**: the number of times this customer has placed an order\n",
    "- **order_dow**: day of the week that the order placed (which day is 0 is uncertain)\n",
    "- **order_hour_of_day**: hour of the day that the order was placed\n",
    "- **days_since_prior_order**: number of days since this customer placed their previous order"
   ]
  },
  {
   "cell_type": "code",
   "execution_count": 4,
   "id": "67d7ca8b",
   "metadata": {},
   "outputs": [
    {
     "data": {
      "text/html": [
       "<div>\n",
       "<style scoped>\n",
       "    .dataframe tbody tr th:only-of-type {\n",
       "        vertical-align: middle;\n",
       "    }\n",
       "\n",
       "    .dataframe tbody tr th {\n",
       "        vertical-align: top;\n",
       "    }\n",
       "\n",
       "    .dataframe thead th {\n",
       "        text-align: right;\n",
       "    }\n",
       "</style>\n",
       "<table border=\"1\" class=\"dataframe\">\n",
       "  <thead>\n",
       "    <tr style=\"text-align: right;\">\n",
       "      <th></th>\n",
       "      <th>order_id</th>\n",
       "      <th>user_id</th>\n",
       "      <th>order_number</th>\n",
       "      <th>order_dow</th>\n",
       "      <th>order_hour_of_day</th>\n",
       "      <th>days_since_prior_order</th>\n",
       "    </tr>\n",
       "  </thead>\n",
       "  <tbody>\n",
       "    <tr>\n",
       "      <th>0</th>\n",
       "      <td>1515936</td>\n",
       "      <td>183418</td>\n",
       "      <td>11</td>\n",
       "      <td>6</td>\n",
       "      <td>13</td>\n",
       "      <td>30.0</td>\n",
       "    </tr>\n",
       "    <tr>\n",
       "      <th>1</th>\n",
       "      <td>1690866</td>\n",
       "      <td>163593</td>\n",
       "      <td>5</td>\n",
       "      <td>5</td>\n",
       "      <td>12</td>\n",
       "      <td>9.0</td>\n",
       "    </tr>\n",
       "    <tr>\n",
       "      <th>2</th>\n",
       "      <td>1454967</td>\n",
       "      <td>39980</td>\n",
       "      <td>4</td>\n",
       "      <td>5</td>\n",
       "      <td>19</td>\n",
       "      <td>2.0</td>\n",
       "    </tr>\n",
       "    <tr>\n",
       "      <th>3</th>\n",
       "      <td>1768857</td>\n",
       "      <td>82516</td>\n",
       "      <td>56</td>\n",
       "      <td>0</td>\n",
       "      <td>20</td>\n",
       "      <td>10.0</td>\n",
       "    </tr>\n",
       "    <tr>\n",
       "      <th>4</th>\n",
       "      <td>3007858</td>\n",
       "      <td>196724</td>\n",
       "      <td>2</td>\n",
       "      <td>4</td>\n",
       "      <td>12</td>\n",
       "      <td>17.0</td>\n",
       "    </tr>\n",
       "  </tbody>\n",
       "</table>\n",
       "</div>"
      ],
      "text/plain": [
       "   order_id  user_id  order_number  order_dow  order_hour_of_day  \\\n",
       "0   1515936   183418            11          6                 13   \n",
       "1   1690866   163593             5          5                 12   \n",
       "2   1454967    39980             4          5                 19   \n",
       "3   1768857    82516            56          0                 20   \n",
       "4   3007858   196724             2          4                 12   \n",
       "\n",
       "   days_since_prior_order  \n",
       "0                    30.0  \n",
       "1                     9.0  \n",
       "2                     2.0  \n",
       "3                    10.0  \n",
       "4                    17.0  "
      ]
     },
     "execution_count": 4,
     "metadata": {},
     "output_type": "execute_result"
    }
   ],
   "source": [
    "# import csv\n",
    "df_instacart_orders = pd.read_csv(\"/datasets/instacart_orders.csv\",sep=';')\n",
    "df_instacart_orders.head()"
   ]
  },
  {
   "cell_type": "markdown",
   "id": "969e7145",
   "metadata": {},
   "source": [
    "**2 Products Data**"
   ]
  },
  {
   "cell_type": "markdown",
   "id": "3a75f336",
   "metadata": {},
   "source": [
    "**products.csv:** each row corresponds to a unique product that customers can buy\n",
    "\n",
    "- **'product_id'**: ID number that uniquely identifies each product\n",
    "- **'product_name'**: name of the product\n",
    "- **'aisle_id'**: ID number that uniquely identifies each grocery aisle category\n",
    "- **'department_id'**: ID number that uniquely identifies each grocery department category"
   ]
  },
  {
   "cell_type": "code",
   "execution_count": 5,
   "id": "e084423d",
   "metadata": {},
   "outputs": [
    {
     "data": {
      "text/html": [
       "<div>\n",
       "<style scoped>\n",
       "    .dataframe tbody tr th:only-of-type {\n",
       "        vertical-align: middle;\n",
       "    }\n",
       "\n",
       "    .dataframe tbody tr th {\n",
       "        vertical-align: top;\n",
       "    }\n",
       "\n",
       "    .dataframe thead th {\n",
       "        text-align: right;\n",
       "    }\n",
       "</style>\n",
       "<table border=\"1\" class=\"dataframe\">\n",
       "  <thead>\n",
       "    <tr style=\"text-align: right;\">\n",
       "      <th></th>\n",
       "      <th>product_id</th>\n",
       "      <th>product_name</th>\n",
       "      <th>aisle_id</th>\n",
       "      <th>department_id</th>\n",
       "    </tr>\n",
       "  </thead>\n",
       "  <tbody>\n",
       "    <tr>\n",
       "      <th>0</th>\n",
       "      <td>1</td>\n",
       "      <td>Chocolate Sandwich Cookies</td>\n",
       "      <td>61</td>\n",
       "      <td>19</td>\n",
       "    </tr>\n",
       "    <tr>\n",
       "      <th>1</th>\n",
       "      <td>2</td>\n",
       "      <td>All-Seasons Salt</td>\n",
       "      <td>104</td>\n",
       "      <td>13</td>\n",
       "    </tr>\n",
       "    <tr>\n",
       "      <th>2</th>\n",
       "      <td>3</td>\n",
       "      <td>Robust Golden Unsweetened Oolong Tea</td>\n",
       "      <td>94</td>\n",
       "      <td>7</td>\n",
       "    </tr>\n",
       "    <tr>\n",
       "      <th>3</th>\n",
       "      <td>4</td>\n",
       "      <td>Smart Ones Classic Favorites Mini Rigatoni Wit...</td>\n",
       "      <td>38</td>\n",
       "      <td>1</td>\n",
       "    </tr>\n",
       "    <tr>\n",
       "      <th>4</th>\n",
       "      <td>5</td>\n",
       "      <td>Green Chile Anytime Sauce</td>\n",
       "      <td>5</td>\n",
       "      <td>13</td>\n",
       "    </tr>\n",
       "  </tbody>\n",
       "</table>\n",
       "</div>"
      ],
      "text/plain": [
       "   product_id                                       product_name  aisle_id  \\\n",
       "0           1                         Chocolate Sandwich Cookies        61   \n",
       "1           2                                   All-Seasons Salt       104   \n",
       "2           3               Robust Golden Unsweetened Oolong Tea        94   \n",
       "3           4  Smart Ones Classic Favorites Mini Rigatoni Wit...        38   \n",
       "4           5                          Green Chile Anytime Sauce         5   \n",
       "\n",
       "   department_id  \n",
       "0             19  \n",
       "1             13  \n",
       "2              7  \n",
       "3              1  \n",
       "4             13  "
      ]
     },
     "execution_count": 5,
     "metadata": {},
     "output_type": "execute_result"
    }
   ],
   "source": [
    "# import csv\n",
    "df_products = pd.read_csv(\"/datasets/products.csv\",sep=';')\n",
    "df_products.head()"
   ]
  },
  {
   "cell_type": "markdown",
   "id": "bd45bf0f",
   "metadata": {},
   "source": [
    "**3 Aisles Data**"
   ]
  },
  {
   "cell_type": "markdown",
   "id": "19d80d79",
   "metadata": {},
   "source": [
    "**aisles.csv**\n",
    "\n",
    "- **'aisle_id'**: ID number that uniquely identifies each grocery aisle category\n",
    "- **'aisle'**: name of the aisle"
   ]
  },
  {
   "cell_type": "code",
   "execution_count": 6,
   "id": "292d3973",
   "metadata": {},
   "outputs": [
    {
     "data": {
      "text/html": [
       "<div>\n",
       "<style scoped>\n",
       "    .dataframe tbody tr th:only-of-type {\n",
       "        vertical-align: middle;\n",
       "    }\n",
       "\n",
       "    .dataframe tbody tr th {\n",
       "        vertical-align: top;\n",
       "    }\n",
       "\n",
       "    .dataframe thead th {\n",
       "        text-align: right;\n",
       "    }\n",
       "</style>\n",
       "<table border=\"1\" class=\"dataframe\">\n",
       "  <thead>\n",
       "    <tr style=\"text-align: right;\">\n",
       "      <th></th>\n",
       "      <th>aisle_id</th>\n",
       "      <th>aisle</th>\n",
       "    </tr>\n",
       "  </thead>\n",
       "  <tbody>\n",
       "    <tr>\n",
       "      <th>0</th>\n",
       "      <td>1</td>\n",
       "      <td>prepared soups salads</td>\n",
       "    </tr>\n",
       "    <tr>\n",
       "      <th>1</th>\n",
       "      <td>2</td>\n",
       "      <td>specialty cheeses</td>\n",
       "    </tr>\n",
       "    <tr>\n",
       "      <th>2</th>\n",
       "      <td>3</td>\n",
       "      <td>energy granola bars</td>\n",
       "    </tr>\n",
       "    <tr>\n",
       "      <th>3</th>\n",
       "      <td>4</td>\n",
       "      <td>instant foods</td>\n",
       "    </tr>\n",
       "    <tr>\n",
       "      <th>4</th>\n",
       "      <td>5</td>\n",
       "      <td>marinades meat preparation</td>\n",
       "    </tr>\n",
       "  </tbody>\n",
       "</table>\n",
       "</div>"
      ],
      "text/plain": [
       "   aisle_id                       aisle\n",
       "0         1       prepared soups salads\n",
       "1         2           specialty cheeses\n",
       "2         3         energy granola bars\n",
       "3         4               instant foods\n",
       "4         5  marinades meat preparation"
      ]
     },
     "execution_count": 6,
     "metadata": {},
     "output_type": "execute_result"
    }
   ],
   "source": [
    "# import csv\n",
    "df_aisles = pd.read_csv(\"/datasets/aisles.csv\",sep=';')\n",
    "df_aisles.head()"
   ]
  },
  {
   "cell_type": "markdown",
   "id": "da475d08",
   "metadata": {},
   "source": [
    "**4 Departments Data**"
   ]
  },
  {
   "cell_type": "markdown",
   "id": "6994f81d",
   "metadata": {},
   "source": [
    "**departments.csv**\n",
    "\n",
    "- **'department_id'**: ID number that uniquely identifies each grocery department category\n",
    "- **'department'**: name of the department"
   ]
  },
  {
   "cell_type": "code",
   "execution_count": 7,
   "id": "0375c534",
   "metadata": {},
   "outputs": [
    {
     "data": {
      "text/html": [
       "<div>\n",
       "<style scoped>\n",
       "    .dataframe tbody tr th:only-of-type {\n",
       "        vertical-align: middle;\n",
       "    }\n",
       "\n",
       "    .dataframe tbody tr th {\n",
       "        vertical-align: top;\n",
       "    }\n",
       "\n",
       "    .dataframe thead th {\n",
       "        text-align: right;\n",
       "    }\n",
       "</style>\n",
       "<table border=\"1\" class=\"dataframe\">\n",
       "  <thead>\n",
       "    <tr style=\"text-align: right;\">\n",
       "      <th></th>\n",
       "      <th>department_id</th>\n",
       "      <th>department</th>\n",
       "    </tr>\n",
       "  </thead>\n",
       "  <tbody>\n",
       "    <tr>\n",
       "      <th>0</th>\n",
       "      <td>1</td>\n",
       "      <td>frozen</td>\n",
       "    </tr>\n",
       "    <tr>\n",
       "      <th>1</th>\n",
       "      <td>2</td>\n",
       "      <td>other</td>\n",
       "    </tr>\n",
       "    <tr>\n",
       "      <th>2</th>\n",
       "      <td>3</td>\n",
       "      <td>bakery</td>\n",
       "    </tr>\n",
       "    <tr>\n",
       "      <th>3</th>\n",
       "      <td>4</td>\n",
       "      <td>produce</td>\n",
       "    </tr>\n",
       "    <tr>\n",
       "      <th>4</th>\n",
       "      <td>5</td>\n",
       "      <td>alcohol</td>\n",
       "    </tr>\n",
       "  </tbody>\n",
       "</table>\n",
       "</div>"
      ],
      "text/plain": [
       "   department_id department\n",
       "0              1     frozen\n",
       "1              2      other\n",
       "2              3     bakery\n",
       "3              4    produce\n",
       "4              5    alcohol"
      ]
     },
     "execution_count": 7,
     "metadata": {},
     "output_type": "execute_result"
    }
   ],
   "source": [
    "# import csv\n",
    "df_departments = pd.read_csv(\"/datasets/departments.csv\",sep=\";\")\n",
    "df_departments.head()"
   ]
  },
  {
   "cell_type": "markdown",
   "id": "5873179a",
   "metadata": {},
   "source": [
    "**5 Order Products Data**"
   ]
  },
  {
   "cell_type": "markdown",
   "id": "413a396f",
   "metadata": {},
   "source": [
    "**order_products.csv**: each row corresponds to one item placed in an order\n",
    "\n",
    "- **'order_id'**: ID number that uniquely identifies each order\n",
    "- **'product_id'**: ID number that uniquely identifies each product\n",
    "- **'add_to_cart_order'**: the sequential order in which each item was placed in the cart\n",
    "- **'reordered'**: 0 if the customer has never ordered this product before, 1 if they have"
   ]
  },
  {
   "cell_type": "code",
   "execution_count": 8,
   "id": "38a9308d",
   "metadata": {},
   "outputs": [
    {
     "data": {
      "text/html": [
       "<div>\n",
       "<style scoped>\n",
       "    .dataframe tbody tr th:only-of-type {\n",
       "        vertical-align: middle;\n",
       "    }\n",
       "\n",
       "    .dataframe tbody tr th {\n",
       "        vertical-align: top;\n",
       "    }\n",
       "\n",
       "    .dataframe thead th {\n",
       "        text-align: right;\n",
       "    }\n",
       "</style>\n",
       "<table border=\"1\" class=\"dataframe\">\n",
       "  <thead>\n",
       "    <tr style=\"text-align: right;\">\n",
       "      <th></th>\n",
       "      <th>order_id</th>\n",
       "      <th>product_id</th>\n",
       "      <th>add_to_cart_order</th>\n",
       "      <th>reordered</th>\n",
       "    </tr>\n",
       "  </thead>\n",
       "  <tbody>\n",
       "    <tr>\n",
       "      <th>0</th>\n",
       "      <td>2141543</td>\n",
       "      <td>11440</td>\n",
       "      <td>17.0</td>\n",
       "      <td>0</td>\n",
       "    </tr>\n",
       "    <tr>\n",
       "      <th>1</th>\n",
       "      <td>567889</td>\n",
       "      <td>1560</td>\n",
       "      <td>1.0</td>\n",
       "      <td>1</td>\n",
       "    </tr>\n",
       "    <tr>\n",
       "      <th>2</th>\n",
       "      <td>2261212</td>\n",
       "      <td>26683</td>\n",
       "      <td>1.0</td>\n",
       "      <td>1</td>\n",
       "    </tr>\n",
       "    <tr>\n",
       "      <th>3</th>\n",
       "      <td>491251</td>\n",
       "      <td>8670</td>\n",
       "      <td>35.0</td>\n",
       "      <td>1</td>\n",
       "    </tr>\n",
       "    <tr>\n",
       "      <th>4</th>\n",
       "      <td>2571142</td>\n",
       "      <td>1940</td>\n",
       "      <td>5.0</td>\n",
       "      <td>1</td>\n",
       "    </tr>\n",
       "  </tbody>\n",
       "</table>\n",
       "</div>"
      ],
      "text/plain": [
       "   order_id  product_id  add_to_cart_order  reordered\n",
       "0   2141543       11440               17.0          0\n",
       "1    567889        1560                1.0          1\n",
       "2   2261212       26683                1.0          1\n",
       "3    491251        8670               35.0          1\n",
       "4   2571142        1940                5.0          1"
      ]
     },
     "execution_count": 8,
     "metadata": {},
     "output_type": "execute_result"
    }
   ],
   "source": [
    "# import csv\n",
    "df_order_products = pd.read_csv(\"/datasets/order_products.csv\",sep=';')\n",
    "df_order_products.head()"
   ]
  },
  {
   "cell_type": "markdown",
   "id": "07357848-dc64-4156-9cc3-01ff4365226d",
   "metadata": {},
   "source": [
    "## Find and remove duplicate values (and describe why you make your choices)"
   ]
  },
  {
   "cell_type": "markdown",
   "id": "f179f0a9",
   "metadata": {},
   "source": [
    "### `orders` data frame"
   ]
  },
  {
   "cell_type": "code",
   "execution_count": 9,
   "id": "b99297a5-405a-463d-8535-9adc3da4ad74",
   "metadata": {},
   "outputs": [
    {
     "name": "stdout",
     "output_type": "stream",
     "text": [
      "There are 15 duplicates\n"
     ]
    }
   ],
   "source": [
    "# Check for duplicated orders\n",
    "dups = df_instacart_orders.duplicated().sum()\n",
    "print(f\"There are {dups} duplicates\")"
   ]
  },
  {
   "cell_type": "code",
   "execution_count": 10,
   "id": "a9ed933c",
   "metadata": {},
   "outputs": [
    {
     "name": "stdout",
     "output_type": "stream",
     "text": [
      "Here are the 15 rows\n"
     ]
    },
    {
     "data": {
      "text/html": [
       "<div>\n",
       "<style scoped>\n",
       "    .dataframe tbody tr th:only-of-type {\n",
       "        vertical-align: middle;\n",
       "    }\n",
       "\n",
       "    .dataframe tbody tr th {\n",
       "        vertical-align: top;\n",
       "    }\n",
       "\n",
       "    .dataframe thead th {\n",
       "        text-align: right;\n",
       "    }\n",
       "</style>\n",
       "<table border=\"1\" class=\"dataframe\">\n",
       "  <thead>\n",
       "    <tr style=\"text-align: right;\">\n",
       "      <th></th>\n",
       "      <th>order_id</th>\n",
       "      <th>user_id</th>\n",
       "      <th>order_number</th>\n",
       "      <th>order_dow</th>\n",
       "      <th>order_hour_of_day</th>\n",
       "      <th>days_since_prior_order</th>\n",
       "    </tr>\n",
       "  </thead>\n",
       "  <tbody>\n",
       "    <tr>\n",
       "      <th>145574</th>\n",
       "      <td>794638</td>\n",
       "      <td>50898</td>\n",
       "      <td>24</td>\n",
       "      <td>3</td>\n",
       "      <td>2</td>\n",
       "      <td>2.0</td>\n",
       "    </tr>\n",
       "    <tr>\n",
       "      <th>223105</th>\n",
       "      <td>2160484</td>\n",
       "      <td>107525</td>\n",
       "      <td>16</td>\n",
       "      <td>3</td>\n",
       "      <td>2</td>\n",
       "      <td>30.0</td>\n",
       "    </tr>\n",
       "    <tr>\n",
       "      <th>230807</th>\n",
       "      <td>1918001</td>\n",
       "      <td>188546</td>\n",
       "      <td>14</td>\n",
       "      <td>3</td>\n",
       "      <td>2</td>\n",
       "      <td>16.0</td>\n",
       "    </tr>\n",
       "    <tr>\n",
       "      <th>266232</th>\n",
       "      <td>1782114</td>\n",
       "      <td>106752</td>\n",
       "      <td>1</td>\n",
       "      <td>3</td>\n",
       "      <td>2</td>\n",
       "      <td>NaN</td>\n",
       "    </tr>\n",
       "    <tr>\n",
       "      <th>273805</th>\n",
       "      <td>1112182</td>\n",
       "      <td>202304</td>\n",
       "      <td>84</td>\n",
       "      <td>3</td>\n",
       "      <td>2</td>\n",
       "      <td>6.0</td>\n",
       "    </tr>\n",
       "    <tr>\n",
       "      <th>284038</th>\n",
       "      <td>2845099</td>\n",
       "      <td>31189</td>\n",
       "      <td>11</td>\n",
       "      <td>3</td>\n",
       "      <td>2</td>\n",
       "      <td>7.0</td>\n",
       "    </tr>\n",
       "    <tr>\n",
       "      <th>311713</th>\n",
       "      <td>1021560</td>\n",
       "      <td>53767</td>\n",
       "      <td>3</td>\n",
       "      <td>3</td>\n",
       "      <td>2</td>\n",
       "      <td>9.0</td>\n",
       "    </tr>\n",
       "    <tr>\n",
       "      <th>321100</th>\n",
       "      <td>408114</td>\n",
       "      <td>68324</td>\n",
       "      <td>4</td>\n",
       "      <td>3</td>\n",
       "      <td>2</td>\n",
       "      <td>18.0</td>\n",
       "    </tr>\n",
       "    <tr>\n",
       "      <th>323900</th>\n",
       "      <td>1919531</td>\n",
       "      <td>191501</td>\n",
       "      <td>32</td>\n",
       "      <td>3</td>\n",
       "      <td>2</td>\n",
       "      <td>7.0</td>\n",
       "    </tr>\n",
       "    <tr>\n",
       "      <th>345917</th>\n",
       "      <td>2232988</td>\n",
       "      <td>82565</td>\n",
       "      <td>1</td>\n",
       "      <td>3</td>\n",
       "      <td>2</td>\n",
       "      <td>NaN</td>\n",
       "    </tr>\n",
       "    <tr>\n",
       "      <th>371905</th>\n",
       "      <td>391768</td>\n",
       "      <td>57671</td>\n",
       "      <td>19</td>\n",
       "      <td>3</td>\n",
       "      <td>2</td>\n",
       "      <td>10.0</td>\n",
       "    </tr>\n",
       "    <tr>\n",
       "      <th>394347</th>\n",
       "      <td>467134</td>\n",
       "      <td>63189</td>\n",
       "      <td>21</td>\n",
       "      <td>3</td>\n",
       "      <td>2</td>\n",
       "      <td>2.0</td>\n",
       "    </tr>\n",
       "    <tr>\n",
       "      <th>411408</th>\n",
       "      <td>1286742</td>\n",
       "      <td>183220</td>\n",
       "      <td>48</td>\n",
       "      <td>3</td>\n",
       "      <td>2</td>\n",
       "      <td>4.0</td>\n",
       "    </tr>\n",
       "    <tr>\n",
       "      <th>415163</th>\n",
       "      <td>2282673</td>\n",
       "      <td>86751</td>\n",
       "      <td>49</td>\n",
       "      <td>3</td>\n",
       "      <td>2</td>\n",
       "      <td>2.0</td>\n",
       "    </tr>\n",
       "    <tr>\n",
       "      <th>441599</th>\n",
       "      <td>2125197</td>\n",
       "      <td>14050</td>\n",
       "      <td>48</td>\n",
       "      <td>3</td>\n",
       "      <td>2</td>\n",
       "      <td>3.0</td>\n",
       "    </tr>\n",
       "  </tbody>\n",
       "</table>\n",
       "</div>"
      ],
      "text/plain": [
       "        order_id  user_id  order_number  order_dow  order_hour_of_day  \\\n",
       "145574    794638    50898            24          3                  2   \n",
       "223105   2160484   107525            16          3                  2   \n",
       "230807   1918001   188546            14          3                  2   \n",
       "266232   1782114   106752             1          3                  2   \n",
       "273805   1112182   202304            84          3                  2   \n",
       "284038   2845099    31189            11          3                  2   \n",
       "311713   1021560    53767             3          3                  2   \n",
       "321100    408114    68324             4          3                  2   \n",
       "323900   1919531   191501            32          3                  2   \n",
       "345917   2232988    82565             1          3                  2   \n",
       "371905    391768    57671            19          3                  2   \n",
       "394347    467134    63189            21          3                  2   \n",
       "411408   1286742   183220            48          3                  2   \n",
       "415163   2282673    86751            49          3                  2   \n",
       "441599   2125197    14050            48          3                  2   \n",
       "\n",
       "        days_since_prior_order  \n",
       "145574                     2.0  \n",
       "223105                    30.0  \n",
       "230807                    16.0  \n",
       "266232                     NaN  \n",
       "273805                     6.0  \n",
       "284038                     7.0  \n",
       "311713                     9.0  \n",
       "321100                    18.0  \n",
       "323900                     7.0  \n",
       "345917                     NaN  \n",
       "371905                    10.0  \n",
       "394347                     2.0  \n",
       "411408                     4.0  \n",
       "415163                     2.0  \n",
       "441599                     3.0  "
      ]
     },
     "execution_count": 10,
     "metadata": {},
     "output_type": "execute_result"
    }
   ],
   "source": [
    "print(f'Here are the {dups} rows')\n",
    "df_instacart_orders[df_instacart_orders.duplicated()]"
   ]
  },
  {
   "cell_type": "markdown",
   "id": "183de623",
   "metadata": {},
   "source": [
    "All duplicateds were on a Wednesay and at 2:am"
   ]
  },
  {
   "cell_type": "code",
   "execution_count": 11,
   "id": "0d44de5d",
   "metadata": {},
   "outputs": [],
   "source": [
    "# Check for all orders placed Wednesday at 2:00 AM"
   ]
  },
  {
   "cell_type": "code",
   "execution_count": 12,
   "id": "3d872734",
   "metadata": {},
   "outputs": [
    {
     "data": {
      "text/plain": [
       "array([6, 5, 0, 4, 3, 1, 2])"
      ]
     },
     "execution_count": 12,
     "metadata": {},
     "output_type": "execute_result"
    }
   ],
   "source": [
    "df_instacart_orders['order_dow'].unique()"
   ]
  },
  {
   "cell_type": "markdown",
   "id": "41e48f06",
   "metadata": {},
   "source": [
    "We can assume 0=sunday, 1=monday,...,6=saturday because 0 means to start and the day of the week starts sundays."
   ]
  },
  {
   "cell_type": "code",
   "execution_count": 13,
   "id": "d40b02fc",
   "metadata": {},
   "outputs": [
    {
     "data": {
      "text/html": [
       "<div>\n",
       "<style scoped>\n",
       "    .dataframe tbody tr th:only-of-type {\n",
       "        vertical-align: middle;\n",
       "    }\n",
       "\n",
       "    .dataframe tbody tr th {\n",
       "        vertical-align: top;\n",
       "    }\n",
       "\n",
       "    .dataframe thead th {\n",
       "        text-align: right;\n",
       "    }\n",
       "</style>\n",
       "<table border=\"1\" class=\"dataframe\">\n",
       "  <thead>\n",
       "    <tr style=\"text-align: right;\">\n",
       "      <th></th>\n",
       "      <th>order_id</th>\n",
       "      <th>user_id</th>\n",
       "      <th>order_number</th>\n",
       "      <th>order_dow</th>\n",
       "      <th>order_hour_of_day</th>\n",
       "      <th>days_since_prior_order</th>\n",
       "      <th>day_of_week</th>\n",
       "    </tr>\n",
       "  </thead>\n",
       "  <tbody>\n",
       "    <tr>\n",
       "      <th>0</th>\n",
       "      <td>1515936</td>\n",
       "      <td>183418</td>\n",
       "      <td>11</td>\n",
       "      <td>6</td>\n",
       "      <td>13</td>\n",
       "      <td>30.0</td>\n",
       "      <td>saturday</td>\n",
       "    </tr>\n",
       "    <tr>\n",
       "      <th>1</th>\n",
       "      <td>1690866</td>\n",
       "      <td>163593</td>\n",
       "      <td>5</td>\n",
       "      <td>5</td>\n",
       "      <td>12</td>\n",
       "      <td>9.0</td>\n",
       "      <td>friday</td>\n",
       "    </tr>\n",
       "    <tr>\n",
       "      <th>2</th>\n",
       "      <td>1454967</td>\n",
       "      <td>39980</td>\n",
       "      <td>4</td>\n",
       "      <td>5</td>\n",
       "      <td>19</td>\n",
       "      <td>2.0</td>\n",
       "      <td>friday</td>\n",
       "    </tr>\n",
       "    <tr>\n",
       "      <th>3</th>\n",
       "      <td>1768857</td>\n",
       "      <td>82516</td>\n",
       "      <td>56</td>\n",
       "      <td>0</td>\n",
       "      <td>20</td>\n",
       "      <td>10.0</td>\n",
       "      <td>sunday</td>\n",
       "    </tr>\n",
       "    <tr>\n",
       "      <th>4</th>\n",
       "      <td>3007858</td>\n",
       "      <td>196724</td>\n",
       "      <td>2</td>\n",
       "      <td>4</td>\n",
       "      <td>12</td>\n",
       "      <td>17.0</td>\n",
       "      <td>thursday</td>\n",
       "    </tr>\n",
       "  </tbody>\n",
       "</table>\n",
       "</div>"
      ],
      "text/plain": [
       "   order_id  user_id  order_number  order_dow  order_hour_of_day  \\\n",
       "0   1515936   183418            11          6                 13   \n",
       "1   1690866   163593             5          5                 12   \n",
       "2   1454967    39980             4          5                 19   \n",
       "3   1768857    82516            56          0                 20   \n",
       "4   3007858   196724             2          4                 12   \n",
       "\n",
       "   days_since_prior_order day_of_week  \n",
       "0                    30.0    saturday  \n",
       "1                     9.0      friday  \n",
       "2                     2.0      friday  \n",
       "3                    10.0      sunday  \n",
       "4                    17.0    thursday  "
      ]
     },
     "execution_count": 13,
     "metadata": {},
     "output_type": "execute_result"
    }
   ],
   "source": [
    "# Make a new column of the days of the week\n",
    "day_of_week = {0:'sunday',\n",
    "               1:'monday',\n",
    "               2:'tuesday',\n",
    "               3:'wednesday',\n",
    "               4:'thursday',\n",
    "               5:'friday',\n",
    "               6:'saturday'}\n",
    "\n",
    "df_instacart_orders['day_of_week'] = df_instacart_orders['order_dow'].replace(day_of_week)\n",
    "df_instacart_orders.head()"
   ]
  },
  {
   "cell_type": "code",
   "execution_count": 14,
   "id": "066c3ea1",
   "metadata": {},
   "outputs": [
    {
     "name": "stdout",
     "output_type": "stream",
     "text": [
      "[0, 1, 2, 3, 4, 5, 6, 7, 8, 9, 10, 11, 12, 13, 14, 15, 16, 17, 18, 19, 20, 21, 22, 23]\n"
     ]
    }
   ],
   "source": [
    "hours = sorted([i for i in df_instacart_orders['order_hour_of_day'].unique()])\n",
    "print(hours)"
   ]
  },
  {
   "cell_type": "markdown",
   "id": "38cd1785",
   "metadata": {},
   "source": [
    "This data follows the 0-23 hour time and not USA Time. So 2:00 am = 2"
   ]
  },
  {
   "cell_type": "code",
   "execution_count": 15,
   "id": "70fcc140",
   "metadata": {},
   "outputs": [
    {
     "data": {
      "text/html": [
       "<div>\n",
       "<style scoped>\n",
       "    .dataframe tbody tr th:only-of-type {\n",
       "        vertical-align: middle;\n",
       "    }\n",
       "\n",
       "    .dataframe tbody tr th {\n",
       "        vertical-align: top;\n",
       "    }\n",
       "\n",
       "    .dataframe thead th {\n",
       "        text-align: right;\n",
       "    }\n",
       "</style>\n",
       "<table border=\"1\" class=\"dataframe\">\n",
       "  <thead>\n",
       "    <tr style=\"text-align: right;\">\n",
       "      <th></th>\n",
       "      <th>order_id</th>\n",
       "      <th>user_id</th>\n",
       "      <th>order_number</th>\n",
       "      <th>order_dow</th>\n",
       "      <th>order_hour_of_day</th>\n",
       "      <th>days_since_prior_order</th>\n",
       "      <th>day_of_week</th>\n",
       "    </tr>\n",
       "  </thead>\n",
       "  <tbody>\n",
       "    <tr>\n",
       "      <th>4838</th>\n",
       "      <td>2766110</td>\n",
       "      <td>162084</td>\n",
       "      <td>41</td>\n",
       "      <td>3</td>\n",
       "      <td>2</td>\n",
       "      <td>16.0</td>\n",
       "      <td>wednesday</td>\n",
       "    </tr>\n",
       "    <tr>\n",
       "      <th>5156</th>\n",
       "      <td>2190225</td>\n",
       "      <td>138285</td>\n",
       "      <td>18</td>\n",
       "      <td>3</td>\n",
       "      <td>2</td>\n",
       "      <td>11.0</td>\n",
       "      <td>wednesday</td>\n",
       "    </tr>\n",
       "    <tr>\n",
       "      <th>15506</th>\n",
       "      <td>553049</td>\n",
       "      <td>58599</td>\n",
       "      <td>13</td>\n",
       "      <td>3</td>\n",
       "      <td>2</td>\n",
       "      <td>7.0</td>\n",
       "      <td>wednesday</td>\n",
       "    </tr>\n",
       "    <tr>\n",
       "      <th>18420</th>\n",
       "      <td>382357</td>\n",
       "      <td>120200</td>\n",
       "      <td>19</td>\n",
       "      <td>3</td>\n",
       "      <td>2</td>\n",
       "      <td>11.0</td>\n",
       "      <td>wednesday</td>\n",
       "    </tr>\n",
       "    <tr>\n",
       "      <th>24691</th>\n",
       "      <td>690242</td>\n",
       "      <td>77357</td>\n",
       "      <td>2</td>\n",
       "      <td>3</td>\n",
       "      <td>2</td>\n",
       "      <td>9.0</td>\n",
       "      <td>wednesday</td>\n",
       "    </tr>\n",
       "  </tbody>\n",
       "</table>\n",
       "</div>"
      ],
      "text/plain": [
       "       order_id  user_id  order_number  order_dow  order_hour_of_day  \\\n",
       "4838    2766110   162084            41          3                  2   \n",
       "5156    2190225   138285            18          3                  2   \n",
       "15506    553049    58599            13          3                  2   \n",
       "18420    382357   120200            19          3                  2   \n",
       "24691    690242    77357             2          3                  2   \n",
       "\n",
       "       days_since_prior_order day_of_week  \n",
       "4838                     16.0   wednesday  \n",
       "5156                     11.0   wednesday  \n",
       "15506                     7.0   wednesday  \n",
       "18420                    11.0   wednesday  \n",
       "24691                     9.0   wednesday  "
      ]
     },
     "execution_count": 15,
     "metadata": {},
     "output_type": "execute_result"
    }
   ],
   "source": [
    "# orders placed at wednesy at 2:00 am\n",
    "orders_wed_2am = df_instacart_orders.query(\"day_of_week == 'wednesday' & order_hour_of_day == 2\")\n",
    "orders_wed_2am.head()"
   ]
  },
  {
   "cell_type": "code",
   "execution_count": 16,
   "id": "480563c7",
   "metadata": {},
   "outputs": [
    {
     "data": {
      "text/html": [
       "<div>\n",
       "<style scoped>\n",
       "    .dataframe tbody tr th:only-of-type {\n",
       "        vertical-align: middle;\n",
       "    }\n",
       "\n",
       "    .dataframe tbody tr th {\n",
       "        vertical-align: top;\n",
       "    }\n",
       "\n",
       "    .dataframe thead th {\n",
       "        text-align: right;\n",
       "    }\n",
       "</style>\n",
       "<table border=\"1\" class=\"dataframe\">\n",
       "  <thead>\n",
       "    <tr style=\"text-align: right;\">\n",
       "      <th></th>\n",
       "      <th>order_id</th>\n",
       "      <th>user_id</th>\n",
       "      <th>order_number</th>\n",
       "      <th>order_dow</th>\n",
       "      <th>order_hour_of_day</th>\n",
       "      <th>days_since_prior_order</th>\n",
       "      <th>day_of_week</th>\n",
       "    </tr>\n",
       "  </thead>\n",
       "  <tbody>\n",
       "    <tr>\n",
       "      <th>0</th>\n",
       "      <td>1515936</td>\n",
       "      <td>183418</td>\n",
       "      <td>11</td>\n",
       "      <td>6</td>\n",
       "      <td>13</td>\n",
       "      <td>30.0</td>\n",
       "      <td>saturday</td>\n",
       "    </tr>\n",
       "    <tr>\n",
       "      <th>1</th>\n",
       "      <td>1690866</td>\n",
       "      <td>163593</td>\n",
       "      <td>5</td>\n",
       "      <td>5</td>\n",
       "      <td>12</td>\n",
       "      <td>9.0</td>\n",
       "      <td>friday</td>\n",
       "    </tr>\n",
       "    <tr>\n",
       "      <th>2</th>\n",
       "      <td>1454967</td>\n",
       "      <td>39980</td>\n",
       "      <td>4</td>\n",
       "      <td>5</td>\n",
       "      <td>19</td>\n",
       "      <td>2.0</td>\n",
       "      <td>friday</td>\n",
       "    </tr>\n",
       "    <tr>\n",
       "      <th>3</th>\n",
       "      <td>1768857</td>\n",
       "      <td>82516</td>\n",
       "      <td>56</td>\n",
       "      <td>0</td>\n",
       "      <td>20</td>\n",
       "      <td>10.0</td>\n",
       "      <td>sunday</td>\n",
       "    </tr>\n",
       "    <tr>\n",
       "      <th>4</th>\n",
       "      <td>3007858</td>\n",
       "      <td>196724</td>\n",
       "      <td>2</td>\n",
       "      <td>4</td>\n",
       "      <td>12</td>\n",
       "      <td>17.0</td>\n",
       "      <td>thursday</td>\n",
       "    </tr>\n",
       "  </tbody>\n",
       "</table>\n",
       "</div>"
      ],
      "text/plain": [
       "   order_id  user_id  order_number  order_dow  order_hour_of_day  \\\n",
       "0   1515936   183418            11          6                 13   \n",
       "1   1690866   163593             5          5                 12   \n",
       "2   1454967    39980             4          5                 19   \n",
       "3   1768857    82516            56          0                 20   \n",
       "4   3007858   196724             2          4                 12   \n",
       "\n",
       "   days_since_prior_order day_of_week  \n",
       "0                    30.0    saturday  \n",
       "1                     9.0      friday  \n",
       "2                     2.0      friday  \n",
       "3                    10.0      sunday  \n",
       "4                    17.0    thursday  "
      ]
     },
     "execution_count": 16,
     "metadata": {},
     "output_type": "execute_result"
    }
   ],
   "source": [
    "# Remove duplicate orders\n",
    "df_instacart_orders = df_instacart_orders.drop_duplicates().reset_index(drop=True)\n",
    "df_instacart_orders.head()"
   ]
  },
  {
   "cell_type": "code",
   "execution_count": 17,
   "id": "0b2396a2",
   "metadata": {},
   "outputs": [
    {
     "name": "stdout",
     "output_type": "stream",
     "text": [
      "There are 0 duplicates\n"
     ]
    }
   ],
   "source": [
    "# Double check for duplicate rows\n",
    "dups = df_instacart_orders.duplicated().sum()\n",
    "print(f\"There are {dups} duplicates\")"
   ]
  },
  {
   "cell_type": "code",
   "execution_count": 18,
   "id": "f6113ef1",
   "metadata": {},
   "outputs": [
    {
     "data": {
      "text/plain": [
       "(478952, 7)"
      ]
     },
     "execution_count": 18,
     "metadata": {},
     "output_type": "execute_result"
    }
   ],
   "source": [
    "# Double check for duplicate order IDs only\n",
    "df_instacart_orders.shape"
   ]
  },
  {
   "cell_type": "code",
   "execution_count": 19,
   "id": "6f900dc2",
   "metadata": {},
   "outputs": [
    {
     "data": {
      "text/plain": [
       "478952"
      ]
     },
     "execution_count": 19,
     "metadata": {},
     "output_type": "execute_result"
    }
   ],
   "source": [
    "df_instacart_orders['order_id'].nunique()"
   ]
  },
  {
   "cell_type": "markdown",
   "id": "efa1ee82",
   "metadata": {},
   "source": [
    "Since number of rows match the number of unique rows for the order Id column, there is no duplicates order Id numbers."
   ]
  },
  {
   "cell_type": "code",
   "execution_count": 20,
   "id": "2f260603",
   "metadata": {},
   "outputs": [],
   "source": [
    "# Convert columns to correct data types\n",
    "df_instacart_orders['day_of_week'] = df_instacart_orders['day_of_week'].astype('category')"
   ]
  },
  {
   "cell_type": "code",
   "execution_count": 21,
   "id": "bfb7e13d",
   "metadata": {},
   "outputs": [
    {
     "name": "stdout",
     "output_type": "stream",
     "text": [
      "<class 'pandas.core.frame.DataFrame'>\n",
      "RangeIndex: 478952 entries, 0 to 478951\n",
      "Data columns (total 7 columns):\n",
      " #   Column                  Non-Null Count   Dtype   \n",
      "---  ------                  --------------   -----   \n",
      " 0   order_id                478952 non-null  int64   \n",
      " 1   user_id                 478952 non-null  int64   \n",
      " 2   order_number            478952 non-null  int64   \n",
      " 3   order_dow               478952 non-null  int64   \n",
      " 4   order_hour_of_day       478952 non-null  int64   \n",
      " 5   days_since_prior_order  450135 non-null  float64 \n",
      " 6   day_of_week             478952 non-null  category\n",
      "dtypes: category(1), float64(1), int64(5)\n",
      "memory usage: 22.4 MB\n"
     ]
    }
   ],
   "source": [
    "df_instacart_orders.info()"
   ]
  },
  {
   "cell_type": "markdown",
   "id": "5e8905ae",
   "metadata": {},
   "source": []
  },
  {
   "cell_type": "markdown",
   "id": "45e6bc46",
   "metadata": {},
   "source": [
    "### `products` data frame"
   ]
  },
  {
   "cell_type": "code",
   "execution_count": 22,
   "id": "70098a52",
   "metadata": {},
   "outputs": [
    {
     "data": {
      "text/html": [
       "<div>\n",
       "<style scoped>\n",
       "    .dataframe tbody tr th:only-of-type {\n",
       "        vertical-align: middle;\n",
       "    }\n",
       "\n",
       "    .dataframe tbody tr th {\n",
       "        vertical-align: top;\n",
       "    }\n",
       "\n",
       "    .dataframe thead th {\n",
       "        text-align: right;\n",
       "    }\n",
       "</style>\n",
       "<table border=\"1\" class=\"dataframe\">\n",
       "  <thead>\n",
       "    <tr style=\"text-align: right;\">\n",
       "      <th></th>\n",
       "      <th>product_id</th>\n",
       "      <th>product_name</th>\n",
       "      <th>aisle_id</th>\n",
       "      <th>department_id</th>\n",
       "    </tr>\n",
       "  </thead>\n",
       "  <tbody>\n",
       "    <tr>\n",
       "      <th>0</th>\n",
       "      <td>1</td>\n",
       "      <td>Chocolate Sandwich Cookies</td>\n",
       "      <td>61</td>\n",
       "      <td>19</td>\n",
       "    </tr>\n",
       "    <tr>\n",
       "      <th>1</th>\n",
       "      <td>2</td>\n",
       "      <td>All-Seasons Salt</td>\n",
       "      <td>104</td>\n",
       "      <td>13</td>\n",
       "    </tr>\n",
       "    <tr>\n",
       "      <th>2</th>\n",
       "      <td>3</td>\n",
       "      <td>Robust Golden Unsweetened Oolong Tea</td>\n",
       "      <td>94</td>\n",
       "      <td>7</td>\n",
       "    </tr>\n",
       "    <tr>\n",
       "      <th>3</th>\n",
       "      <td>4</td>\n",
       "      <td>Smart Ones Classic Favorites Mini Rigatoni Wit...</td>\n",
       "      <td>38</td>\n",
       "      <td>1</td>\n",
       "    </tr>\n",
       "    <tr>\n",
       "      <th>4</th>\n",
       "      <td>5</td>\n",
       "      <td>Green Chile Anytime Sauce</td>\n",
       "      <td>5</td>\n",
       "      <td>13</td>\n",
       "    </tr>\n",
       "  </tbody>\n",
       "</table>\n",
       "</div>"
      ],
      "text/plain": [
       "   product_id                                       product_name  aisle_id  \\\n",
       "0           1                         Chocolate Sandwich Cookies        61   \n",
       "1           2                                   All-Seasons Salt       104   \n",
       "2           3               Robust Golden Unsweetened Oolong Tea        94   \n",
       "3           4  Smart Ones Classic Favorites Mini Rigatoni Wit...        38   \n",
       "4           5                          Green Chile Anytime Sauce         5   \n",
       "\n",
       "   department_id  \n",
       "0             19  \n",
       "1             13  \n",
       "2              7  \n",
       "3              1  \n",
       "4             13  "
      ]
     },
     "execution_count": 22,
     "metadata": {},
     "output_type": "execute_result"
    }
   ],
   "source": [
    "df_products.head()"
   ]
  },
  {
   "cell_type": "code",
   "execution_count": 23,
   "id": "5f526b5b-8175-46fa-a0fd-441767d50e64",
   "metadata": {},
   "outputs": [
    {
     "name": "stdout",
     "output_type": "stream",
     "text": [
      "There are 0 full duplicated rows.\n"
     ]
    }
   ],
   "source": [
    "# Check for fully duplicate rows\n",
    "dups = df_products.duplicated().sum()\n",
    "print(f\"There are {dups} full duplicated rows.\")"
   ]
  },
  {
   "cell_type": "code",
   "execution_count": 24,
   "id": "88daa4f4",
   "metadata": {},
   "outputs": [
    {
     "data": {
      "text/plain": [
       "(49694, 4)"
      ]
     },
     "execution_count": 24,
     "metadata": {},
     "output_type": "execute_result"
    }
   ],
   "source": [
    "# Check for just duplicate product IDs\n",
    "df_products.shape"
   ]
  },
  {
   "cell_type": "code",
   "execution_count": 25,
   "id": "f5706ea8",
   "metadata": {},
   "outputs": [
    {
     "data": {
      "text/plain": [
       "49694"
      ]
     },
     "execution_count": 25,
     "metadata": {},
     "output_type": "execute_result"
    }
   ],
   "source": [
    "df_products['product_id'].nunique()"
   ]
  },
  {
   "cell_type": "markdown",
   "id": "9045df1d",
   "metadata": {},
   "source": [
    "The number of rows equal the number of unique values for the product id column, so no full duplicates in this columns"
   ]
  },
  {
   "cell_type": "code",
   "execution_count": 26,
   "id": "0e5ef913",
   "metadata": {},
   "outputs": [],
   "source": [
    "# Check for just duplicate product names (convert names to lowercase to compare better)\n",
    "def normalize_lower(col):\n",
    "    if pd.isna(col):\n",
    "        return col\n",
    "    else:\n",
    "        return col.lower()"
   ]
  },
  {
   "cell_type": "code",
   "execution_count": 27,
   "id": "a24ed04b",
   "metadata": {},
   "outputs": [
    {
     "data": {
      "text/html": [
       "<div>\n",
       "<style scoped>\n",
       "    .dataframe tbody tr th:only-of-type {\n",
       "        vertical-align: middle;\n",
       "    }\n",
       "\n",
       "    .dataframe tbody tr th {\n",
       "        vertical-align: top;\n",
       "    }\n",
       "\n",
       "    .dataframe thead th {\n",
       "        text-align: right;\n",
       "    }\n",
       "</style>\n",
       "<table border=\"1\" class=\"dataframe\">\n",
       "  <thead>\n",
       "    <tr style=\"text-align: right;\">\n",
       "      <th></th>\n",
       "      <th>product_id</th>\n",
       "      <th>product_name</th>\n",
       "      <th>aisle_id</th>\n",
       "      <th>department_id</th>\n",
       "      <th>product_name_lower</th>\n",
       "    </tr>\n",
       "  </thead>\n",
       "  <tbody>\n",
       "    <tr>\n",
       "      <th>0</th>\n",
       "      <td>1</td>\n",
       "      <td>Chocolate Sandwich Cookies</td>\n",
       "      <td>61</td>\n",
       "      <td>19</td>\n",
       "      <td>chocolate sandwich cookies</td>\n",
       "    </tr>\n",
       "    <tr>\n",
       "      <th>1</th>\n",
       "      <td>2</td>\n",
       "      <td>All-Seasons Salt</td>\n",
       "      <td>104</td>\n",
       "      <td>13</td>\n",
       "      <td>all-seasons salt</td>\n",
       "    </tr>\n",
       "    <tr>\n",
       "      <th>2</th>\n",
       "      <td>3</td>\n",
       "      <td>Robust Golden Unsweetened Oolong Tea</td>\n",
       "      <td>94</td>\n",
       "      <td>7</td>\n",
       "      <td>robust golden unsweetened oolong tea</td>\n",
       "    </tr>\n",
       "    <tr>\n",
       "      <th>3</th>\n",
       "      <td>4</td>\n",
       "      <td>Smart Ones Classic Favorites Mini Rigatoni Wit...</td>\n",
       "      <td>38</td>\n",
       "      <td>1</td>\n",
       "      <td>smart ones classic favorites mini rigatoni wit...</td>\n",
       "    </tr>\n",
       "    <tr>\n",
       "      <th>4</th>\n",
       "      <td>5</td>\n",
       "      <td>Green Chile Anytime Sauce</td>\n",
       "      <td>5</td>\n",
       "      <td>13</td>\n",
       "      <td>green chile anytime sauce</td>\n",
       "    </tr>\n",
       "  </tbody>\n",
       "</table>\n",
       "</div>"
      ],
      "text/plain": [
       "   product_id                                       product_name  aisle_id  \\\n",
       "0           1                         Chocolate Sandwich Cookies        61   \n",
       "1           2                                   All-Seasons Salt       104   \n",
       "2           3               Robust Golden Unsweetened Oolong Tea        94   \n",
       "3           4  Smart Ones Classic Favorites Mini Rigatoni Wit...        38   \n",
       "4           5                          Green Chile Anytime Sauce         5   \n",
       "\n",
       "   department_id                                 product_name_lower  \n",
       "0             19                         chocolate sandwich cookies  \n",
       "1             13                                   all-seasons salt  \n",
       "2              7               robust golden unsweetened oolong tea  \n",
       "3              1  smart ones classic favorites mini rigatoni wit...  \n",
       "4             13                          green chile anytime sauce  "
      ]
     },
     "execution_count": 27,
     "metadata": {},
     "output_type": "execute_result"
    }
   ],
   "source": [
    "df_products[\"product_name_lower\"] = df_products[\"product_name\"].apply(normalize_lower)\n",
    "df_products.head()"
   ]
  },
  {
   "cell_type": "code",
   "execution_count": 28,
   "id": "bfb4991f",
   "metadata": {},
   "outputs": [
    {
     "data": {
      "text/plain": [
       "green tea with ginseng and honey             3\n",
       "cream of tartar                              2\n",
       "cosmic brownies with chocolate chip candy    2\n",
       "skinless & boneless sardines in olive oil    2\n",
       "lavender & chamomile baby powder             2\n",
       "                                            ..\n",
       "high performance energy drink                2\n",
       "balsamic vinegar of modena                   2\n",
       "salsa medium                                 2\n",
       "bag of oranges                               2\n",
       "chunk light tuna in water                    2\n",
       "Name: product_name_lower, Length: 103, dtype: int64"
      ]
     },
     "execution_count": 28,
     "metadata": {},
     "output_type": "execute_result"
    }
   ],
   "source": [
    "# Check if there are duplicates in the product name lower column\n",
    "product_lower = df_products['product_name_lower'].value_counts(ascending = False)\n",
    "product_lower[product_lower>1]"
   ]
  },
  {
   "cell_type": "markdown",
   "id": "1a3c1350",
   "metadata": {},
   "source": [
    "There are 103 product names that have more than 1 repeated product names. We we drop them."
   ]
  },
  {
   "cell_type": "code",
   "execution_count": 29,
   "id": "1d629500",
   "metadata": {},
   "outputs": [
    {
     "name": "stdout",
     "output_type": "stream",
     "text": [
      "There are 1361 duplicated rows with the lowercase column product name\n"
     ]
    }
   ],
   "source": [
    "# Count how many duplicates for the new product name column\n",
    "dups = df_products['product_name_lower'].duplicated().sum()\n",
    "print(f\"There are {dups} duplicated rows with the lowercase column product name\")"
   ]
  },
  {
   "cell_type": "code",
   "execution_count": 30,
   "id": "f9c16558",
   "metadata": {},
   "outputs": [
    {
     "name": "stdout",
     "output_type": "stream",
     "text": [
      "There are 1344 duplicated rows with the lowercase column product name.(including the other cols)\n"
     ]
    }
   ],
   "source": [
    "# To make sure these are true duplicates, we need to include the other columns\n",
    "# Some products could have same name but different aisles/department\n",
    "cols = ['aisle_id','department_id','product_name_lower']\n",
    "dups = df_products[cols].duplicated().sum()\n",
    "print(f\"There are {dups} duplicated rows with the lowercase column product name.(including the other cols)\")"
   ]
  },
  {
   "cell_type": "markdown",
   "id": "08ce564f",
   "metadata": {},
   "source": [
    "It means after we made them lowercase, there were items that shared different differet aisle id and department id"
   ]
  },
  {
   "cell_type": "code",
   "execution_count": 31,
   "id": "34901bd1",
   "metadata": {},
   "outputs": [
    {
     "data": {
      "text/plain": [
       "(48350, 5)"
      ]
     },
     "execution_count": 31,
     "metadata": {},
     "output_type": "execute_result"
    }
   ],
   "source": [
    "df_products = df_products.drop_duplicates(subset=cols).reset_index(drop=True)\n",
    "df_products.shape"
   ]
  },
  {
   "cell_type": "code",
   "execution_count": 32,
   "id": "01efd02e",
   "metadata": {},
   "outputs": [
    {
     "data": {
      "text/plain": [
       "0"
      ]
     },
     "execution_count": 32,
     "metadata": {},
     "output_type": "execute_result"
    }
   ],
   "source": [
    "# Check for duplicate product names that aren't missing\n",
    "df_products[df_products['product_name_lower'].notna()].duplicated().sum()"
   ]
  },
  {
   "cell_type": "code",
   "execution_count": 33,
   "id": "6b8d965b",
   "metadata": {},
   "outputs": [],
   "source": [
    "# checking for more duplicates\n",
    "def normalize_other(col):\n",
    "    '''This function will check for strong conditions'''\n",
    "    if pd.isna(col):\n",
    "        return col\n",
    "    else:\n",
    "        col = col.lower() # make all lowercase\n",
    "        col = col.strip() # strip the white spaces\n",
    "        col = \" \".join( col.split() ) # erase the extra white spaces in between\n",
    "        col = col.replace('-','') # remove -\n",
    "        col = col.replace(' ','') # make one word \n",
    "        return col"
   ]
  },
  {
   "cell_type": "code",
   "execution_count": 34,
   "id": "16166880",
   "metadata": {},
   "outputs": [
    {
     "data": {
      "text/html": [
       "<div>\n",
       "<style scoped>\n",
       "    .dataframe tbody tr th:only-of-type {\n",
       "        vertical-align: middle;\n",
       "    }\n",
       "\n",
       "    .dataframe tbody tr th {\n",
       "        vertical-align: top;\n",
       "    }\n",
       "\n",
       "    .dataframe thead th {\n",
       "        text-align: right;\n",
       "    }\n",
       "</style>\n",
       "<table border=\"1\" class=\"dataframe\">\n",
       "  <thead>\n",
       "    <tr style=\"text-align: right;\">\n",
       "      <th></th>\n",
       "      <th>product_id</th>\n",
       "      <th>product_name</th>\n",
       "      <th>aisle_id</th>\n",
       "      <th>department_id</th>\n",
       "      <th>product_name_lower</th>\n",
       "      <th>product_name_lower_2</th>\n",
       "    </tr>\n",
       "  </thead>\n",
       "  <tbody>\n",
       "    <tr>\n",
       "      <th>0</th>\n",
       "      <td>1</td>\n",
       "      <td>Chocolate Sandwich Cookies</td>\n",
       "      <td>61</td>\n",
       "      <td>19</td>\n",
       "      <td>chocolate sandwich cookies</td>\n",
       "      <td>chocolatesandwichcookies</td>\n",
       "    </tr>\n",
       "    <tr>\n",
       "      <th>1</th>\n",
       "      <td>2</td>\n",
       "      <td>All-Seasons Salt</td>\n",
       "      <td>104</td>\n",
       "      <td>13</td>\n",
       "      <td>all-seasons salt</td>\n",
       "      <td>allseasonssalt</td>\n",
       "    </tr>\n",
       "    <tr>\n",
       "      <th>2</th>\n",
       "      <td>3</td>\n",
       "      <td>Robust Golden Unsweetened Oolong Tea</td>\n",
       "      <td>94</td>\n",
       "      <td>7</td>\n",
       "      <td>robust golden unsweetened oolong tea</td>\n",
       "      <td>robustgoldenunsweetenedoolongtea</td>\n",
       "    </tr>\n",
       "    <tr>\n",
       "      <th>3</th>\n",
       "      <td>4</td>\n",
       "      <td>Smart Ones Classic Favorites Mini Rigatoni Wit...</td>\n",
       "      <td>38</td>\n",
       "      <td>1</td>\n",
       "      <td>smart ones classic favorites mini rigatoni wit...</td>\n",
       "      <td>smartonesclassicfavoritesminirigatoniwithvodka...</td>\n",
       "    </tr>\n",
       "    <tr>\n",
       "      <th>4</th>\n",
       "      <td>5</td>\n",
       "      <td>Green Chile Anytime Sauce</td>\n",
       "      <td>5</td>\n",
       "      <td>13</td>\n",
       "      <td>green chile anytime sauce</td>\n",
       "      <td>greenchileanytimesauce</td>\n",
       "    </tr>\n",
       "  </tbody>\n",
       "</table>\n",
       "</div>"
      ],
      "text/plain": [
       "   product_id                                       product_name  aisle_id  \\\n",
       "0           1                         Chocolate Sandwich Cookies        61   \n",
       "1           2                                   All-Seasons Salt       104   \n",
       "2           3               Robust Golden Unsweetened Oolong Tea        94   \n",
       "3           4  Smart Ones Classic Favorites Mini Rigatoni Wit...        38   \n",
       "4           5                          Green Chile Anytime Sauce         5   \n",
       "\n",
       "   department_id                                 product_name_lower  \\\n",
       "0             19                         chocolate sandwich cookies   \n",
       "1             13                                   all-seasons salt   \n",
       "2              7               robust golden unsweetened oolong tea   \n",
       "3              1  smart ones classic favorites mini rigatoni wit...   \n",
       "4             13                          green chile anytime sauce   \n",
       "\n",
       "                                product_name_lower_2  \n",
       "0                           chocolatesandwichcookies  \n",
       "1                                     allseasonssalt  \n",
       "2                   robustgoldenunsweetenedoolongtea  \n",
       "3  smartonesclassicfavoritesminirigatoniwithvodka...  \n",
       "4                             greenchileanytimesauce  "
      ]
     },
     "execution_count": 34,
     "metadata": {},
     "output_type": "execute_result"
    }
   ],
   "source": [
    "df_products[\"product_name_lower_2\"] = df_products[\"product_name_lower\"].apply(normalize_other)\n",
    "df_products.head()"
   ]
  },
  {
   "cell_type": "code",
   "execution_count": 35,
   "id": "6adaacc4",
   "metadata": {},
   "outputs": [
    {
     "name": "stdout",
     "output_type": "stream",
     "text": [
      "There are 256 more duplicated rows.\n"
     ]
    }
   ],
   "source": [
    "cols2 = ['aisle_id','department_id','product_name_lower_2']\n",
    "dups = df_products[cols2].duplicated().sum()\n",
    "print(f\"There are {dups} more duplicated rows.\")"
   ]
  },
  {
   "cell_type": "code",
   "execution_count": 36,
   "id": "6ad497b3",
   "metadata": {},
   "outputs": [
    {
     "data": {
      "text/plain": [
       "(48094, 6)"
      ]
     },
     "execution_count": 36,
     "metadata": {},
     "output_type": "execute_result"
    }
   ],
   "source": [
    "df_products = df_products.drop_duplicates(subset=cols2).reset_index(drop=True)\n",
    "df_products.shape"
   ]
  },
  {
   "cell_type": "code",
   "execution_count": 37,
   "id": "169fed5d",
   "metadata": {},
   "outputs": [
    {
     "data": {
      "text/html": [
       "<div>\n",
       "<style scoped>\n",
       "    .dataframe tbody tr th:only-of-type {\n",
       "        vertical-align: middle;\n",
       "    }\n",
       "\n",
       "    .dataframe tbody tr th {\n",
       "        vertical-align: top;\n",
       "    }\n",
       "\n",
       "    .dataframe thead th {\n",
       "        text-align: right;\n",
       "    }\n",
       "</style>\n",
       "<table border=\"1\" class=\"dataframe\">\n",
       "  <thead>\n",
       "    <tr style=\"text-align: right;\">\n",
       "      <th></th>\n",
       "      <th>product_id</th>\n",
       "      <th>product_name</th>\n",
       "      <th>aisle_id</th>\n",
       "    </tr>\n",
       "  </thead>\n",
       "  <tbody>\n",
       "    <tr>\n",
       "      <th>0</th>\n",
       "      <td>1</td>\n",
       "      <td>Chocolate Sandwich Cookies</td>\n",
       "      <td>61</td>\n",
       "    </tr>\n",
       "    <tr>\n",
       "      <th>1</th>\n",
       "      <td>2</td>\n",
       "      <td>All-Seasons Salt</td>\n",
       "      <td>104</td>\n",
       "    </tr>\n",
       "    <tr>\n",
       "      <th>2</th>\n",
       "      <td>3</td>\n",
       "      <td>Robust Golden Unsweetened Oolong Tea</td>\n",
       "      <td>94</td>\n",
       "    </tr>\n",
       "    <tr>\n",
       "      <th>3</th>\n",
       "      <td>4</td>\n",
       "      <td>Smart Ones Classic Favorites Mini Rigatoni Wit...</td>\n",
       "      <td>38</td>\n",
       "    </tr>\n",
       "    <tr>\n",
       "      <th>4</th>\n",
       "      <td>5</td>\n",
       "      <td>Green Chile Anytime Sauce</td>\n",
       "      <td>5</td>\n",
       "    </tr>\n",
       "  </tbody>\n",
       "</table>\n",
       "</div>"
      ],
      "text/plain": [
       "   product_id                                       product_name  aisle_id\n",
       "0           1                         Chocolate Sandwich Cookies        61\n",
       "1           2                                   All-Seasons Salt       104\n",
       "2           3               Robust Golden Unsweetened Oolong Tea        94\n",
       "3           4  Smart Ones Classic Favorites Mini Rigatoni Wit...        38\n",
       "4           5                          Green Chile Anytime Sauce         5"
      ]
     },
     "execution_count": 37,
     "metadata": {},
     "output_type": "execute_result"
    }
   ],
   "source": [
    "# Convert df back to its orignal columns\n",
    "df_products = df_products[[\"product_id\",\"product_name\",\"aisle_id\"]]\n",
    "df_products.head()"
   ]
  },
  {
   "cell_type": "code",
   "execution_count": 38,
   "id": "5801e158",
   "metadata": {},
   "outputs": [
    {
     "name": "stdout",
     "output_type": "stream",
     "text": [
      "<class 'pandas.core.frame.DataFrame'>\n",
      "RangeIndex: 48094 entries, 0 to 48093\n",
      "Data columns (total 3 columns):\n",
      " #   Column        Non-Null Count  Dtype \n",
      "---  ------        --------------  ----- \n",
      " 0   product_id    48094 non-null  int64 \n",
      " 1   product_name  48093 non-null  object\n",
      " 2   aisle_id      48094 non-null  int64 \n",
      "dtypes: int64(2), object(1)\n",
      "memory usage: 1.1+ MB\n"
     ]
    }
   ],
   "source": [
    "df_products.info()"
   ]
  },
  {
   "cell_type": "markdown",
   "id": "9da8d293",
   "metadata": {},
   "source": []
  },
  {
   "cell_type": "markdown",
   "id": "60f30db1",
   "metadata": {},
   "source": [
    "### `departments` data frame"
   ]
  },
  {
   "cell_type": "code",
   "execution_count": 39,
   "id": "7c44d89e",
   "metadata": {},
   "outputs": [],
   "source": [
    "df_departments['department'] = df_departments['department'].astype('category')"
   ]
  },
  {
   "cell_type": "code",
   "execution_count": 40,
   "id": "fb410ad4-0fbf-4b80-bb09-23fdea79afe3",
   "metadata": {},
   "outputs": [
    {
     "name": "stdout",
     "output_type": "stream",
     "text": [
      "<class 'pandas.core.frame.DataFrame'>\n",
      "RangeIndex: 21 entries, 0 to 20\n",
      "Data columns (total 2 columns):\n",
      " #   Column         Non-Null Count  Dtype   \n",
      "---  ------         --------------  -----   \n",
      " 0   department_id  21 non-null     int64   \n",
      " 1   department     21 non-null     category\n",
      "dtypes: category(1), int64(1)\n",
      "memory usage: 1.0 KB\n"
     ]
    }
   ],
   "source": [
    "df_departments.info()"
   ]
  },
  {
   "cell_type": "code",
   "execution_count": 41,
   "id": "332b12bb",
   "metadata": {},
   "outputs": [
    {
     "data": {
      "text/html": [
       "<div>\n",
       "<style scoped>\n",
       "    .dataframe tbody tr th:only-of-type {\n",
       "        vertical-align: middle;\n",
       "    }\n",
       "\n",
       "    .dataframe tbody tr th {\n",
       "        vertical-align: top;\n",
       "    }\n",
       "\n",
       "    .dataframe thead th {\n",
       "        text-align: right;\n",
       "    }\n",
       "</style>\n",
       "<table border=\"1\" class=\"dataframe\">\n",
       "  <thead>\n",
       "    <tr style=\"text-align: right;\">\n",
       "      <th></th>\n",
       "      <th>department_id</th>\n",
       "      <th>department</th>\n",
       "    </tr>\n",
       "  </thead>\n",
       "  <tbody>\n",
       "    <tr>\n",
       "      <th>0</th>\n",
       "      <td>1</td>\n",
       "      <td>frozen</td>\n",
       "    </tr>\n",
       "    <tr>\n",
       "      <th>1</th>\n",
       "      <td>2</td>\n",
       "      <td>other</td>\n",
       "    </tr>\n",
       "    <tr>\n",
       "      <th>2</th>\n",
       "      <td>3</td>\n",
       "      <td>bakery</td>\n",
       "    </tr>\n",
       "    <tr>\n",
       "      <th>3</th>\n",
       "      <td>4</td>\n",
       "      <td>produce</td>\n",
       "    </tr>\n",
       "    <tr>\n",
       "      <th>4</th>\n",
       "      <td>5</td>\n",
       "      <td>alcohol</td>\n",
       "    </tr>\n",
       "  </tbody>\n",
       "</table>\n",
       "</div>"
      ],
      "text/plain": [
       "   department_id department\n",
       "0              1     frozen\n",
       "1              2      other\n",
       "2              3     bakery\n",
       "3              4    produce\n",
       "4              5    alcohol"
      ]
     },
     "execution_count": 41,
     "metadata": {},
     "output_type": "execute_result"
    }
   ],
   "source": [
    "df_departments.head()"
   ]
  },
  {
   "cell_type": "markdown",
   "id": "bd30d78e",
   "metadata": {},
   "source": []
  },
  {
   "cell_type": "markdown",
   "id": "889349c1",
   "metadata": {},
   "source": [
    "### `aisles` data frame"
   ]
  },
  {
   "cell_type": "code",
   "execution_count": 42,
   "id": "f813d408",
   "metadata": {},
   "outputs": [],
   "source": [
    "df_aisles['aisle'] = df_aisles['aisle'].astype('category')"
   ]
  },
  {
   "cell_type": "code",
   "execution_count": 43,
   "id": "9da89fb9-4679-40f5-ad0d-c34df753a3f8",
   "metadata": {},
   "outputs": [
    {
     "name": "stdout",
     "output_type": "stream",
     "text": [
      "<class 'pandas.core.frame.DataFrame'>\n",
      "RangeIndex: 134 entries, 0 to 133\n",
      "Data columns (total 2 columns):\n",
      " #   Column    Non-Null Count  Dtype   \n",
      "---  ------    --------------  -----   \n",
      " 0   aisle_id  134 non-null    int64   \n",
      " 1   aisle     134 non-null    category\n",
      "dtypes: category(1), int64(1)\n",
      "memory usage: 6.6 KB\n"
     ]
    }
   ],
   "source": [
    "df_aisles.info()"
   ]
  },
  {
   "cell_type": "code",
   "execution_count": 44,
   "id": "75c18517",
   "metadata": {},
   "outputs": [
    {
     "data": {
      "text/plain": [
       "0"
      ]
     },
     "execution_count": 44,
     "metadata": {},
     "output_type": "execute_result"
    }
   ],
   "source": [
    "# Check for duplicates\n",
    "df_aisles['aisle'].duplicated().sum()\n",
    "df_aisles.duplicated().sum()"
   ]
  },
  {
   "cell_type": "markdown",
   "id": "ac63826f",
   "metadata": {},
   "source": []
  },
  {
   "cell_type": "markdown",
   "id": "274cd06a",
   "metadata": {},
   "source": [
    "### `order_products` data frame"
   ]
  },
  {
   "cell_type": "code",
   "execution_count": 45,
   "id": "fd99a99c",
   "metadata": {},
   "outputs": [
    {
     "name": "stdout",
     "output_type": "stream",
     "text": [
      "<class 'pandas.core.frame.DataFrame'>\n",
      "RangeIndex: 4545007 entries, 0 to 4545006\n",
      "Data columns (total 4 columns):\n",
      " #   Column             Non-Null Count    Dtype  \n",
      "---  ------             --------------    -----  \n",
      " 0   order_id           4545007 non-null  int64  \n",
      " 1   product_id         4545007 non-null  int64  \n",
      " 2   add_to_cart_order  4544171 non-null  float64\n",
      " 3   reordered          4545007 non-null  int64  \n",
      "dtypes: float64(1), int64(3)\n",
      "memory usage: 138.7 MB\n"
     ]
    }
   ],
   "source": [
    "df_order_products.info(null_counts=True)"
   ]
  },
  {
   "cell_type": "code",
   "execution_count": 46,
   "id": "768c46bc",
   "metadata": {},
   "outputs": [
    {
     "data": {
      "text/html": [
       "<div>\n",
       "<style scoped>\n",
       "    .dataframe tbody tr th:only-of-type {\n",
       "        vertical-align: middle;\n",
       "    }\n",
       "\n",
       "    .dataframe tbody tr th {\n",
       "        vertical-align: top;\n",
       "    }\n",
       "\n",
       "    .dataframe thead th {\n",
       "        text-align: right;\n",
       "    }\n",
       "</style>\n",
       "<table border=\"1\" class=\"dataframe\">\n",
       "  <thead>\n",
       "    <tr style=\"text-align: right;\">\n",
       "      <th></th>\n",
       "      <th>order_id</th>\n",
       "      <th>product_id</th>\n",
       "      <th>add_to_cart_order</th>\n",
       "      <th>reordered</th>\n",
       "    </tr>\n",
       "  </thead>\n",
       "  <tbody>\n",
       "    <tr>\n",
       "      <th>0</th>\n",
       "      <td>2141543</td>\n",
       "      <td>11440</td>\n",
       "      <td>17.0</td>\n",
       "      <td>0</td>\n",
       "    </tr>\n",
       "    <tr>\n",
       "      <th>1</th>\n",
       "      <td>567889</td>\n",
       "      <td>1560</td>\n",
       "      <td>1.0</td>\n",
       "      <td>1</td>\n",
       "    </tr>\n",
       "    <tr>\n",
       "      <th>2</th>\n",
       "      <td>2261212</td>\n",
       "      <td>26683</td>\n",
       "      <td>1.0</td>\n",
       "      <td>1</td>\n",
       "    </tr>\n",
       "    <tr>\n",
       "      <th>3</th>\n",
       "      <td>491251</td>\n",
       "      <td>8670</td>\n",
       "      <td>35.0</td>\n",
       "      <td>1</td>\n",
       "    </tr>\n",
       "    <tr>\n",
       "      <th>4</th>\n",
       "      <td>2571142</td>\n",
       "      <td>1940</td>\n",
       "      <td>5.0</td>\n",
       "      <td>1</td>\n",
       "    </tr>\n",
       "  </tbody>\n",
       "</table>\n",
       "</div>"
      ],
      "text/plain": [
       "   order_id  product_id  add_to_cart_order  reordered\n",
       "0   2141543       11440               17.0          0\n",
       "1    567889        1560                1.0          1\n",
       "2   2261212       26683                1.0          1\n",
       "3    491251        8670               35.0          1\n",
       "4   2571142        1940                5.0          1"
      ]
     },
     "execution_count": 46,
     "metadata": {},
     "output_type": "execute_result"
    }
   ],
   "source": [
    "df_order_products.head()"
   ]
  },
  {
   "cell_type": "code",
   "execution_count": 47,
   "id": "52326689-84a8-4b8f-a881-7c68780f62c9",
   "metadata": {},
   "outputs": [
    {
     "name": "stdout",
     "output_type": "stream",
     "text": [
      "The are 0 fully duplicated rows\n"
     ]
    }
   ],
   "source": [
    "# Check for fullly duplicate rows\n",
    "dups = df_order_products.duplicated().sum()\n",
    "print(f\"The are {dups} fully duplicated rows\")"
   ]
  },
  {
   "cell_type": "code",
   "execution_count": 48,
   "id": "7b861391",
   "metadata": {},
   "outputs": [],
   "source": [
    "# Double check for any other tricky duplicates"
   ]
  },
  {
   "cell_type": "markdown",
   "id": "287051e2",
   "metadata": {},
   "source": [
    "It is ok for values in the same column to repeat because:\n",
    "\n",
    "1.) order_id: If order_id is shown more than once, then there was other items brought in the same order\n",
    "2.) product_id: you can buy the same product for the same order id\n",
    "3.) reorded: its ok for this column to repeat."
   ]
  },
  {
   "cell_type": "markdown",
   "id": "0b890492",
   "metadata": {},
   "source": []
  },
  {
   "cell_type": "markdown",
   "id": "1e46de76",
   "metadata": {},
   "source": [
    "## Find and remove missing values\n"
   ]
  },
  {
   "cell_type": "markdown",
   "id": "c0aebd78",
   "metadata": {},
   "source": [
    "### `products` data frame"
   ]
  },
  {
   "cell_type": "code",
   "execution_count": 49,
   "id": "fe4a8b0f",
   "metadata": {},
   "outputs": [
    {
     "name": "stdout",
     "output_type": "stream",
     "text": [
      "<class 'pandas.core.frame.DataFrame'>\n",
      "RangeIndex: 48094 entries, 0 to 48093\n",
      "Data columns (total 3 columns):\n",
      " #   Column        Non-Null Count  Dtype \n",
      "---  ------        --------------  ----- \n",
      " 0   product_id    48094 non-null  int64 \n",
      " 1   product_name  48093 non-null  object\n",
      " 2   aisle_id      48094 non-null  int64 \n",
      "dtypes: int64(2), object(1)\n",
      "memory usage: 1.1+ MB\n"
     ]
    }
   ],
   "source": [
    "df_products.info()"
   ]
  },
  {
   "cell_type": "code",
   "execution_count": 50,
   "id": "48ae0188",
   "metadata": {},
   "outputs": [
    {
     "data": {
      "text/plain": [
       "product_id      0\n",
       "product_name    1\n",
       "aisle_id        0\n",
       "dtype: int64"
      ]
     },
     "execution_count": 50,
     "metadata": {},
     "output_type": "execute_result"
    }
   ],
   "source": [
    "df_products.isna().sum()"
   ]
  },
  {
   "cell_type": "code",
   "execution_count": 51,
   "id": "e96167bc",
   "metadata": {},
   "outputs": [
    {
     "data": {
      "text/html": [
       "<div>\n",
       "<style scoped>\n",
       "    .dataframe tbody tr th:only-of-type {\n",
       "        vertical-align: middle;\n",
       "    }\n",
       "\n",
       "    .dataframe tbody tr th {\n",
       "        vertical-align: top;\n",
       "    }\n",
       "\n",
       "    .dataframe thead th {\n",
       "        text-align: right;\n",
       "    }\n",
       "</style>\n",
       "<table border=\"1\" class=\"dataframe\">\n",
       "  <thead>\n",
       "    <tr style=\"text-align: right;\">\n",
       "      <th></th>\n",
       "      <th>product_id</th>\n",
       "      <th>product_name</th>\n",
       "      <th>aisle_id</th>\n",
       "    </tr>\n",
       "  </thead>\n",
       "  <tbody>\n",
       "    <tr>\n",
       "      <th>37</th>\n",
       "      <td>38</td>\n",
       "      <td>NaN</td>\n",
       "      <td>100</td>\n",
       "    </tr>\n",
       "  </tbody>\n",
       "</table>\n",
       "</div>"
      ],
      "text/plain": [
       "    product_id product_name  aisle_id\n",
       "37          38          NaN       100"
      ]
     },
     "execution_count": 51,
     "metadata": {},
     "output_type": "execute_result"
    }
   ],
   "source": [
    "# Are all of the missing product names associated with aisle ID 100?\n",
    "df_products[df_products['product_name'].isna()]"
   ]
  },
  {
   "cell_type": "markdown",
   "id": "1e8740d9",
   "metadata": {},
   "source": [
    "The missing value for product name is assoicated with aisle id # 100"
   ]
  },
  {
   "cell_type": "code",
   "execution_count": 52,
   "id": "8fd0a541",
   "metadata": {},
   "outputs": [
    {
     "data": {
      "text/html": [
       "<div>\n",
       "<style scoped>\n",
       "    .dataframe tbody tr th:only-of-type {\n",
       "        vertical-align: middle;\n",
       "    }\n",
       "\n",
       "    .dataframe tbody tr th {\n",
       "        vertical-align: top;\n",
       "    }\n",
       "\n",
       "    .dataframe thead th {\n",
       "        text-align: right;\n",
       "    }\n",
       "</style>\n",
       "<table border=\"1\" class=\"dataframe\">\n",
       "  <thead>\n",
       "    <tr style=\"text-align: right;\">\n",
       "      <th></th>\n",
       "      <th>department_id</th>\n",
       "      <th>department</th>\n",
       "    </tr>\n",
       "  </thead>\n",
       "  <tbody>\n",
       "    <tr>\n",
       "      <th>4</th>\n",
       "      <td>5</td>\n",
       "      <td>alcohol</td>\n",
       "    </tr>\n",
       "    <tr>\n",
       "      <th>17</th>\n",
       "      <td>18</td>\n",
       "      <td>babies</td>\n",
       "    </tr>\n",
       "    <tr>\n",
       "      <th>2</th>\n",
       "      <td>3</td>\n",
       "      <td>bakery</td>\n",
       "    </tr>\n",
       "    <tr>\n",
       "      <th>6</th>\n",
       "      <td>7</td>\n",
       "      <td>beverages</td>\n",
       "    </tr>\n",
       "    <tr>\n",
       "      <th>13</th>\n",
       "      <td>14</td>\n",
       "      <td>breakfast</td>\n",
       "    </tr>\n",
       "    <tr>\n",
       "      <th>9</th>\n",
       "      <td>10</td>\n",
       "      <td>bulk</td>\n",
       "    </tr>\n",
       "    <tr>\n",
       "      <th>14</th>\n",
       "      <td>15</td>\n",
       "      <td>canned goods</td>\n",
       "    </tr>\n",
       "    <tr>\n",
       "      <th>15</th>\n",
       "      <td>16</td>\n",
       "      <td>dairy eggs</td>\n",
       "    </tr>\n",
       "    <tr>\n",
       "      <th>19</th>\n",
       "      <td>20</td>\n",
       "      <td>deli</td>\n",
       "    </tr>\n",
       "    <tr>\n",
       "      <th>8</th>\n",
       "      <td>9</td>\n",
       "      <td>dry goods pasta</td>\n",
       "    </tr>\n",
       "    <tr>\n",
       "      <th>0</th>\n",
       "      <td>1</td>\n",
       "      <td>frozen</td>\n",
       "    </tr>\n",
       "    <tr>\n",
       "      <th>16</th>\n",
       "      <td>17</td>\n",
       "      <td>household</td>\n",
       "    </tr>\n",
       "    <tr>\n",
       "      <th>5</th>\n",
       "      <td>6</td>\n",
       "      <td>international</td>\n",
       "    </tr>\n",
       "    <tr>\n",
       "      <th>11</th>\n",
       "      <td>12</td>\n",
       "      <td>meat seafood</td>\n",
       "    </tr>\n",
       "    <tr>\n",
       "      <th>20</th>\n",
       "      <td>21</td>\n",
       "      <td>missing</td>\n",
       "    </tr>\n",
       "    <tr>\n",
       "      <th>1</th>\n",
       "      <td>2</td>\n",
       "      <td>other</td>\n",
       "    </tr>\n",
       "    <tr>\n",
       "      <th>12</th>\n",
       "      <td>13</td>\n",
       "      <td>pantry</td>\n",
       "    </tr>\n",
       "    <tr>\n",
       "      <th>10</th>\n",
       "      <td>11</td>\n",
       "      <td>personal care</td>\n",
       "    </tr>\n",
       "    <tr>\n",
       "      <th>7</th>\n",
       "      <td>8</td>\n",
       "      <td>pets</td>\n",
       "    </tr>\n",
       "    <tr>\n",
       "      <th>3</th>\n",
       "      <td>4</td>\n",
       "      <td>produce</td>\n",
       "    </tr>\n",
       "    <tr>\n",
       "      <th>18</th>\n",
       "      <td>19</td>\n",
       "      <td>snacks</td>\n",
       "    </tr>\n",
       "  </tbody>\n",
       "</table>\n",
       "</div>"
      ],
      "text/plain": [
       "    department_id       department\n",
       "4               5          alcohol\n",
       "17             18           babies\n",
       "2               3           bakery\n",
       "6               7        beverages\n",
       "13             14        breakfast\n",
       "9              10             bulk\n",
       "14             15     canned goods\n",
       "15             16       dairy eggs\n",
       "19             20             deli\n",
       "8               9  dry goods pasta\n",
       "0               1           frozen\n",
       "16             17        household\n",
       "5               6    international\n",
       "11             12     meat seafood\n",
       "20             21          missing\n",
       "1               2            other\n",
       "12             13           pantry\n",
       "10             11    personal care\n",
       "7               8             pets\n",
       "3               4          produce\n",
       "18             19           snacks"
      ]
     },
     "execution_count": 52,
     "metadata": {},
     "output_type": "execute_result"
    }
   ],
   "source": [
    "# Are all of the missing product names associated with department ID 21?\n",
    "\n",
    "df_departments.sort_values(by='department')"
   ]
  },
  {
   "cell_type": "markdown",
   "id": "9dbd671c",
   "metadata": {},
   "source": [
    "The is only a missing department for department id # 21."
   ]
  },
  {
   "cell_type": "code",
   "execution_count": 53,
   "id": "325c3464",
   "metadata": {},
   "outputs": [
    {
     "data": {
      "text/html": [
       "<div>\n",
       "<style scoped>\n",
       "    .dataframe tbody tr th:only-of-type {\n",
       "        vertical-align: middle;\n",
       "    }\n",
       "\n",
       "    .dataframe tbody tr th {\n",
       "        vertical-align: top;\n",
       "    }\n",
       "\n",
       "    .dataframe thead th {\n",
       "        text-align: right;\n",
       "    }\n",
       "</style>\n",
       "<table border=\"1\" class=\"dataframe\">\n",
       "  <thead>\n",
       "    <tr style=\"text-align: right;\">\n",
       "      <th></th>\n",
       "      <th>aisle_id</th>\n",
       "      <th>aisle</th>\n",
       "    </tr>\n",
       "  </thead>\n",
       "  <tbody>\n",
       "    <tr>\n",
       "      <th>99</th>\n",
       "      <td>100</td>\n",
       "      <td>missing</td>\n",
       "    </tr>\n",
       "  </tbody>\n",
       "</table>\n",
       "</div>"
      ],
      "text/plain": [
       "    aisle_id    aisle\n",
       "99       100  missing"
      ]
     },
     "execution_count": 53,
     "metadata": {},
     "output_type": "execute_result"
    }
   ],
   "source": [
    "# What is this ailse and department?\n",
    "df_aisles.query('aisle_id == 100')"
   ]
  },
  {
   "cell_type": "markdown",
   "id": "dd6a1282",
   "metadata": {},
   "source": [
    "The aisle is missing with aisle id of 100 and the department is missing with department id of 21"
   ]
  },
  {
   "cell_type": "code",
   "execution_count": 54,
   "id": "6b295120",
   "metadata": {},
   "outputs": [
    {
     "data": {
      "text/plain": [
       "product_id           38\n",
       "product_name    Unknown\n",
       "aisle_id            100\n",
       "Name: 37, dtype: object"
      ]
     },
     "execution_count": 54,
     "metadata": {},
     "output_type": "execute_result"
    }
   ],
   "source": [
    "# Fill missing product names with 'Unknown'\n",
    "df_products['product_name'] = df_products['product_name'].fillna('Unknown')\n",
    "df_products.loc[37]"
   ]
  },
  {
   "cell_type": "markdown",
   "id": "fc70e5ad",
   "metadata": {},
   "source": []
  },
  {
   "cell_type": "markdown",
   "id": "7eb45c86",
   "metadata": {},
   "source": [
    "### `orders` data frame"
   ]
  },
  {
   "cell_type": "code",
   "execution_count": 55,
   "id": "93e41d96",
   "metadata": {},
   "outputs": [
    {
     "name": "stdout",
     "output_type": "stream",
     "text": [
      "<class 'pandas.core.frame.DataFrame'>\n",
      "RangeIndex: 478952 entries, 0 to 478951\n",
      "Data columns (total 7 columns):\n",
      " #   Column                  Non-Null Count   Dtype   \n",
      "---  ------                  --------------   -----   \n",
      " 0   order_id                478952 non-null  int64   \n",
      " 1   user_id                 478952 non-null  int64   \n",
      " 2   order_number            478952 non-null  int64   \n",
      " 3   order_dow               478952 non-null  int64   \n",
      " 4   order_hour_of_day       478952 non-null  int64   \n",
      " 5   days_since_prior_order  450135 non-null  float64 \n",
      " 6   day_of_week             478952 non-null  category\n",
      "dtypes: category(1), float64(1), int64(5)\n",
      "memory usage: 22.4 MB\n"
     ]
    }
   ],
   "source": [
    "df_instacart_orders.info()"
   ]
  },
  {
   "cell_type": "code",
   "execution_count": 56,
   "id": "3dc4bdfa",
   "metadata": {},
   "outputs": [
    {
     "data": {
      "text/html": [
       "<div>\n",
       "<style scoped>\n",
       "    .dataframe tbody tr th:only-of-type {\n",
       "        vertical-align: middle;\n",
       "    }\n",
       "\n",
       "    .dataframe tbody tr th {\n",
       "        vertical-align: top;\n",
       "    }\n",
       "\n",
       "    .dataframe thead th {\n",
       "        text-align: right;\n",
       "    }\n",
       "</style>\n",
       "<table border=\"1\" class=\"dataframe\">\n",
       "  <thead>\n",
       "    <tr style=\"text-align: right;\">\n",
       "      <th></th>\n",
       "      <th>order_id</th>\n",
       "      <th>user_id</th>\n",
       "      <th>order_number</th>\n",
       "      <th>order_dow</th>\n",
       "      <th>order_hour_of_day</th>\n",
       "      <th>days_since_prior_order</th>\n",
       "      <th>day_of_week</th>\n",
       "    </tr>\n",
       "  </thead>\n",
       "  <tbody>\n",
       "    <tr>\n",
       "      <th>0</th>\n",
       "      <td>1515936</td>\n",
       "      <td>183418</td>\n",
       "      <td>11</td>\n",
       "      <td>6</td>\n",
       "      <td>13</td>\n",
       "      <td>30.0</td>\n",
       "      <td>saturday</td>\n",
       "    </tr>\n",
       "    <tr>\n",
       "      <th>1</th>\n",
       "      <td>1690866</td>\n",
       "      <td>163593</td>\n",
       "      <td>5</td>\n",
       "      <td>5</td>\n",
       "      <td>12</td>\n",
       "      <td>9.0</td>\n",
       "      <td>friday</td>\n",
       "    </tr>\n",
       "    <tr>\n",
       "      <th>2</th>\n",
       "      <td>1454967</td>\n",
       "      <td>39980</td>\n",
       "      <td>4</td>\n",
       "      <td>5</td>\n",
       "      <td>19</td>\n",
       "      <td>2.0</td>\n",
       "      <td>friday</td>\n",
       "    </tr>\n",
       "    <tr>\n",
       "      <th>3</th>\n",
       "      <td>1768857</td>\n",
       "      <td>82516</td>\n",
       "      <td>56</td>\n",
       "      <td>0</td>\n",
       "      <td>20</td>\n",
       "      <td>10.0</td>\n",
       "      <td>sunday</td>\n",
       "    </tr>\n",
       "    <tr>\n",
       "      <th>4</th>\n",
       "      <td>3007858</td>\n",
       "      <td>196724</td>\n",
       "      <td>2</td>\n",
       "      <td>4</td>\n",
       "      <td>12</td>\n",
       "      <td>17.0</td>\n",
       "      <td>thursday</td>\n",
       "    </tr>\n",
       "  </tbody>\n",
       "</table>\n",
       "</div>"
      ],
      "text/plain": [
       "   order_id  user_id  order_number  order_dow  order_hour_of_day  \\\n",
       "0   1515936   183418            11          6                 13   \n",
       "1   1690866   163593             5          5                 12   \n",
       "2   1454967    39980             4          5                 19   \n",
       "3   1768857    82516            56          0                 20   \n",
       "4   3007858   196724             2          4                 12   \n",
       "\n",
       "   days_since_prior_order day_of_week  \n",
       "0                    30.0    saturday  \n",
       "1                     9.0      friday  \n",
       "2                     2.0      friday  \n",
       "3                    10.0      sunday  \n",
       "4                    17.0    thursday  "
      ]
     },
     "execution_count": 56,
     "metadata": {},
     "output_type": "execute_result"
    }
   ],
   "source": [
    "df_instacart_orders.head()"
   ]
  },
  {
   "cell_type": "code",
   "execution_count": 57,
   "id": "166e5a86",
   "metadata": {},
   "outputs": [
    {
     "data": {
      "text/html": [
       "<div>\n",
       "<style scoped>\n",
       "    .dataframe tbody tr th:only-of-type {\n",
       "        vertical-align: middle;\n",
       "    }\n",
       "\n",
       "    .dataframe tbody tr th {\n",
       "        vertical-align: top;\n",
       "    }\n",
       "\n",
       "    .dataframe thead th {\n",
       "        text-align: right;\n",
       "    }\n",
       "</style>\n",
       "<table border=\"1\" class=\"dataframe\">\n",
       "  <thead>\n",
       "    <tr style=\"text-align: right;\">\n",
       "      <th></th>\n",
       "      <th>order_id</th>\n",
       "      <th>product_id</th>\n",
       "      <th>add_to_cart_order</th>\n",
       "      <th>reordered</th>\n",
       "    </tr>\n",
       "  </thead>\n",
       "  <tbody>\n",
       "    <tr>\n",
       "      <th>0</th>\n",
       "      <td>2141543</td>\n",
       "      <td>11440</td>\n",
       "      <td>17.0</td>\n",
       "      <td>0</td>\n",
       "    </tr>\n",
       "    <tr>\n",
       "      <th>1</th>\n",
       "      <td>567889</td>\n",
       "      <td>1560</td>\n",
       "      <td>1.0</td>\n",
       "      <td>1</td>\n",
       "    </tr>\n",
       "    <tr>\n",
       "      <th>2</th>\n",
       "      <td>2261212</td>\n",
       "      <td>26683</td>\n",
       "      <td>1.0</td>\n",
       "      <td>1</td>\n",
       "    </tr>\n",
       "    <tr>\n",
       "      <th>3</th>\n",
       "      <td>491251</td>\n",
       "      <td>8670</td>\n",
       "      <td>35.0</td>\n",
       "      <td>1</td>\n",
       "    </tr>\n",
       "    <tr>\n",
       "      <th>4</th>\n",
       "      <td>2571142</td>\n",
       "      <td>1940</td>\n",
       "      <td>5.0</td>\n",
       "      <td>1</td>\n",
       "    </tr>\n",
       "  </tbody>\n",
       "</table>\n",
       "</div>"
      ],
      "text/plain": [
       "   order_id  product_id  add_to_cart_order  reordered\n",
       "0   2141543       11440               17.0          0\n",
       "1    567889        1560                1.0          1\n",
       "2   2261212       26683                1.0          1\n",
       "3    491251        8670               35.0          1\n",
       "4   2571142        1940                5.0          1"
      ]
     },
     "execution_count": 57,
     "metadata": {},
     "output_type": "execute_result"
    }
   ],
   "source": [
    "# Are there any missing values where it's not a customer's first order?\n",
    "df_order_products.head()"
   ]
  },
  {
   "cell_type": "code",
   "execution_count": 58,
   "id": "273a99e1",
   "metadata": {},
   "outputs": [
    {
     "data": {
      "text/html": [
       "<div>\n",
       "<style scoped>\n",
       "    .dataframe tbody tr th:only-of-type {\n",
       "        vertical-align: middle;\n",
       "    }\n",
       "\n",
       "    .dataframe tbody tr th {\n",
       "        vertical-align: top;\n",
       "    }\n",
       "\n",
       "    .dataframe thead th {\n",
       "        text-align: right;\n",
       "    }\n",
       "</style>\n",
       "<table border=\"1\" class=\"dataframe\">\n",
       "  <thead>\n",
       "    <tr style=\"text-align: right;\">\n",
       "      <th></th>\n",
       "      <th>order_id</th>\n",
       "      <th>user_id</th>\n",
       "      <th>order_number</th>\n",
       "      <th>order_dow</th>\n",
       "      <th>order_hour_of_day</th>\n",
       "      <th>days_since_prior_order</th>\n",
       "      <th>day_of_week</th>\n",
       "      <th>product_id</th>\n",
       "      <th>add_to_cart_order</th>\n",
       "      <th>reordered</th>\n",
       "    </tr>\n",
       "  </thead>\n",
       "  <tbody>\n",
       "    <tr>\n",
       "      <th>0</th>\n",
       "      <td>1515936</td>\n",
       "      <td>183418</td>\n",
       "      <td>11</td>\n",
       "      <td>6</td>\n",
       "      <td>13</td>\n",
       "      <td>30.0</td>\n",
       "      <td>saturday</td>\n",
       "      <td>19048</td>\n",
       "      <td>1.0</td>\n",
       "      <td>1</td>\n",
       "    </tr>\n",
       "    <tr>\n",
       "      <th>1</th>\n",
       "      <td>1515936</td>\n",
       "      <td>183418</td>\n",
       "      <td>11</td>\n",
       "      <td>6</td>\n",
       "      <td>13</td>\n",
       "      <td>30.0</td>\n",
       "      <td>saturday</td>\n",
       "      <td>47766</td>\n",
       "      <td>3.0</td>\n",
       "      <td>1</td>\n",
       "    </tr>\n",
       "    <tr>\n",
       "      <th>2</th>\n",
       "      <td>1515936</td>\n",
       "      <td>183418</td>\n",
       "      <td>11</td>\n",
       "      <td>6</td>\n",
       "      <td>13</td>\n",
       "      <td>30.0</td>\n",
       "      <td>saturday</td>\n",
       "      <td>45066</td>\n",
       "      <td>9.0</td>\n",
       "      <td>0</td>\n",
       "    </tr>\n",
       "    <tr>\n",
       "      <th>3</th>\n",
       "      <td>1515936</td>\n",
       "      <td>183418</td>\n",
       "      <td>11</td>\n",
       "      <td>6</td>\n",
       "      <td>13</td>\n",
       "      <td>30.0</td>\n",
       "      <td>saturday</td>\n",
       "      <td>24082</td>\n",
       "      <td>11.0</td>\n",
       "      <td>0</td>\n",
       "    </tr>\n",
       "    <tr>\n",
       "      <th>4</th>\n",
       "      <td>1515936</td>\n",
       "      <td>183418</td>\n",
       "      <td>11</td>\n",
       "      <td>6</td>\n",
       "      <td>13</td>\n",
       "      <td>30.0</td>\n",
       "      <td>saturday</td>\n",
       "      <td>24363</td>\n",
       "      <td>4.0</td>\n",
       "      <td>0</td>\n",
       "    </tr>\n",
       "  </tbody>\n",
       "</table>\n",
       "</div>"
      ],
      "text/plain": [
       "   order_id  user_id  order_number  order_dow  order_hour_of_day  \\\n",
       "0   1515936   183418            11          6                 13   \n",
       "1   1515936   183418            11          6                 13   \n",
       "2   1515936   183418            11          6                 13   \n",
       "3   1515936   183418            11          6                 13   \n",
       "4   1515936   183418            11          6                 13   \n",
       "\n",
       "   days_since_prior_order day_of_week  product_id  add_to_cart_order  \\\n",
       "0                    30.0    saturday       19048                1.0   \n",
       "1                    30.0    saturday       47766                3.0   \n",
       "2                    30.0    saturday       45066                9.0   \n",
       "3                    30.0    saturday       24082               11.0   \n",
       "4                    30.0    saturday       24363                4.0   \n",
       "\n",
       "   reordered  \n",
       "0          1  \n",
       "1          1  \n",
       "2          0  \n",
       "3          0  \n",
       "4          0  "
      ]
     },
     "execution_count": 58,
     "metadata": {},
     "output_type": "execute_result"
    }
   ],
   "source": [
    "df_merge = df_instacart_orders.merge(df_order_products,\n",
    "                    how='inner',\n",
    "                    on='order_id',\n",
    "                    suffixes=['_df_instacart_orders','_df_order_products'])\n",
    "\n",
    "df_merge.head()"
   ]
  },
  {
   "cell_type": "code",
   "execution_count": 59,
   "id": "3672cfb7",
   "metadata": {},
   "outputs": [
    {
     "data": {
      "text/plain": [
       "order_id                    0\n",
       "user_id                     0\n",
       "order_number                0\n",
       "order_dow                   0\n",
       "order_hour_of_day           0\n",
       "days_since_prior_order      0\n",
       "day_of_week                 0\n",
       "product_id                  0\n",
       "add_to_cart_order         319\n",
       "reordered                   0\n",
       "dtype: int64"
      ]
     },
     "execution_count": 59,
     "metadata": {},
     "output_type": "execute_result"
    }
   ],
   "source": [
    "# filter not first timers\n",
    "df_merge.query(\"reordered==1\").isna().sum()"
   ]
  },
  {
   "cell_type": "markdown",
   "id": "eca25987",
   "metadata": {},
   "source": [
    "There are 319 missing values in the add_to_cart_order column."
   ]
  },
  {
   "cell_type": "markdown",
   "id": "d2f0d187",
   "metadata": {},
   "source": [
    "Data is too complex to determine how to fill in these missing values.\n",
    "\n",
    "Will leave them missing for now."
   ]
  },
  {
   "cell_type": "markdown",
   "id": "4e23d089",
   "metadata": {},
   "source": []
  },
  {
   "cell_type": "markdown",
   "id": "69dc9ca4",
   "metadata": {},
   "source": [
    "### `order_products` data frame"
   ]
  },
  {
   "cell_type": "code",
   "execution_count": 60,
   "id": "aaeb1b28",
   "metadata": {},
   "outputs": [
    {
     "name": "stdout",
     "output_type": "stream",
     "text": [
      "<class 'pandas.core.frame.DataFrame'>\n",
      "RangeIndex: 4545007 entries, 0 to 4545006\n",
      "Data columns (total 4 columns):\n",
      " #   Column             Non-Null Count    Dtype  \n",
      "---  ------             --------------    -----  \n",
      " 0   order_id           4545007 non-null  int64  \n",
      " 1   product_id         4545007 non-null  int64  \n",
      " 2   add_to_cart_order  4544171 non-null  float64\n",
      " 3   reordered          4545007 non-null  int64  \n",
      "dtypes: float64(1), int64(3)\n",
      "memory usage: 138.7 MB\n"
     ]
    }
   ],
   "source": [
    "df_order_products.info(null_counts=True)"
   ]
  },
  {
   "cell_type": "code",
   "execution_count": 61,
   "id": "b8240253",
   "metadata": {},
   "outputs": [
    {
     "data": {
      "text/html": [
       "<div>\n",
       "<style scoped>\n",
       "    .dataframe tbody tr th:only-of-type {\n",
       "        vertical-align: middle;\n",
       "    }\n",
       "\n",
       "    .dataframe tbody tr th {\n",
       "        vertical-align: top;\n",
       "    }\n",
       "\n",
       "    .dataframe thead th {\n",
       "        text-align: right;\n",
       "    }\n",
       "</style>\n",
       "<table border=\"1\" class=\"dataframe\">\n",
       "  <thead>\n",
       "    <tr style=\"text-align: right;\">\n",
       "      <th></th>\n",
       "      <th>order_id</th>\n",
       "      <th>product_id</th>\n",
       "      <th>add_to_cart_order</th>\n",
       "      <th>reordered</th>\n",
       "    </tr>\n",
       "  </thead>\n",
       "  <tbody>\n",
       "    <tr>\n",
       "      <th>0</th>\n",
       "      <td>2141543</td>\n",
       "      <td>11440</td>\n",
       "      <td>17.0</td>\n",
       "      <td>0</td>\n",
       "    </tr>\n",
       "    <tr>\n",
       "      <th>1</th>\n",
       "      <td>567889</td>\n",
       "      <td>1560</td>\n",
       "      <td>1.0</td>\n",
       "      <td>1</td>\n",
       "    </tr>\n",
       "    <tr>\n",
       "      <th>2</th>\n",
       "      <td>2261212</td>\n",
       "      <td>26683</td>\n",
       "      <td>1.0</td>\n",
       "      <td>1</td>\n",
       "    </tr>\n",
       "    <tr>\n",
       "      <th>3</th>\n",
       "      <td>491251</td>\n",
       "      <td>8670</td>\n",
       "      <td>35.0</td>\n",
       "      <td>1</td>\n",
       "    </tr>\n",
       "    <tr>\n",
       "      <th>4</th>\n",
       "      <td>2571142</td>\n",
       "      <td>1940</td>\n",
       "      <td>5.0</td>\n",
       "      <td>1</td>\n",
       "    </tr>\n",
       "  </tbody>\n",
       "</table>\n",
       "</div>"
      ],
      "text/plain": [
       "   order_id  product_id  add_to_cart_order  reordered\n",
       "0   2141543       11440               17.0          0\n",
       "1    567889        1560                1.0          1\n",
       "2   2261212       26683                1.0          1\n",
       "3    491251        8670               35.0          1\n",
       "4   2571142        1940                5.0          1"
      ]
     },
     "execution_count": 61,
     "metadata": {},
     "output_type": "execute_result"
    }
   ],
   "source": [
    "df_order_products.head()"
   ]
  },
  {
   "cell_type": "code",
   "execution_count": 62,
   "id": "9a78e5ee",
   "metadata": {},
   "outputs": [
    {
     "name": "stdout",
     "output_type": "stream",
     "text": [
      "The min value for the add_to_cart_order column is 1.0.)\n",
      "The max value for the add_to_cart_order column is 64.0.)\n"
     ]
    }
   ],
   "source": [
    "# What are the min and max values in this column?\n",
    "col = \"add_to_cart_order\"\n",
    "min1 = df_order_products['add_to_cart_order'].min()\n",
    "max1 = df_order_products['add_to_cart_order'].max()\n",
    "print(f\"The min value for the {col} column is {min1}.)\")\n",
    "print(f\"The max value for the {col} column is {max1}.)\")"
   ]
  },
  {
   "cell_type": "code",
   "execution_count": 63,
   "id": "ab9d0c2b",
   "metadata": {},
   "outputs": [
    {
     "data": {
      "text/html": [
       "<div>\n",
       "<style scoped>\n",
       "    .dataframe tbody tr th:only-of-type {\n",
       "        vertical-align: middle;\n",
       "    }\n",
       "\n",
       "    .dataframe tbody tr th {\n",
       "        vertical-align: top;\n",
       "    }\n",
       "\n",
       "    .dataframe thead th {\n",
       "        text-align: right;\n",
       "    }\n",
       "</style>\n",
       "<table border=\"1\" class=\"dataframe\">\n",
       "  <thead>\n",
       "    <tr style=\"text-align: right;\">\n",
       "      <th></th>\n",
       "      <th>order_id</th>\n",
       "      <th>product_id</th>\n",
       "      <th>add_to_cart_order</th>\n",
       "      <th>reordered</th>\n",
       "    </tr>\n",
       "  </thead>\n",
       "  <tbody>\n",
       "    <tr>\n",
       "      <th>267</th>\n",
       "      <td>2094761</td>\n",
       "      <td>31469</td>\n",
       "      <td>57.0</td>\n",
       "      <td>1</td>\n",
       "    </tr>\n",
       "    <tr>\n",
       "      <th>737</th>\n",
       "      <td>2449164</td>\n",
       "      <td>5068</td>\n",
       "      <td>NaN</td>\n",
       "      <td>0</td>\n",
       "    </tr>\n",
       "    <tr>\n",
       "      <th>1742</th>\n",
       "      <td>2997021</td>\n",
       "      <td>4920</td>\n",
       "      <td>37.0</td>\n",
       "      <td>0</td>\n",
       "    </tr>\n",
       "    <tr>\n",
       "      <th>3463</th>\n",
       "      <td>871281</td>\n",
       "      <td>40063</td>\n",
       "      <td>61.0</td>\n",
       "      <td>1</td>\n",
       "    </tr>\n",
       "    <tr>\n",
       "      <th>3535</th>\n",
       "      <td>171934</td>\n",
       "      <td>36397</td>\n",
       "      <td>7.0</td>\n",
       "      <td>0</td>\n",
       "    </tr>\n",
       "  </tbody>\n",
       "</table>\n",
       "</div>"
      ],
      "text/plain": [
       "      order_id  product_id  add_to_cart_order  reordered\n",
       "267    2094761       31469               57.0          1\n",
       "737    2449164        5068                NaN          0\n",
       "1742   2997021        4920               37.0          0\n",
       "3463    871281       40063               61.0          1\n",
       "3535    171934       36397                7.0          0"
      ]
     },
     "execution_count": 63,
     "metadata": {},
     "output_type": "execute_result"
    }
   ],
   "source": [
    "# Save all order IDs with at least one missing value in 'add_to_cart_order'\n",
    "order_ids = list(df_order_products.query(\"@pd.isna(add_to_cart_order)\")['order_id'].unique())\n",
    "df = df_order_products.query(\"order_id in @order_ids\")\n",
    "df.head()"
   ]
  },
  {
   "cell_type": "code",
   "execution_count": 64,
   "id": "76bf405a",
   "metadata": {},
   "outputs": [
    {
     "data": {
      "text/html": [
       "<div>\n",
       "<style scoped>\n",
       "    .dataframe tbody tr th:only-of-type {\n",
       "        vertical-align: middle;\n",
       "    }\n",
       "\n",
       "    .dataframe tbody tr th {\n",
       "        vertical-align: top;\n",
       "    }\n",
       "\n",
       "    .dataframe thead th {\n",
       "        text-align: right;\n",
       "    }\n",
       "</style>\n",
       "<table border=\"1\" class=\"dataframe\">\n",
       "  <thead>\n",
       "    <tr style=\"text-align: right;\">\n",
       "      <th></th>\n",
       "      <th>order_id</th>\n",
       "      <th>product_id</th>\n",
       "      <th>add_to_cart_order</th>\n",
       "      <th>reordered</th>\n",
       "    </tr>\n",
       "  </thead>\n",
       "  <tbody>\n",
       "    <tr>\n",
       "      <th>737</th>\n",
       "      <td>2449164</td>\n",
       "      <td>5068</td>\n",
       "      <td>NaN</td>\n",
       "      <td>0</td>\n",
       "    </tr>\n",
       "    <tr>\n",
       "      <th>9926</th>\n",
       "      <td>1968313</td>\n",
       "      <td>43867</td>\n",
       "      <td>NaN</td>\n",
       "      <td>0</td>\n",
       "    </tr>\n",
       "    <tr>\n",
       "      <th>14394</th>\n",
       "      <td>2926893</td>\n",
       "      <td>11688</td>\n",
       "      <td>NaN</td>\n",
       "      <td>0</td>\n",
       "    </tr>\n",
       "    <tr>\n",
       "      <th>16418</th>\n",
       "      <td>1717990</td>\n",
       "      <td>4142</td>\n",
       "      <td>NaN</td>\n",
       "      <td>0</td>\n",
       "    </tr>\n",
       "    <tr>\n",
       "      <th>30114</th>\n",
       "      <td>1959075</td>\n",
       "      <td>42828</td>\n",
       "      <td>NaN</td>\n",
       "      <td>1</td>\n",
       "    </tr>\n",
       "    <tr>\n",
       "      <th>...</th>\n",
       "      <td>...</td>\n",
       "      <td>...</td>\n",
       "      <td>...</td>\n",
       "      <td>...</td>\n",
       "    </tr>\n",
       "    <tr>\n",
       "      <th>4505662</th>\n",
       "      <td>1800005</td>\n",
       "      <td>7411</td>\n",
       "      <td>NaN</td>\n",
       "      <td>0</td>\n",
       "    </tr>\n",
       "    <tr>\n",
       "      <th>4511400</th>\n",
       "      <td>1633337</td>\n",
       "      <td>260</td>\n",
       "      <td>NaN</td>\n",
       "      <td>0</td>\n",
       "    </tr>\n",
       "    <tr>\n",
       "      <th>4517562</th>\n",
       "      <td>404157</td>\n",
       "      <td>9517</td>\n",
       "      <td>NaN</td>\n",
       "      <td>0</td>\n",
       "    </tr>\n",
       "    <tr>\n",
       "      <th>4534112</th>\n",
       "      <td>1673227</td>\n",
       "      <td>17835</td>\n",
       "      <td>NaN</td>\n",
       "      <td>0</td>\n",
       "    </tr>\n",
       "    <tr>\n",
       "      <th>4535739</th>\n",
       "      <td>1832957</td>\n",
       "      <td>17949</td>\n",
       "      <td>NaN</td>\n",
       "      <td>1</td>\n",
       "    </tr>\n",
       "  </tbody>\n",
       "</table>\n",
       "<p>836 rows × 4 columns</p>\n",
       "</div>"
      ],
      "text/plain": [
       "         order_id  product_id  add_to_cart_order  reordered\n",
       "737       2449164        5068                NaN          0\n",
       "9926      1968313       43867                NaN          0\n",
       "14394     2926893       11688                NaN          0\n",
       "16418     1717990        4142                NaN          0\n",
       "30114     1959075       42828                NaN          1\n",
       "...           ...         ...                ...        ...\n",
       "4505662   1800005        7411                NaN          0\n",
       "4511400   1633337         260                NaN          0\n",
       "4517562    404157        9517                NaN          0\n",
       "4534112   1673227       17835                NaN          0\n",
       "4535739   1832957       17949                NaN          1\n",
       "\n",
       "[836 rows x 4 columns]"
      ]
     },
     "execution_count": 64,
     "metadata": {},
     "output_type": "execute_result"
    }
   ],
   "source": [
    "df.query(\"@pd.isna(add_to_cart_order)\")"
   ]
  },
  {
   "cell_type": "code",
   "execution_count": 65,
   "id": "af22b429",
   "metadata": {},
   "outputs": [
    {
     "data": {
      "text/html": [
       "<div>\n",
       "<style scoped>\n",
       "    .dataframe tbody tr th:only-of-type {\n",
       "        vertical-align: middle;\n",
       "    }\n",
       "\n",
       "    .dataframe tbody tr th {\n",
       "        vertical-align: top;\n",
       "    }\n",
       "\n",
       "    .dataframe thead th {\n",
       "        text-align: right;\n",
       "    }\n",
       "</style>\n",
       "<table border=\"1\" class=\"dataframe\">\n",
       "  <thead>\n",
       "    <tr style=\"text-align: right;\">\n",
       "      <th></th>\n",
       "      <th>order_id</th>\n",
       "      <th>product_id</th>\n",
       "      <th>add_to_cart_order</th>\n",
       "      <th>reordered</th>\n",
       "    </tr>\n",
       "  </thead>\n",
       "  <tbody>\n",
       "    <tr>\n",
       "      <th>76044</th>\n",
       "      <td>1386261</td>\n",
       "      <td>31847</td>\n",
       "      <td>64.0</td>\n",
       "      <td>0</td>\n",
       "    </tr>\n",
       "    <tr>\n",
       "      <th>154176</th>\n",
       "      <td>854647</td>\n",
       "      <td>22922</td>\n",
       "      <td>64.0</td>\n",
       "      <td>0</td>\n",
       "    </tr>\n",
       "    <tr>\n",
       "      <th>177733</th>\n",
       "      <td>3383594</td>\n",
       "      <td>7970</td>\n",
       "      <td>64.0</td>\n",
       "      <td>0</td>\n",
       "    </tr>\n",
       "    <tr>\n",
       "      <th>213282</th>\n",
       "      <td>2470674</td>\n",
       "      <td>30257</td>\n",
       "      <td>64.0</td>\n",
       "      <td>0</td>\n",
       "    </tr>\n",
       "    <tr>\n",
       "      <th>233518</th>\n",
       "      <td>1968313</td>\n",
       "      <td>495</td>\n",
       "      <td>64.0</td>\n",
       "      <td>1</td>\n",
       "    </tr>\n",
       "    <tr>\n",
       "      <th>...</th>\n",
       "      <td>...</td>\n",
       "      <td>...</td>\n",
       "      <td>...</td>\n",
       "      <td>...</td>\n",
       "    </tr>\n",
       "    <tr>\n",
       "      <th>4148751</th>\n",
       "      <td>2999801</td>\n",
       "      <td>24722</td>\n",
       "      <td>64.0</td>\n",
       "      <td>1</td>\n",
       "    </tr>\n",
       "    <tr>\n",
       "      <th>4235552</th>\n",
       "      <td>3308010</td>\n",
       "      <td>3888</td>\n",
       "      <td>64.0</td>\n",
       "      <td>1</td>\n",
       "    </tr>\n",
       "    <tr>\n",
       "      <th>4409436</th>\n",
       "      <td>747668</td>\n",
       "      <td>31268</td>\n",
       "      <td>64.0</td>\n",
       "      <td>0</td>\n",
       "    </tr>\n",
       "    <tr>\n",
       "      <th>4419785</th>\n",
       "      <td>1633337</td>\n",
       "      <td>34</td>\n",
       "      <td>64.0</td>\n",
       "      <td>0</td>\n",
       "    </tr>\n",
       "    <tr>\n",
       "      <th>4432234</th>\n",
       "      <td>9310</td>\n",
       "      <td>21332</td>\n",
       "      <td>64.0</td>\n",
       "      <td>0</td>\n",
       "    </tr>\n",
       "  </tbody>\n",
       "</table>\n",
       "<p>70 rows × 4 columns</p>\n",
       "</div>"
      ],
      "text/plain": [
       "         order_id  product_id  add_to_cart_order  reordered\n",
       "76044     1386261       31847               64.0          0\n",
       "154176     854647       22922               64.0          0\n",
       "177733    3383594        7970               64.0          0\n",
       "213282    2470674       30257               64.0          0\n",
       "233518    1968313         495               64.0          1\n",
       "...           ...         ...                ...        ...\n",
       "4148751   2999801       24722               64.0          1\n",
       "4235552   3308010        3888               64.0          1\n",
       "4409436    747668       31268               64.0          0\n",
       "4419785   1633337          34               64.0          0\n",
       "4432234      9310       21332               64.0          0\n",
       "\n",
       "[70 rows x 4 columns]"
      ]
     },
     "execution_count": 65,
     "metadata": {},
     "output_type": "execute_result"
    }
   ],
   "source": [
    "df.query(\"add_to_cart_order==64\")"
   ]
  },
  {
   "cell_type": "code",
   "execution_count": 66,
   "id": "54c31695",
   "metadata": {},
   "outputs": [
    {
     "data": {
      "text/html": [
       "<div>\n",
       "<style scoped>\n",
       "    .dataframe tbody tr th:only-of-type {\n",
       "        vertical-align: middle;\n",
       "    }\n",
       "\n",
       "    .dataframe tbody tr th {\n",
       "        vertical-align: top;\n",
       "    }\n",
       "\n",
       "    .dataframe thead th {\n",
       "        text-align: right;\n",
       "    }\n",
       "</style>\n",
       "<table border=\"1\" class=\"dataframe\">\n",
       "  <thead>\n",
       "    <tr style=\"text-align: right;\">\n",
       "      <th></th>\n",
       "      <th>product_id</th>\n",
       "      <th>add_to_cart_order</th>\n",
       "      <th>reordered</th>\n",
       "    </tr>\n",
       "    <tr>\n",
       "      <th>order_id</th>\n",
       "      <th></th>\n",
       "      <th></th>\n",
       "      <th></th>\n",
       "    </tr>\n",
       "  </thead>\n",
       "  <tbody>\n",
       "    <tr>\n",
       "      <th>9310</th>\n",
       "      <td>65</td>\n",
       "      <td>64</td>\n",
       "      <td>65</td>\n",
       "    </tr>\n",
       "    <tr>\n",
       "      <th>61355</th>\n",
       "      <td>127</td>\n",
       "      <td>64</td>\n",
       "      <td>127</td>\n",
       "    </tr>\n",
       "    <tr>\n",
       "      <th>102236</th>\n",
       "      <td>95</td>\n",
       "      <td>64</td>\n",
       "      <td>95</td>\n",
       "    </tr>\n",
       "    <tr>\n",
       "      <th>129627</th>\n",
       "      <td>69</td>\n",
       "      <td>64</td>\n",
       "      <td>69</td>\n",
       "    </tr>\n",
       "    <tr>\n",
       "      <th>165801</th>\n",
       "      <td>70</td>\n",
       "      <td>64</td>\n",
       "      <td>70</td>\n",
       "    </tr>\n",
       "    <tr>\n",
       "      <th>...</th>\n",
       "      <td>...</td>\n",
       "      <td>...</td>\n",
       "      <td>...</td>\n",
       "    </tr>\n",
       "    <tr>\n",
       "      <th>2999801</th>\n",
       "      <td>70</td>\n",
       "      <td>64</td>\n",
       "      <td>70</td>\n",
       "    </tr>\n",
       "    <tr>\n",
       "      <th>3125735</th>\n",
       "      <td>86</td>\n",
       "      <td>64</td>\n",
       "      <td>86</td>\n",
       "    </tr>\n",
       "    <tr>\n",
       "      <th>3308010</th>\n",
       "      <td>115</td>\n",
       "      <td>64</td>\n",
       "      <td>115</td>\n",
       "    </tr>\n",
       "    <tr>\n",
       "      <th>3347453</th>\n",
       "      <td>71</td>\n",
       "      <td>64</td>\n",
       "      <td>71</td>\n",
       "    </tr>\n",
       "    <tr>\n",
       "      <th>3383594</th>\n",
       "      <td>69</td>\n",
       "      <td>64</td>\n",
       "      <td>69</td>\n",
       "    </tr>\n",
       "  </tbody>\n",
       "</table>\n",
       "<p>70 rows × 3 columns</p>\n",
       "</div>"
      ],
      "text/plain": [
       "          product_id  add_to_cart_order  reordered\n",
       "order_id                                          \n",
       "9310              65                 64         65\n",
       "61355            127                 64        127\n",
       "102236            95                 64         95\n",
       "129627            69                 64         69\n",
       "165801            70                 64         70\n",
       "...              ...                ...        ...\n",
       "2999801           70                 64         70\n",
       "3125735           86                 64         86\n",
       "3308010          115                 64        115\n",
       "3347453           71                 64         71\n",
       "3383594           69                 64         69\n",
       "\n",
       "[70 rows x 3 columns]"
      ]
     },
     "execution_count": 66,
     "metadata": {},
     "output_type": "execute_result"
    }
   ],
   "source": [
    "# Do all orders with missing values have more than 64 products?\n",
    "df.groupby('order_id').count()"
   ]
  },
  {
   "cell_type": "code",
   "execution_count": 67,
   "id": "145b8d69",
   "metadata": {},
   "outputs": [
    {
     "data": {
      "text/plain": [
       "order_id\n",
       "9310        65\n",
       "61355      127\n",
       "102236      95\n",
       "129627      69\n",
       "165801      70\n",
       "          ... \n",
       "2999801     70\n",
       "3125735     86\n",
       "3308010    115\n",
       "3347453     71\n",
       "3383594     69\n",
       "Length: 70, dtype: int64"
      ]
     },
     "execution_count": 67,
     "metadata": {},
     "output_type": "execute_result"
    }
   ],
   "source": [
    "df.groupby('order_id').size()"
   ]
  },
  {
   "cell_type": "markdown",
   "id": "fa3c68eb",
   "metadata": {},
   "source": [
    "We can see the count method counts non null values where the size method includes the null values. This could mean that orders passing 64 were null values"
   ]
  },
  {
   "cell_type": "code",
   "execution_count": 68,
   "id": "7a987d08",
   "metadata": {},
   "outputs": [
    {
     "name": "stdout",
     "output_type": "stream",
     "text": [
      "<class 'pandas.core.frame.DataFrame'>\n",
      "RangeIndex: 4545007 entries, 0 to 4545006\n",
      "Data columns (total 4 columns):\n",
      " #   Column             Dtype\n",
      "---  ------             -----\n",
      " 0   order_id           int64\n",
      " 1   product_id         int64\n",
      " 2   add_to_cart_order  int64\n",
      " 3   reordered          int64\n",
      "dtypes: int64(4)\n",
      "memory usage: 138.7 MB\n"
     ]
    }
   ],
   "source": [
    "# Replace missing values with 999 and convert column to integer type\n",
    "df_order_products['add_to_cart_order'] = df_order_products['add_to_cart_order'].fillna(999)\n",
    "df_order_products['add_to_cart_order'] = df_order_products['add_to_cart_order'].astype('int')\n",
    "df_order_products.info()"
   ]
  },
  {
   "cell_type": "markdown",
   "id": "fea4bcc7",
   "metadata": {},
   "source": []
  },
  {
   "cell_type": "markdown",
   "id": "turkish-kidney",
   "metadata": {},
   "source": [
    "# [A] Easy (must complete all to pass)"
   ]
  },
  {
   "cell_type": "markdown",
   "id": "short-capability",
   "metadata": {},
   "source": [
    "### [A1] Verify that the `'order_hour_of_day'` and `'order_dow'` values in the `orders` tables are sensible (i.e. `'order_hour_of_day'` ranges from 0 to 23 and `'order_dow'` ranges from 0 to 6)"
   ]
  },
  {
   "cell_type": "code",
   "execution_count": 69,
   "id": "growing-fruit",
   "metadata": {},
   "outputs": [
    {
     "data": {
      "text/plain": [
       "[0,\n",
       " 1,\n",
       " 2,\n",
       " 3,\n",
       " 4,\n",
       " 5,\n",
       " 6,\n",
       " 7,\n",
       " 8,\n",
       " 9,\n",
       " 10,\n",
       " 11,\n",
       " 12,\n",
       " 13,\n",
       " 14,\n",
       " 15,\n",
       " 16,\n",
       " 17,\n",
       " 18,\n",
       " 19,\n",
       " 20,\n",
       " 21,\n",
       " 22,\n",
       " 23]"
      ]
     },
     "execution_count": 69,
     "metadata": {},
     "output_type": "execute_result"
    }
   ],
   "source": [
    "order_hour_of_day = sorted(list(df_instacart_orders['order_hour_of_day'].unique()))\n",
    "order_hour_of_day"
   ]
  },
  {
   "cell_type": "code",
   "execution_count": 70,
   "id": "accessory-malaysia",
   "metadata": {},
   "outputs": [
    {
     "data": {
      "text/plain": [
       "[0, 1, 2, 3, 4, 5, 6]"
      ]
     },
     "execution_count": 70,
     "metadata": {},
     "output_type": "execute_result"
    }
   ],
   "source": [
    "order_dow = sorted(list(df_instacart_orders['order_dow'].unique()))\n",
    "order_dow"
   ]
  },
  {
   "cell_type": "markdown",
   "id": "a6743a70",
   "metadata": {},
   "source": [
    "### [A2] What time of day do people shop for groceries?"
   ]
  },
  {
   "cell_type": "code",
   "execution_count": 71,
   "id": "9cc0dc5e",
   "metadata": {},
   "outputs": [
    {
     "data": {
      "image/png": "[encoded data removed]",
      "text/plain": [
       "<Figure size 1000x500 with 1 Axes>"
      ]
     },
     "metadata": {},
     "output_type": "display_data"
    }
   ],
   "source": [
    "df_instacart_orders[\"order_hour_of_day\"].value_counts().plot(kind=\"bar\",\n",
    "                                                             rot=0,\n",
    "                                                             xlabel=\"Hour Of Day\",\n",
    "                                                             ylabel=\"Fequency\",\n",
    "                                                             title=\"Time Of Day People Grocery Shop\",\n",
    "                                                             figsize=[10,5],\n",
    "                                                             grid=True,\n",
    "                                                             color='purple')\n",
    "plt.show()"
   ]
  },
  {
   "cell_type": "code",
   "execution_count": null,
   "id": "a36cca27",
   "metadata": {},
   "outputs": [],
   "source": []
  },
  {
   "cell_type": "markdown",
   "id": "11270eed",
   "metadata": {},
   "source": []
  },
  {
   "cell_type": "markdown",
   "id": "documented-command",
   "metadata": {},
   "source": [
    "### [A3] What day of the week do people shop for groceries?"
   ]
  },
  {
   "cell_type": "code",
   "execution_count": 72,
   "id": "787a0119",
   "metadata": {},
   "outputs": [
    {
     "data": {
      "image/png": "[encoded data removed]",
      "text/plain": [
       "<Figure size 1000x500 with 1 Axes>"
      ]
     },
     "metadata": {},
     "output_type": "display_data"
    }
   ],
   "source": [
    "df_instacart_orders[\"day_of_week\"].value_counts().plot(kind=\"bar\",\n",
    "                                                             rot=0,\n",
    "                                                             xlabel=\"Day Of Week\",\n",
    "                                                             ylabel=\"Fequency\",\n",
    "                                                             title=\"Day Of Week People Grocery Shop\",\n",
    "                                                             figsize=[10,5],\n",
    "                                                             grid=True,\n",
    "                                                             color='red')\n",
    "plt.show()"
   ]
  },
  {
   "cell_type": "code",
   "execution_count": 73,
   "id": "179b3432",
   "metadata": {},
   "outputs": [
    {
     "data": {
      "image/png": "[encoded data removed]",
      "text/plain": [
       "<Figure size 7000x800 with 1 Axes>"
      ]
     },
     "metadata": {},
     "output_type": "display_data"
    }
   ],
   "source": [
    "df_instacart_orders[\"day_of_week\"].value_counts().plot(kind=\"pie\",\n",
    "                                                       autopct=\"%1.1f%%\",\n",
    "                                                       figsize=[70,8],\n",
    "                                                       title=\"Percent Day Of Week People Grocery Shop\",\n",
    "                                                       ylabel='',\n",
    "                                                       colors=['silver','red','yellow','pink','green','teal','gold'])\n",
    "                                                       \n",
    "\n",
    "plt.show()"
   ]
  },
  {
   "cell_type": "code",
   "execution_count": null,
   "id": "chief-digit",
   "metadata": {},
   "outputs": [],
   "source": []
  },
  {
   "cell_type": "markdown",
   "id": "dominant-lightning",
   "metadata": {},
   "source": []
  },
  {
   "cell_type": "markdown",
   "id": "cutting-concert",
   "metadata": {},
   "source": [
    "### [A4] How long do people wait until placing another order?"
   ]
  },
  {
   "cell_type": "code",
   "execution_count": 74,
   "id": "c231f523",
   "metadata": {},
   "outputs": [
    {
     "data": {
      "image/png": "[encoded data removed]",
      "text/plain": [
       "<Figure size 1200x800 with 1 Axes>"
      ]
     },
     "metadata": {},
     "output_type": "display_data"
    }
   ],
   "source": [
    "df_instacart_orders['days_since_prior_order'].value_counts(ascending=True).plot(kind='barh',\n",
    "                                                                                figsize=[12,8],\n",
    "                                                                                ylabel = 'Days',\n",
    "                                                                                xlabel = \"Frequency\",\n",
    "                                                                                title = \"Days Before Next Order\",\n",
    "                                                                                grid = True)\n",
    "plt.xlabel('Frequency')\n",
    "plt.ylabel('Days')\n",
    "plt.show()"
   ]
  },
  {
   "cell_type": "code",
   "execution_count": 75,
   "id": "83002225",
   "metadata": {},
   "outputs": [
    {
     "name": "stdout",
     "output_type": "stream",
     "text": [
      "On avergae, people wait about 11 before placing another order.\n",
      "It is expected that a person waits between 2 to 20 days until placing the next order.\n"
     ]
    }
   ],
   "source": [
    "mean_days = df_instacart_orders['days_since_prior_order'].mean()\n",
    "sd_days = df_instacart_orders['days_since_prior_order'].std(ddof=1)\n",
    "print(f\"On avergae, people wait about {mean_days:.0f} before placing another order.\")\n",
    "print(f\"It is expected that a person waits between {mean_days-sd_days:.0f} to {mean_days+sd_days:.0f} days until placing the next order.\")"
   ]
  },
  {
   "cell_type": "markdown",
   "id": "discrete-vertex",
   "metadata": {},
   "source": []
  },
  {
   "cell_type": "code",
   "execution_count": null,
   "id": "exciting-fantasy",
   "metadata": {},
   "outputs": [],
   "source": []
  },
  {
   "cell_type": "markdown",
   "id": "8d926614",
   "metadata": {},
   "source": []
  },
  {
   "cell_type": "markdown",
   "id": "tight-staff",
   "metadata": {},
   "source": [
    "# [B] Medium (must complete all to pass)"
   ]
  },
  {
   "cell_type": "markdown",
   "id": "packed-classic",
   "metadata": {},
   "source": [
    "### [B1] Is there a difference in `'order_hour_of_day'` distributions on Wednesdays and Saturdays? Plot the histograms for both days and describe the differences that you see."
   ]
  },
  {
   "cell_type": "code",
   "execution_count": 76,
   "id": "62199760",
   "metadata": {},
   "outputs": [],
   "source": [
    "def histogram_info(data, bin_size=10, minx = None,r=None ):\n",
    "    '''\n",
    "    r = rounding for width\n",
    "    minx = custum min value\n",
    "    bin_size = bin size\n",
    "    data = data as a series\n",
    "    '''\n",
    "    print('will return bins,midpoints, and labels for intervals')\n",
    "    \n",
    "    # find min and max\n",
    "    if minx == None:\n",
    "        minx = min(data)\n",
    "    else:\n",
    "        pass\n",
    "    maxy = max(data)\n",
    "    n = len(data)\n",
    "    width = np.ceil( (maxy - minx) / bin_size)\n",
    "    if r == None:\n",
    "        pass\n",
    "    else:\n",
    "        width = round( (maxy - minx) / bin_size,r)\n",
    "    bins = [i for i in np.arange(minx,maxy+1,width)]\n",
    "    \n",
    "    while max(bins) < maxy:\n",
    "        bins.append(max(bins)+width)\n",
    "        \n",
    "    midpoints = [(bins[i]+bins[i+1])/2 for i in range(len(bins)-1)]\n",
    "    labels = [ f\"[{bins[i]},{bins[i+1]})\" for i in range(len(bins)-1)]\n",
    "    labels[-1] = labels[-1][:-1] + \"]\"\n",
    "    \n",
    "\n",
    "    print(f'size:{n}')\n",
    "    print(f'min:{minx}')\n",
    "    print(f'max:{maxy}')\n",
    "    print(f'bin size:{bin_size}')\n",
    "    print(f'width:{width}')\n",
    "    return bins,midpoints,labels    "
   ]
  },
  {
   "cell_type": "code",
   "execution_count": 77,
   "id": "38b3c41b",
   "metadata": {},
   "outputs": [],
   "source": [
    "# distrubtion for saturday\n",
    "saturdays = df_instacart_orders.query(\"day_of_week=='saturday'\")['order_hour_of_day']\n",
    "# distrubtion for wednesday\n",
    "wednesdays = df_instacart_orders.query(\"day_of_week=='wednesday'\")['order_hour_of_day']"
   ]
  },
  {
   "cell_type": "code",
   "execution_count": 78,
   "id": "2b88499a",
   "metadata": {},
   "outputs": [
    {
     "name": "stdout",
     "output_type": "stream",
     "text": [
      "will return bins,midpoints, and labels for intervals\n",
      "size:62649\n",
      "min:0\n",
      "max:23\n",
      "bin size:10\n",
      "width:3.0\n"
     ]
    }
   ],
   "source": [
    "bins,midpoints,labels =histogram_info(saturdays)\n",
    "labels = [i.replace('.0','') for i in labels] # remove decimals"
   ]
  },
  {
   "cell_type": "code",
   "execution_count": 79,
   "id": "d89b8403",
   "metadata": {},
   "outputs": [
    {
     "data": {
      "image/png": "[encoded data removed]",
      "text/plain": [
       "<Figure size 1000x800 with 1 Axes>"
      ]
     },
     "metadata": {},
     "output_type": "display_data"
    }
   ],
   "source": [
    "saturdays.plot(kind=\"hist\",\n",
    "               grid=True,\n",
    "               xlabel='Hour Of Day',\n",
    "               title='Distrubtions Of Hour Of Day Of The Week',\n",
    "               figsize=[10,8],\n",
    "               edgecolor='black',\n",
    "               bins = bins)\n",
    "plt.xticks(midpoints,labels)\n",
    "\n",
    "wednesdays.plot(kind=\"hist\",\n",
    "                alpha=0.65,\n",
    "                edgecolor='black',\n",
    "                bins = bins)\n",
    "\n",
    "plt.legend(['Saturday','Wednesday'])\n",
    "plt.grid(True)\n",
    "plt.show()"
   ]
  },
  {
   "cell_type": "markdown",
   "id": "8d71031b",
   "metadata": {},
   "source": [
    "There doesn't seem to be a difference in the order hour of day  distributions on Wednesdays and Saturdays.They appear to have the same shape. The majority of time people shop using instacart on Saturday and and Wednesdays are between the hours from 09:00 to 17:00."
   ]
  },
  {
   "cell_type": "code",
   "execution_count": null,
   "id": "797c90a8",
   "metadata": {},
   "outputs": [],
   "source": []
  },
  {
   "cell_type": "code",
   "execution_count": null,
   "id": "35bcea30",
   "metadata": {},
   "outputs": [],
   "source": []
  },
  {
   "cell_type": "markdown",
   "id": "charitable-congo",
   "metadata": {},
   "source": []
  },
  {
   "cell_type": "markdown",
   "id": "e3891143",
   "metadata": {},
   "source": [
    "### [B2] What's the distribution for the number of orders per customer?"
   ]
  },
  {
   "cell_type": "code",
   "execution_count": 80,
   "id": "782d3fef",
   "metadata": {},
   "outputs": [
    {
     "name": "stdout",
     "output_type": "stream",
     "text": [
      "will return bins,midpoints, and labels for intervals\n",
      "size:157437\n",
      "min:1\n",
      "max:100\n",
      "bin size:5\n",
      "width:20.0\n"
     ]
    }
   ],
   "source": [
    "bins,midpoints,labels = histogram_info(df_instacart_orders.groupby('user_id')['order_number'].max(),bin_size=5)\n",
    "labels = [i.replace('.0','') for i in labels] # remove decimals"
   ]
  },
  {
   "cell_type": "code",
   "execution_count": 81,
   "id": "d8c26c23",
   "metadata": {},
   "outputs": [
    {
     "data": {
      "image/png": "[encoded data removed]",
      "text/plain": [
       "<Figure size 1000x500 with 1 Axes>"
      ]
     },
     "metadata": {},
     "output_type": "display_data"
    }
   ],
   "source": [
    "df_instacart_orders.groupby('user_id')['order_number'].max().plot(kind='hist',\n",
    "                                                                  edgecolor='black',\n",
    "                                                                 figsize = [10,5],\n",
    "                                                                 title='Distribution For Number Of Orders Per Customer',\n",
    "                                                                 xlabel = 'Number Of Orders',\n",
    "                                                                  grid = True,\n",
    "                                                                  bins=bins)\n",
    "\n",
    "\n",
    "plt.xticks(midpoints,labels)\n",
    "plt.show()"
   ]
  },
  {
   "cell_type": "markdown",
   "id": "aeec0d5c",
   "metadata": {},
   "source": [
    "The distribution for the number of orders per customer is highly skewed to the right, meaning a lot of instacart  customers have not made a high volume of orders. The majority of people have made between 1-20 orders. "
   ]
  },
  {
   "cell_type": "markdown",
   "id": "d2eff7d5",
   "metadata": {},
   "source": []
  },
  {
   "cell_type": "markdown",
   "id": "54a0319c",
   "metadata": {},
   "source": [
    "### [B3] What are the top 20 popular products (display their id and name)?"
   ]
  },
  {
   "cell_type": "code",
   "execution_count": 82,
   "id": "exterior-arizona",
   "metadata": {
    "scrolled": true
   },
   "outputs": [
    {
     "data": {
      "text/html": [
       "<div>\n",
       "<style scoped>\n",
       "    .dataframe tbody tr th:only-of-type {\n",
       "        vertical-align: middle;\n",
       "    }\n",
       "\n",
       "    .dataframe tbody tr th {\n",
       "        vertical-align: top;\n",
       "    }\n",
       "\n",
       "    .dataframe thead th {\n",
       "        text-align: right;\n",
       "    }\n",
       "</style>\n",
       "<table border=\"1\" class=\"dataframe\">\n",
       "  <thead>\n",
       "    <tr style=\"text-align: right;\">\n",
       "      <th></th>\n",
       "      <th>product_id</th>\n",
       "      <th>product_name</th>\n",
       "      <th>aisle_id</th>\n",
       "    </tr>\n",
       "  </thead>\n",
       "  <tbody>\n",
       "    <tr>\n",
       "      <th>0</th>\n",
       "      <td>1</td>\n",
       "      <td>Chocolate Sandwich Cookies</td>\n",
       "      <td>61</td>\n",
       "    </tr>\n",
       "    <tr>\n",
       "      <th>1</th>\n",
       "      <td>2</td>\n",
       "      <td>All-Seasons Salt</td>\n",
       "      <td>104</td>\n",
       "    </tr>\n",
       "    <tr>\n",
       "      <th>2</th>\n",
       "      <td>3</td>\n",
       "      <td>Robust Golden Unsweetened Oolong Tea</td>\n",
       "      <td>94</td>\n",
       "    </tr>\n",
       "    <tr>\n",
       "      <th>3</th>\n",
       "      <td>4</td>\n",
       "      <td>Smart Ones Classic Favorites Mini Rigatoni Wit...</td>\n",
       "      <td>38</td>\n",
       "    </tr>\n",
       "    <tr>\n",
       "      <th>4</th>\n",
       "      <td>5</td>\n",
       "      <td>Green Chile Anytime Sauce</td>\n",
       "      <td>5</td>\n",
       "    </tr>\n",
       "  </tbody>\n",
       "</table>\n",
       "</div>"
      ],
      "text/plain": [
       "   product_id                                       product_name  aisle_id\n",
       "0           1                         Chocolate Sandwich Cookies        61\n",
       "1           2                                   All-Seasons Salt       104\n",
       "2           3               Robust Golden Unsweetened Oolong Tea        94\n",
       "3           4  Smart Ones Classic Favorites Mini Rigatoni Wit...        38\n",
       "4           5                          Green Chile Anytime Sauce         5"
      ]
     },
     "execution_count": 82,
     "metadata": {},
     "output_type": "execute_result"
    }
   ],
   "source": [
    "df_products.head()"
   ]
  },
  {
   "cell_type": "code",
   "execution_count": 83,
   "id": "universal-facial",
   "metadata": {},
   "outputs": [
    {
     "data": {
      "text/html": [
       "<div>\n",
       "<style scoped>\n",
       "    .dataframe tbody tr th:only-of-type {\n",
       "        vertical-align: middle;\n",
       "    }\n",
       "\n",
       "    .dataframe tbody tr th {\n",
       "        vertical-align: top;\n",
       "    }\n",
       "\n",
       "    .dataframe thead th {\n",
       "        text-align: right;\n",
       "    }\n",
       "</style>\n",
       "<table border=\"1\" class=\"dataframe\">\n",
       "  <thead>\n",
       "    <tr style=\"text-align: right;\">\n",
       "      <th></th>\n",
       "      <th>order_id</th>\n",
       "      <th>user_id</th>\n",
       "      <th>order_number</th>\n",
       "      <th>order_dow</th>\n",
       "      <th>order_hour_of_day</th>\n",
       "      <th>days_since_prior_order</th>\n",
       "      <th>day_of_week</th>\n",
       "    </tr>\n",
       "  </thead>\n",
       "  <tbody>\n",
       "    <tr>\n",
       "      <th>0</th>\n",
       "      <td>1515936</td>\n",
       "      <td>183418</td>\n",
       "      <td>11</td>\n",
       "      <td>6</td>\n",
       "      <td>13</td>\n",
       "      <td>30.0</td>\n",
       "      <td>saturday</td>\n",
       "    </tr>\n",
       "    <tr>\n",
       "      <th>1</th>\n",
       "      <td>1690866</td>\n",
       "      <td>163593</td>\n",
       "      <td>5</td>\n",
       "      <td>5</td>\n",
       "      <td>12</td>\n",
       "      <td>9.0</td>\n",
       "      <td>friday</td>\n",
       "    </tr>\n",
       "    <tr>\n",
       "      <th>2</th>\n",
       "      <td>1454967</td>\n",
       "      <td>39980</td>\n",
       "      <td>4</td>\n",
       "      <td>5</td>\n",
       "      <td>19</td>\n",
       "      <td>2.0</td>\n",
       "      <td>friday</td>\n",
       "    </tr>\n",
       "    <tr>\n",
       "      <th>3</th>\n",
       "      <td>1768857</td>\n",
       "      <td>82516</td>\n",
       "      <td>56</td>\n",
       "      <td>0</td>\n",
       "      <td>20</td>\n",
       "      <td>10.0</td>\n",
       "      <td>sunday</td>\n",
       "    </tr>\n",
       "    <tr>\n",
       "      <th>4</th>\n",
       "      <td>3007858</td>\n",
       "      <td>196724</td>\n",
       "      <td>2</td>\n",
       "      <td>4</td>\n",
       "      <td>12</td>\n",
       "      <td>17.0</td>\n",
       "      <td>thursday</td>\n",
       "    </tr>\n",
       "  </tbody>\n",
       "</table>\n",
       "</div>"
      ],
      "text/plain": [
       "   order_id  user_id  order_number  order_dow  order_hour_of_day  \\\n",
       "0   1515936   183418            11          6                 13   \n",
       "1   1690866   163593             5          5                 12   \n",
       "2   1454967    39980             4          5                 19   \n",
       "3   1768857    82516            56          0                 20   \n",
       "4   3007858   196724             2          4                 12   \n",
       "\n",
       "   days_since_prior_order day_of_week  \n",
       "0                    30.0    saturday  \n",
       "1                     9.0      friday  \n",
       "2                     2.0      friday  \n",
       "3                    10.0      sunday  \n",
       "4                    17.0    thursday  "
      ]
     },
     "execution_count": 83,
     "metadata": {},
     "output_type": "execute_result"
    }
   ],
   "source": [
    "df_instacart_orders.head()"
   ]
  },
  {
   "cell_type": "code",
   "execution_count": 84,
   "id": "bbcdd20b",
   "metadata": {},
   "outputs": [
    {
     "data": {
      "text/html": [
       "<div>\n",
       "<style scoped>\n",
       "    .dataframe tbody tr th:only-of-type {\n",
       "        vertical-align: middle;\n",
       "    }\n",
       "\n",
       "    .dataframe tbody tr th {\n",
       "        vertical-align: top;\n",
       "    }\n",
       "\n",
       "    .dataframe thead th {\n",
       "        text-align: right;\n",
       "    }\n",
       "</style>\n",
       "<table border=\"1\" class=\"dataframe\">\n",
       "  <thead>\n",
       "    <tr style=\"text-align: right;\">\n",
       "      <th></th>\n",
       "      <th>order_id</th>\n",
       "      <th>product_id</th>\n",
       "      <th>add_to_cart_order</th>\n",
       "      <th>reordered</th>\n",
       "    </tr>\n",
       "  </thead>\n",
       "  <tbody>\n",
       "    <tr>\n",
       "      <th>0</th>\n",
       "      <td>2141543</td>\n",
       "      <td>11440</td>\n",
       "      <td>17</td>\n",
       "      <td>0</td>\n",
       "    </tr>\n",
       "    <tr>\n",
       "      <th>1</th>\n",
       "      <td>567889</td>\n",
       "      <td>1560</td>\n",
       "      <td>1</td>\n",
       "      <td>1</td>\n",
       "    </tr>\n",
       "    <tr>\n",
       "      <th>2</th>\n",
       "      <td>2261212</td>\n",
       "      <td>26683</td>\n",
       "      <td>1</td>\n",
       "      <td>1</td>\n",
       "    </tr>\n",
       "    <tr>\n",
       "      <th>3</th>\n",
       "      <td>491251</td>\n",
       "      <td>8670</td>\n",
       "      <td>35</td>\n",
       "      <td>1</td>\n",
       "    </tr>\n",
       "    <tr>\n",
       "      <th>4</th>\n",
       "      <td>2571142</td>\n",
       "      <td>1940</td>\n",
       "      <td>5</td>\n",
       "      <td>1</td>\n",
       "    </tr>\n",
       "  </tbody>\n",
       "</table>\n",
       "</div>"
      ],
      "text/plain": [
       "   order_id  product_id  add_to_cart_order  reordered\n",
       "0   2141543       11440                 17          0\n",
       "1    567889        1560                  1          1\n",
       "2   2261212       26683                  1          1\n",
       "3    491251        8670                 35          1\n",
       "4   2571142        1940                  5          1"
      ]
     },
     "execution_count": 84,
     "metadata": {},
     "output_type": "execute_result"
    }
   ],
   "source": [
    "df_order_products.head()"
   ]
  },
  {
   "cell_type": "code",
   "execution_count": 85,
   "id": "62fecbd1",
   "metadata": {},
   "outputs": [
    {
     "data": {
      "text/html": [
       "<div>\n",
       "<style scoped>\n",
       "    .dataframe tbody tr th:only-of-type {\n",
       "        vertical-align: middle;\n",
       "    }\n",
       "\n",
       "    .dataframe tbody tr th {\n",
       "        vertical-align: top;\n",
       "    }\n",
       "\n",
       "    .dataframe thead th {\n",
       "        text-align: right;\n",
       "    }\n",
       "</style>\n",
       "<table border=\"1\" class=\"dataframe\">\n",
       "  <thead>\n",
       "    <tr style=\"text-align: right;\">\n",
       "      <th></th>\n",
       "      <th>order_id</th>\n",
       "      <th>user_id</th>\n",
       "      <th>order_number</th>\n",
       "      <th>order_dow</th>\n",
       "      <th>order_hour_of_day</th>\n",
       "      <th>days_since_prior_order</th>\n",
       "      <th>day_of_week</th>\n",
       "      <th>product_id</th>\n",
       "      <th>add_to_cart_order</th>\n",
       "      <th>reordered</th>\n",
       "    </tr>\n",
       "  </thead>\n",
       "  <tbody>\n",
       "    <tr>\n",
       "      <th>0</th>\n",
       "      <td>1515936</td>\n",
       "      <td>183418</td>\n",
       "      <td>11</td>\n",
       "      <td>6</td>\n",
       "      <td>13</td>\n",
       "      <td>30.0</td>\n",
       "      <td>saturday</td>\n",
       "      <td>19048</td>\n",
       "      <td>1</td>\n",
       "      <td>1</td>\n",
       "    </tr>\n",
       "    <tr>\n",
       "      <th>1</th>\n",
       "      <td>1515936</td>\n",
       "      <td>183418</td>\n",
       "      <td>11</td>\n",
       "      <td>6</td>\n",
       "      <td>13</td>\n",
       "      <td>30.0</td>\n",
       "      <td>saturday</td>\n",
       "      <td>47766</td>\n",
       "      <td>3</td>\n",
       "      <td>1</td>\n",
       "    </tr>\n",
       "    <tr>\n",
       "      <th>2</th>\n",
       "      <td>1515936</td>\n",
       "      <td>183418</td>\n",
       "      <td>11</td>\n",
       "      <td>6</td>\n",
       "      <td>13</td>\n",
       "      <td>30.0</td>\n",
       "      <td>saturday</td>\n",
       "      <td>45066</td>\n",
       "      <td>9</td>\n",
       "      <td>0</td>\n",
       "    </tr>\n",
       "    <tr>\n",
       "      <th>3</th>\n",
       "      <td>1515936</td>\n",
       "      <td>183418</td>\n",
       "      <td>11</td>\n",
       "      <td>6</td>\n",
       "      <td>13</td>\n",
       "      <td>30.0</td>\n",
       "      <td>saturday</td>\n",
       "      <td>24082</td>\n",
       "      <td>11</td>\n",
       "      <td>0</td>\n",
       "    </tr>\n",
       "    <tr>\n",
       "      <th>4</th>\n",
       "      <td>1515936</td>\n",
       "      <td>183418</td>\n",
       "      <td>11</td>\n",
       "      <td>6</td>\n",
       "      <td>13</td>\n",
       "      <td>30.0</td>\n",
       "      <td>saturday</td>\n",
       "      <td>24363</td>\n",
       "      <td>4</td>\n",
       "      <td>0</td>\n",
       "    </tr>\n",
       "  </tbody>\n",
       "</table>\n",
       "</div>"
      ],
      "text/plain": [
       "   order_id  user_id  order_number  order_dow  order_hour_of_day  \\\n",
       "0   1515936   183418            11          6                 13   \n",
       "1   1515936   183418            11          6                 13   \n",
       "2   1515936   183418            11          6                 13   \n",
       "3   1515936   183418            11          6                 13   \n",
       "4   1515936   183418            11          6                 13   \n",
       "\n",
       "   days_since_prior_order day_of_week  product_id  add_to_cart_order  \\\n",
       "0                    30.0    saturday       19048                  1   \n",
       "1                    30.0    saturday       47766                  3   \n",
       "2                    30.0    saturday       45066                  9   \n",
       "3                    30.0    saturday       24082                 11   \n",
       "4                    30.0    saturday       24363                  4   \n",
       "\n",
       "   reordered  \n",
       "0          1  \n",
       "1          1  \n",
       "2          0  \n",
       "3          0  \n",
       "4          0  "
      ]
     },
     "execution_count": 85,
     "metadata": {},
     "output_type": "execute_result"
    }
   ],
   "source": [
    "df_merge1 = df_instacart_orders.merge(df_order_products,on='order_id',how='inner')\n",
    "df_merge1.head()"
   ]
  },
  {
   "cell_type": "code",
   "execution_count": 86,
   "id": "8e533f32",
   "metadata": {},
   "outputs": [
    {
     "data": {
      "text/html": [
       "<div>\n",
       "<style scoped>\n",
       "    .dataframe tbody tr th:only-of-type {\n",
       "        vertical-align: middle;\n",
       "    }\n",
       "\n",
       "    .dataframe tbody tr th {\n",
       "        vertical-align: top;\n",
       "    }\n",
       "\n",
       "    .dataframe thead th {\n",
       "        text-align: right;\n",
       "    }\n",
       "</style>\n",
       "<table border=\"1\" class=\"dataframe\">\n",
       "  <thead>\n",
       "    <tr style=\"text-align: right;\">\n",
       "      <th></th>\n",
       "      <th>order_id</th>\n",
       "      <th>user_id</th>\n",
       "      <th>product_name</th>\n",
       "      <th>product_id</th>\n",
       "    </tr>\n",
       "  </thead>\n",
       "  <tbody>\n",
       "    <tr>\n",
       "      <th>0</th>\n",
       "      <td>1515936</td>\n",
       "      <td>183418</td>\n",
       "      <td>Organic Butternut Squash</td>\n",
       "      <td>19048</td>\n",
       "    </tr>\n",
       "    <tr>\n",
       "      <th>1</th>\n",
       "      <td>787445</td>\n",
       "      <td>25685</td>\n",
       "      <td>Organic Butternut Squash</td>\n",
       "      <td>19048</td>\n",
       "    </tr>\n",
       "    <tr>\n",
       "      <th>2</th>\n",
       "      <td>1646929</td>\n",
       "      <td>205815</td>\n",
       "      <td>Organic Butternut Squash</td>\n",
       "      <td>19048</td>\n",
       "    </tr>\n",
       "    <tr>\n",
       "      <th>3</th>\n",
       "      <td>276490</td>\n",
       "      <td>1004</td>\n",
       "      <td>Organic Butternut Squash</td>\n",
       "      <td>19048</td>\n",
       "    </tr>\n",
       "    <tr>\n",
       "      <th>4</th>\n",
       "      <td>1300214</td>\n",
       "      <td>33481</td>\n",
       "      <td>Organic Butternut Squash</td>\n",
       "      <td>19048</td>\n",
       "    </tr>\n",
       "  </tbody>\n",
       "</table>\n",
       "</div>"
      ],
      "text/plain": [
       "   order_id  user_id              product_name  product_id\n",
       "0   1515936   183418  Organic Butternut Squash       19048\n",
       "1    787445    25685  Organic Butternut Squash       19048\n",
       "2   1646929   205815  Organic Butternut Squash       19048\n",
       "3    276490     1004  Organic Butternut Squash       19048\n",
       "4   1300214    33481  Organic Butternut Squash       19048"
      ]
     },
     "execution_count": 86,
     "metadata": {},
     "output_type": "execute_result"
    }
   ],
   "source": [
    "df_merge2 = df_merge1.merge(df_products,on='product_id',how='inner')\n",
    "cols = ['order_id','user_id','product_name','product_id']\n",
    "df_clean = df_merge2[cols]\n",
    "df_clean.head()"
   ]
  },
  {
   "cell_type": "code",
   "execution_count": 87,
   "id": "243a0510",
   "metadata": {},
   "outputs": [
    {
     "data": {
      "image/png": "[encoded data removed]",
      "text/plain": [
       "<Figure size 800x1200 with 1 Axes>"
      ]
     },
     "metadata": {},
     "output_type": "display_data"
    }
   ],
   "source": [
    "df_clean_grouped = df_clean.groupby(['product_name','product_id']).agg(freq=('user_id','count')).sort_values(by='freq',ascending=False)\n",
    "df_clean_grouped.head(20).plot(kind='barh',\n",
    "                               figsize=[8,12],\n",
    "                               grid=True,\n",
    "                               ylabel ='Product Name & ID',\n",
    "                               title = 'Top 20 Popular Products',\n",
    "                               legend = False)\n",
    "\n",
    "plt.xlabel('Frequency')\n",
    "plt.show()"
   ]
  },
  {
   "cell_type": "markdown",
   "id": "7df00f47",
   "metadata": {},
   "source": []
  },
  {
   "cell_type": "markdown",
   "id": "gross-theme",
   "metadata": {},
   "source": [
    "# [C] Hard (must complete at least two to pass)"
   ]
  },
  {
   "cell_type": "markdown",
   "id": "romantic-deposit",
   "metadata": {},
   "source": [
    "### [C1] How many items do people typically buy in one order? What does the distribution look like?"
   ]
  },
  {
   "cell_type": "code",
   "execution_count": 88,
   "id": "virtual-punch",
   "metadata": {},
   "outputs": [
    {
     "data": {
      "text/html": [
       "<div>\n",
       "<style scoped>\n",
       "    .dataframe tbody tr th:only-of-type {\n",
       "        vertical-align: middle;\n",
       "    }\n",
       "\n",
       "    .dataframe tbody tr th {\n",
       "        vertical-align: top;\n",
       "    }\n",
       "\n",
       "    .dataframe thead th {\n",
       "        text-align: right;\n",
       "    }\n",
       "</style>\n",
       "<table border=\"1\" class=\"dataframe\">\n",
       "  <thead>\n",
       "    <tr style=\"text-align: right;\">\n",
       "      <th></th>\n",
       "      <th>freq</th>\n",
       "    </tr>\n",
       "    <tr>\n",
       "      <th>order_id</th>\n",
       "      <th></th>\n",
       "    </tr>\n",
       "  </thead>\n",
       "  <tbody>\n",
       "    <tr>\n",
       "      <th>4</th>\n",
       "      <td>13</td>\n",
       "    </tr>\n",
       "    <tr>\n",
       "      <th>9</th>\n",
       "      <td>15</td>\n",
       "    </tr>\n",
       "    <tr>\n",
       "      <th>11</th>\n",
       "      <td>5</td>\n",
       "    </tr>\n",
       "    <tr>\n",
       "      <th>19</th>\n",
       "      <td>3</td>\n",
       "    </tr>\n",
       "    <tr>\n",
       "      <th>20</th>\n",
       "      <td>8</td>\n",
       "    </tr>\n",
       "  </tbody>\n",
       "</table>\n",
       "</div>"
      ],
      "text/plain": [
       "          freq\n",
       "order_id      \n",
       "4           13\n",
       "9           15\n",
       "11           5\n",
       "19           3\n",
       "20           8"
      ]
     },
     "execution_count": 88,
     "metadata": {},
     "output_type": "execute_result"
    }
   ],
   "source": [
    "df_clean = df_order_products.groupby('order_id').agg(freq=('product_id','count'))\n",
    "df_clean.head()"
   ]
  },
  {
   "cell_type": "code",
   "execution_count": 89,
   "id": "6836d828",
   "metadata": {},
   "outputs": [
    {
     "name": "stdout",
     "output_type": "stream",
     "text": [
      "will return bins,midpoints, and labels for intervals\n",
      "size:450046\n",
      "min:1\n",
      "max:127\n",
      "bin size:10\n",
      "width:13.0\n"
     ]
    }
   ],
   "source": [
    "bins,midpoints,labels = histogram_info(df_clean['freq'],bin_size=10)\n",
    "labels = [i.replace('.0','') for i in labels] # remove decimals"
   ]
  },
  {
   "cell_type": "code",
   "execution_count": 90,
   "id": "42e00663",
   "metadata": {},
   "outputs": [
    {
     "data": {
      "image/png": "[encoded data removed]",
      "text/plain": [
       "<Figure size 1200x500 with 1 Axes>"
      ]
     },
     "metadata": {},
     "output_type": "display_data"
    }
   ],
   "source": [
    "df_clean['freq'].plot(kind='hist',\n",
    "                      edgecolor='black',\n",
    "                      figsize = [12,5],\n",
    "                      title='Distribution For Number Of Items Per Order',\n",
    "                      xlabel = 'Number Of Orders',\n",
    "                      grid = True,\n",
    "                      bins=bins,\n",
    "                      color='green')\n",
    "\n",
    "plt.xticks(midpoints,labels)\n",
    "plt.xlabel('Number Of Orders')\n",
    "plt.show()"
   ]
  },
  {
   "cell_type": "markdown",
   "id": "fb75ac73",
   "metadata": {},
   "source": [
    "The distribution for number of items per order is highly skewd to the left. The majority of customers make purchase between 1 to 13 items per order."
   ]
  },
  {
   "cell_type": "markdown",
   "id": "designed-mortality",
   "metadata": {},
   "source": []
  },
  {
   "cell_type": "markdown",
   "id": "5e6b5537",
   "metadata": {},
   "source": [
    "### [C2] What are the top 20 items that are reordered most frequently (display their names and product IDs)?"
   ]
  },
  {
   "cell_type": "code",
   "execution_count": 91,
   "id": "048534d1",
   "metadata": {},
   "outputs": [
    {
     "data": {
      "text/html": [
       "<div>\n",
       "<style scoped>\n",
       "    .dataframe tbody tr th:only-of-type {\n",
       "        vertical-align: middle;\n",
       "    }\n",
       "\n",
       "    .dataframe tbody tr th {\n",
       "        vertical-align: top;\n",
       "    }\n",
       "\n",
       "    .dataframe thead th {\n",
       "        text-align: right;\n",
       "    }\n",
       "</style>\n",
       "<table border=\"1\" class=\"dataframe\">\n",
       "  <thead>\n",
       "    <tr style=\"text-align: right;\">\n",
       "      <th></th>\n",
       "      <th>order_id</th>\n",
       "      <th>product_id</th>\n",
       "      <th>add_to_cart_order</th>\n",
       "      <th>reordered</th>\n",
       "    </tr>\n",
       "  </thead>\n",
       "  <tbody>\n",
       "    <tr>\n",
       "      <th>1</th>\n",
       "      <td>567889</td>\n",
       "      <td>1560</td>\n",
       "      <td>1</td>\n",
       "      <td>1</td>\n",
       "    </tr>\n",
       "    <tr>\n",
       "      <th>2</th>\n",
       "      <td>2261212</td>\n",
       "      <td>26683</td>\n",
       "      <td>1</td>\n",
       "      <td>1</td>\n",
       "    </tr>\n",
       "    <tr>\n",
       "      <th>3</th>\n",
       "      <td>491251</td>\n",
       "      <td>8670</td>\n",
       "      <td>35</td>\n",
       "      <td>1</td>\n",
       "    </tr>\n",
       "    <tr>\n",
       "      <th>4</th>\n",
       "      <td>2571142</td>\n",
       "      <td>1940</td>\n",
       "      <td>5</td>\n",
       "      <td>1</td>\n",
       "    </tr>\n",
       "    <tr>\n",
       "      <th>5</th>\n",
       "      <td>2456893</td>\n",
       "      <td>21616</td>\n",
       "      <td>4</td>\n",
       "      <td>1</td>\n",
       "    </tr>\n",
       "  </tbody>\n",
       "</table>\n",
       "</div>"
      ],
      "text/plain": [
       "   order_id  product_id  add_to_cart_order  reordered\n",
       "1    567889        1560                  1          1\n",
       "2   2261212       26683                  1          1\n",
       "3    491251        8670                 35          1\n",
       "4   2571142        1940                  5          1\n",
       "5   2456893       21616                  4          1"
      ]
     },
     "execution_count": 91,
     "metadata": {},
     "output_type": "execute_result"
    }
   ],
   "source": [
    "df_reordered = df_order_products.query(\"reordered ==1\")\n",
    "df_reordered.head()"
   ]
  },
  {
   "cell_type": "code",
   "execution_count": 92,
   "id": "9d3a36cc",
   "metadata": {},
   "outputs": [],
   "source": [
    "# Indices of the top 20  most reordered items in order\n",
    "index_top20 = list(df_reordered['product_id'].value_counts(ascending = False).head(20).index)"
   ]
  },
  {
   "cell_type": "code",
   "execution_count": 93,
   "id": "bda8c5e1",
   "metadata": {},
   "outputs": [
    {
     "name": "stdout",
     "output_type": "stream",
     "text": [
      "Top 20 items that are reordered most frequently \n"
     ]
    },
    {
     "data": {
      "text/html": [
       "<div>\n",
       "<style scoped>\n",
       "    .dataframe tbody tr th:only-of-type {\n",
       "        vertical-align: middle;\n",
       "    }\n",
       "\n",
       "    .dataframe tbody tr th {\n",
       "        vertical-align: top;\n",
       "    }\n",
       "\n",
       "    .dataframe thead th {\n",
       "        text-align: right;\n",
       "    }\n",
       "</style>\n",
       "<table border=\"1\" class=\"dataframe\">\n",
       "  <thead>\n",
       "    <tr style=\"text-align: right;\">\n",
       "      <th></th>\n",
       "      <th>product_id</th>\n",
       "      <th>product_name</th>\n",
       "    </tr>\n",
       "  </thead>\n",
       "  <tbody>\n",
       "    <tr>\n",
       "      <th>0</th>\n",
       "      <td>24852</td>\n",
       "      <td>Banana</td>\n",
       "    </tr>\n",
       "    <tr>\n",
       "      <th>1</th>\n",
       "      <td>13176</td>\n",
       "      <td>Bag of Organic Bananas</td>\n",
       "    </tr>\n",
       "    <tr>\n",
       "      <th>2</th>\n",
       "      <td>21137</td>\n",
       "      <td>Organic Strawberries</td>\n",
       "    </tr>\n",
       "    <tr>\n",
       "      <th>3</th>\n",
       "      <td>21903</td>\n",
       "      <td>Organic Baby Spinach</td>\n",
       "    </tr>\n",
       "    <tr>\n",
       "      <th>4</th>\n",
       "      <td>47209</td>\n",
       "      <td>Organic Hass Avocado</td>\n",
       "    </tr>\n",
       "    <tr>\n",
       "      <th>5</th>\n",
       "      <td>47766</td>\n",
       "      <td>Organic Avocado</td>\n",
       "    </tr>\n",
       "    <tr>\n",
       "      <th>6</th>\n",
       "      <td>27845</td>\n",
       "      <td>Organic Whole Milk</td>\n",
       "    </tr>\n",
       "    <tr>\n",
       "      <th>7</th>\n",
       "      <td>47626</td>\n",
       "      <td>Large Lemon</td>\n",
       "    </tr>\n",
       "    <tr>\n",
       "      <th>8</th>\n",
       "      <td>27966</td>\n",
       "      <td>Organic Raspberries</td>\n",
       "    </tr>\n",
       "    <tr>\n",
       "      <th>9</th>\n",
       "      <td>16797</td>\n",
       "      <td>Strawberries</td>\n",
       "    </tr>\n",
       "    <tr>\n",
       "      <th>10</th>\n",
       "      <td>26209</td>\n",
       "      <td>Limes</td>\n",
       "    </tr>\n",
       "    <tr>\n",
       "      <th>11</th>\n",
       "      <td>22935</td>\n",
       "      <td>Organic Yellow Onion</td>\n",
       "    </tr>\n",
       "    <tr>\n",
       "      <th>12</th>\n",
       "      <td>24964</td>\n",
       "      <td>Organic Garlic</td>\n",
       "    </tr>\n",
       "    <tr>\n",
       "      <th>13</th>\n",
       "      <td>45007</td>\n",
       "      <td>Organic Zucchini</td>\n",
       "    </tr>\n",
       "    <tr>\n",
       "      <th>14</th>\n",
       "      <td>49683</td>\n",
       "      <td>Cucumber Kirby</td>\n",
       "    </tr>\n",
       "    <tr>\n",
       "      <th>15</th>\n",
       "      <td>28204</td>\n",
       "      <td>Organic Fuji Apple</td>\n",
       "    </tr>\n",
       "    <tr>\n",
       "      <th>16</th>\n",
       "      <td>8277</td>\n",
       "      <td>Apple Honeycrisp Organic</td>\n",
       "    </tr>\n",
       "    <tr>\n",
       "      <th>17</th>\n",
       "      <td>39275</td>\n",
       "      <td>Organic Blueberries</td>\n",
       "    </tr>\n",
       "    <tr>\n",
       "      <th>18</th>\n",
       "      <td>5876</td>\n",
       "      <td>Organic Lemon</td>\n",
       "    </tr>\n",
       "    <tr>\n",
       "      <th>19</th>\n",
       "      <td>49235</td>\n",
       "      <td>Organic Half &amp; Half</td>\n",
       "    </tr>\n",
       "  </tbody>\n",
       "</table>\n",
       "</div>"
      ],
      "text/plain": [
       "    product_id              product_name\n",
       "0        24852                    Banana\n",
       "1        13176    Bag of Organic Bananas\n",
       "2        21137      Organic Strawberries\n",
       "3        21903      Organic Baby Spinach\n",
       "4        47209      Organic Hass Avocado\n",
       "5        47766           Organic Avocado\n",
       "6        27845        Organic Whole Milk\n",
       "7        47626               Large Lemon\n",
       "8        27966       Organic Raspberries\n",
       "9        16797              Strawberries\n",
       "10       26209                     Limes\n",
       "11       22935      Organic Yellow Onion\n",
       "12       24964            Organic Garlic\n",
       "13       45007          Organic Zucchini\n",
       "14       49683            Cucumber Kirby\n",
       "15       28204        Organic Fuji Apple\n",
       "16        8277  Apple Honeycrisp Organic\n",
       "17       39275       Organic Blueberries\n",
       "18        5876             Organic Lemon\n",
       "19       49235       Organic Half & Half"
      ]
     },
     "execution_count": 93,
     "metadata": {},
     "output_type": "execute_result"
    }
   ],
   "source": [
    "cols = ['product_name','product_id']\n",
    "# make sure its in order\n",
    "top20 = df_products.query(\"product_id in @index_top20\")[cols].set_index(\"product_id\").loc[index_top20].reset_index()\n",
    "print('Top 20 items that are reordered most frequently ')\n",
    "top20"
   ]
  },
  {
   "cell_type": "markdown",
   "id": "80e70c74",
   "metadata": {},
   "source": []
  },
  {
   "cell_type": "markdown",
   "id": "9d312b14",
   "metadata": {},
   "source": [
    "### [C3] For each product, what proportion of its orders are reorders?"
   ]
  },
  {
   "cell_type": "code",
   "execution_count": 94,
   "id": "bcb9b401",
   "metadata": {},
   "outputs": [
    {
     "data": {
      "text/html": [
       "<div>\n",
       "<style scoped>\n",
       "    .dataframe tbody tr th:only-of-type {\n",
       "        vertical-align: middle;\n",
       "    }\n",
       "\n",
       "    .dataframe tbody tr th {\n",
       "        vertical-align: top;\n",
       "    }\n",
       "\n",
       "    .dataframe thead th {\n",
       "        text-align: right;\n",
       "    }\n",
       "</style>\n",
       "<table border=\"1\" class=\"dataframe\">\n",
       "  <thead>\n",
       "    <tr style=\"text-align: right;\">\n",
       "      <th></th>\n",
       "      <th>proportion_product_reorders</th>\n",
       "    </tr>\n",
       "    <tr>\n",
       "      <th>product_id</th>\n",
       "      <th></th>\n",
       "    </tr>\n",
       "  </thead>\n",
       "  <tbody>\n",
       "    <tr>\n",
       "      <th>1</th>\n",
       "      <td>56.428571</td>\n",
       "    </tr>\n",
       "    <tr>\n",
       "      <th>2</th>\n",
       "      <td>0.000000</td>\n",
       "    </tr>\n",
       "    <tr>\n",
       "      <th>3</th>\n",
       "      <td>73.809524</td>\n",
       "    </tr>\n",
       "    <tr>\n",
       "      <th>4</th>\n",
       "      <td>51.020408</td>\n",
       "    </tr>\n",
       "    <tr>\n",
       "      <th>7</th>\n",
       "      <td>50.000000</td>\n",
       "    </tr>\n",
       "  </tbody>\n",
       "</table>\n",
       "</div>"
      ],
      "text/plain": [
       "            proportion_product_reorders\n",
       "product_id                             \n",
       "1                             56.428571\n",
       "2                              0.000000\n",
       "3                             73.809524\n",
       "4                             51.020408\n",
       "7                             50.000000"
      ]
     },
     "execution_count": 94,
     "metadata": {},
     "output_type": "execute_result"
    }
   ],
   "source": [
    "proportion_product_reorder = df_order_products.groupby('product_id').agg(proportion_product_reorders = ('reordered','mean'))*100\n",
    "proportion_product_reorder.head()"
   ]
  },
  {
   "cell_type": "code",
   "execution_count": 95,
   "id": "9b8d9b4f",
   "metadata": {},
   "outputs": [
    {
     "data": {
      "text/html": [
       "<div>\n",
       "<style scoped>\n",
       "    .dataframe tbody tr th:only-of-type {\n",
       "        vertical-align: middle;\n",
       "    }\n",
       "\n",
       "    .dataframe tbody tr th {\n",
       "        vertical-align: top;\n",
       "    }\n",
       "\n",
       "    .dataframe thead th {\n",
       "        text-align: right;\n",
       "    }\n",
       "</style>\n",
       "<table border=\"1\" class=\"dataframe\">\n",
       "  <thead>\n",
       "    <tr style=\"text-align: right;\">\n",
       "      <th></th>\n",
       "      <th>product_id</th>\n",
       "      <th>product_name</th>\n",
       "      <th>proportion_product_reorders</th>\n",
       "    </tr>\n",
       "  </thead>\n",
       "  <tbody>\n",
       "    <tr>\n",
       "      <th>0</th>\n",
       "      <td>1</td>\n",
       "      <td>Chocolate Sandwich Cookies</td>\n",
       "      <td>56.428571</td>\n",
       "    </tr>\n",
       "    <tr>\n",
       "      <th>1</th>\n",
       "      <td>2</td>\n",
       "      <td>All-Seasons Salt</td>\n",
       "      <td>0.000000</td>\n",
       "    </tr>\n",
       "    <tr>\n",
       "      <th>2</th>\n",
       "      <td>3</td>\n",
       "      <td>Robust Golden Unsweetened Oolong Tea</td>\n",
       "      <td>73.809524</td>\n",
       "    </tr>\n",
       "    <tr>\n",
       "      <th>3</th>\n",
       "      <td>4</td>\n",
       "      <td>Smart Ones Classic Favorites Mini Rigatoni Wit...</td>\n",
       "      <td>51.020408</td>\n",
       "    </tr>\n",
       "    <tr>\n",
       "      <th>4</th>\n",
       "      <td>7</td>\n",
       "      <td>Pure Coconut Water With Orange</td>\n",
       "      <td>50.000000</td>\n",
       "    </tr>\n",
       "  </tbody>\n",
       "</table>\n",
       "</div>"
      ],
      "text/plain": [
       "   product_id                                       product_name  \\\n",
       "0           1                         Chocolate Sandwich Cookies   \n",
       "1           2                                   All-Seasons Salt   \n",
       "2           3               Robust Golden Unsweetened Oolong Tea   \n",
       "3           4  Smart Ones Classic Favorites Mini Rigatoni Wit...   \n",
       "4           7                     Pure Coconut Water With Orange   \n",
       "\n",
       "   proportion_product_reorders  \n",
       "0                    56.428571  \n",
       "1                     0.000000  \n",
       "2                    73.809524  \n",
       "3                    51.020408  \n",
       "4                    50.000000  "
      ]
     },
     "execution_count": 95,
     "metadata": {},
     "output_type": "execute_result"
    }
   ],
   "source": [
    "# Merge the products df with the new proportion df to get the names and \n",
    "proportion_product_reorder = proportion_product_reorder.merge(df_products,how=\"inner\",on=\"product_id\")\n",
    "\n",
    "# Get the most important columns \n",
    "cols = ['product_id','product_name','proportion_product_reorders']\n",
    "proportion_product_reorder = proportion_product_reorder[cols]\n",
    "proportion_product_reorder.head()"
   ]
  },
  {
   "cell_type": "code",
   "execution_count": 96,
   "id": "88a80e68",
   "metadata": {},
   "outputs": [
    {
     "data": {
      "text/html": [
       "<div>\n",
       "<style scoped>\n",
       "    .dataframe tbody tr th:only-of-type {\n",
       "        vertical-align: middle;\n",
       "    }\n",
       "\n",
       "    .dataframe tbody tr th {\n",
       "        vertical-align: top;\n",
       "    }\n",
       "\n",
       "    .dataframe thead th {\n",
       "        text-align: right;\n",
       "    }\n",
       "</style>\n",
       "<table border=\"1\" class=\"dataframe\">\n",
       "  <thead>\n",
       "    <tr style=\"text-align: right;\">\n",
       "      <th></th>\n",
       "      <th>product_id</th>\n",
       "      <th>product_name</th>\n",
       "      <th>proportion_product_reorders</th>\n",
       "    </tr>\n",
       "  </thead>\n",
       "  <tbody>\n",
       "    <tr>\n",
       "      <th>0</th>\n",
       "      <td>1</td>\n",
       "      <td>Chocolate Sandwich Cookies</td>\n",
       "      <td>56.43%</td>\n",
       "    </tr>\n",
       "    <tr>\n",
       "      <th>1</th>\n",
       "      <td>2</td>\n",
       "      <td>All-Seasons Salt</td>\n",
       "      <td>0.0%</td>\n",
       "    </tr>\n",
       "    <tr>\n",
       "      <th>2</th>\n",
       "      <td>3</td>\n",
       "      <td>Robust Golden Unsweetened Oolong Tea</td>\n",
       "      <td>73.81%</td>\n",
       "    </tr>\n",
       "    <tr>\n",
       "      <th>3</th>\n",
       "      <td>4</td>\n",
       "      <td>Smart Ones Classic Favorites Mini Rigatoni Wit...</td>\n",
       "      <td>51.02%</td>\n",
       "    </tr>\n",
       "    <tr>\n",
       "      <th>4</th>\n",
       "      <td>7</td>\n",
       "      <td>Pure Coconut Water With Orange</td>\n",
       "      <td>50.0%</td>\n",
       "    </tr>\n",
       "  </tbody>\n",
       "</table>\n",
       "</div>"
      ],
      "text/plain": [
       "   product_id                                       product_name  \\\n",
       "0           1                         Chocolate Sandwich Cookies   \n",
       "1           2                                   All-Seasons Salt   \n",
       "2           3               Robust Golden Unsweetened Oolong Tea   \n",
       "3           4  Smart Ones Classic Favorites Mini Rigatoni Wit...   \n",
       "4           7                     Pure Coconut Water With Orange   \n",
       "\n",
       "  proportion_product_reorders  \n",
       "0                      56.43%  \n",
       "1                        0.0%  \n",
       "2                      73.81%  \n",
       "3                      51.02%  \n",
       "4                       50.0%  "
      ]
     },
     "execution_count": 96,
     "metadata": {},
     "output_type": "execute_result"
    }
   ],
   "source": [
    "# clean the proportion_product_reorders column\n",
    "proportion_product_reorder['proportion_product_reorders'] = proportion_product_reorder['proportion_product_reorders'].apply(lambda x: str(round(x,2))+\"%\" )\n",
    "proportion_product_reorder.head()"
   ]
  },
  {
   "cell_type": "markdown",
   "id": "subject-boxing",
   "metadata": {},
   "source": [
    "### [C4] For each customer, what proportion of their products ordered are reorders?"
   ]
  },
  {
   "cell_type": "code",
   "execution_count": 97,
   "id": "8892e4b4",
   "metadata": {},
   "outputs": [
    {
     "data": {
      "text/html": [
       "<div>\n",
       "<style scoped>\n",
       "    .dataframe tbody tr th:only-of-type {\n",
       "        vertical-align: middle;\n",
       "    }\n",
       "\n",
       "    .dataframe tbody tr th {\n",
       "        vertical-align: top;\n",
       "    }\n",
       "\n",
       "    .dataframe thead th {\n",
       "        text-align: right;\n",
       "    }\n",
       "</style>\n",
       "<table border=\"1\" class=\"dataframe\">\n",
       "  <thead>\n",
       "    <tr style=\"text-align: right;\">\n",
       "      <th></th>\n",
       "      <th>order_id</th>\n",
       "      <th>product_id</th>\n",
       "      <th>add_to_cart_order</th>\n",
       "      <th>reordered</th>\n",
       "    </tr>\n",
       "  </thead>\n",
       "  <tbody>\n",
       "    <tr>\n",
       "      <th>0</th>\n",
       "      <td>2141543</td>\n",
       "      <td>11440</td>\n",
       "      <td>17</td>\n",
       "      <td>0</td>\n",
       "    </tr>\n",
       "    <tr>\n",
       "      <th>1</th>\n",
       "      <td>567889</td>\n",
       "      <td>1560</td>\n",
       "      <td>1</td>\n",
       "      <td>1</td>\n",
       "    </tr>\n",
       "    <tr>\n",
       "      <th>2</th>\n",
       "      <td>2261212</td>\n",
       "      <td>26683</td>\n",
       "      <td>1</td>\n",
       "      <td>1</td>\n",
       "    </tr>\n",
       "    <tr>\n",
       "      <th>3</th>\n",
       "      <td>491251</td>\n",
       "      <td>8670</td>\n",
       "      <td>35</td>\n",
       "      <td>1</td>\n",
       "    </tr>\n",
       "    <tr>\n",
       "      <th>4</th>\n",
       "      <td>2571142</td>\n",
       "      <td>1940</td>\n",
       "      <td>5</td>\n",
       "      <td>1</td>\n",
       "    </tr>\n",
       "  </tbody>\n",
       "</table>\n",
       "</div>"
      ],
      "text/plain": [
       "   order_id  product_id  add_to_cart_order  reordered\n",
       "0   2141543       11440                 17          0\n",
       "1    567889        1560                  1          1\n",
       "2   2261212       26683                  1          1\n",
       "3    491251        8670                 35          1\n",
       "4   2571142        1940                  5          1"
      ]
     },
     "execution_count": 97,
     "metadata": {},
     "output_type": "execute_result"
    }
   ],
   "source": [
    "df_order_products.head()"
   ]
  },
  {
   "cell_type": "code",
   "execution_count": 98,
   "id": "86b10fa6",
   "metadata": {},
   "outputs": [
    {
     "data": {
      "text/html": [
       "<div>\n",
       "<style scoped>\n",
       "    .dataframe tbody tr th:only-of-type {\n",
       "        vertical-align: middle;\n",
       "    }\n",
       "\n",
       "    .dataframe tbody tr th {\n",
       "        vertical-align: top;\n",
       "    }\n",
       "\n",
       "    .dataframe thead th {\n",
       "        text-align: right;\n",
       "    }\n",
       "</style>\n",
       "<table border=\"1\" class=\"dataframe\">\n",
       "  <thead>\n",
       "    <tr style=\"text-align: right;\">\n",
       "      <th></th>\n",
       "      <th>order_id</th>\n",
       "      <th>user_id</th>\n",
       "      <th>order_number</th>\n",
       "      <th>order_dow</th>\n",
       "      <th>order_hour_of_day</th>\n",
       "      <th>days_since_prior_order</th>\n",
       "      <th>day_of_week</th>\n",
       "    </tr>\n",
       "  </thead>\n",
       "  <tbody>\n",
       "    <tr>\n",
       "      <th>0</th>\n",
       "      <td>1515936</td>\n",
       "      <td>183418</td>\n",
       "      <td>11</td>\n",
       "      <td>6</td>\n",
       "      <td>13</td>\n",
       "      <td>30.0</td>\n",
       "      <td>saturday</td>\n",
       "    </tr>\n",
       "    <tr>\n",
       "      <th>1</th>\n",
       "      <td>1690866</td>\n",
       "      <td>163593</td>\n",
       "      <td>5</td>\n",
       "      <td>5</td>\n",
       "      <td>12</td>\n",
       "      <td>9.0</td>\n",
       "      <td>friday</td>\n",
       "    </tr>\n",
       "    <tr>\n",
       "      <th>2</th>\n",
       "      <td>1454967</td>\n",
       "      <td>39980</td>\n",
       "      <td>4</td>\n",
       "      <td>5</td>\n",
       "      <td>19</td>\n",
       "      <td>2.0</td>\n",
       "      <td>friday</td>\n",
       "    </tr>\n",
       "    <tr>\n",
       "      <th>3</th>\n",
       "      <td>1768857</td>\n",
       "      <td>82516</td>\n",
       "      <td>56</td>\n",
       "      <td>0</td>\n",
       "      <td>20</td>\n",
       "      <td>10.0</td>\n",
       "      <td>sunday</td>\n",
       "    </tr>\n",
       "    <tr>\n",
       "      <th>4</th>\n",
       "      <td>3007858</td>\n",
       "      <td>196724</td>\n",
       "      <td>2</td>\n",
       "      <td>4</td>\n",
       "      <td>12</td>\n",
       "      <td>17.0</td>\n",
       "      <td>thursday</td>\n",
       "    </tr>\n",
       "  </tbody>\n",
       "</table>\n",
       "</div>"
      ],
      "text/plain": [
       "   order_id  user_id  order_number  order_dow  order_hour_of_day  \\\n",
       "0   1515936   183418            11          6                 13   \n",
       "1   1690866   163593             5          5                 12   \n",
       "2   1454967    39980             4          5                 19   \n",
       "3   1768857    82516            56          0                 20   \n",
       "4   3007858   196724             2          4                 12   \n",
       "\n",
       "   days_since_prior_order day_of_week  \n",
       "0                    30.0    saturday  \n",
       "1                     9.0      friday  \n",
       "2                     2.0      friday  \n",
       "3                    10.0      sunday  \n",
       "4                    17.0    thursday  "
      ]
     },
     "execution_count": 98,
     "metadata": {},
     "output_type": "execute_result"
    }
   ],
   "source": [
    "df_instacart_orders.head()"
   ]
  },
  {
   "cell_type": "code",
   "execution_count": 99,
   "id": "be3b61ed",
   "metadata": {},
   "outputs": [
    {
     "data": {
      "text/html": [
       "<div>\n",
       "<style scoped>\n",
       "    .dataframe tbody tr th:only-of-type {\n",
       "        vertical-align: middle;\n",
       "    }\n",
       "\n",
       "    .dataframe tbody tr th {\n",
       "        vertical-align: top;\n",
       "    }\n",
       "\n",
       "    .dataframe thead th {\n",
       "        text-align: right;\n",
       "    }\n",
       "</style>\n",
       "<table border=\"1\" class=\"dataframe\">\n",
       "  <thead>\n",
       "    <tr style=\"text-align: right;\">\n",
       "      <th></th>\n",
       "      <th>order_id</th>\n",
       "      <th>product_id</th>\n",
       "      <th>add_to_cart_order</th>\n",
       "      <th>reordered</th>\n",
       "      <th>user_id</th>\n",
       "      <th>order_number</th>\n",
       "      <th>order_dow</th>\n",
       "      <th>order_hour_of_day</th>\n",
       "      <th>days_since_prior_order</th>\n",
       "      <th>day_of_week</th>\n",
       "    </tr>\n",
       "  </thead>\n",
       "  <tbody>\n",
       "    <tr>\n",
       "      <th>0</th>\n",
       "      <td>2141543</td>\n",
       "      <td>11440</td>\n",
       "      <td>17</td>\n",
       "      <td>0</td>\n",
       "      <td>58454</td>\n",
       "      <td>25</td>\n",
       "      <td>0</td>\n",
       "      <td>15</td>\n",
       "      <td>8.0</td>\n",
       "      <td>sunday</td>\n",
       "    </tr>\n",
       "    <tr>\n",
       "      <th>1</th>\n",
       "      <td>2141543</td>\n",
       "      <td>31869</td>\n",
       "      <td>15</td>\n",
       "      <td>1</td>\n",
       "      <td>58454</td>\n",
       "      <td>25</td>\n",
       "      <td>0</td>\n",
       "      <td>15</td>\n",
       "      <td>8.0</td>\n",
       "      <td>sunday</td>\n",
       "    </tr>\n",
       "    <tr>\n",
       "      <th>2</th>\n",
       "      <td>2141543</td>\n",
       "      <td>30233</td>\n",
       "      <td>9</td>\n",
       "      <td>1</td>\n",
       "      <td>58454</td>\n",
       "      <td>25</td>\n",
       "      <td>0</td>\n",
       "      <td>15</td>\n",
       "      <td>8.0</td>\n",
       "      <td>sunday</td>\n",
       "    </tr>\n",
       "    <tr>\n",
       "      <th>3</th>\n",
       "      <td>2141543</td>\n",
       "      <td>27966</td>\n",
       "      <td>20</td>\n",
       "      <td>1</td>\n",
       "      <td>58454</td>\n",
       "      <td>25</td>\n",
       "      <td>0</td>\n",
       "      <td>15</td>\n",
       "      <td>8.0</td>\n",
       "      <td>sunday</td>\n",
       "    </tr>\n",
       "    <tr>\n",
       "      <th>4</th>\n",
       "      <td>2141543</td>\n",
       "      <td>13176</td>\n",
       "      <td>2</td>\n",
       "      <td>1</td>\n",
       "      <td>58454</td>\n",
       "      <td>25</td>\n",
       "      <td>0</td>\n",
       "      <td>15</td>\n",
       "      <td>8.0</td>\n",
       "      <td>sunday</td>\n",
       "    </tr>\n",
       "  </tbody>\n",
       "</table>\n",
       "</div>"
      ],
      "text/plain": [
       "   order_id  product_id  add_to_cart_order  reordered  user_id  order_number  \\\n",
       "0   2141543       11440                 17          0    58454            25   \n",
       "1   2141543       31869                 15          1    58454            25   \n",
       "2   2141543       30233                  9          1    58454            25   \n",
       "3   2141543       27966                 20          1    58454            25   \n",
       "4   2141543       13176                  2          1    58454            25   \n",
       "\n",
       "   order_dow  order_hour_of_day  days_since_prior_order day_of_week  \n",
       "0          0                 15                     8.0      sunday  \n",
       "1          0                 15                     8.0      sunday  \n",
       "2          0                 15                     8.0      sunday  \n",
       "3          0                 15                     8.0      sunday  \n",
       "4          0                 15                     8.0      sunday  "
      ]
     },
     "execution_count": 99,
     "metadata": {},
     "output_type": "execute_result"
    }
   ],
   "source": [
    "df_merge = df_order_products.merge(df_instacart_orders,on=\"order_id\",how=\"inner\")\n",
    "df_merge.head()"
   ]
  },
  {
   "cell_type": "code",
   "execution_count": 100,
   "id": "332b17a1",
   "metadata": {},
   "outputs": [
    {
     "data": {
      "text/html": [
       "<div>\n",
       "<style scoped>\n",
       "    .dataframe tbody tr th:only-of-type {\n",
       "        vertical-align: middle;\n",
       "    }\n",
       "\n",
       "    .dataframe tbody tr th {\n",
       "        vertical-align: top;\n",
       "    }\n",
       "\n",
       "    .dataframe thead th {\n",
       "        text-align: right;\n",
       "    }\n",
       "</style>\n",
       "<table border=\"1\" class=\"dataframe\">\n",
       "  <thead>\n",
       "    <tr style=\"text-align: right;\">\n",
       "      <th></th>\n",
       "      <th>proportion_user_reorders</th>\n",
       "    </tr>\n",
       "    <tr>\n",
       "      <th>user_id</th>\n",
       "      <th></th>\n",
       "    </tr>\n",
       "  </thead>\n",
       "  <tbody>\n",
       "    <tr>\n",
       "      <th>2</th>\n",
       "      <td>3.846154</td>\n",
       "    </tr>\n",
       "    <tr>\n",
       "      <th>4</th>\n",
       "      <td>0.000000</td>\n",
       "    </tr>\n",
       "    <tr>\n",
       "      <th>5</th>\n",
       "      <td>66.666667</td>\n",
       "    </tr>\n",
       "    <tr>\n",
       "      <th>6</th>\n",
       "      <td>0.000000</td>\n",
       "    </tr>\n",
       "    <tr>\n",
       "      <th>7</th>\n",
       "      <td>92.857143</td>\n",
       "    </tr>\n",
       "  </tbody>\n",
       "</table>\n",
       "</div>"
      ],
      "text/plain": [
       "         proportion_user_reorders\n",
       "user_id                          \n",
       "2                        3.846154\n",
       "4                        0.000000\n",
       "5                       66.666667\n",
       "6                        0.000000\n",
       "7                       92.857143"
      ]
     },
     "execution_count": 100,
     "metadata": {},
     "output_type": "execute_result"
    }
   ],
   "source": [
    "proportion_users_reorder = df_merge.groupby('user_id').agg(proportion_user_reorders = ('reordered','mean'))*100\n",
    "proportion_users_reorder.head()"
   ]
  },
  {
   "cell_type": "code",
   "execution_count": 101,
   "id": "08b9b81e",
   "metadata": {},
   "outputs": [
    {
     "data": {
      "text/html": [
       "<div>\n",
       "<style scoped>\n",
       "    .dataframe tbody tr th:only-of-type {\n",
       "        vertical-align: middle;\n",
       "    }\n",
       "\n",
       "    .dataframe tbody tr th {\n",
       "        vertical-align: top;\n",
       "    }\n",
       "\n",
       "    .dataframe thead th {\n",
       "        text-align: right;\n",
       "    }\n",
       "</style>\n",
       "<table border=\"1\" class=\"dataframe\">\n",
       "  <thead>\n",
       "    <tr style=\"text-align: right;\">\n",
       "      <th></th>\n",
       "      <th>proportion_user_reorders</th>\n",
       "    </tr>\n",
       "    <tr>\n",
       "      <th>user_id</th>\n",
       "      <th></th>\n",
       "    </tr>\n",
       "  </thead>\n",
       "  <tbody>\n",
       "    <tr>\n",
       "      <th>2</th>\n",
       "      <td>3.85%</td>\n",
       "    </tr>\n",
       "    <tr>\n",
       "      <th>4</th>\n",
       "      <td>0.0%</td>\n",
       "    </tr>\n",
       "    <tr>\n",
       "      <th>5</th>\n",
       "      <td>66.67%</td>\n",
       "    </tr>\n",
       "    <tr>\n",
       "      <th>6</th>\n",
       "      <td>0.0%</td>\n",
       "    </tr>\n",
       "    <tr>\n",
       "      <th>7</th>\n",
       "      <td>92.86%</td>\n",
       "    </tr>\n",
       "  </tbody>\n",
       "</table>\n",
       "</div>"
      ],
      "text/plain": [
       "        proportion_user_reorders\n",
       "user_id                         \n",
       "2                          3.85%\n",
       "4                           0.0%\n",
       "5                         66.67%\n",
       "6                           0.0%\n",
       "7                         92.86%"
      ]
     },
     "execution_count": 101,
     "metadata": {},
     "output_type": "execute_result"
    }
   ],
   "source": [
    "# clean the proportion user reorders col\n",
    "proportion_users_reorder['proportion_user_reorders'] = proportion_users_reorder['proportion_user_reorders'].apply(lambda x: str(round(x,2))+\"%\")\n",
    "proportion_users_reorder.head()"
   ]
  },
  {
   "cell_type": "markdown",
   "id": "92d35137",
   "metadata": {},
   "source": [
    "### [C5] What are the top 20 items that people put in their carts first? "
   ]
  },
  {
   "cell_type": "code",
   "execution_count": 102,
   "id": "0ae57274",
   "metadata": {
    "scrolled": true
   },
   "outputs": [
    {
     "data": {
      "text/html": [
       "<div>\n",
       "<style scoped>\n",
       "    .dataframe tbody tr th:only-of-type {\n",
       "        vertical-align: middle;\n",
       "    }\n",
       "\n",
       "    .dataframe tbody tr th {\n",
       "        vertical-align: top;\n",
       "    }\n",
       "\n",
       "    .dataframe thead th {\n",
       "        text-align: right;\n",
       "    }\n",
       "</style>\n",
       "<table border=\"1\" class=\"dataframe\">\n",
       "  <thead>\n",
       "    <tr style=\"text-align: right;\">\n",
       "      <th></th>\n",
       "      <th>order_id</th>\n",
       "      <th>product_id</th>\n",
       "      <th>add_to_cart_order</th>\n",
       "      <th>reordered</th>\n",
       "    </tr>\n",
       "  </thead>\n",
       "  <tbody>\n",
       "    <tr>\n",
       "      <th>0</th>\n",
       "      <td>2141543</td>\n",
       "      <td>11440</td>\n",
       "      <td>17</td>\n",
       "      <td>0</td>\n",
       "    </tr>\n",
       "    <tr>\n",
       "      <th>1</th>\n",
       "      <td>567889</td>\n",
       "      <td>1560</td>\n",
       "      <td>1</td>\n",
       "      <td>1</td>\n",
       "    </tr>\n",
       "    <tr>\n",
       "      <th>2</th>\n",
       "      <td>2261212</td>\n",
       "      <td>26683</td>\n",
       "      <td>1</td>\n",
       "      <td>1</td>\n",
       "    </tr>\n",
       "    <tr>\n",
       "      <th>3</th>\n",
       "      <td>491251</td>\n",
       "      <td>8670</td>\n",
       "      <td>35</td>\n",
       "      <td>1</td>\n",
       "    </tr>\n",
       "    <tr>\n",
       "      <th>4</th>\n",
       "      <td>2571142</td>\n",
       "      <td>1940</td>\n",
       "      <td>5</td>\n",
       "      <td>1</td>\n",
       "    </tr>\n",
       "  </tbody>\n",
       "</table>\n",
       "</div>"
      ],
      "text/plain": [
       "   order_id  product_id  add_to_cart_order  reordered\n",
       "0   2141543       11440                 17          0\n",
       "1    567889        1560                  1          1\n",
       "2   2261212       26683                  1          1\n",
       "3    491251        8670                 35          1\n",
       "4   2571142        1940                  5          1"
      ]
     },
     "execution_count": 102,
     "metadata": {},
     "output_type": "execute_result"
    }
   ],
   "source": [
    "df_order_products.head()"
   ]
  },
  {
   "cell_type": "code",
   "execution_count": 103,
   "id": "forty-netherlands",
   "metadata": {
    "scrolled": true
   },
   "outputs": [
    {
     "data": {
      "text/html": [
       "<div>\n",
       "<style scoped>\n",
       "    .dataframe tbody tr th:only-of-type {\n",
       "        vertical-align: middle;\n",
       "    }\n",
       "\n",
       "    .dataframe tbody tr th {\n",
       "        vertical-align: top;\n",
       "    }\n",
       "\n",
       "    .dataframe thead th {\n",
       "        text-align: right;\n",
       "    }\n",
       "</style>\n",
       "<table border=\"1\" class=\"dataframe\">\n",
       "  <thead>\n",
       "    <tr style=\"text-align: right;\">\n",
       "      <th></th>\n",
       "      <th>product_id</th>\n",
       "      <th>product_name</th>\n",
       "      <th>aisle_id</th>\n",
       "    </tr>\n",
       "  </thead>\n",
       "  <tbody>\n",
       "    <tr>\n",
       "      <th>0</th>\n",
       "      <td>1</td>\n",
       "      <td>Chocolate Sandwich Cookies</td>\n",
       "      <td>61</td>\n",
       "    </tr>\n",
       "    <tr>\n",
       "      <th>1</th>\n",
       "      <td>2</td>\n",
       "      <td>All-Seasons Salt</td>\n",
       "      <td>104</td>\n",
       "    </tr>\n",
       "    <tr>\n",
       "      <th>2</th>\n",
       "      <td>3</td>\n",
       "      <td>Robust Golden Unsweetened Oolong Tea</td>\n",
       "      <td>94</td>\n",
       "    </tr>\n",
       "    <tr>\n",
       "      <th>3</th>\n",
       "      <td>4</td>\n",
       "      <td>Smart Ones Classic Favorites Mini Rigatoni Wit...</td>\n",
       "      <td>38</td>\n",
       "    </tr>\n",
       "    <tr>\n",
       "      <th>4</th>\n",
       "      <td>5</td>\n",
       "      <td>Green Chile Anytime Sauce</td>\n",
       "      <td>5</td>\n",
       "    </tr>\n",
       "  </tbody>\n",
       "</table>\n",
       "</div>"
      ],
      "text/plain": [
       "   product_id                                       product_name  aisle_id\n",
       "0           1                         Chocolate Sandwich Cookies        61\n",
       "1           2                                   All-Seasons Salt       104\n",
       "2           3               Robust Golden Unsweetened Oolong Tea        94\n",
       "3           4  Smart Ones Classic Favorites Mini Rigatoni Wit...        38\n",
       "4           5                          Green Chile Anytime Sauce         5"
      ]
     },
     "execution_count": 103,
     "metadata": {},
     "output_type": "execute_result"
    }
   ],
   "source": [
    "df_products.head()"
   ]
  },
  {
   "cell_type": "code",
   "execution_count": 104,
   "id": "08e41ec2",
   "metadata": {},
   "outputs": [
    {
     "data": {
      "text/html": [
       "<div>\n",
       "<style scoped>\n",
       "    .dataframe tbody tr th:only-of-type {\n",
       "        vertical-align: middle;\n",
       "    }\n",
       "\n",
       "    .dataframe tbody tr th {\n",
       "        vertical-align: top;\n",
       "    }\n",
       "\n",
       "    .dataframe thead th {\n",
       "        text-align: right;\n",
       "    }\n",
       "</style>\n",
       "<table border=\"1\" class=\"dataframe\">\n",
       "  <thead>\n",
       "    <tr style=\"text-align: right;\">\n",
       "      <th></th>\n",
       "      <th>product_id</th>\n",
       "      <th>Freq</th>\n",
       "    </tr>\n",
       "  </thead>\n",
       "  <tbody>\n",
       "    <tr>\n",
       "      <th>0</th>\n",
       "      <td>24852</td>\n",
       "      <td>15562</td>\n",
       "    </tr>\n",
       "    <tr>\n",
       "      <th>1</th>\n",
       "      <td>13176</td>\n",
       "      <td>11026</td>\n",
       "    </tr>\n",
       "    <tr>\n",
       "      <th>2</th>\n",
       "      <td>27845</td>\n",
       "      <td>4363</td>\n",
       "    </tr>\n",
       "    <tr>\n",
       "      <th>3</th>\n",
       "      <td>21137</td>\n",
       "      <td>3946</td>\n",
       "    </tr>\n",
       "    <tr>\n",
       "      <th>4</th>\n",
       "      <td>47209</td>\n",
       "      <td>3390</td>\n",
       "    </tr>\n",
       "  </tbody>\n",
       "</table>\n",
       "</div>"
      ],
      "text/plain": [
       "   product_id   Freq\n",
       "0       24852  15562\n",
       "1       13176  11026\n",
       "2       27845   4363\n",
       "3       21137   3946\n",
       "4       47209   3390"
      ]
     },
     "execution_count": 104,
     "metadata": {},
     "output_type": "execute_result"
    }
   ],
   "source": [
    "# Filter only products that are 1st\n",
    "df_first = df_order_products.query(\"add_to_cart_order==1\")\n",
    "\n",
    "top20_1st_products = df_first['product_id'].value_counts().head(20).reset_index().rename(columns = {'index':'product_id','product_id':'Freq'})\n",
    "top20_1st_products.head()"
   ]
  },
  {
   "cell_type": "code",
   "execution_count": 105,
   "id": "f52ad029",
   "metadata": {},
   "outputs": [
    {
     "data": {
      "image/png": "[encoded data removed]",
      "text/plain": [
       "<Figure size 1200x600 with 1 Axes>"
      ]
     },
     "metadata": {},
     "output_type": "display_data"
    }
   ],
   "source": [
    "top20_1st_products_merge = top20_1st_products.merge(df_products,on='product_id')[['product_name','Freq']].set_index('product_name').sort_values('Freq')\n",
    "\n",
    "# Plot\n",
    "top20_1st_products_merge.plot(kind='barh',\n",
    "                              xlabel = 'Product Name',\n",
    "                              ylabel = 'Frequency',\n",
    "                              title = 'Top 20 Products Put In Carts First',\n",
    "                              figsize=[12,6],\n",
    "                              legend=False,\n",
    "                              grid = True)\n",
    "\n",
    "\n",
    "plt.xlabel('Frequency')\n",
    "plt.show()"
   ]
  },
  {
   "cell_type": "markdown",
   "id": "28ce9872",
   "metadata": {},
   "source": []
  },
  {
   "cell_type": "code",
   "execution_count": null,
   "id": "f4a2af09",
   "metadata": {},
   "outputs": [],
   "source": []
  }
 ],
 "metadata": {
  "ExecuteTimeLog": [
   {
    "duration": 304,
    "start_time": "2025-01-06T20:39:53.043Z"
   },
   {
    "duration": 2,
    "start_time": "2025-01-06T20:40:42.494Z"
   },
   {
    "duration": 208,
    "start_time": "2025-01-06T20:41:21.980Z"
   },
   {
    "duration": 1861,
    "start_time": "2025-01-06T20:41:31.039Z"
   },
   {
    "duration": 255,
    "start_time": "2025-01-06T20:44:28.942Z"
   },
   {
    "duration": 231,
    "start_time": "2025-01-06T20:44:51.619Z"
   },
   {
    "duration": 116,
    "start_time": "2025-01-06T20:45:19.938Z"
   },
   {
    "duration": 11,
    "start_time": "2025-01-06T20:56:24.374Z"
   },
   {
    "duration": 10,
    "start_time": "2025-01-06T20:57:42.149Z"
   },
   {
    "duration": 57,
    "start_time": "2025-01-06T21:01:14.761Z"
   },
   {
    "duration": 41,
    "start_time": "2025-01-06T21:01:33.408Z"
   },
   {
    "duration": 13,
    "start_time": "2025-01-06T21:01:49.578Z"
   },
   {
    "duration": 11,
    "start_time": "2025-01-06T21:01:59.559Z"
   },
   {
    "duration": 11,
    "start_time": "2025-01-06T21:03:47.398Z"
   },
   {
    "duration": 7,
    "start_time": "2025-01-06T21:03:56.774Z"
   },
   {
    "duration": 10,
    "start_time": "2025-01-06T21:04:13.059Z"
   },
   {
    "duration": 8,
    "start_time": "2025-01-06T21:05:44.634Z"
   },
   {
    "duration": 9,
    "start_time": "2025-01-06T21:06:43.515Z"
   },
   {
    "duration": 8,
    "start_time": "2025-01-06T21:06:52.300Z"
   },
   {
    "duration": 8,
    "start_time": "2025-01-06T21:07:07.568Z"
   },
   {
    "duration": 9,
    "start_time": "2025-01-06T21:09:05.000Z"
   },
   {
    "duration": 8,
    "start_time": "2025-01-06T21:09:09.857Z"
   },
   {
    "duration": 1946,
    "start_time": "2025-01-06T21:11:06.750Z"
   },
   {
    "duration": 714,
    "start_time": "2025-01-06T21:11:33.684Z"
   },
   {
    "duration": 7,
    "start_time": "2025-01-06T21:13:05.996Z"
   },
   {
    "duration": 88,
    "start_time": "2025-01-06T21:15:04.172Z"
   },
   {
    "duration": 80,
    "start_time": "2025-01-06T21:16:25.939Z"
   },
   {
    "duration": 109,
    "start_time": "2025-01-06T21:18:14.573Z"
   },
   {
    "duration": 9,
    "start_time": "2025-01-06T21:18:15.584Z"
   },
   {
    "duration": 112,
    "start_time": "2025-01-06T21:19:55.913Z"
   },
   {
    "duration": 23,
    "start_time": "2025-01-06T21:23:15.617Z"
   },
   {
    "duration": 552,
    "start_time": "2025-01-06T21:24:45.248Z"
   },
   {
    "duration": 77,
    "start_time": "2025-01-06T21:26:08.099Z"
   },
   {
    "duration": 81,
    "start_time": "2025-01-06T21:26:23.928Z"
   },
   {
    "duration": 96,
    "start_time": "2025-01-06T21:27:07.219Z"
   },
   {
    "duration": 92,
    "start_time": "2025-01-06T21:27:13.191Z"
   },
   {
    "duration": 4,
    "start_time": "2025-01-06T21:33:52.981Z"
   },
   {
    "duration": 6,
    "start_time": "2025-01-06T21:34:10.978Z"
   },
   {
    "duration": 3,
    "start_time": "2025-01-06T21:35:39.345Z"
   },
   {
    "duration": 445,
    "start_time": "2025-01-06T21:37:31.899Z"
   },
   {
    "duration": 29,
    "start_time": "2025-01-06T21:37:56.469Z"
   },
   {
    "duration": 30,
    "start_time": "2025-01-06T21:39:14.779Z"
   },
   {
    "duration": 5,
    "start_time": "2025-01-06T21:40:11.366Z"
   },
   {
    "duration": 3,
    "start_time": "2025-01-06T21:40:14.923Z"
   },
   {
    "duration": 2,
    "start_time": "2025-01-06T21:40:39.849Z"
   },
   {
    "duration": 6,
    "start_time": "2025-01-06T21:54:31.339Z"
   },
   {
    "duration": 13,
    "start_time": "2025-01-06T21:54:49.584Z"
   },
   {
    "duration": 5,
    "start_time": "2025-01-06T21:55:18.240Z"
   },
   {
    "duration": 4,
    "start_time": "2025-01-06T21:55:28.635Z"
   },
   {
    "duration": 6,
    "start_time": "2025-01-06T21:55:32.439Z"
   },
   {
    "duration": 5,
    "start_time": "2025-01-06T21:55:33.531Z"
   },
   {
    "duration": 5,
    "start_time": "2025-01-06T21:55:56.862Z"
   },
   {
    "duration": 4,
    "start_time": "2025-01-06T21:56:05.780Z"
   },
   {
    "duration": 6,
    "start_time": "2025-01-06T21:56:14.004Z"
   },
   {
    "duration": 6,
    "start_time": "2025-01-06T21:56:50.638Z"
   },
   {
    "duration": 4,
    "start_time": "2025-01-06T21:57:02.074Z"
   },
   {
    "duration": 4,
    "start_time": "2025-01-06T21:57:08.329Z"
   },
   {
    "duration": 6,
    "start_time": "2025-01-06T21:57:13.176Z"
   },
   {
    "duration": 4,
    "start_time": "2025-01-06T21:57:20.759Z"
   },
   {
    "duration": 4,
    "start_time": "2025-01-06T21:57:35.690Z"
   },
   {
    "duration": 4,
    "start_time": "2025-01-06T21:57:40.894Z"
   },
   {
    "duration": 5,
    "start_time": "2025-01-06T21:57:56.459Z"
   },
   {
    "duration": 5,
    "start_time": "2025-01-06T21:59:37.003Z"
   },
   {
    "duration": 362,
    "start_time": "2025-01-06T22:04:26.377Z"
   },
   {
    "duration": 10,
    "start_time": "2025-01-06T22:05:02.847Z"
   },
   {
    "duration": 15,
    "start_time": "2025-01-06T22:05:19.857Z"
   },
   {
    "duration": 245,
    "start_time": "2025-01-06T22:11:24.930Z"
   },
   {
    "duration": 130,
    "start_time": "2025-01-06T22:11:50.314Z"
   },
   {
    "duration": 101,
    "start_time": "2025-01-06T22:13:00.725Z"
   },
   {
    "duration": 4,
    "start_time": "2025-01-06T22:13:53.033Z"
   },
   {
    "duration": 26,
    "start_time": "2025-01-06T22:14:21.959Z"
   },
   {
    "duration": 12,
    "start_time": "2025-01-06T22:17:14.240Z"
   },
   {
    "duration": 6,
    "start_time": "2025-01-06T22:17:52.036Z"
   },
   {
    "duration": 5,
    "start_time": "2025-01-06T22:18:04.139Z"
   },
   {
    "duration": 4,
    "start_time": "2025-01-06T22:18:24.398Z"
   },
   {
    "duration": 6,
    "start_time": "2025-01-06T22:19:00.584Z"
   },
   {
    "duration": 6,
    "start_time": "2025-01-06T22:19:24.613Z"
   },
   {
    "duration": 10,
    "start_time": "2025-01-06T22:22:49.729Z"
   },
   {
    "duration": 21,
    "start_time": "2025-01-06T22:24:09.606Z"
   },
   {
    "duration": 22,
    "start_time": "2025-01-06T22:24:34.480Z"
   },
   {
    "duration": 20,
    "start_time": "2025-01-06T22:25:31.732Z"
   },
   {
    "duration": 11,
    "start_time": "2025-01-06T22:26:05.104Z"
   },
   {
    "duration": 15,
    "start_time": "2025-01-06T22:26:18.981Z"
   },
   {
    "duration": 9,
    "start_time": "2025-01-06T22:26:47.124Z"
   },
   {
    "duration": 21,
    "start_time": "2025-01-06T22:27:11.148Z"
   },
   {
    "duration": 33,
    "start_time": "2025-01-06T22:27:31.502Z"
   },
   {
    "duration": 21,
    "start_time": "2025-01-06T22:40:34.904Z"
   },
   {
    "duration": 11,
    "start_time": "2025-01-06T22:41:00.029Z"
   },
   {
    "duration": 4,
    "start_time": "2025-01-06T22:41:36.389Z"
   },
   {
    "duration": 7,
    "start_time": "2025-01-06T22:53:15.989Z"
   },
   {
    "duration": 4,
    "start_time": "2025-01-06T22:53:35.334Z"
   },
   {
    "duration": 3,
    "start_time": "2025-01-06T22:56:16.078Z"
   },
   {
    "duration": 17,
    "start_time": "2025-01-06T22:56:49.025Z"
   },
   {
    "duration": 3,
    "start_time": "2025-01-06T22:59:28.004Z"
   },
   {
    "duration": 5,
    "start_time": "2025-01-06T22:59:36.680Z"
   },
   {
    "duration": 7,
    "start_time": "2025-01-06T22:59:41.926Z"
   },
   {
    "duration": 4,
    "start_time": "2025-01-06T22:59:53.965Z"
   },
   {
    "duration": 4,
    "start_time": "2025-01-06T23:00:03.511Z"
   },
   {
    "duration": 4,
    "start_time": "2025-01-06T23:06:33.591Z"
   },
   {
    "duration": 106,
    "start_time": "2025-01-06T23:09:28.062Z"
   },
   {
    "duration": 10,
    "start_time": "2025-01-06T23:10:10.434Z"
   },
   {
    "duration": 16,
    "start_time": "2025-01-06T23:10:59.975Z"
   },
   {
    "duration": 27,
    "start_time": "2025-01-06T23:11:10.609Z"
   },
   {
    "duration": 4,
    "start_time": "2025-01-06T23:13:57.959Z"
   },
   {
    "duration": 84,
    "start_time": "2025-01-06T23:14:01.026Z"
   },
   {
    "duration": 4,
    "start_time": "2025-01-06T23:21:50.975Z"
   },
   {
    "duration": 20,
    "start_time": "2025-01-06T23:21:57.990Z"
   },
   {
    "duration": 13,
    "start_time": "2025-01-06T23:22:58.714Z"
   },
   {
    "duration": 14,
    "start_time": "2025-01-06T23:23:34.760Z"
   },
   {
    "duration": 11,
    "start_time": "2025-01-06T23:25:20.129Z"
   },
   {
    "duration": 4,
    "start_time": "2025-01-06T23:27:15.434Z"
   },
   {
    "duration": 6,
    "start_time": "2025-01-06T23:33:27.767Z"
   },
   {
    "duration": 4,
    "start_time": "2025-01-06T23:33:41.014Z"
   },
   {
    "duration": 5,
    "start_time": "2025-01-06T23:39:31.828Z"
   },
   {
    "duration": 4,
    "start_time": "2025-01-06T23:41:26.074Z"
   },
   {
    "duration": 4,
    "start_time": "2025-01-06T23:41:47.288Z"
   },
   {
    "duration": 4,
    "start_time": "2025-01-06T23:42:11.404Z"
   },
   {
    "duration": 74,
    "start_time": "2025-01-06T23:42:16.722Z"
   },
   {
    "duration": 18,
    "start_time": "2025-01-06T23:45:50.755Z"
   },
   {
    "duration": 4,
    "start_time": "2025-01-06T23:46:08.423Z"
   },
   {
    "duration": 6,
    "start_time": "2025-01-06T23:46:13.667Z"
   },
   {
    "duration": 33,
    "start_time": "2025-01-07T00:01:45.559Z"
   },
   {
    "duration": 7,
    "start_time": "2025-01-07T00:01:58.194Z"
   },
   {
    "duration": 14,
    "start_time": "2025-01-07T00:02:09.181Z"
   },
   {
    "duration": 6,
    "start_time": "2025-01-07T00:02:17.334Z"
   },
   {
    "duration": 6,
    "start_time": "2025-01-07T00:02:20.692Z"
   },
   {
    "duration": 12,
    "start_time": "2025-01-07T00:02:44.092Z"
   },
   {
    "duration": 4,
    "start_time": "2025-01-07T00:02:54.539Z"
   },
   {
    "duration": 4,
    "start_time": "2025-01-07T00:02:58.225Z"
   },
   {
    "duration": 4,
    "start_time": "2025-01-07T00:04:10.349Z"
   },
   {
    "duration": 4,
    "start_time": "2025-01-07T00:04:25.194Z"
   },
   {
    "duration": 2,
    "start_time": "2025-01-07T00:04:44.394Z"
   },
   {
    "duration": 74,
    "start_time": "2025-01-07T00:06:20.936Z"
   },
   {
    "duration": 2,
    "start_time": "2025-01-07T00:06:28.889Z"
   },
   {
    "duration": 28,
    "start_time": "2025-01-07T00:06:32.339Z"
   },
   {
    "duration": 22,
    "start_time": "2025-01-07T00:07:16.720Z"
   },
   {
    "duration": 19,
    "start_time": "2025-01-07T00:07:36.983Z"
   },
   {
    "duration": 17,
    "start_time": "2025-01-07T00:07:49.645Z"
   },
   {
    "duration": 19,
    "start_time": "2025-01-07T00:08:10.030Z"
   },
   {
    "duration": 18,
    "start_time": "2025-01-07T00:08:17.854Z"
   },
   {
    "duration": 19,
    "start_time": "2025-01-07T00:08:30.274Z"
   },
   {
    "duration": 24,
    "start_time": "2025-01-07T00:09:02.654Z"
   },
   {
    "duration": 17,
    "start_time": "2025-01-07T00:10:05.443Z"
   },
   {
    "duration": 17,
    "start_time": "2025-01-07T00:10:20.119Z"
   },
   {
    "duration": 20,
    "start_time": "2025-01-07T00:10:58.239Z"
   },
   {
    "duration": 18,
    "start_time": "2025-01-07T00:13:56.629Z"
   },
   {
    "duration": 17,
    "start_time": "2025-01-07T00:14:02.884Z"
   },
   {
    "duration": 18,
    "start_time": "2025-01-07T00:14:08.481Z"
   },
   {
    "duration": 18,
    "start_time": "2025-01-07T00:14:21.454Z"
   },
   {
    "duration": 5,
    "start_time": "2025-01-07T00:15:52.504Z"
   },
   {
    "duration": 4,
    "start_time": "2025-01-07T00:16:35.132Z"
   },
   {
    "duration": 12,
    "start_time": "2025-01-07T00:16:53.935Z"
   },
   {
    "duration": 4,
    "start_time": "2025-01-07T00:17:03.629Z"
   },
   {
    "duration": 11,
    "start_time": "2025-01-07T00:17:39.041Z"
   },
   {
    "duration": 3,
    "start_time": "2025-01-07T00:47:18.655Z"
   },
   {
    "duration": 4,
    "start_time": "2025-01-07T00:47:24.959Z"
   },
   {
    "duration": 22,
    "start_time": "2025-01-07T00:48:20.139Z"
   },
   {
    "duration": 86,
    "start_time": "2025-01-07T00:48:35.383Z"
   },
   {
    "duration": 10,
    "start_time": "2025-01-07T00:50:19.742Z"
   },
   {
    "duration": 8,
    "start_time": "2025-01-07T00:52:05.447Z"
   },
   {
    "duration": 32,
    "start_time": "2025-01-07T00:56:40.701Z"
   },
   {
    "duration": 35,
    "start_time": "2025-01-07T00:58:44.896Z"
   },
   {
    "duration": 16,
    "start_time": "2025-01-07T00:58:59.584Z"
   },
   {
    "duration": 25,
    "start_time": "2025-01-07T01:06:53.330Z"
   },
   {
    "duration": 7,
    "start_time": "2025-01-07T01:08:20.989Z"
   },
   {
    "duration": 8,
    "start_time": "2025-01-07T01:10:05.860Z"
   },
   {
    "duration": 14,
    "start_time": "2025-01-07T01:10:16.829Z"
   },
   {
    "duration": 24,
    "start_time": "2025-01-07T01:10:32.100Z"
   },
   {
    "duration": 5,
    "start_time": "2025-01-07T01:11:18.428Z"
   },
   {
    "duration": 48,
    "start_time": "2025-01-07T01:12:21.101Z"
   },
   {
    "duration": 5,
    "start_time": "2025-01-07T01:12:48.440Z"
   },
   {
    "duration": 4,
    "start_time": "2025-01-07T01:13:06.153Z"
   },
   {
    "duration": 3,
    "start_time": "2025-01-07T01:13:58.965Z"
   },
   {
    "duration": 8,
    "start_time": "2025-01-07T01:15:41.930Z"
   },
   {
    "duration": 16,
    "start_time": "2025-01-07T01:16:10.592Z"
   },
   {
    "duration": 4,
    "start_time": "2025-01-07T01:16:35.656Z"
   },
   {
    "duration": 5,
    "start_time": "2025-01-07T01:16:41.325Z"
   },
   {
    "duration": 4,
    "start_time": "2025-01-07T01:16:55.126Z"
   },
   {
    "duration": 23,
    "start_time": "2025-01-07T01:17:15.295Z"
   },
   {
    "duration": 255,
    "start_time": "2025-01-07T01:17:58.634Z"
   },
   {
    "duration": 189,
    "start_time": "2025-01-07T04:49:33.522Z"
   },
   {
    "duration": 358,
    "start_time": "2025-01-07T04:49:38.383Z"
   },
   {
    "duration": 4,
    "start_time": "2025-01-07T04:49:40.622Z"
   },
   {
    "duration": 2460,
    "start_time": "2025-01-07T04:49:43.007Z"
   },
   {
    "duration": 255,
    "start_time": "2025-01-07T04:49:46.808Z"
   },
   {
    "duration": 13,
    "start_time": "2025-01-07T04:49:52.079Z"
   },
   {
    "duration": 56,
    "start_time": "2025-01-07T04:49:56.551Z"
   },
   {
    "duration": 11,
    "start_time": "2025-01-07T04:50:00.540Z"
   },
   {
    "duration": 14,
    "start_time": "2025-01-07T04:50:04.496Z"
   },
   {
    "duration": 9,
    "start_time": "2025-01-07T04:50:08.604Z"
   },
   {
    "duration": 19,
    "start_time": "2025-01-07T04:50:12.812Z"
   },
   {
    "duration": 14,
    "start_time": "2025-01-07T04:50:17.525Z"
   },
   {
    "duration": 958,
    "start_time": "2025-01-07T04:50:24.167Z"
   },
   {
    "duration": 7,
    "start_time": "2025-01-07T04:50:29.584Z"
   },
   {
    "duration": 110,
    "start_time": "2025-01-07T04:50:33.256Z"
   },
   {
    "duration": 116,
    "start_time": "2025-01-07T04:50:38.494Z"
   },
   {
    "duration": 3,
    "start_time": "2025-01-07T04:50:48.051Z"
   },
   {
    "duration": 5,
    "start_time": "2025-01-07T04:50:51.756Z"
   },
   {
    "duration": 44,
    "start_time": "2025-01-07T04:50:55.417Z"
   },
   {
    "duration": 5,
    "start_time": "2025-01-07T04:51:01.802Z"
   },
   {
    "duration": 21,
    "start_time": "2025-01-07T04:51:08.375Z"
   },
   {
    "duration": 146,
    "start_time": "2025-01-07T04:51:15.736Z"
   },
   {
    "duration": 118,
    "start_time": "2025-01-07T04:51:20.439Z"
   },
   {
    "duration": 3,
    "start_time": "2025-01-07T04:51:23.873Z"
   },
   {
    "duration": 38,
    "start_time": "2025-01-07T04:51:26.255Z"
   },
   {
    "duration": 11,
    "start_time": "2025-01-07T04:51:34.071Z"
   },
   {
    "duration": 15,
    "start_time": "2025-01-07T04:51:40.216Z"
   },
   {
    "duration": 3,
    "start_time": "2025-01-07T04:51:44.637Z"
   },
   {
    "duration": 6,
    "start_time": "2025-01-07T04:51:55.205Z"
   },
   {
    "duration": 3,
    "start_time": "2025-01-07T04:52:20.205Z"
   },
   {
    "duration": 28,
    "start_time": "2025-01-07T04:52:33.979Z"
   },
   {
    "duration": 58,
    "start_time": "2025-01-07T04:52:51.872Z"
   },
   {
    "duration": 28,
    "start_time": "2025-01-07T04:53:04.495Z"
   },
   {
    "duration": 33,
    "start_time": "2025-01-07T04:53:09.587Z"
   },
   {
    "duration": 20,
    "start_time": "2025-01-07T04:53:28.990Z"
   },
   {
    "duration": 7,
    "start_time": "2025-01-07T04:53:44.817Z"
   },
   {
    "duration": 18,
    "start_time": "2025-01-07T04:53:51.584Z"
   },
   {
    "duration": 27,
    "start_time": "2025-01-07T04:53:58.023Z"
   },
   {
    "duration": 37,
    "start_time": "2025-01-07T05:07:29.860Z"
   },
   {
    "duration": 7,
    "start_time": "2025-01-07T05:07:49.841Z"
   },
   {
    "duration": 16,
    "start_time": "2025-01-07T05:07:54.331Z"
   },
   {
    "duration": 3,
    "start_time": "2025-01-07T05:07:58.181Z"
   },
   {
    "duration": 6,
    "start_time": "2025-01-07T05:08:01.315Z"
   },
   {
    "duration": 3,
    "start_time": "2025-01-07T05:08:09.922Z"
   },
   {
    "duration": 28,
    "start_time": "2025-01-07T05:08:15.383Z"
   },
   {
    "duration": 16,
    "start_time": "2025-01-07T05:10:44.523Z"
   },
   {
    "duration": 15,
    "start_time": "2025-01-07T05:12:33.739Z"
   },
   {
    "duration": 17,
    "start_time": "2025-01-07T05:15:11.983Z"
   },
   {
    "duration": 30,
    "start_time": "2025-01-07T05:15:32.240Z"
   },
   {
    "duration": 4,
    "start_time": "2025-01-07T05:24:59.716Z"
   },
   {
    "duration": 4,
    "start_time": "2025-01-07T05:25:22.217Z"
   },
   {
    "duration": 4,
    "start_time": "2025-01-07T05:25:23.647Z"
   },
   {
    "duration": 4,
    "start_time": "2025-01-07T05:25:24.700Z"
   },
   {
    "duration": 4,
    "start_time": "2025-01-07T05:25:26.856Z"
   },
   {
    "duration": 3,
    "start_time": "2025-01-07T05:25:39.068Z"
   },
   {
    "duration": 4,
    "start_time": "2025-01-07T05:25:46.324Z"
   },
   {
    "duration": 4,
    "start_time": "2025-01-07T05:25:47.451Z"
   },
   {
    "duration": 3,
    "start_time": "2025-01-07T05:25:48.420Z"
   },
   {
    "duration": 4,
    "start_time": "2025-01-07T05:26:04.244Z"
   },
   {
    "duration": 3,
    "start_time": "2025-01-07T05:26:05.312Z"
   },
   {
    "duration": 3,
    "start_time": "2025-01-07T05:26:08.217Z"
   },
   {
    "duration": 3,
    "start_time": "2025-01-07T05:28:39.781Z"
   },
   {
    "duration": 53,
    "start_time": "2025-01-07T05:29:39.852Z"
   },
   {
    "duration": 3,
    "start_time": "2025-01-07T05:30:02.080Z"
   },
   {
    "duration": 55,
    "start_time": "2025-01-07T05:30:04.727Z"
   },
   {
    "duration": 16,
    "start_time": "2025-01-07T05:31:34.184Z"
   },
   {
    "duration": 16,
    "start_time": "2025-01-07T05:57:58.356Z"
   },
   {
    "duration": 18,
    "start_time": "2025-01-07T05:58:45.595Z"
   },
   {
    "duration": 9,
    "start_time": "2025-01-07T06:00:43.179Z"
   },
   {
    "duration": 582,
    "start_time": "2025-01-07T06:03:11.091Z"
   },
   {
    "duration": 47,
    "start_time": "2025-01-07T06:03:29.064Z"
   },
   {
    "duration": 4,
    "start_time": "2025-01-07T06:04:09.479Z"
   },
   {
    "duration": 10,
    "start_time": "2025-01-07T06:04:14.012Z"
   },
   {
    "duration": 7,
    "start_time": "2025-01-07T06:04:21.476Z"
   },
   {
    "duration": 8,
    "start_time": "2025-01-07T06:05:19.673Z"
   },
   {
    "duration": 4,
    "start_time": "2025-01-07T06:06:04.280Z"
   },
   {
    "duration": 10,
    "start_time": "2025-01-07T06:06:07.015Z"
   },
   {
    "duration": 24,
    "start_time": "2025-01-07T06:08:12.751Z"
   },
   {
    "duration": 114,
    "start_time": "2025-01-07T06:11:09.864Z"
   },
   {
    "duration": 25,
    "start_time": "2025-01-07T06:12:14.520Z"
   },
   {
    "duration": 12,
    "start_time": "2025-01-07T06:12:18.222Z"
   },
   {
    "duration": 4,
    "start_time": "2025-01-07T06:12:55.768Z"
   },
   {
    "duration": 303,
    "start_time": "2025-01-07T19:48:52.797Z"
   },
   {
    "duration": 5,
    "start_time": "2025-01-07T19:48:54.592Z"
   },
   {
    "duration": 2040,
    "start_time": "2025-01-07T19:48:56.547Z"
   },
   {
    "duration": 166,
    "start_time": "2025-01-07T19:49:00.159Z"
   },
   {
    "duration": 64,
    "start_time": "2025-01-07T19:49:05.904Z"
   },
   {
    "duration": 12,
    "start_time": "2025-01-07T19:49:14.576Z"
   },
   {
    "duration": 12,
    "start_time": "2025-01-07T19:49:17.442Z"
   },
   {
    "duration": 933,
    "start_time": "2025-01-07T19:49:20.884Z"
   },
   {
    "duration": 141,
    "start_time": "2025-01-07T19:49:25.449Z"
   },
   {
    "duration": 102,
    "start_time": "2025-01-07T19:49:29.511Z"
   },
   {
    "duration": 6,
    "start_time": "2025-01-07T19:49:35.964Z"
   },
   {
    "duration": 33,
    "start_time": "2025-01-07T19:49:40.614Z"
   },
   {
    "duration": 6,
    "start_time": "2025-01-07T19:49:44.900Z"
   },
   {
    "duration": 16,
    "start_time": "2025-01-07T19:49:49.620Z"
   },
   {
    "duration": 161,
    "start_time": "2025-01-07T19:49:56.591Z"
   },
   {
    "duration": 131,
    "start_time": "2025-01-07T19:50:00.711Z"
   },
   {
    "duration": 39,
    "start_time": "2025-01-07T19:50:06.071Z"
   },
   {
    "duration": 40,
    "start_time": "2025-01-07T19:50:16.924Z"
   },
   {
    "duration": 3,
    "start_time": "2025-01-07T19:51:12.990Z"
   },
   {
    "duration": 13,
    "start_time": "2025-01-07T19:51:16.990Z"
   },
   {
    "duration": 8,
    "start_time": "2025-01-07T19:51:21.437Z"
   },
   {
    "duration": 14,
    "start_time": "2025-01-07T19:51:26.078Z"
   },
   {
    "duration": 5,
    "start_time": "2025-01-07T19:51:31.465Z"
   },
   {
    "duration": 6,
    "start_time": "2025-01-07T19:51:34.284Z"
   },
   {
    "duration": 3,
    "start_time": "2025-01-07T19:52:56.172Z"
   },
   {
    "duration": 27,
    "start_time": "2025-01-07T19:53:05.380Z"
   },
   {
    "duration": 19,
    "start_time": "2025-01-07T19:54:03.187Z"
   },
   {
    "duration": 241,
    "start_time": "2025-01-07T19:58:22.721Z"
   },
   {
    "duration": 3,
    "start_time": "2025-01-07T19:58:26.395Z"
   },
   {
    "duration": 81,
    "start_time": "2025-01-07T19:58:29.793Z"
   },
   {
    "duration": 16,
    "start_time": "2025-01-07T19:58:53.652Z"
   },
   {
    "duration": 19,
    "start_time": "2025-01-07T19:59:02.870Z"
   },
   {
    "duration": 14,
    "start_time": "2025-01-07T19:59:08.078Z"
   },
   {
    "duration": 28,
    "start_time": "2025-01-07T19:59:13.260Z"
   },
   {
    "duration": 45,
    "start_time": "2025-01-07T19:59:15.554Z"
   },
   {
    "duration": 8,
    "start_time": "2025-01-07T19:59:17.839Z"
   },
   {
    "duration": 77,
    "start_time": "2025-01-07T19:59:20.128Z"
   },
   {
    "duration": 14,
    "start_time": "2025-01-07T19:59:25.136Z"
   },
   {
    "duration": 17,
    "start_time": "2025-01-07T19:59:33.172Z"
   },
   {
    "duration": 10,
    "start_time": "2025-01-07T20:01:01.064Z"
   },
   {
    "duration": 12,
    "start_time": "2025-01-07T20:01:20.460Z"
   },
   {
    "duration": 14,
    "start_time": "2025-01-07T20:03:26.495Z"
   },
   {
    "duration": 123,
    "start_time": "2025-01-07T20:03:36.653Z"
   },
   {
    "duration": 10,
    "start_time": "2025-01-07T20:05:29.739Z"
   },
   {
    "duration": 5,
    "start_time": "2025-01-07T20:05:33.055Z"
   },
   {
    "duration": 11,
    "start_time": "2025-01-07T20:05:35.810Z"
   },
   {
    "duration": 8,
    "start_time": "2025-01-07T20:06:10.412Z"
   },
   {
    "duration": 7,
    "start_time": "2025-01-07T20:06:24.621Z"
   },
   {
    "duration": 7,
    "start_time": "2025-01-07T20:06:28.474Z"
   },
   {
    "duration": 7,
    "start_time": "2025-01-07T20:06:31.386Z"
   },
   {
    "duration": 6,
    "start_time": "2025-01-07T20:06:34.023Z"
   },
   {
    "duration": 7,
    "start_time": "2025-01-07T20:06:35.137Z"
   },
   {
    "duration": 7,
    "start_time": "2025-01-07T20:06:39.873Z"
   },
   {
    "duration": 6,
    "start_time": "2025-01-07T20:06:40.823Z"
   },
   {
    "duration": 6,
    "start_time": "2025-01-07T20:06:42.640Z"
   },
   {
    "duration": 8,
    "start_time": "2025-01-07T20:06:44.047Z"
   },
   {
    "duration": 16,
    "start_time": "2025-01-07T20:06:45.016Z"
   },
   {
    "duration": 10,
    "start_time": "2025-01-07T20:06:46.064Z"
   },
   {
    "duration": 7,
    "start_time": "2025-01-07T20:06:47.114Z"
   },
   {
    "duration": 7,
    "start_time": "2025-01-07T20:06:48.003Z"
   },
   {
    "duration": 7,
    "start_time": "2025-01-07T20:06:48.946Z"
   },
   {
    "duration": 5,
    "start_time": "2025-01-07T20:07:55.378Z"
   },
   {
    "duration": 5,
    "start_time": "2025-01-07T20:08:41.937Z"
   },
   {
    "duration": 7,
    "start_time": "2025-01-07T20:11:11.511Z"
   },
   {
    "duration": 6,
    "start_time": "2025-01-07T20:12:20.250Z"
   },
   {
    "duration": 21,
    "start_time": "2025-01-07T20:22:50.152Z"
   },
   {
    "duration": 817,
    "start_time": "2025-01-07T20:25:42.122Z"
   },
   {
    "duration": 799,
    "start_time": "2025-01-07T20:26:28.284Z"
   },
   {
    "duration": 120,
    "start_time": "2025-01-07T20:33:14.242Z"
   },
   {
    "duration": 162,
    "start_time": "2025-01-07T20:37:44.236Z"
   },
   {
    "duration": 7,
    "start_time": "2025-01-07T20:38:26.171Z"
   },
   {
    "duration": 2,
    "start_time": "2025-01-07T20:59:47.840Z"
   },
   {
    "duration": 10,
    "start_time": "2025-01-07T21:09:45.482Z"
   },
   {
    "duration": 12,
    "start_time": "2025-01-07T21:11:01.541Z"
   },
   {
    "duration": 6,
    "start_time": "2025-01-07T21:11:10.994Z"
   },
   {
    "duration": 97,
    "start_time": "2025-01-07T21:11:28.770Z"
   },
   {
    "duration": 85,
    "start_time": "2025-01-07T21:11:42.615Z"
   },
   {
    "duration": 88,
    "start_time": "2025-01-07T21:12:08.858Z"
   },
   {
    "duration": 93,
    "start_time": "2025-01-07T21:12:32.360Z"
   },
   {
    "duration": 94,
    "start_time": "2025-01-07T21:12:55.676Z"
   },
   {
    "duration": 106,
    "start_time": "2025-01-07T21:18:22.623Z"
   },
   {
    "duration": 3280,
    "start_time": "2025-01-07T21:40:19.717Z"
   },
   {
    "duration": 121,
    "start_time": "2025-01-07T21:40:38.205Z"
   },
   {
    "duration": 138,
    "start_time": "2025-01-07T21:41:08.096Z"
   },
   {
    "duration": 6,
    "start_time": "2025-01-07T21:42:10.450Z"
   },
   {
    "duration": 106,
    "start_time": "2025-01-07T21:44:57.791Z"
   },
   {
    "duration": 114,
    "start_time": "2025-01-07T21:45:03.625Z"
   },
   {
    "duration": 118,
    "start_time": "2025-01-07T21:45:22.380Z"
   },
   {
    "duration": 98,
    "start_time": "2025-01-07T21:47:20.573Z"
   },
   {
    "duration": 94,
    "start_time": "2025-01-07T21:47:26.482Z"
   },
   {
    "duration": 181,
    "start_time": "2025-01-07T21:47:37.356Z"
   },
   {
    "duration": 96,
    "start_time": "2025-01-07T21:48:01.336Z"
   },
   {
    "duration": 65,
    "start_time": "2025-01-07T21:54:19.672Z"
   },
   {
    "duration": 83,
    "start_time": "2025-01-07T21:54:48.298Z"
   },
   {
    "duration": 8,
    "start_time": "2025-01-07T21:55:14.393Z"
   },
   {
    "duration": 14,
    "start_time": "2025-01-07T21:56:07.881Z"
   },
   {
    "duration": 148,
    "start_time": "2025-01-07T21:58:36.654Z"
   },
   {
    "duration": 6,
    "start_time": "2025-01-07T21:58:44.486Z"
   },
   {
    "duration": 11,
    "start_time": "2025-01-07T21:59:23.455Z"
   },
   {
    "duration": 4,
    "start_time": "2025-01-07T22:03:02.573Z"
   },
   {
    "duration": 6,
    "start_time": "2025-01-07T22:03:30.479Z"
   },
   {
    "duration": 6,
    "start_time": "2025-01-07T22:03:37.198Z"
   },
   {
    "duration": 6,
    "start_time": "2025-01-07T22:04:42.679Z"
   },
   {
    "duration": 4,
    "start_time": "2025-01-07T22:05:54.638Z"
   },
   {
    "duration": 4,
    "start_time": "2025-01-07T22:06:12.195Z"
   },
   {
    "duration": 4,
    "start_time": "2025-01-07T22:06:21.922Z"
   },
   {
    "duration": 7,
    "start_time": "2025-01-07T22:06:55.184Z"
   },
   {
    "duration": 15,
    "start_time": "2025-01-07T22:09:27.228Z"
   },
   {
    "duration": 12,
    "start_time": "2025-01-07T22:09:37.790Z"
   },
   {
    "duration": 9,
    "start_time": "2025-01-07T22:09:53.659Z"
   },
   {
    "duration": 7,
    "start_time": "2025-01-07T22:11:52.610Z"
   },
   {
    "duration": 3,
    "start_time": "2025-01-07T22:14:31.887Z"
   },
   {
    "duration": 8,
    "start_time": "2025-01-07T22:15:58.381Z"
   },
   {
    "duration": 15,
    "start_time": "2025-01-07T22:16:40.513Z"
   },
   {
    "duration": 10,
    "start_time": "2025-01-07T22:17:01.960Z"
   },
   {
    "duration": 7,
    "start_time": "2025-01-07T22:17:29.456Z"
   },
   {
    "duration": 7,
    "start_time": "2025-01-07T22:20:04.992Z"
   },
   {
    "duration": 21,
    "start_time": "2025-01-07T22:23:34.705Z"
   },
   {
    "duration": 677,
    "start_time": "2025-01-07T22:25:01.664Z"
   },
   {
    "duration": 821,
    "start_time": "2025-01-07T22:28:25.704Z"
   },
   {
    "duration": 824,
    "start_time": "2025-01-07T22:30:43.546Z"
   },
   {
    "duration": 287,
    "start_time": "2025-01-08T00:12:52.227Z"
   },
   {
    "duration": 841,
    "start_time": "2025-01-08T00:12:57.945Z"
   },
   {
    "duration": 39,
    "start_time": "2025-01-08T00:13:04.559Z"
   },
   {
    "duration": 6,
    "start_time": "2025-01-08T00:13:29.169Z"
   },
   {
    "duration": 83,
    "start_time": "2025-01-08T00:16:40.708Z"
   },
   {
    "duration": 93,
    "start_time": "2025-01-08T00:19:26.903Z"
   },
   {
    "duration": 95,
    "start_time": "2025-01-08T00:20:45.513Z"
   },
   {
    "duration": 3425,
    "start_time": "2025-01-08T00:20:59.815Z"
   },
   {
    "duration": 571,
    "start_time": "2025-01-08T00:21:43.098Z"
   },
   {
    "duration": 156,
    "start_time": "2025-01-08T00:22:06.419Z"
   },
   {
    "duration": 293,
    "start_time": "2025-01-08T00:22:20.900Z"
   },
   {
    "duration": 3,
    "start_time": "2025-01-08T00:22:21.195Z"
   },
   {
    "duration": 140,
    "start_time": "2025-01-08T00:22:21.200Z"
   },
   {
    "duration": 201,
    "start_time": "2025-01-08T00:22:21.342Z"
   },
   {
    "duration": 60,
    "start_time": "2025-01-08T00:22:21.545Z"
   },
   {
    "duration": 11,
    "start_time": "2025-01-08T00:22:21.607Z"
   },
   {
    "duration": 9,
    "start_time": "2025-01-08T00:22:21.619Z"
   },
   {
    "duration": 785,
    "start_time": "2025-01-08T00:22:21.630Z"
   },
   {
    "duration": 92,
    "start_time": "2025-01-08T00:22:22.417Z"
   },
   {
    "duration": 110,
    "start_time": "2025-01-08T00:22:22.514Z"
   },
   {
    "duration": 3,
    "start_time": "2025-01-08T00:22:22.626Z"
   },
   {
    "duration": 8,
    "start_time": "2025-01-08T00:22:22.630Z"
   },
   {
    "duration": 33,
    "start_time": "2025-01-08T00:22:22.639Z"
   },
   {
    "duration": 5,
    "start_time": "2025-01-08T00:22:22.673Z"
   },
   {
    "duration": 47,
    "start_time": "2025-01-08T00:22:22.679Z"
   },
   {
    "duration": 150,
    "start_time": "2025-01-08T00:22:22.727Z"
   },
   {
    "duration": 110,
    "start_time": "2025-01-08T00:22:22.879Z"
   },
   {
    "duration": 4,
    "start_time": "2025-01-08T00:22:22.990Z"
   },
   {
    "duration": 46,
    "start_time": "2025-01-08T00:22:22.995Z"
   },
   {
    "duration": 24,
    "start_time": "2025-01-08T00:22:23.043Z"
   },
   {
    "duration": 11,
    "start_time": "2025-01-08T00:22:23.068Z"
   },
   {
    "duration": 6,
    "start_time": "2025-01-08T00:22:23.080Z"
   },
   {
    "duration": 37,
    "start_time": "2025-01-08T00:22:23.088Z"
   },
   {
    "duration": 5,
    "start_time": "2025-01-08T00:22:23.126Z"
   },
   {
    "duration": 4,
    "start_time": "2025-01-08T00:22:23.133Z"
   },
   {
    "duration": 3,
    "start_time": "2025-01-08T00:22:23.138Z"
   },
   {
    "duration": 25,
    "start_time": "2025-01-08T00:22:23.143Z"
   },
   {
    "duration": 41,
    "start_time": "2025-01-08T00:22:23.172Z"
   },
   {
    "duration": 5,
    "start_time": "2025-01-08T00:22:23.215Z"
   },
   {
    "duration": 12,
    "start_time": "2025-01-08T00:22:23.222Z"
   },
   {
    "duration": 19,
    "start_time": "2025-01-08T00:22:23.237Z"
   },
   {
    "duration": 56,
    "start_time": "2025-01-08T00:22:23.257Z"
   },
   {
    "duration": 3,
    "start_time": "2025-01-08T00:22:23.315Z"
   },
   {
    "duration": 54,
    "start_time": "2025-01-08T00:22:23.320Z"
   },
   {
    "duration": 13,
    "start_time": "2025-01-08T00:22:23.376Z"
   },
   {
    "duration": 29,
    "start_time": "2025-01-08T00:22:23.392Z"
   },
   {
    "duration": 7,
    "start_time": "2025-01-08T00:22:23.423Z"
   },
   {
    "duration": 9,
    "start_time": "2025-01-08T00:22:23.431Z"
   },
   {
    "duration": 3,
    "start_time": "2025-01-08T00:22:23.442Z"
   },
   {
    "duration": 9,
    "start_time": "2025-01-08T00:22:23.446Z"
   },
   {
    "duration": 7,
    "start_time": "2025-01-08T00:22:23.456Z"
   },
   {
    "duration": 3,
    "start_time": "2025-01-08T00:22:23.464Z"
   },
   {
    "duration": 45,
    "start_time": "2025-01-08T00:22:23.469Z"
   },
   {
    "duration": 4,
    "start_time": "2025-01-08T00:22:23.516Z"
   },
   {
    "duration": 22,
    "start_time": "2025-01-08T00:22:23.522Z"
   },
   {
    "duration": 7,
    "start_time": "2025-01-08T00:22:23.545Z"
   },
   {
    "duration": 768,
    "start_time": "2025-01-08T00:22:23.554Z"
   },
   {
    "duration": 3,
    "start_time": "2025-01-08T00:22:24.324Z"
   },
   {
    "duration": 10,
    "start_time": "2025-01-08T00:22:24.329Z"
   },
   {
    "duration": 6,
    "start_time": "2025-01-08T00:22:24.341Z"
   },
   {
    "duration": 7,
    "start_time": "2025-01-08T00:22:24.349Z"
   },
   {
    "duration": 6,
    "start_time": "2025-01-08T00:22:24.358Z"
   },
   {
    "duration": 7,
    "start_time": "2025-01-08T00:22:24.366Z"
   },
   {
    "duration": 7,
    "start_time": "2025-01-08T00:22:24.412Z"
   },
   {
    "duration": 11,
    "start_time": "2025-01-08T00:22:24.421Z"
   },
   {
    "duration": 8,
    "start_time": "2025-01-08T00:22:24.433Z"
   },
   {
    "duration": 5,
    "start_time": "2025-01-08T00:22:24.443Z"
   },
   {
    "duration": 972,
    "start_time": "2025-01-08T00:22:24.450Z"
   },
   {
    "duration": 17660,
    "start_time": "2025-01-08T00:22:25.423Z"
   },
   {
    "duration": 101,
    "start_time": "2025-01-08T00:22:43.086Z"
   },
   {
    "duration": 2,
    "start_time": "2025-01-08T00:22:43.189Z"
   },
   {
    "duration": 3,
    "start_time": "2025-01-08T00:22:43.193Z"
   },
   {
    "duration": 3,
    "start_time": "2025-01-08T00:22:43.197Z"
   },
   {
    "duration": 2,
    "start_time": "2025-01-08T00:22:43.212Z"
   },
   {
    "duration": 7,
    "start_time": "2025-01-08T00:23:53.748Z"
   },
   {
    "duration": 733,
    "start_time": "2025-01-08T00:25:50.979Z"
   },
   {
    "duration": 2,
    "start_time": "2025-01-08T00:26:05.208Z"
   },
   {
    "duration": 125,
    "start_time": "2025-01-08T00:26:26.598Z"
   },
   {
    "duration": 32,
    "start_time": "2025-01-08T00:28:44.607Z"
   },
   {
    "duration": 346,
    "start_time": "2025-01-08T03:31:00.117Z"
   },
   {
    "duration": 3,
    "start_time": "2025-01-08T03:31:00.469Z"
   },
   {
    "duration": 1992,
    "start_time": "2025-01-08T03:31:00.474Z"
   },
   {
    "duration": 207,
    "start_time": "2025-01-08T03:31:02.471Z"
   },
   {
    "duration": 63,
    "start_time": "2025-01-08T03:31:02.680Z"
   },
   {
    "duration": 10,
    "start_time": "2025-01-08T03:31:02.745Z"
   },
   {
    "duration": 10,
    "start_time": "2025-01-08T03:31:02.758Z"
   },
   {
    "duration": 848,
    "start_time": "2025-01-08T03:31:02.770Z"
   },
   {
    "duration": 147,
    "start_time": "2025-01-08T03:31:03.620Z"
   },
   {
    "duration": 112,
    "start_time": "2025-01-08T03:31:03.770Z"
   },
   {
    "duration": 2,
    "start_time": "2025-01-08T03:31:03.885Z"
   },
   {
    "duration": 7,
    "start_time": "2025-01-08T03:31:03.889Z"
   },
   {
    "duration": 31,
    "start_time": "2025-01-08T03:31:03.897Z"
   },
   {
    "duration": 5,
    "start_time": "2025-01-08T03:31:03.932Z"
   },
   {
    "duration": 46,
    "start_time": "2025-01-08T03:31:03.940Z"
   },
   {
    "duration": 162,
    "start_time": "2025-01-08T03:31:03.988Z"
   },
   {
    "duration": 129,
    "start_time": "2025-01-08T03:31:04.152Z"
   },
   {
    "duration": 4,
    "start_time": "2025-01-08T03:31:04.283Z"
   },
   {
    "duration": 40,
    "start_time": "2025-01-08T03:31:04.288Z"
   },
   {
    "duration": 40,
    "start_time": "2025-01-08T03:31:04.330Z"
   },
   {
    "duration": 17,
    "start_time": "2025-01-08T03:31:04.372Z"
   },
   {
    "duration": 6,
    "start_time": "2025-01-08T03:31:04.394Z"
   },
   {
    "duration": 15,
    "start_time": "2025-01-08T03:31:04.403Z"
   },
   {
    "duration": 3,
    "start_time": "2025-01-08T03:31:04.421Z"
   },
   {
    "duration": 8,
    "start_time": "2025-01-08T03:31:04.426Z"
   },
   {
    "duration": 3,
    "start_time": "2025-01-08T03:31:04.436Z"
   },
   {
    "duration": 38,
    "start_time": "2025-01-08T03:31:04.471Z"
   },
   {
    "duration": 26,
    "start_time": "2025-01-08T03:31:04.511Z"
   },
   {
    "duration": 8,
    "start_time": "2025-01-08T03:31:04.539Z"
   },
   {
    "duration": 14,
    "start_time": "2025-01-08T03:31:04.571Z"
   },
   {
    "duration": 16,
    "start_time": "2025-01-08T03:31:04.587Z"
   },
   {
    "duration": 35,
    "start_time": "2025-01-08T03:31:04.604Z"
   },
   {
    "duration": 6,
    "start_time": "2025-01-08T03:31:04.640Z"
   },
   {
    "duration": 83,
    "start_time": "2025-01-08T03:31:04.670Z"
   },
   {
    "duration": 29,
    "start_time": "2025-01-08T03:31:04.757Z"
   },
   {
    "duration": 21,
    "start_time": "2025-01-08T03:31:04.788Z"
   },
   {
    "duration": 12,
    "start_time": "2025-01-08T03:31:04.811Z"
   },
   {
    "duration": 12,
    "start_time": "2025-01-08T03:31:04.825Z"
   },
   {
    "duration": 3,
    "start_time": "2025-01-08T03:31:04.839Z"
   },
   {
    "duration": 33,
    "start_time": "2025-01-08T03:31:04.844Z"
   },
   {
    "duration": 6,
    "start_time": "2025-01-08T03:31:04.883Z"
   },
   {
    "duration": 4,
    "start_time": "2025-01-08T03:31:04.891Z"
   },
   {
    "duration": 10,
    "start_time": "2025-01-08T03:31:04.896Z"
   },
   {
    "duration": 5,
    "start_time": "2025-01-08T03:31:04.908Z"
   },
   {
    "duration": 60,
    "start_time": "2025-01-08T03:31:04.915Z"
   },
   {
    "duration": 9,
    "start_time": "2025-01-08T03:31:04.977Z"
   },
   {
    "duration": 877,
    "start_time": "2025-01-08T03:31:04.988Z"
   },
   {
    "duration": 4,
    "start_time": "2025-01-08T03:31:05.871Z"
   },
   {
    "duration": 12,
    "start_time": "2025-01-08T03:31:05.878Z"
   },
   {
    "duration": 9,
    "start_time": "2025-01-08T03:31:05.892Z"
   },
   {
    "duration": 9,
    "start_time": "2025-01-08T03:31:05.903Z"
   },
   {
    "duration": 10,
    "start_time": "2025-01-08T03:31:05.914Z"
   },
   {
    "duration": 8,
    "start_time": "2025-01-08T03:31:05.926Z"
   },
   {
    "duration": 42,
    "start_time": "2025-01-08T03:31:05.936Z"
   },
   {
    "duration": 12,
    "start_time": "2025-01-08T03:31:05.979Z"
   },
   {
    "duration": 7,
    "start_time": "2025-01-08T03:31:05.993Z"
   },
   {
    "duration": 6,
    "start_time": "2025-01-08T03:31:06.002Z"
   },
   {
    "duration": 1096,
    "start_time": "2025-01-08T03:31:06.009Z"
   },
   {
    "duration": 140,
    "start_time": "2025-01-08T03:31:07.108Z"
   },
   {
    "duration": 0,
    "start_time": "2025-01-08T03:31:07.250Z"
   },
   {
    "duration": 0,
    "start_time": "2025-01-08T03:31:07.252Z"
   },
   {
    "duration": 0,
    "start_time": "2025-01-08T03:31:07.253Z"
   },
   {
    "duration": 0,
    "start_time": "2025-01-08T03:31:07.254Z"
   },
   {
    "duration": 0,
    "start_time": "2025-01-08T03:31:07.255Z"
   },
   {
    "duration": 111,
    "start_time": "2025-01-08T03:33:30.655Z"
   },
   {
    "duration": 719,
    "start_time": "2025-01-08T03:33:42.932Z"
   },
   {
    "duration": 116,
    "start_time": "2025-01-08T03:36:09.195Z"
   },
   {
    "duration": 28,
    "start_time": "2025-01-08T03:36:29.130Z"
   },
   {
    "duration": 29,
    "start_time": "2025-01-08T03:36:43.430Z"
   },
   {
    "duration": 30,
    "start_time": "2025-01-08T03:37:10.863Z"
   },
   {
    "duration": 29,
    "start_time": "2025-01-08T03:37:32.388Z"
   },
   {
    "duration": 29,
    "start_time": "2025-01-08T03:37:51.250Z"
   },
   {
    "duration": 29,
    "start_time": "2025-01-08T03:55:49.551Z"
   },
   {
    "duration": 94,
    "start_time": "2025-01-08T04:02:35.102Z"
   },
   {
    "duration": 114,
    "start_time": "2025-01-08T04:02:54.220Z"
   },
   {
    "duration": 10,
    "start_time": "2025-01-08T04:07:41.219Z"
   },
   {
    "duration": 13,
    "start_time": "2025-01-08T04:08:06.134Z"
   },
   {
    "duration": 17,
    "start_time": "2025-01-08T04:08:17.184Z"
   },
   {
    "duration": 33,
    "start_time": "2025-01-08T04:08:57.058Z"
   },
   {
    "duration": 28,
    "start_time": "2025-01-08T04:09:19.286Z"
   },
   {
    "duration": 596,
    "start_time": "2025-01-08T04:09:48.634Z"
   },
   {
    "duration": 45,
    "start_time": "2025-01-08T04:09:56.046Z"
   },
   {
    "duration": 50,
    "start_time": "2025-01-08T04:10:27.238Z"
   },
   {
    "duration": 528,
    "start_time": "2025-01-08T04:10:49.934Z"
   },
   {
    "duration": 107,
    "start_time": "2025-01-08T04:11:12.122Z"
   },
   {
    "duration": 62,
    "start_time": "2025-01-08T04:11:33.963Z"
   },
   {
    "duration": 63,
    "start_time": "2025-01-08T04:11:45.495Z"
   },
   {
    "duration": 68,
    "start_time": "2025-01-08T04:11:51.832Z"
   },
   {
    "duration": 30,
    "start_time": "2025-01-08T04:25:47.298Z"
   },
   {
    "duration": 6,
    "start_time": "2025-01-08T04:32:36.974Z"
   },
   {
    "duration": 1290,
    "start_time": "2025-01-08T04:34:06.539Z"
   },
   {
    "duration": 136,
    "start_time": "2025-01-08T04:34:56.491Z"
   },
   {
    "duration": 8,
    "start_time": "2025-01-08T04:54:35.838Z"
   },
   {
    "duration": 7,
    "start_time": "2025-01-08T04:56:05.179Z"
   },
   {
    "duration": 49,
    "start_time": "2025-01-08T05:03:34.754Z"
   },
   {
    "duration": 75,
    "start_time": "2025-01-08T05:09:12.658Z"
   },
   {
    "duration": 1399,
    "start_time": "2025-01-08T05:09:23.062Z"
   },
   {
    "duration": 1322,
    "start_time": "2025-01-08T05:11:30.327Z"
   },
   {
    "duration": 17,
    "start_time": "2025-01-08T05:12:33.823Z"
   },
   {
    "duration": 4,
    "start_time": "2025-01-08T05:12:51.458Z"
   },
   {
    "duration": 259,
    "start_time": "2025-01-08T05:14:32.466Z"
   },
   {
    "duration": 20254,
    "start_time": "2025-01-08T05:17:39.066Z"
   },
   {
    "duration": 6,
    "start_time": "2025-01-08T05:20:19.698Z"
   },
   {
    "duration": 19962,
    "start_time": "2025-01-08T05:20:28.295Z"
   },
   {
    "duration": 20533,
    "start_time": "2025-01-08T05:20:51.894Z"
   },
   {
    "duration": 20253,
    "start_time": "2025-01-08T05:22:54.278Z"
   },
   {
    "duration": 20192,
    "start_time": "2025-01-08T05:23:58.030Z"
   },
   {
    "duration": 803,
    "start_time": "2025-01-08T05:26:47.704Z"
   },
   {
    "duration": 20374,
    "start_time": "2025-01-08T05:26:55.331Z"
   },
   {
    "duration": 6,
    "start_time": "2025-01-08T05:27:15.708Z"
   },
   {
    "duration": 5,
    "start_time": "2025-01-08T05:27:55.538Z"
   },
   {
    "duration": 19,
    "start_time": "2025-01-08T05:28:16.866Z"
   },
   {
    "duration": 18,
    "start_time": "2025-01-08T05:28:26.866Z"
   },
   {
    "duration": 15,
    "start_time": "2025-01-08T05:28:30.878Z"
   },
   {
    "duration": 15,
    "start_time": "2025-01-08T05:28:33.398Z"
   },
   {
    "duration": 14,
    "start_time": "2025-01-08T05:28:34.666Z"
   },
   {
    "duration": 15,
    "start_time": "2025-01-08T05:28:36.294Z"
   },
   {
    "duration": 13,
    "start_time": "2025-01-08T05:28:38.390Z"
   },
   {
    "duration": 15,
    "start_time": "2025-01-08T05:28:43.421Z"
   },
   {
    "duration": 16,
    "start_time": "2025-01-08T05:28:44.990Z"
   },
   {
    "duration": 15,
    "start_time": "2025-01-08T05:28:45.971Z"
   },
   {
    "duration": 15,
    "start_time": "2025-01-08T05:28:47.075Z"
   },
   {
    "duration": 15,
    "start_time": "2025-01-08T05:28:48.482Z"
   },
   {
    "duration": 16,
    "start_time": "2025-01-08T05:28:49.539Z"
   },
   {
    "duration": 15,
    "start_time": "2025-01-08T05:28:50.284Z"
   },
   {
    "duration": 15,
    "start_time": "2025-01-08T05:28:52.679Z"
   },
   {
    "duration": 15,
    "start_time": "2025-01-08T05:28:54.066Z"
   },
   {
    "duration": 14,
    "start_time": "2025-01-08T05:28:56.351Z"
   },
   {
    "duration": 5,
    "start_time": "2025-01-08T05:31:49.433Z"
   },
   {
    "duration": 3,
    "start_time": "2025-01-08T05:32:32.654Z"
   },
   {
    "duration": 8,
    "start_time": "2025-01-08T05:34:59.439Z"
   },
   {
    "duration": 105,
    "start_time": "2025-01-08T05:36:14.659Z"
   },
   {
    "duration": 232,
    "start_time": "2025-01-08T05:36:44.503Z"
   },
   {
    "duration": 54,
    "start_time": "2025-01-08T05:37:01.608Z"
   },
   {
    "duration": 24,
    "start_time": "2025-01-08T05:38:20.787Z"
   },
   {
    "duration": 19,
    "start_time": "2025-01-08T05:39:22.134Z"
   },
   {
    "duration": 19,
    "start_time": "2025-01-08T05:39:33.415Z"
   },
   {
    "duration": 90,
    "start_time": "2025-01-08T05:41:10.541Z"
   },
   {
    "duration": 7,
    "start_time": "2025-01-08T05:51:57.578Z"
   },
   {
    "duration": 25,
    "start_time": "2025-01-08T05:52:53.870Z"
   },
   {
    "duration": 31,
    "start_time": "2025-01-08T05:54:57.892Z"
   },
   {
    "duration": 11,
    "start_time": "2025-01-08T06:02:21.902Z"
   },
   {
    "duration": 11,
    "start_time": "2025-01-08T06:03:05.104Z"
   },
   {
    "duration": 7,
    "start_time": "2025-01-08T06:03:28.696Z"
   },
   {
    "duration": 11,
    "start_time": "2025-01-08T06:03:36.034Z"
   },
   {
    "duration": 13,
    "start_time": "2025-01-08T06:05:32.567Z"
   },
   {
    "duration": 5,
    "start_time": "2025-01-08T06:06:10.431Z"
   },
   {
    "duration": 10,
    "start_time": "2025-01-08T06:06:37.378Z"
   },
   {
    "duration": 9,
    "start_time": "2025-01-08T06:07:24.418Z"
   },
   {
    "duration": 9,
    "start_time": "2025-01-08T06:07:42.378Z"
   },
   {
    "duration": 7,
    "start_time": "2025-01-08T06:08:03.420Z"
   },
   {
    "duration": 10,
    "start_time": "2025-01-08T06:08:11.667Z"
   },
   {
    "duration": 5,
    "start_time": "2025-01-08T06:15:32.342Z"
   },
   {
    "duration": 25,
    "start_time": "2025-01-08T06:22:34.911Z"
   },
   {
    "duration": 32,
    "start_time": "2025-01-08T06:23:14.910Z"
   },
   {
    "duration": 20,
    "start_time": "2025-01-08T06:23:25.399Z"
   },
   {
    "duration": 381,
    "start_time": "2025-01-08T06:23:32.777Z"
   },
   {
    "duration": 18,
    "start_time": "2025-01-08T06:23:37.362Z"
   },
   {
    "duration": 7,
    "start_time": "2025-01-08T06:25:31.154Z"
   },
   {
    "duration": 7,
    "start_time": "2025-01-08T06:26:24.476Z"
   },
   {
    "duration": 5,
    "start_time": "2025-01-08T06:26:41.882Z"
   },
   {
    "duration": 5,
    "start_time": "2025-01-08T06:27:12.807Z"
   },
   {
    "duration": 5,
    "start_time": "2025-01-08T06:28:16.287Z"
   },
   {
    "duration": 8,
    "start_time": "2025-01-08T06:28:29.707Z"
   },
   {
    "duration": 5,
    "start_time": "2025-01-08T06:28:52.470Z"
   },
   {
    "duration": 5,
    "start_time": "2025-01-08T06:29:35.334Z"
   },
   {
    "duration": 8,
    "start_time": "2025-01-08T06:30:13.510Z"
   },
   {
    "duration": 5,
    "start_time": "2025-01-08T06:32:19.053Z"
   },
   {
    "duration": 6,
    "start_time": "2025-01-08T06:33:12.026Z"
   },
   {
    "duration": 7,
    "start_time": "2025-01-08T06:35:46.658Z"
   },
   {
    "duration": 6,
    "start_time": "2025-01-08T06:37:18.218Z"
   },
   {
    "duration": 9,
    "start_time": "2025-01-08T06:40:57.182Z"
   },
   {
    "duration": 173,
    "start_time": "2025-01-08T06:41:42.695Z"
   },
   {
    "duration": 183,
    "start_time": "2025-01-08T06:44:51.818Z"
   },
   {
    "duration": 190,
    "start_time": "2025-01-08T06:45:07.095Z"
   },
   {
    "duration": 183,
    "start_time": "2025-01-08T06:45:16.958Z"
   },
   {
    "duration": 200,
    "start_time": "2025-01-08T06:45:28.090Z"
   },
   {
    "duration": 178,
    "start_time": "2025-01-08T06:45:39.677Z"
   },
   {
    "duration": 175,
    "start_time": "2025-01-08T06:45:48.060Z"
   },
   {
    "duration": 180,
    "start_time": "2025-01-08T06:45:55.538Z"
   },
   {
    "duration": 178,
    "start_time": "2025-01-08T06:46:01.595Z"
   },
   {
    "duration": 689,
    "start_time": "2025-01-08T06:46:33.410Z"
   },
   {
    "duration": 196,
    "start_time": "2025-01-08T06:46:42.207Z"
   },
   {
    "duration": 185,
    "start_time": "2025-01-08T06:46:56.078Z"
   },
   {
    "duration": 8,
    "start_time": "2025-01-08T06:48:11.746Z"
   },
   {
    "duration": 136,
    "start_time": "2025-01-08T06:53:46.967Z"
   },
   {
    "duration": 188,
    "start_time": "2025-01-08T06:56:17.602Z"
   },
   {
    "duration": 132,
    "start_time": "2025-01-08T06:56:32.916Z"
   },
   {
    "duration": 126,
    "start_time": "2025-01-08T06:57:15.410Z"
   },
   {
    "duration": 39,
    "start_time": "2025-01-08T07:01:26.066Z"
   },
   {
    "duration": 24,
    "start_time": "2025-01-08T07:01:48.438Z"
   },
   {
    "duration": 86,
    "start_time": "2025-01-08T07:04:12.639Z"
   },
   {
    "duration": 99,
    "start_time": "2025-01-08T07:04:42.295Z"
   },
   {
    "duration": 256,
    "start_time": "2025-01-08T07:04:54.040Z"
   },
   {
    "duration": 90,
    "start_time": "2025-01-08T07:04:59.581Z"
   },
   {
    "duration": 95,
    "start_time": "2025-01-08T07:05:06.767Z"
   },
   {
    "duration": 128,
    "start_time": "2025-01-08T07:05:12.914Z"
   },
   {
    "duration": 111,
    "start_time": "2025-01-08T07:05:19.843Z"
   },
   {
    "duration": 115,
    "start_time": "2025-01-08T07:06:32.620Z"
   },
   {
    "duration": 111,
    "start_time": "2025-01-08T07:06:50.786Z"
   },
   {
    "duration": 112,
    "start_time": "2025-01-08T07:07:02.375Z"
   },
   {
    "duration": 374,
    "start_time": "2025-01-08T07:07:52.322Z"
   },
   {
    "duration": 353,
    "start_time": "2025-01-08T07:08:11.243Z"
   },
   {
    "duration": 361,
    "start_time": "2025-01-08T07:09:42.983Z"
   },
   {
    "duration": 363,
    "start_time": "2025-01-08T07:09:50.019Z"
   },
   {
    "duration": 119,
    "start_time": "2025-01-08T07:10:00.251Z"
   },
   {
    "duration": 113,
    "start_time": "2025-01-08T07:10:20.935Z"
   },
   {
    "duration": 112,
    "start_time": "2025-01-08T07:10:34.862Z"
   },
   {
    "duration": 317,
    "start_time": "2025-01-08T20:33:20.605Z"
   },
   {
    "duration": 3,
    "start_time": "2025-01-08T20:33:20.924Z"
   },
   {
    "duration": 1900,
    "start_time": "2025-01-08T20:33:20.928Z"
   },
   {
    "duration": 162,
    "start_time": "2025-01-08T20:33:22.830Z"
   },
   {
    "duration": 57,
    "start_time": "2025-01-08T20:33:22.995Z"
   },
   {
    "duration": 10,
    "start_time": "2025-01-08T20:33:23.056Z"
   },
   {
    "duration": 10,
    "start_time": "2025-01-08T20:33:23.067Z"
   },
   {
    "duration": 783,
    "start_time": "2025-01-08T20:33:23.078Z"
   },
   {
    "duration": 97,
    "start_time": "2025-01-08T20:33:23.862Z"
   },
   {
    "duration": 101,
    "start_time": "2025-01-08T20:33:23.961Z"
   },
   {
    "duration": 2,
    "start_time": "2025-01-08T20:33:24.070Z"
   },
   {
    "duration": 5,
    "start_time": "2025-01-08T20:33:24.074Z"
   },
   {
    "duration": 28,
    "start_time": "2025-01-08T20:33:24.081Z"
   },
   {
    "duration": 5,
    "start_time": "2025-01-08T20:33:24.113Z"
   },
   {
    "duration": 18,
    "start_time": "2025-01-08T20:33:24.119Z"
   },
   {
    "duration": 170,
    "start_time": "2025-01-08T20:33:24.138Z"
   },
   {
    "duration": 121,
    "start_time": "2025-01-08T20:33:24.310Z"
   },
   {
    "duration": 4,
    "start_time": "2025-01-08T20:33:24.433Z"
   },
   {
    "duration": 45,
    "start_time": "2025-01-08T20:33:24.438Z"
   },
   {
    "duration": 25,
    "start_time": "2025-01-08T20:33:24.485Z"
   },
   {
    "duration": 12,
    "start_time": "2025-01-08T20:33:24.511Z"
   },
   {
    "duration": 6,
    "start_time": "2025-01-08T20:33:24.525Z"
   },
   {
    "duration": 13,
    "start_time": "2025-01-08T20:33:24.532Z"
   },
   {
    "duration": 3,
    "start_time": "2025-01-08T20:33:24.571Z"
   },
   {
    "duration": 5,
    "start_time": "2025-01-08T20:33:24.575Z"
   },
   {
    "duration": 3,
    "start_time": "2025-01-08T20:33:24.582Z"
   },
   {
    "duration": 25,
    "start_time": "2025-01-08T20:33:24.587Z"
   },
   {
    "duration": 18,
    "start_time": "2025-01-08T20:33:24.613Z"
   },
   {
    "duration": 37,
    "start_time": "2025-01-08T20:33:24.633Z"
   },
   {
    "duration": 12,
    "start_time": "2025-01-08T20:33:24.671Z"
   },
   {
    "duration": 13,
    "start_time": "2025-01-08T20:33:24.685Z"
   },
   {
    "duration": 22,
    "start_time": "2025-01-08T20:33:24.700Z"
   },
   {
    "duration": 4,
    "start_time": "2025-01-08T20:33:24.724Z"
   },
   {
    "duration": 81,
    "start_time": "2025-01-08T20:33:24.730Z"
   },
   {
    "duration": 14,
    "start_time": "2025-01-08T20:33:24.813Z"
   },
   {
    "duration": 13,
    "start_time": "2025-01-08T20:33:24.829Z"
   },
   {
    "duration": 7,
    "start_time": "2025-01-08T20:33:24.844Z"
   },
   {
    "duration": 27,
    "start_time": "2025-01-08T20:33:24.852Z"
   },
   {
    "duration": 3,
    "start_time": "2025-01-08T20:33:24.881Z"
   },
   {
    "duration": 8,
    "start_time": "2025-01-08T20:33:24.887Z"
   },
   {
    "duration": 6,
    "start_time": "2025-01-08T20:33:24.901Z"
   },
   {
    "duration": 4,
    "start_time": "2025-01-08T20:33:24.908Z"
   },
   {
    "duration": 8,
    "start_time": "2025-01-08T20:33:24.913Z"
   },
   {
    "duration": 5,
    "start_time": "2025-01-08T20:33:24.923Z"
   },
   {
    "duration": 21,
    "start_time": "2025-01-08T20:33:24.970Z"
   },
   {
    "duration": 7,
    "start_time": "2025-01-08T20:33:24.993Z"
   },
   {
    "duration": 759,
    "start_time": "2025-01-08T20:33:25.002Z"
   },
   {
    "duration": 9,
    "start_time": "2025-01-08T20:33:25.762Z"
   },
   {
    "duration": 10,
    "start_time": "2025-01-08T20:33:25.772Z"
   },
   {
    "duration": 6,
    "start_time": "2025-01-08T20:33:25.784Z"
   },
   {
    "duration": 7,
    "start_time": "2025-01-08T20:33:25.792Z"
   },
   {
    "duration": 7,
    "start_time": "2025-01-08T20:33:25.801Z"
   },
   {
    "duration": 7,
    "start_time": "2025-01-08T20:33:25.810Z"
   },
   {
    "duration": 8,
    "start_time": "2025-01-08T20:33:25.819Z"
   },
   {
    "duration": 48,
    "start_time": "2025-01-08T20:33:25.829Z"
   },
   {
    "duration": 7,
    "start_time": "2025-01-08T20:33:25.879Z"
   },
   {
    "duration": 6,
    "start_time": "2025-01-08T20:33:25.888Z"
   },
   {
    "duration": 799,
    "start_time": "2025-01-08T20:33:25.895Z"
   },
   {
    "duration": 205,
    "start_time": "2025-01-08T20:33:26.696Z"
   },
   {
    "duration": 21,
    "start_time": "2025-01-08T20:33:26.903Z"
   },
   {
    "duration": 6,
    "start_time": "2025-01-08T20:33:26.926Z"
   },
   {
    "duration": 49,
    "start_time": "2025-01-08T20:33:26.933Z"
   },
   {
    "duration": 107,
    "start_time": "2025-01-08T20:33:26.984Z"
   },
   {
    "duration": 10,
    "start_time": "2025-01-08T20:33:27.093Z"
   },
   {
    "duration": 10,
    "start_time": "2025-01-08T20:33:27.105Z"
   },
   {
    "duration": 9,
    "start_time": "2025-01-08T20:33:27.117Z"
   },
   {
    "duration": 5,
    "start_time": "2025-01-08T20:33:27.127Z"
   },
   {
    "duration": 78,
    "start_time": "2025-01-08T20:33:27.134Z"
   },
   {
    "duration": 6,
    "start_time": "2025-01-08T20:33:27.214Z"
   },
   {
    "duration": 6,
    "start_time": "2025-01-08T20:33:27.222Z"
   },
   {
    "duration": 221,
    "start_time": "2025-01-08T20:33:27.229Z"
   },
   {
    "duration": 140,
    "start_time": "2025-01-08T20:33:27.452Z"
   },
   {
    "duration": 120,
    "start_time": "2025-01-08T20:33:27.594Z"
   },
   {
    "duration": 10,
    "start_time": "2025-01-08T20:34:37.488Z"
   },
   {
    "duration": 8,
    "start_time": "2025-01-08T20:35:18.439Z"
   },
   {
    "duration": 9,
    "start_time": "2025-01-08T20:35:35.847Z"
   },
   {
    "duration": 229,
    "start_time": "2025-01-08T20:36:13.430Z"
   },
   {
    "duration": 193,
    "start_time": "2025-01-08T20:38:26.429Z"
   },
   {
    "duration": 180,
    "start_time": "2025-01-08T20:38:45.490Z"
   },
   {
    "duration": 181,
    "start_time": "2025-01-08T20:38:52.850Z"
   },
   {
    "duration": 170,
    "start_time": "2025-01-08T20:39:25.860Z"
   },
   {
    "duration": 178,
    "start_time": "2025-01-08T20:39:34.303Z"
   },
   {
    "duration": 189,
    "start_time": "2025-01-08T20:39:41.487Z"
   },
   {
    "duration": 248,
    "start_time": "2025-01-08T20:39:47.877Z"
   },
   {
    "duration": 210,
    "start_time": "2025-01-08T20:39:59.624Z"
   },
   {
    "duration": 6,
    "start_time": "2025-01-08T20:42:14.809Z"
   },
   {
    "duration": 4,
    "start_time": "2025-01-08T20:42:48.432Z"
   },
   {
    "duration": 228,
    "start_time": "2025-01-08T20:43:03.458Z"
   },
   {
    "duration": 240,
    "start_time": "2025-01-08T20:43:39.632Z"
   },
   {
    "duration": 4,
    "start_time": "2025-01-08T20:46:14.247Z"
   },
   {
    "duration": 8,
    "start_time": "2025-01-08T20:46:41.414Z"
   },
   {
    "duration": 7,
    "start_time": "2025-01-08T20:46:50.428Z"
   },
   {
    "duration": 9,
    "start_time": "2025-01-08T20:49:52.012Z"
   },
   {
    "duration": 9,
    "start_time": "2025-01-08T20:50:28.772Z"
   },
   {
    "duration": 8,
    "start_time": "2025-01-08T20:50:46.041Z"
   },
   {
    "duration": 9,
    "start_time": "2025-01-08T20:51:17.045Z"
   },
   {
    "duration": 8,
    "start_time": "2025-01-08T20:51:34.797Z"
   },
   {
    "duration": 7,
    "start_time": "2025-01-08T20:51:44.179Z"
   },
   {
    "duration": 10,
    "start_time": "2025-01-08T20:52:13.061Z"
   },
   {
    "duration": 8,
    "start_time": "2025-01-08T20:52:36.661Z"
   },
   {
    "duration": 8,
    "start_time": "2025-01-08T20:56:23.190Z"
   },
   {
    "duration": 825,
    "start_time": "2025-01-08T20:58:59.296Z"
   },
   {
    "duration": 14,
    "start_time": "2025-01-08T20:59:12.673Z"
   },
   {
    "duration": 19,
    "start_time": "2025-01-08T20:59:19.882Z"
   },
   {
    "duration": 19,
    "start_time": "2025-01-08T21:00:32.714Z"
   },
   {
    "duration": 124,
    "start_time": "2025-01-08T21:02:00.797Z"
   },
   {
    "duration": 153,
    "start_time": "2025-01-08T21:02:46.433Z"
   },
   {
    "duration": 143,
    "start_time": "2025-01-08T21:03:01.341Z"
   },
   {
    "duration": 139,
    "start_time": "2025-01-08T21:03:31.526Z"
   },
   {
    "duration": 146,
    "start_time": "2025-01-08T21:03:36.983Z"
   },
   {
    "duration": 146,
    "start_time": "2025-01-08T21:03:45.361Z"
   },
   {
    "duration": 4,
    "start_time": "2025-01-08T21:03:55.547Z"
   },
   {
    "duration": 145,
    "start_time": "2025-01-08T21:04:01.294Z"
   },
   {
    "duration": 140,
    "start_time": "2025-01-08T21:04:15.958Z"
   },
   {
    "duration": 183,
    "start_time": "2025-01-08T21:06:36.448Z"
   },
   {
    "duration": 191,
    "start_time": "2025-01-08T21:07:15.321Z"
   },
   {
    "duration": 24,
    "start_time": "2025-01-08T21:08:37.959Z"
   },
   {
    "duration": 186,
    "start_time": "2025-01-08T21:08:52.808Z"
   },
   {
    "duration": 23,
    "start_time": "2025-01-08T21:09:10.171Z"
   },
   {
    "duration": 23,
    "start_time": "2025-01-08T21:09:19.499Z"
   },
   {
    "duration": 181,
    "start_time": "2025-01-08T21:09:42.371Z"
   },
   {
    "duration": 183,
    "start_time": "2025-01-08T21:10:13.390Z"
   },
   {
    "duration": 190,
    "start_time": "2025-01-08T21:10:38.109Z"
   },
   {
    "duration": 192,
    "start_time": "2025-01-08T21:10:50.885Z"
   },
   {
    "duration": 190,
    "start_time": "2025-01-08T21:11:14.940Z"
   },
   {
    "duration": 315,
    "start_time": "2025-01-08T21:12:36.537Z"
   },
   {
    "duration": 194,
    "start_time": "2025-01-08T21:12:54.708Z"
   },
   {
    "duration": 4,
    "start_time": "2025-01-08T21:13:42.468Z"
   },
   {
    "duration": 5,
    "start_time": "2025-01-08T21:13:58.526Z"
   },
   {
    "duration": 9,
    "start_time": "2025-01-08T21:17:49.997Z"
   },
   {
    "duration": 7,
    "start_time": "2025-01-08T21:17:59.503Z"
   },
   {
    "duration": 42,
    "start_time": "2025-01-08T21:35:30.234Z"
   },
   {
    "duration": 139,
    "start_time": "2025-01-08T22:16:21.074Z"
   },
   {
    "duration": 136,
    "start_time": "2025-01-08T22:16:41.999Z"
   },
   {
    "duration": 147,
    "start_time": "2025-01-08T22:17:12.243Z"
   },
   {
    "duration": 155,
    "start_time": "2025-01-08T22:18:11.344Z"
   },
   {
    "duration": 155,
    "start_time": "2025-01-08T22:19:24.693Z"
   },
   {
    "duration": 152,
    "start_time": "2025-01-08T22:19:44.159Z"
   },
   {
    "duration": 162,
    "start_time": "2025-01-08T22:20:07.031Z"
   },
   {
    "duration": 169,
    "start_time": "2025-01-08T22:20:14.241Z"
   },
   {
    "duration": 154,
    "start_time": "2025-01-08T22:20:20.497Z"
   },
   {
    "duration": 155,
    "start_time": "2025-01-08T22:20:30.834Z"
   },
   {
    "duration": 154,
    "start_time": "2025-01-08T22:21:45.907Z"
   },
   {
    "duration": 156,
    "start_time": "2025-01-08T22:21:56.307Z"
   },
   {
    "duration": 7,
    "start_time": "2025-01-08T23:08:16.967Z"
   },
   {
    "duration": 8,
    "start_time": "2025-01-08T23:09:01.640Z"
   },
   {
    "duration": 6,
    "start_time": "2025-01-08T23:10:15.373Z"
   },
   {
    "duration": 660,
    "start_time": "2025-01-08T23:11:58.362Z"
   },
   {
    "duration": 637,
    "start_time": "2025-01-08T23:12:38.785Z"
   },
   {
    "duration": 673,
    "start_time": "2025-01-08T23:12:59.091Z"
   },
   {
    "duration": 568,
    "start_time": "2025-01-08T23:17:26.034Z"
   },
   {
    "duration": 437,
    "start_time": "2025-01-08T23:18:26.610Z"
   },
   {
    "duration": 411,
    "start_time": "2025-01-08T23:18:38.371Z"
   },
   {
    "duration": 157,
    "start_time": "2025-01-08T23:18:58.148Z"
   },
   {
    "duration": 11,
    "start_time": "2025-01-08T23:19:06.396Z"
   },
   {
    "duration": 303,
    "start_time": "2025-01-08T23:19:12.569Z"
   },
   {
    "duration": 2,
    "start_time": "2025-01-08T23:19:12.875Z"
   },
   {
    "duration": 136,
    "start_time": "2025-01-08T23:19:12.878Z"
   },
   {
    "duration": 192,
    "start_time": "2025-01-08T23:19:13.015Z"
   },
   {
    "duration": 58,
    "start_time": "2025-01-08T23:19:13.210Z"
   },
   {
    "duration": 11,
    "start_time": "2025-01-08T23:19:13.270Z"
   },
   {
    "duration": 11,
    "start_time": "2025-01-08T23:19:13.282Z"
   },
   {
    "duration": 802,
    "start_time": "2025-01-08T23:19:13.295Z"
   },
   {
    "duration": 107,
    "start_time": "2025-01-08T23:19:14.099Z"
   },
   {
    "duration": 103,
    "start_time": "2025-01-08T23:19:14.207Z"
   },
   {
    "duration": 2,
    "start_time": "2025-01-08T23:19:14.312Z"
   },
   {
    "duration": 5,
    "start_time": "2025-01-08T23:19:14.316Z"
   },
   {
    "duration": 51,
    "start_time": "2025-01-08T23:19:14.323Z"
   },
   {
    "duration": 5,
    "start_time": "2025-01-08T23:19:14.379Z"
   },
   {
    "duration": 23,
    "start_time": "2025-01-08T23:19:14.385Z"
   },
   {
    "duration": 161,
    "start_time": "2025-01-08T23:19:14.410Z"
   },
   {
    "duration": 110,
    "start_time": "2025-01-08T23:19:14.573Z"
   },
   {
    "duration": 4,
    "start_time": "2025-01-08T23:19:14.685Z"
   },
   {
    "duration": 34,
    "start_time": "2025-01-08T23:19:14.690Z"
   },
   {
    "duration": 46,
    "start_time": "2025-01-08T23:19:14.726Z"
   },
   {
    "duration": 10,
    "start_time": "2025-01-08T23:19:14.774Z"
   },
   {
    "duration": 6,
    "start_time": "2025-01-08T23:19:14.786Z"
   },
   {
    "duration": 12,
    "start_time": "2025-01-08T23:19:14.794Z"
   },
   {
    "duration": 3,
    "start_time": "2025-01-08T23:19:14.808Z"
   },
   {
    "duration": 5,
    "start_time": "2025-01-08T23:19:14.814Z"
   },
   {
    "duration": 3,
    "start_time": "2025-01-08T23:19:14.820Z"
   },
   {
    "duration": 63,
    "start_time": "2025-01-08T23:19:14.824Z"
   },
   {
    "duration": 17,
    "start_time": "2025-01-08T23:19:14.889Z"
   },
   {
    "duration": 5,
    "start_time": "2025-01-08T23:19:14.908Z"
   },
   {
    "duration": 12,
    "start_time": "2025-01-08T23:19:14.914Z"
   },
   {
    "duration": 12,
    "start_time": "2025-01-08T23:19:14.928Z"
   },
   {
    "duration": 48,
    "start_time": "2025-01-08T23:19:14.942Z"
   },
   {
    "duration": 4,
    "start_time": "2025-01-08T23:19:14.991Z"
   },
   {
    "duration": 54,
    "start_time": "2025-01-08T23:19:14.996Z"
   },
   {
    "duration": 15,
    "start_time": "2025-01-08T23:19:15.071Z"
   },
   {
    "duration": 13,
    "start_time": "2025-01-08T23:19:15.088Z"
   },
   {
    "duration": 8,
    "start_time": "2025-01-08T23:19:15.103Z"
   },
   {
    "duration": 9,
    "start_time": "2025-01-08T23:19:15.113Z"
   },
   {
    "duration": 3,
    "start_time": "2025-01-08T23:19:15.123Z"
   },
   {
    "duration": 42,
    "start_time": "2025-01-08T23:19:15.128Z"
   },
   {
    "duration": 5,
    "start_time": "2025-01-08T23:19:15.176Z"
   },
   {
    "duration": 4,
    "start_time": "2025-01-08T23:19:15.183Z"
   },
   {
    "duration": 9,
    "start_time": "2025-01-08T23:19:15.188Z"
   },
   {
    "duration": 6,
    "start_time": "2025-01-08T23:19:15.198Z"
   },
   {
    "duration": 23,
    "start_time": "2025-01-08T23:19:15.205Z"
   },
   {
    "duration": 6,
    "start_time": "2025-01-08T23:19:15.230Z"
   },
   {
    "duration": 763,
    "start_time": "2025-01-08T23:19:15.270Z"
   },
   {
    "duration": 3,
    "start_time": "2025-01-08T23:19:16.034Z"
   },
   {
    "duration": 9,
    "start_time": "2025-01-08T23:19:16.039Z"
   },
   {
    "duration": 22,
    "start_time": "2025-01-08T23:19:16.050Z"
   },
   {
    "duration": 7,
    "start_time": "2025-01-08T23:19:16.075Z"
   },
   {
    "duration": 8,
    "start_time": "2025-01-08T23:19:16.084Z"
   },
   {
    "duration": 7,
    "start_time": "2025-01-08T23:19:16.094Z"
   },
   {
    "duration": 7,
    "start_time": "2025-01-08T23:19:16.102Z"
   },
   {
    "duration": 11,
    "start_time": "2025-01-08T23:19:16.111Z"
   },
   {
    "duration": 7,
    "start_time": "2025-01-08T23:19:16.123Z"
   },
   {
    "duration": 7,
    "start_time": "2025-01-08T23:19:16.170Z"
   },
   {
    "duration": 821,
    "start_time": "2025-01-08T23:19:16.178Z"
   },
   {
    "duration": 210,
    "start_time": "2025-01-08T23:19:17.001Z"
   },
   {
    "duration": 22,
    "start_time": "2025-01-08T23:19:17.213Z"
   },
   {
    "duration": 7,
    "start_time": "2025-01-08T23:19:17.237Z"
   },
   {
    "duration": 53,
    "start_time": "2025-01-08T23:19:17.246Z"
   },
   {
    "duration": 101,
    "start_time": "2025-01-08T23:19:17.301Z"
   },
   {
    "duration": 11,
    "start_time": "2025-01-08T23:19:17.404Z"
   },
   {
    "duration": 10,
    "start_time": "2025-01-08T23:19:17.416Z"
   },
   {
    "duration": 9,
    "start_time": "2025-01-08T23:19:17.428Z"
   },
   {
    "duration": 31,
    "start_time": "2025-01-08T23:19:17.439Z"
   },
   {
    "duration": 37,
    "start_time": "2025-01-08T23:19:17.472Z"
   },
   {
    "duration": 5,
    "start_time": "2025-01-08T23:19:17.511Z"
   },
   {
    "duration": 5,
    "start_time": "2025-01-08T23:19:17.518Z"
   },
   {
    "duration": 229,
    "start_time": "2025-01-08T23:19:17.525Z"
   },
   {
    "duration": 134,
    "start_time": "2025-01-08T23:19:17.756Z"
   },
   {
    "duration": 123,
    "start_time": "2025-01-08T23:19:17.892Z"
   },
   {
    "duration": 238,
    "start_time": "2025-01-08T23:19:18.016Z"
   },
   {
    "duration": 14,
    "start_time": "2025-01-08T23:19:18.256Z"
   },
   {
    "duration": 200,
    "start_time": "2025-01-08T23:19:18.272Z"
   },
   {
    "duration": 161,
    "start_time": "2025-01-08T23:19:18.473Z"
   },
   {
    "duration": 6,
    "start_time": "2025-01-08T23:19:18.636Z"
   },
   {
    "duration": 7,
    "start_time": "2025-01-08T23:19:18.644Z"
   },
   {
    "duration": 22,
    "start_time": "2025-01-08T23:19:18.653Z"
   },
   {
    "duration": 633,
    "start_time": "2025-01-08T23:19:18.677Z"
   },
   {
    "duration": 403,
    "start_time": "2025-01-08T23:19:19.312Z"
   },
   {
    "duration": 106,
    "start_time": "2025-01-08T23:23:39.474Z"
   },
   {
    "duration": 19,
    "start_time": "2025-01-08T23:23:55.355Z"
   },
   {
    "duration": 692,
    "start_time": "2025-01-08T23:24:37.582Z"
   },
   {
    "duration": 829,
    "start_time": "2025-01-08T23:25:16.229Z"
   },
   {
    "duration": 832,
    "start_time": "2025-01-08T23:25:28.725Z"
   },
   {
    "duration": 376,
    "start_time": "2025-01-08T23:27:16.681Z"
   },
   {
    "duration": 253,
    "start_time": "2025-01-08T23:28:26.176Z"
   },
   {
    "duration": 390,
    "start_time": "2025-01-08T23:29:12.923Z"
   },
   {
    "duration": 259,
    "start_time": "2025-01-08T23:29:18.847Z"
   },
   {
    "duration": 251,
    "start_time": "2025-01-08T23:29:37.612Z"
   },
   {
    "duration": 491,
    "start_time": "2025-01-08T23:30:48.065Z"
   },
   {
    "duration": 60,
    "start_time": "2025-01-08T23:31:05.750Z"
   },
   {
    "duration": 864,
    "start_time": "2025-01-08T23:31:30.759Z"
   },
   {
    "duration": 249,
    "start_time": "2025-01-08T23:32:20.548Z"
   },
   {
    "duration": 10,
    "start_time": "2025-01-08T23:32:53.400Z"
   },
   {
    "duration": 867,
    "start_time": "2025-01-08T23:33:02.837Z"
   },
   {
    "duration": 256,
    "start_time": "2025-01-08T23:33:24.638Z"
   },
   {
    "duration": 9,
    "start_time": "2025-01-08T23:33:42.268Z"
   },
   {
    "duration": 885,
    "start_time": "2025-01-08T23:33:49.033Z"
   },
   {
    "duration": 263,
    "start_time": "2025-01-08T23:34:00.617Z"
   },
   {
    "duration": 249,
    "start_time": "2025-01-08T23:38:40.404Z"
   },
   {
    "duration": 29,
    "start_time": "2025-01-08T23:38:55.109Z"
   },
   {
    "duration": 209,
    "start_time": "2025-01-08T23:39:27.491Z"
   },
   {
    "duration": 40,
    "start_time": "2025-01-08T23:40:01.341Z"
   },
   {
    "duration": 42,
    "start_time": "2025-01-08T23:40:14.684Z"
   },
   {
    "duration": 39,
    "start_time": "2025-01-08T23:41:03.141Z"
   },
   {
    "duration": 39,
    "start_time": "2025-01-08T23:41:11.826Z"
   },
   {
    "duration": 39,
    "start_time": "2025-01-08T23:41:21.953Z"
   },
   {
    "duration": 39,
    "start_time": "2025-01-08T23:41:42.585Z"
   },
   {
    "duration": 308,
    "start_time": "2025-01-08T23:41:54.847Z"
   },
   {
    "duration": 3,
    "start_time": "2025-01-08T23:41:55.157Z"
   },
   {
    "duration": 140,
    "start_time": "2025-01-08T23:41:55.161Z"
   },
   {
    "duration": 188,
    "start_time": "2025-01-08T23:41:55.303Z"
   },
   {
    "duration": 57,
    "start_time": "2025-01-08T23:41:55.492Z"
   },
   {
    "duration": 9,
    "start_time": "2025-01-08T23:41:55.551Z"
   },
   {
    "duration": 9,
    "start_time": "2025-01-08T23:41:55.561Z"
   },
   {
    "duration": 811,
    "start_time": "2025-01-08T23:41:55.571Z"
   },
   {
    "duration": 102,
    "start_time": "2025-01-08T23:41:56.384Z"
   },
   {
    "duration": 122,
    "start_time": "2025-01-08T23:41:56.489Z"
   },
   {
    "duration": 2,
    "start_time": "2025-01-08T23:41:56.613Z"
   },
   {
    "duration": 6,
    "start_time": "2025-01-08T23:41:56.617Z"
   },
   {
    "duration": 47,
    "start_time": "2025-01-08T23:41:56.625Z"
   },
   {
    "duration": 6,
    "start_time": "2025-01-08T23:41:56.674Z"
   },
   {
    "duration": 17,
    "start_time": "2025-01-08T23:41:56.682Z"
   },
   {
    "duration": 162,
    "start_time": "2025-01-08T23:41:56.700Z"
   },
   {
    "duration": 124,
    "start_time": "2025-01-08T23:41:56.864Z"
   },
   {
    "duration": 3,
    "start_time": "2025-01-08T23:41:56.990Z"
   },
   {
    "duration": 34,
    "start_time": "2025-01-08T23:41:56.995Z"
   },
   {
    "duration": 48,
    "start_time": "2025-01-08T23:41:57.031Z"
   },
   {
    "duration": 14,
    "start_time": "2025-01-08T23:41:57.081Z"
   },
   {
    "duration": 6,
    "start_time": "2025-01-08T23:41:57.098Z"
   },
   {
    "duration": 14,
    "start_time": "2025-01-08T23:41:57.107Z"
   },
   {
    "duration": 3,
    "start_time": "2025-01-08T23:41:57.123Z"
   },
   {
    "duration": 4,
    "start_time": "2025-01-08T23:41:57.128Z"
   },
   {
    "duration": 38,
    "start_time": "2025-01-08T23:41:57.135Z"
   },
   {
    "duration": 32,
    "start_time": "2025-01-08T23:41:57.174Z"
   },
   {
    "duration": 19,
    "start_time": "2025-01-08T23:41:57.212Z"
   },
   {
    "duration": 5,
    "start_time": "2025-01-08T23:41:57.233Z"
   },
   {
    "duration": 33,
    "start_time": "2025-01-08T23:41:57.240Z"
   },
   {
    "duration": 14,
    "start_time": "2025-01-08T23:41:57.275Z"
   },
   {
    "duration": 24,
    "start_time": "2025-01-08T23:41:57.291Z"
   },
   {
    "duration": 4,
    "start_time": "2025-01-08T23:41:57.317Z"
   },
   {
    "duration": 76,
    "start_time": "2025-01-08T23:41:57.323Z"
   },
   {
    "duration": 15,
    "start_time": "2025-01-08T23:41:57.401Z"
   },
   {
    "duration": 14,
    "start_time": "2025-01-08T23:41:57.418Z"
   },
   {
    "duration": 7,
    "start_time": "2025-01-08T23:41:57.434Z"
   },
   {
    "duration": 35,
    "start_time": "2025-01-08T23:41:57.443Z"
   },
   {
    "duration": 3,
    "start_time": "2025-01-08T23:41:57.480Z"
   },
   {
    "duration": 7,
    "start_time": "2025-01-08T23:41:57.485Z"
   },
   {
    "duration": 6,
    "start_time": "2025-01-08T23:41:57.494Z"
   },
   {
    "duration": 4,
    "start_time": "2025-01-08T23:41:57.501Z"
   },
   {
    "duration": 9,
    "start_time": "2025-01-08T23:41:57.507Z"
   },
   {
    "duration": 5,
    "start_time": "2025-01-08T23:41:57.518Z"
   },
   {
    "duration": 62,
    "start_time": "2025-01-08T23:41:57.524Z"
   },
   {
    "duration": 7,
    "start_time": "2025-01-08T23:41:57.588Z"
   },
   {
    "duration": 761,
    "start_time": "2025-01-08T23:41:57.596Z"
   },
   {
    "duration": 3,
    "start_time": "2025-01-08T23:41:58.359Z"
   },
   {
    "duration": 11,
    "start_time": "2025-01-08T23:41:58.370Z"
   },
   {
    "duration": 7,
    "start_time": "2025-01-08T23:41:58.382Z"
   },
   {
    "duration": 8,
    "start_time": "2025-01-08T23:41:58.391Z"
   },
   {
    "duration": 7,
    "start_time": "2025-01-08T23:41:58.401Z"
   },
   {
    "duration": 8,
    "start_time": "2025-01-08T23:41:58.409Z"
   },
   {
    "duration": 9,
    "start_time": "2025-01-08T23:41:58.419Z"
   },
   {
    "duration": 48,
    "start_time": "2025-01-08T23:41:58.429Z"
   },
   {
    "duration": 7,
    "start_time": "2025-01-08T23:41:58.479Z"
   },
   {
    "duration": 6,
    "start_time": "2025-01-08T23:41:58.487Z"
   },
   {
    "duration": 769,
    "start_time": "2025-01-08T23:41:58.495Z"
   },
   {
    "duration": 203,
    "start_time": "2025-01-08T23:41:59.270Z"
   },
   {
    "duration": 21,
    "start_time": "2025-01-08T23:41:59.475Z"
   },
   {
    "duration": 6,
    "start_time": "2025-01-08T23:41:59.497Z"
   },
   {
    "duration": 31,
    "start_time": "2025-01-08T23:41:59.505Z"
   },
   {
    "duration": 121,
    "start_time": "2025-01-08T23:41:59.538Z"
   },
   {
    "duration": 14,
    "start_time": "2025-01-08T23:41:59.661Z"
   },
   {
    "duration": 10,
    "start_time": "2025-01-08T23:41:59.676Z"
   },
   {
    "duration": 8,
    "start_time": "2025-01-08T23:41:59.687Z"
   },
   {
    "duration": 5,
    "start_time": "2025-01-08T23:41:59.697Z"
   },
   {
    "duration": 68,
    "start_time": "2025-01-08T23:41:59.703Z"
   },
   {
    "duration": 5,
    "start_time": "2025-01-08T23:41:59.773Z"
   },
   {
    "duration": 5,
    "start_time": "2025-01-08T23:41:59.780Z"
   },
   {
    "duration": 216,
    "start_time": "2025-01-08T23:41:59.786Z"
   },
   {
    "duration": 140,
    "start_time": "2025-01-08T23:42:00.004Z"
   },
   {
    "duration": 133,
    "start_time": "2025-01-08T23:42:00.147Z"
   },
   {
    "duration": 251,
    "start_time": "2025-01-08T23:42:00.282Z"
   },
   {
    "duration": 9,
    "start_time": "2025-01-08T23:42:00.535Z"
   },
   {
    "duration": 204,
    "start_time": "2025-01-08T23:42:00.545Z"
   },
   {
    "duration": 167,
    "start_time": "2025-01-08T23:42:00.751Z"
   },
   {
    "duration": 6,
    "start_time": "2025-01-08T23:42:00.920Z"
   },
   {
    "duration": 8,
    "start_time": "2025-01-08T23:42:00.928Z"
   },
   {
    "duration": 5,
    "start_time": "2025-01-08T23:42:00.938Z"
   },
   {
    "duration": 715,
    "start_time": "2025-01-08T23:42:00.945Z"
   },
   {
    "duration": 858,
    "start_time": "2025-01-08T23:42:01.669Z"
   },
   {
    "duration": 4,
    "start_time": "2025-01-08T23:42:02.529Z"
   },
   {
    "duration": 5,
    "start_time": "2025-01-08T23:51:37.119Z"
   },
   {
    "duration": 3,
    "start_time": "2025-01-08T23:52:09.852Z"
   },
   {
    "duration": 4,
    "start_time": "2025-01-08T23:52:37.157Z"
   },
   {
    "duration": 470,
    "start_time": "2025-01-08T23:52:46.392Z"
   },
   {
    "duration": 5,
    "start_time": "2025-01-08T23:54:40.856Z"
   },
   {
    "duration": 4,
    "start_time": "2025-01-08T23:54:56.386Z"
   },
   {
    "duration": 4,
    "start_time": "2025-01-08T23:55:09.340Z"
   },
   {
    "duration": 3,
    "start_time": "2025-01-08T23:55:21.743Z"
   },
   {
    "duration": 313,
    "start_time": "2025-01-08T23:55:50.659Z"
   },
   {
    "duration": 444,
    "start_time": "2025-01-08T23:56:13.714Z"
   },
   {
    "duration": 34,
    "start_time": "2025-01-09T00:00:00.698Z"
   },
   {
    "duration": 26,
    "start_time": "2025-01-09T00:00:07.931Z"
   },
   {
    "duration": 617,
    "start_time": "2025-01-09T00:05:17.596Z"
   },
   {
    "duration": 457,
    "start_time": "2025-01-09T00:06:57.265Z"
   },
   {
    "duration": 721,
    "start_time": "2025-01-09T00:08:21.433Z"
   },
   {
    "duration": 497,
    "start_time": "2025-01-09T00:08:34.354Z"
   },
   {
    "duration": 499,
    "start_time": "2025-01-09T00:08:44.371Z"
   },
   {
    "duration": 656,
    "start_time": "2025-01-09T00:09:08.325Z"
   },
   {
    "duration": 677,
    "start_time": "2025-01-09T00:09:31.974Z"
   },
   {
    "duration": 684,
    "start_time": "2025-01-09T00:09:43.145Z"
   },
   {
    "duration": 724,
    "start_time": "2025-01-09T00:10:07.770Z"
   },
   {
    "duration": 634,
    "start_time": "2025-01-09T00:10:24.683Z"
   },
   {
    "duration": 653,
    "start_time": "2025-01-09T00:10:30.284Z"
   },
   {
    "duration": 701,
    "start_time": "2025-01-09T00:10:51.496Z"
   },
   {
    "duration": 683,
    "start_time": "2025-01-09T00:11:06.787Z"
   },
   {
    "duration": 672,
    "start_time": "2025-01-09T00:11:22.073Z"
   },
   {
    "duration": 723,
    "start_time": "2025-01-09T00:11:33.655Z"
   },
   {
    "duration": 674,
    "start_time": "2025-01-09T00:11:40.977Z"
   },
   {
    "duration": 687,
    "start_time": "2025-01-09T00:12:19.554Z"
   },
   {
    "duration": 685,
    "start_time": "2025-01-09T00:13:01.903Z"
   },
   {
    "duration": 720,
    "start_time": "2025-01-09T00:14:34.214Z"
   },
   {
    "duration": 809,
    "start_time": "2025-01-09T00:14:46.490Z"
   },
   {
    "duration": 706,
    "start_time": "2025-01-09T00:16:08.771Z"
   },
   {
    "duration": 10,
    "start_time": "2025-01-09T00:19:12.838Z"
   },
   {
    "duration": 137,
    "start_time": "2025-01-09T00:24:33.420Z"
   },
   {
    "duration": 130,
    "start_time": "2025-01-09T00:24:45.367Z"
   },
   {
    "duration": 40,
    "start_time": "2025-01-09T00:25:23.320Z"
   },
   {
    "duration": 39,
    "start_time": "2025-01-09T00:25:37.020Z"
   },
   {
    "duration": 70,
    "start_time": "2025-01-09T00:35:34.909Z"
   },
   {
    "duration": 7,
    "start_time": "2025-01-09T00:36:22.059Z"
   },
   {
    "duration": 395,
    "start_time": "2025-01-09T00:37:08.003Z"
   },
   {
    "duration": 7,
    "start_time": "2025-01-09T00:37:35.863Z"
   },
   {
    "duration": 4,
    "start_time": "2025-01-09T00:38:23.517Z"
   },
   {
    "duration": 1800,
    "start_time": "2025-01-09T00:39:43.749Z"
   },
   {
    "duration": 375,
    "start_time": "2025-01-09T00:40:46.340Z"
   },
   {
    "duration": 272,
    "start_time": "2025-01-09T00:42:18.103Z"
   },
   {
    "duration": 289,
    "start_time": "2025-01-09T00:42:51.605Z"
   },
   {
    "duration": 4,
    "start_time": "2025-01-09T00:43:07.751Z"
   },
   {
    "duration": 266,
    "start_time": "2025-01-09T00:43:12.967Z"
   },
   {
    "duration": 285,
    "start_time": "2025-01-09T00:43:34.752Z"
   },
   {
    "duration": 252,
    "start_time": "2025-01-09T00:44:23.227Z"
   },
   {
    "duration": 149,
    "start_time": "2025-01-09T00:45:47.252Z"
   },
   {
    "duration": 293,
    "start_time": "2025-01-09T22:18:48.349Z"
   },
   {
    "duration": 2,
    "start_time": "2025-01-09T22:18:48.644Z"
   },
   {
    "duration": 1836,
    "start_time": "2025-01-09T22:18:48.648Z"
   },
   {
    "duration": 160,
    "start_time": "2025-01-09T22:18:50.487Z"
   },
   {
    "duration": 58,
    "start_time": "2025-01-09T22:18:50.649Z"
   },
   {
    "duration": 10,
    "start_time": "2025-01-09T22:18:50.709Z"
   },
   {
    "duration": 9,
    "start_time": "2025-01-09T22:18:50.720Z"
   },
   {
    "duration": 811,
    "start_time": "2025-01-09T22:18:50.730Z"
   },
   {
    "duration": 116,
    "start_time": "2025-01-09T22:18:51.543Z"
   },
   {
    "duration": 97,
    "start_time": "2025-01-09T22:18:51.663Z"
   },
   {
    "duration": 10,
    "start_time": "2025-01-09T22:18:51.761Z"
   },
   {
    "duration": 7,
    "start_time": "2025-01-09T22:18:51.773Z"
   },
   {
    "duration": 31,
    "start_time": "2025-01-09T22:18:51.781Z"
   },
   {
    "duration": 4,
    "start_time": "2025-01-09T22:18:51.815Z"
   },
   {
    "duration": 50,
    "start_time": "2025-01-09T22:18:51.821Z"
   },
   {
    "duration": 141,
    "start_time": "2025-01-09T22:18:51.874Z"
   },
   {
    "duration": 112,
    "start_time": "2025-01-09T22:18:52.017Z"
   },
   {
    "duration": 4,
    "start_time": "2025-01-09T22:18:52.131Z"
   },
   {
    "duration": 51,
    "start_time": "2025-01-09T22:18:52.137Z"
   },
   {
    "duration": 23,
    "start_time": "2025-01-09T22:18:52.192Z"
   },
   {
    "duration": 11,
    "start_time": "2025-01-09T22:18:52.217Z"
   },
   {
    "duration": 6,
    "start_time": "2025-01-09T22:18:52.230Z"
   },
   {
    "duration": 35,
    "start_time": "2025-01-09T22:18:52.237Z"
   },
   {
    "duration": 4,
    "start_time": "2025-01-09T22:18:52.274Z"
   },
   {
    "duration": 5,
    "start_time": "2025-01-09T22:18:52.280Z"
   },
   {
    "duration": 3,
    "start_time": "2025-01-09T22:18:52.286Z"
   },
   {
    "duration": 25,
    "start_time": "2025-01-09T22:18:52.291Z"
   },
   {
    "duration": 54,
    "start_time": "2025-01-09T22:18:52.324Z"
   },
   {
    "duration": 5,
    "start_time": "2025-01-09T22:18:52.380Z"
   },
   {
    "duration": 13,
    "start_time": "2025-01-09T22:18:52.387Z"
   },
   {
    "duration": 13,
    "start_time": "2025-01-09T22:18:52.402Z"
   },
   {
    "duration": 23,
    "start_time": "2025-01-09T22:18:52.417Z"
   },
   {
    "duration": 3,
    "start_time": "2025-01-09T22:18:52.470Z"
   },
   {
    "duration": 53,
    "start_time": "2025-01-09T22:18:52.475Z"
   },
   {
    "duration": 15,
    "start_time": "2025-01-09T22:18:52.530Z"
   },
   {
    "duration": 36,
    "start_time": "2025-01-09T22:18:52.547Z"
   },
   {
    "duration": 7,
    "start_time": "2025-01-09T22:18:52.585Z"
   },
   {
    "duration": 10,
    "start_time": "2025-01-09T22:18:52.594Z"
   },
   {
    "duration": 3,
    "start_time": "2025-01-09T22:18:52.605Z"
   },
   {
    "duration": 8,
    "start_time": "2025-01-09T22:18:52.610Z"
   },
   {
    "duration": 6,
    "start_time": "2025-01-09T22:18:52.620Z"
   },
   {
    "duration": 42,
    "start_time": "2025-01-09T22:18:52.628Z"
   },
   {
    "duration": 9,
    "start_time": "2025-01-09T22:18:52.671Z"
   },
   {
    "duration": 4,
    "start_time": "2025-01-09T22:18:52.682Z"
   },
   {
    "duration": 21,
    "start_time": "2025-01-09T22:18:52.688Z"
   },
   {
    "duration": 6,
    "start_time": "2025-01-09T22:18:52.711Z"
   },
   {
    "duration": 758,
    "start_time": "2025-01-09T22:18:52.719Z"
   },
   {
    "duration": 2,
    "start_time": "2025-01-09T22:18:53.479Z"
   },
   {
    "duration": 10,
    "start_time": "2025-01-09T22:18:53.483Z"
   },
   {
    "duration": 7,
    "start_time": "2025-01-09T22:18:53.494Z"
   },
   {
    "duration": 7,
    "start_time": "2025-01-09T22:18:53.502Z"
   },
   {
    "duration": 6,
    "start_time": "2025-01-09T22:18:53.511Z"
   },
   {
    "duration": 6,
    "start_time": "2025-01-09T22:18:53.520Z"
   },
   {
    "duration": 42,
    "start_time": "2025-01-09T22:18:53.529Z"
   },
   {
    "duration": 11,
    "start_time": "2025-01-09T22:18:53.573Z"
   },
   {
    "duration": 8,
    "start_time": "2025-01-09T22:18:53.585Z"
   },
   {
    "duration": 5,
    "start_time": "2025-01-09T22:18:53.595Z"
   },
   {
    "duration": 768,
    "start_time": "2025-01-09T22:18:53.602Z"
   },
   {
    "duration": 200,
    "start_time": "2025-01-09T22:18:54.372Z"
   },
   {
    "duration": 20,
    "start_time": "2025-01-09T22:18:54.574Z"
   },
   {
    "duration": 6,
    "start_time": "2025-01-09T22:18:54.596Z"
   },
   {
    "duration": 31,
    "start_time": "2025-01-09T22:18:54.604Z"
   },
   {
    "duration": 122,
    "start_time": "2025-01-09T22:18:54.637Z"
   },
   {
    "duration": 17,
    "start_time": "2025-01-09T22:18:54.761Z"
   },
   {
    "duration": 10,
    "start_time": "2025-01-09T22:18:54.779Z"
   },
   {
    "duration": 8,
    "start_time": "2025-01-09T22:18:54.791Z"
   },
   {
    "duration": 4,
    "start_time": "2025-01-09T22:18:54.801Z"
   },
   {
    "duration": 63,
    "start_time": "2025-01-09T22:18:54.807Z"
   },
   {
    "duration": 5,
    "start_time": "2025-01-09T22:18:54.872Z"
   },
   {
    "duration": 4,
    "start_time": "2025-01-09T22:18:54.879Z"
   },
   {
    "duration": 216,
    "start_time": "2025-01-09T22:18:54.885Z"
   },
   {
    "duration": 139,
    "start_time": "2025-01-09T22:18:55.103Z"
   },
   {
    "duration": 123,
    "start_time": "2025-01-09T22:18:55.244Z"
   },
   {
    "duration": 291,
    "start_time": "2025-01-09T22:18:55.370Z"
   },
   {
    "duration": 8,
    "start_time": "2025-01-09T22:18:55.671Z"
   },
   {
    "duration": 208,
    "start_time": "2025-01-09T22:18:55.680Z"
   },
   {
    "duration": 163,
    "start_time": "2025-01-09T22:18:55.890Z"
   },
   {
    "duration": 6,
    "start_time": "2025-01-09T22:18:56.055Z"
   },
   {
    "duration": 7,
    "start_time": "2025-01-09T22:18:56.070Z"
   },
   {
    "duration": 6,
    "start_time": "2025-01-09T22:18:56.078Z"
   },
   {
    "duration": 642,
    "start_time": "2025-01-09T22:18:56.086Z"
   },
   {
    "duration": 868,
    "start_time": "2025-01-09T22:18:56.735Z"
   },
   {
    "duration": 846,
    "start_time": "2025-01-09T22:18:57.605Z"
   },
   {
    "duration": 260,
    "start_time": "2025-01-09T22:18:58.453Z"
   },
   {
    "duration": 160,
    "start_time": "2025-01-09T22:18:58.715Z"
   },
   {
    "duration": 6,
    "start_time": "2025-01-09T22:18:58.877Z"
   },
   {
    "duration": 709,
    "start_time": "2025-01-09T22:19:08.866Z"
   },
   {
    "duration": 213,
    "start_time": "2025-01-09T22:20:25.710Z"
   },
   {
    "duration": 209,
    "start_time": "2025-01-09T22:21:44.291Z"
   },
   {
    "duration": 195,
    "start_time": "2025-01-09T22:22:11.067Z"
   },
   {
    "duration": 260,
    "start_time": "2025-01-09T22:22:17.661Z"
   },
   {
    "duration": 4,
    "start_time": "2025-01-09T22:26:33.557Z"
   },
   {
    "duration": 7,
    "start_time": "2025-01-09T22:28:41.372Z"
   },
   {
    "duration": 5,
    "start_time": "2025-01-09T22:49:42.764Z"
   },
   {
    "duration": 2,
    "start_time": "2025-01-09T22:52:19.066Z"
   },
   {
    "duration": 12,
    "start_time": "2025-01-09T22:52:33.609Z"
   },
   {
    "duration": 2,
    "start_time": "2025-01-09T22:52:44.096Z"
   },
   {
    "duration": 2,
    "start_time": "2025-01-09T22:53:39.340Z"
   },
   {
    "duration": 3,
    "start_time": "2025-01-09T22:54:02.220Z"
   },
   {
    "duration": 3,
    "start_time": "2025-01-09T22:54:12.177Z"
   },
   {
    "duration": 26,
    "start_time": "2025-01-09T22:54:18.343Z"
   },
   {
    "duration": 3,
    "start_time": "2025-01-09T22:56:23.251Z"
   },
   {
    "duration": 5,
    "start_time": "2025-01-09T22:56:27.968Z"
   },
   {
    "duration": 6,
    "start_time": "2025-01-09T22:56:43.200Z"
   },
   {
    "duration": 5,
    "start_time": "2025-01-09T22:56:51.116Z"
   },
   {
    "duration": 4,
    "start_time": "2025-01-09T22:57:01.144Z"
   },
   {
    "duration": 5,
    "start_time": "2025-01-09T22:57:11.682Z"
   },
   {
    "duration": 28,
    "start_time": "2025-01-09T23:32:08.931Z"
   },
   {
    "duration": 3,
    "start_time": "2025-01-09T23:32:13.922Z"
   },
   {
    "duration": 3,
    "start_time": "2025-01-09T23:33:57.205Z"
   },
   {
    "duration": 4,
    "start_time": "2025-01-09T23:34:33.154Z"
   },
   {
    "duration": 48,
    "start_time": "2025-01-09T23:35:24.910Z"
   },
   {
    "duration": 3,
    "start_time": "2025-01-09T23:35:49.130Z"
   },
   {
    "duration": 48,
    "start_time": "2025-01-09T23:35:52.200Z"
   },
   {
    "duration": 3,
    "start_time": "2025-01-09T23:36:43.741Z"
   },
   {
    "duration": 47,
    "start_time": "2025-01-09T23:36:45.985Z"
   },
   {
    "duration": 3,
    "start_time": "2025-01-09T23:38:13.919Z"
   },
   {
    "duration": 50,
    "start_time": "2025-01-09T23:38:17.049Z"
   },
   {
    "duration": 3,
    "start_time": "2025-01-09T23:38:32.458Z"
   },
   {
    "duration": 49,
    "start_time": "2025-01-09T23:38:34.798Z"
   },
   {
    "duration": 4,
    "start_time": "2025-01-09T23:38:49.393Z"
   },
   {
    "duration": 49,
    "start_time": "2025-01-09T23:38:52.688Z"
   },
   {
    "duration": 3,
    "start_time": "2025-01-09T23:39:05.500Z"
   },
   {
    "duration": 16,
    "start_time": "2025-01-09T23:39:36.372Z"
   },
   {
    "duration": 17,
    "start_time": "2025-01-09T23:39:42.929Z"
   },
   {
    "duration": 3,
    "start_time": "2025-01-09T23:40:36.256Z"
   },
   {
    "duration": 3,
    "start_time": "2025-01-09T23:40:49.365Z"
   },
   {
    "duration": 4,
    "start_time": "2025-01-09T23:40:56.662Z"
   },
   {
    "duration": 4,
    "start_time": "2025-01-09T23:42:06.412Z"
   },
   {
    "duration": 48,
    "start_time": "2025-01-09T23:42:09.791Z"
   },
   {
    "duration": 4,
    "start_time": "2025-01-09T23:42:33.925Z"
   },
   {
    "duration": 48,
    "start_time": "2025-01-09T23:42:36.043Z"
   },
   {
    "duration": 4,
    "start_time": "2025-01-09T23:43:31.918Z"
   },
   {
    "duration": 3,
    "start_time": "2025-01-10T00:03:48.482Z"
   },
   {
    "duration": 4,
    "start_time": "2025-01-10T00:05:12.127Z"
   },
   {
    "duration": 48,
    "start_time": "2025-01-10T00:05:15.860Z"
   },
   {
    "duration": 3,
    "start_time": "2025-01-10T00:05:42.278Z"
   },
   {
    "duration": 48,
    "start_time": "2025-01-10T00:05:46.235Z"
   },
   {
    "duration": 4,
    "start_time": "2025-01-10T00:06:00.487Z"
   },
   {
    "duration": 48,
    "start_time": "2025-01-10T00:06:03.628Z"
   },
   {
    "duration": 4,
    "start_time": "2025-01-10T00:17:03.907Z"
   },
   {
    "duration": 47,
    "start_time": "2025-01-10T00:17:06.899Z"
   },
   {
    "duration": 4,
    "start_time": "2025-01-10T00:18:28.706Z"
   },
   {
    "duration": 50,
    "start_time": "2025-01-10T00:18:31.722Z"
   },
   {
    "duration": 3,
    "start_time": "2025-01-10T00:19:46.385Z"
   },
   {
    "duration": 65,
    "start_time": "2025-01-10T00:19:49.506Z"
   },
   {
    "duration": 4,
    "start_time": "2025-01-10T00:20:00.323Z"
   },
   {
    "duration": 50,
    "start_time": "2025-01-10T00:20:03.202Z"
   },
   {
    "duration": 4,
    "start_time": "2025-01-10T00:20:26.044Z"
   },
   {
    "duration": 47,
    "start_time": "2025-01-10T00:20:29.348Z"
   },
   {
    "duration": 4,
    "start_time": "2025-01-10T00:20:59.061Z"
   },
   {
    "duration": 50,
    "start_time": "2025-01-10T00:21:02.071Z"
   },
   {
    "duration": 4,
    "start_time": "2025-01-10T00:36:48.053Z"
   },
   {
    "duration": 3,
    "start_time": "2025-01-10T00:37:25.686Z"
   },
   {
    "duration": 47,
    "start_time": "2025-01-10T00:37:28.007Z"
   },
   {
    "duration": 49,
    "start_time": "2025-01-10T00:37:36.773Z"
   },
   {
    "duration": 39,
    "start_time": "2025-01-10T00:37:44.407Z"
   },
   {
    "duration": 15,
    "start_time": "2025-01-10T00:39:47.323Z"
   },
   {
    "duration": 16,
    "start_time": "2025-01-10T00:40:04.382Z"
   },
   {
    "duration": 3,
    "start_time": "2025-01-10T00:42:53.385Z"
   },
   {
    "duration": 5,
    "start_time": "2025-01-10T00:47:27.298Z"
   },
   {
    "duration": 3,
    "start_time": "2025-01-10T00:47:38.676Z"
   },
   {
    "duration": 3,
    "start_time": "2025-01-10T00:48:01.697Z"
   },
   {
    "duration": 60,
    "start_time": "2025-01-10T00:48:05.076Z"
   },
   {
    "duration": 4,
    "start_time": "2025-01-10T00:48:36.131Z"
   },
   {
    "duration": 4,
    "start_time": "2025-01-10T00:48:42.229Z"
   },
   {
    "duration": 65,
    "start_time": "2025-01-10T00:48:47.948Z"
   },
   {
    "duration": 3,
    "start_time": "2025-01-10T00:49:01.094Z"
   },
   {
    "duration": 43,
    "start_time": "2025-01-10T00:49:04.103Z"
   },
   {
    "duration": 4,
    "start_time": "2025-01-10T00:53:47.145Z"
   },
   {
    "duration": 42,
    "start_time": "2025-01-10T00:53:50.540Z"
   },
   {
    "duration": 4,
    "start_time": "2025-01-10T00:54:58.683Z"
   },
   {
    "duration": 43,
    "start_time": "2025-01-10T00:55:01.787Z"
   },
   {
    "duration": 4,
    "start_time": "2025-01-10T01:01:28.447Z"
   },
   {
    "duration": 4,
    "start_time": "2025-01-10T01:01:35.277Z"
   },
   {
    "duration": 43,
    "start_time": "2025-01-10T01:01:38.183Z"
   },
   {
    "duration": 4,
    "start_time": "2025-01-10T01:08:31.180Z"
   },
   {
    "duration": 4,
    "start_time": "2025-01-10T01:08:43.134Z"
   },
   {
    "duration": 69,
    "start_time": "2025-01-10T01:08:49.109Z"
   },
   {
    "duration": 5,
    "start_time": "2025-01-10T01:09:39.407Z"
   },
   {
    "duration": 5,
    "start_time": "2025-01-10T01:10:48.510Z"
   },
   {
    "duration": 42,
    "start_time": "2025-01-10T01:10:51.997Z"
   },
   {
    "duration": 43,
    "start_time": "2025-01-10T01:11:38.052Z"
   },
   {
    "duration": 42,
    "start_time": "2025-01-10T01:12:15.782Z"
   },
   {
    "duration": 3,
    "start_time": "2025-01-10T01:12:33.142Z"
   },
   {
    "duration": 4,
    "start_time": "2025-01-10T01:15:06.830Z"
   },
   {
    "duration": 3,
    "start_time": "2025-01-10T01:15:48.073Z"
   },
   {
    "duration": 145,
    "start_time": "2025-01-10T01:16:06.417Z"
   },
   {
    "duration": 244,
    "start_time": "2025-01-10T01:17:06.154Z"
   },
   {
    "duration": 205,
    "start_time": "2025-01-10T01:17:47.798Z"
   },
   {
    "duration": 222,
    "start_time": "2025-01-10T01:18:24.152Z"
   },
   {
    "duration": 229,
    "start_time": "2025-01-10T01:18:55.563Z"
   },
   {
    "duration": 5,
    "start_time": "2025-01-10T01:25:26.931Z"
   },
   {
    "duration": 8,
    "start_time": "2025-01-10T01:25:31.718Z"
   },
   {
    "duration": 5,
    "start_time": "2025-01-10T01:26:02.990Z"
   },
   {
    "duration": 5,
    "start_time": "2025-01-10T01:26:06.176Z"
   },
   {
    "duration": 5,
    "start_time": "2025-01-10T01:26:18.810Z"
   },
   {
    "duration": 5,
    "start_time": "2025-01-10T01:26:21.698Z"
   },
   {
    "duration": 5,
    "start_time": "2025-01-10T01:26:38.079Z"
   },
   {
    "duration": 5,
    "start_time": "2025-01-10T01:26:40.213Z"
   },
   {
    "duration": 6,
    "start_time": "2025-01-10T01:27:19.075Z"
   },
   {
    "duration": 5,
    "start_time": "2025-01-10T01:27:22.039Z"
   },
   {
    "duration": 2,
    "start_time": "2025-01-10T01:28:08.775Z"
   },
   {
    "duration": 4,
    "start_time": "2025-01-10T01:28:12.637Z"
   },
   {
    "duration": 5,
    "start_time": "2025-01-10T01:30:57.324Z"
   },
   {
    "duration": 4,
    "start_time": "2025-01-10T01:31:00.836Z"
   },
   {
    "duration": 8,
    "start_time": "2025-01-10T01:31:42.577Z"
   },
   {
    "duration": 5,
    "start_time": "2025-01-10T01:31:45.075Z"
   },
   {
    "duration": 3,
    "start_time": "2025-01-10T01:31:54.521Z"
   },
   {
    "duration": 230,
    "start_time": "2025-01-10T01:32:04.261Z"
   },
   {
    "duration": 3,
    "start_time": "2025-01-10T01:32:25.244Z"
   },
   {
    "duration": 260,
    "start_time": "2025-01-10T01:32:27.948Z"
   },
   {
    "duration": 234,
    "start_time": "2025-01-10T01:32:40.178Z"
   },
   {
    "duration": 331,
    "start_time": "2025-01-10T15:33:32.489Z"
   },
   {
    "duration": 3,
    "start_time": "2025-01-10T15:33:32.821Z"
   },
   {
    "duration": 1848,
    "start_time": "2025-01-10T15:33:32.825Z"
   },
   {
    "duration": 153,
    "start_time": "2025-01-10T15:33:34.676Z"
   },
   {
    "duration": 55,
    "start_time": "2025-01-10T15:33:34.832Z"
   },
   {
    "duration": 8,
    "start_time": "2025-01-10T15:33:34.889Z"
   },
   {
    "duration": 7,
    "start_time": "2025-01-10T15:33:34.899Z"
   },
   {
    "duration": 794,
    "start_time": "2025-01-10T15:33:34.908Z"
   },
   {
    "duration": 106,
    "start_time": "2025-01-10T15:33:35.703Z"
   },
   {
    "duration": 105,
    "start_time": "2025-01-10T15:33:35.811Z"
   },
   {
    "duration": 2,
    "start_time": "2025-01-10T15:33:35.918Z"
   },
   {
    "duration": 6,
    "start_time": "2025-01-10T15:33:35.922Z"
   },
   {
    "duration": 46,
    "start_time": "2025-01-10T15:33:35.930Z"
   },
   {
    "duration": 4,
    "start_time": "2025-01-10T15:33:35.980Z"
   },
   {
    "duration": 19,
    "start_time": "2025-01-10T15:33:35.986Z"
   },
   {
    "duration": 154,
    "start_time": "2025-01-10T15:33:36.006Z"
   },
   {
    "duration": 115,
    "start_time": "2025-01-10T15:33:36.162Z"
   },
   {
    "duration": 4,
    "start_time": "2025-01-10T15:33:36.279Z"
   },
   {
    "duration": 35,
    "start_time": "2025-01-10T15:33:36.285Z"
   },
   {
    "duration": 51,
    "start_time": "2025-01-10T15:33:36.322Z"
   },
   {
    "duration": 15,
    "start_time": "2025-01-10T15:33:36.375Z"
   },
   {
    "duration": 6,
    "start_time": "2025-01-10T15:33:36.392Z"
   },
   {
    "duration": 14,
    "start_time": "2025-01-10T15:33:36.400Z"
   },
   {
    "duration": 4,
    "start_time": "2025-01-10T15:33:36.416Z"
   },
   {
    "duration": 5,
    "start_time": "2025-01-10T15:33:36.422Z"
   },
   {
    "duration": 3,
    "start_time": "2025-01-10T15:33:36.428Z"
   },
   {
    "duration": 62,
    "start_time": "2025-01-10T15:33:36.432Z"
   },
   {
    "duration": 17,
    "start_time": "2025-01-10T15:33:36.496Z"
   },
   {
    "duration": 5,
    "start_time": "2025-01-10T15:33:36.515Z"
   },
   {
    "duration": 15,
    "start_time": "2025-01-10T15:33:36.521Z"
   },
   {
    "duration": 38,
    "start_time": "2025-01-10T15:33:36.544Z"
   },
   {
    "duration": 23,
    "start_time": "2025-01-10T15:33:36.584Z"
   },
   {
    "duration": 4,
    "start_time": "2025-01-10T15:33:36.609Z"
   },
   {
    "duration": 70,
    "start_time": "2025-01-10T15:33:36.615Z"
   },
   {
    "duration": 14,
    "start_time": "2025-01-10T15:33:36.687Z"
   },
   {
    "duration": 14,
    "start_time": "2025-01-10T15:33:36.702Z"
   },
   {
    "duration": 7,
    "start_time": "2025-01-10T15:33:36.718Z"
   },
   {
    "duration": 9,
    "start_time": "2025-01-10T15:33:36.726Z"
   },
   {
    "duration": 34,
    "start_time": "2025-01-10T15:33:36.737Z"
   },
   {
    "duration": 10,
    "start_time": "2025-01-10T15:33:36.774Z"
   },
   {
    "duration": 7,
    "start_time": "2025-01-10T15:33:36.793Z"
   },
   {
    "duration": 3,
    "start_time": "2025-01-10T15:33:36.801Z"
   },
   {
    "duration": 9,
    "start_time": "2025-01-10T15:33:36.806Z"
   },
   {
    "duration": 4,
    "start_time": "2025-01-10T15:33:36.817Z"
   },
   {
    "duration": 58,
    "start_time": "2025-01-10T15:33:36.823Z"
   },
   {
    "duration": 6,
    "start_time": "2025-01-10T15:33:36.883Z"
   },
   {
    "duration": 805,
    "start_time": "2025-01-10T15:33:36.891Z"
   },
   {
    "duration": 4,
    "start_time": "2025-01-10T15:33:37.698Z"
   },
   {
    "duration": 10,
    "start_time": "2025-01-10T15:33:37.703Z"
   },
   {
    "duration": 8,
    "start_time": "2025-01-10T15:33:37.714Z"
   },
   {
    "duration": 8,
    "start_time": "2025-01-10T15:33:37.723Z"
   },
   {
    "duration": 7,
    "start_time": "2025-01-10T15:33:37.732Z"
   },
   {
    "duration": 36,
    "start_time": "2025-01-10T15:33:37.740Z"
   },
   {
    "duration": 8,
    "start_time": "2025-01-10T15:33:37.777Z"
   },
   {
    "duration": 10,
    "start_time": "2025-01-10T15:33:37.787Z"
   },
   {
    "duration": 7,
    "start_time": "2025-01-10T15:33:37.799Z"
   },
   {
    "duration": 6,
    "start_time": "2025-01-10T15:33:37.807Z"
   },
   {
    "duration": 795,
    "start_time": "2025-01-10T15:33:37.814Z"
   },
   {
    "duration": 201,
    "start_time": "2025-01-10T15:33:38.611Z"
   },
   {
    "duration": 21,
    "start_time": "2025-01-10T15:33:38.814Z"
   },
   {
    "duration": 6,
    "start_time": "2025-01-10T15:33:38.836Z"
   },
   {
    "duration": 50,
    "start_time": "2025-01-10T15:33:38.844Z"
   },
   {
    "duration": 99,
    "start_time": "2025-01-10T15:33:38.896Z"
   },
   {
    "duration": 11,
    "start_time": "2025-01-10T15:33:38.996Z"
   },
   {
    "duration": 10,
    "start_time": "2025-01-10T15:33:39.008Z"
   },
   {
    "duration": 8,
    "start_time": "2025-01-10T15:33:39.020Z"
   },
   {
    "duration": 4,
    "start_time": "2025-01-10T15:33:39.030Z"
   },
   {
    "duration": 66,
    "start_time": "2025-01-10T15:33:39.036Z"
   },
   {
    "duration": 5,
    "start_time": "2025-01-10T15:33:39.104Z"
   },
   {
    "duration": 5,
    "start_time": "2025-01-10T15:33:39.111Z"
   },
   {
    "duration": 263,
    "start_time": "2025-01-10T15:33:39.118Z"
   },
   {
    "duration": 141,
    "start_time": "2025-01-10T15:33:39.383Z"
   },
   {
    "duration": 124,
    "start_time": "2025-01-10T15:33:39.526Z"
   },
   {
    "duration": 240,
    "start_time": "2025-01-10T15:33:39.652Z"
   },
   {
    "duration": 11,
    "start_time": "2025-01-10T15:33:39.895Z"
   },
   {
    "duration": 207,
    "start_time": "2025-01-10T15:33:39.909Z"
   },
   {
    "duration": 162,
    "start_time": "2025-01-10T15:33:40.118Z"
   },
   {
    "duration": 8,
    "start_time": "2025-01-10T15:33:40.282Z"
   },
   {
    "duration": 8,
    "start_time": "2025-01-10T15:33:40.291Z"
   },
   {
    "duration": 5,
    "start_time": "2025-01-10T15:33:40.301Z"
   },
   {
    "duration": 658,
    "start_time": "2025-01-10T15:33:40.308Z"
   },
   {
    "duration": 845,
    "start_time": "2025-01-10T15:33:40.968Z"
   },
   {
    "duration": 864,
    "start_time": "2025-01-10T15:33:41.815Z"
   },
   {
    "duration": 257,
    "start_time": "2025-01-10T15:33:42.681Z"
   },
   {
    "duration": 180,
    "start_time": "2025-01-10T15:33:42.940Z"
   },
   {
    "duration": 7,
    "start_time": "2025-01-10T15:33:43.122Z"
   },
   {
    "duration": 274,
    "start_time": "2025-01-10T15:33:43.131Z"
   },
   {
    "duration": 6,
    "start_time": "2025-01-10T15:33:43.406Z"
   },
   {
    "duration": 5,
    "start_time": "2025-01-10T15:33:43.414Z"
   },
   {
    "duration": 4,
    "start_time": "2025-01-10T15:33:43.420Z"
   },
   {
    "duration": 285,
    "start_time": "2025-01-10T15:33:43.426Z"
   },
   {
    "duration": 4,
    "start_time": "2025-01-10T15:33:43.713Z"
   },
   {
    "duration": 5,
    "start_time": "2025-01-10T15:33:43.720Z"
   },
   {
    "duration": 57,
    "start_time": "2025-01-10T16:03:04.240Z"
   },
   {
    "duration": 189,
    "start_time": "2025-01-10T16:03:10.288Z"
   },
   {
    "duration": 19,
    "start_time": "2025-01-10T16:05:14.510Z"
   },
   {
    "duration": 5,
    "start_time": "2025-01-10T16:05:34.865Z"
   },
   {
    "duration": 9,
    "start_time": "2025-01-10T16:05:40.236Z"
   },
   {
    "duration": 194,
    "start_time": "2025-01-10T16:07:14.212Z"
   },
   {
    "duration": 185,
    "start_time": "2025-01-10T16:07:57.321Z"
   },
   {
    "duration": 4,
    "start_time": "2025-01-10T16:11:39.350Z"
   },
   {
    "duration": 8,
    "start_time": "2025-01-10T16:12:56.171Z"
   },
   {
    "duration": 177,
    "start_time": "2025-01-10T16:13:11.904Z"
   },
   {
    "duration": 175,
    "start_time": "2025-01-10T16:14:12.910Z"
   },
   {
    "duration": 84,
    "start_time": "2025-01-10T16:16:28.178Z"
   },
   {
    "duration": 5,
    "start_time": "2025-01-10T16:17:40.341Z"
   },
   {
    "duration": 9,
    "start_time": "2025-01-10T16:17:50.300Z"
   },
   {
    "duration": 174,
    "start_time": "2025-01-10T16:18:02.532Z"
   },
   {
    "duration": 54,
    "start_time": "2025-01-10T16:18:37.353Z"
   },
   {
    "duration": 159,
    "start_time": "2025-01-10T16:18:56.883Z"
   },
   {
    "duration": 163,
    "start_time": "2025-01-10T16:19:30.191Z"
   },
   {
    "duration": 53,
    "start_time": "2025-01-10T16:20:05.568Z"
   },
   {
    "duration": 159,
    "start_time": "2025-01-10T16:20:08.727Z"
   },
   {
    "duration": 54,
    "start_time": "2025-01-10T16:20:28.767Z"
   },
   {
    "duration": 148,
    "start_time": "2025-01-10T16:20:31.782Z"
   },
   {
    "duration": 19,
    "start_time": "2025-01-10T16:28:16.981Z"
   },
   {
    "duration": 8,
    "start_time": "2025-01-10T16:28:19.660Z"
   },
   {
    "duration": 197,
    "start_time": "2025-01-10T16:28:21.562Z"
   },
   {
    "duration": 4,
    "start_time": "2025-01-10T16:33:01.200Z"
   },
   {
    "duration": 184,
    "start_time": "2025-01-10T16:33:08.221Z"
   },
   {
    "duration": 125,
    "start_time": "2025-01-10T16:33:57.315Z"
   },
   {
    "duration": 43,
    "start_time": "2025-01-10T16:34:25.163Z"
   },
   {
    "duration": 117,
    "start_time": "2025-01-10T16:34:36.002Z"
   },
   {
    "duration": 255,
    "start_time": "2025-01-10T16:35:00.543Z"
   },
   {
    "duration": 41,
    "start_time": "2025-01-10T16:35:23.615Z"
   },
   {
    "duration": 145,
    "start_time": "2025-01-10T16:35:26.038Z"
   },
   {
    "duration": 42,
    "start_time": "2025-01-10T16:35:35.512Z"
   },
   {
    "duration": 119,
    "start_time": "2025-01-10T16:35:38.294Z"
   },
   {
    "duration": 61,
    "start_time": "2025-01-10T16:35:46.305Z"
   },
   {
    "duration": 154,
    "start_time": "2025-01-10T16:35:48.437Z"
   },
   {
    "duration": 42,
    "start_time": "2025-01-10T16:35:59.137Z"
   },
   {
    "duration": 149,
    "start_time": "2025-01-10T16:36:01.080Z"
   },
   {
    "duration": 138,
    "start_time": "2025-01-10T16:36:53.266Z"
   },
   {
    "duration": 42,
    "start_time": "2025-01-10T16:37:06.074Z"
   },
   {
    "duration": 111,
    "start_time": "2025-01-10T16:37:08.136Z"
   },
   {
    "duration": 42,
    "start_time": "2025-01-10T16:37:15.292Z"
   },
   {
    "duration": 126,
    "start_time": "2025-01-10T16:37:17.127Z"
   },
   {
    "duration": 41,
    "start_time": "2025-01-10T16:37:27.431Z"
   },
   {
    "duration": 145,
    "start_time": "2025-01-10T16:37:30.599Z"
   },
   {
    "duration": 210,
    "start_time": "2025-01-10T16:38:07.383Z"
   },
   {
    "duration": 149,
    "start_time": "2025-01-10T16:39:24.498Z"
   },
   {
    "duration": 7,
    "start_time": "2025-01-10T16:42:40.636Z"
   },
   {
    "duration": 6,
    "start_time": "2025-01-10T16:43:24.609Z"
   },
   {
    "duration": 6,
    "start_time": "2025-01-10T16:44:17.342Z"
   },
   {
    "duration": 122,
    "start_time": "2025-01-10T16:45:25.507Z"
   },
   {
    "duration": 44,
    "start_time": "2025-01-10T16:48:04.040Z"
   },
   {
    "duration": 43,
    "start_time": "2025-01-10T16:48:35.823Z"
   },
   {
    "duration": 46,
    "start_time": "2025-01-10T16:49:02.234Z"
   },
   {
    "duration": 43,
    "start_time": "2025-01-10T16:49:54.247Z"
   },
   {
    "duration": 45,
    "start_time": "2025-01-10T16:50:01.587Z"
   },
   {
    "duration": 46,
    "start_time": "2025-01-10T16:50:12.291Z"
   },
   {
    "duration": 44,
    "start_time": "2025-01-10T16:50:24.875Z"
   },
   {
    "duration": 10,
    "start_time": "2025-01-10T16:54:07.225Z"
   },
   {
    "duration": 683,
    "start_time": "2025-01-10T16:54:42.495Z"
   },
   {
    "duration": 6,
    "start_time": "2025-01-10T16:55:10.614Z"
   },
   {
    "duration": 9,
    "start_time": "2025-01-10T16:55:22.697Z"
   },
   {
    "duration": 9,
    "start_time": "2025-01-10T16:59:05.196Z"
   },
   {
    "duration": 10,
    "start_time": "2025-01-10T16:59:43.870Z"
   },
   {
    "duration": 46,
    "start_time": "2025-01-10T16:59:53.462Z"
   },
   {
    "duration": 6,
    "start_time": "2025-01-10T17:05:15.543Z"
   },
   {
    "duration": 6,
    "start_time": "2025-01-10T17:05:27.701Z"
   },
   {
    "duration": 6,
    "start_time": "2025-01-10T17:05:30.097Z"
   },
   {
    "duration": 11,
    "start_time": "2025-01-10T17:05:42.842Z"
   },
   {
    "duration": 12,
    "start_time": "2025-01-10T17:08:57.325Z"
   },
   {
    "duration": 50,
    "start_time": "2025-01-10T17:09:20.520Z"
   },
   {
    "duration": 13,
    "start_time": "2025-01-10T17:15:09.664Z"
   },
   {
    "duration": 21,
    "start_time": "2025-01-10T17:15:20.080Z"
   },
   {
    "duration": 4,
    "start_time": "2025-01-10T17:47:56.864Z"
   },
   {
    "duration": 5,
    "start_time": "2025-01-10T17:48:59.841Z"
   },
   {
    "duration": 3,
    "start_time": "2025-01-10T17:50:03.831Z"
   },
   {
    "duration": 3,
    "start_time": "2025-01-10T17:50:37.580Z"
   },
   {
    "duration": 14,
    "start_time": "2025-01-10T17:52:05.132Z"
   },
   {
    "duration": 282,
    "start_time": "2025-01-10T17:52:18.022Z"
   },
   {
    "duration": 4,
    "start_time": "2025-01-10T17:55:48.073Z"
   },
   {
    "duration": 3,
    "start_time": "2025-01-10T17:56:13.046Z"
   },
   {
    "duration": 61,
    "start_time": "2025-01-10T17:56:16.062Z"
   },
   {
    "duration": 18554,
    "start_time": "2025-01-10T17:58:00.202Z"
   },
   {
    "duration": 6,
    "start_time": "2025-01-10T18:00:38.747Z"
   },
   {
    "duration": 3,
    "start_time": "2025-01-10T18:05:10.537Z"
   },
   {
    "duration": 3,
    "start_time": "2025-01-10T18:09:31.362Z"
   },
   {
    "duration": 248751,
    "start_time": "2025-01-10T18:13:10.621Z"
   },
   {
    "duration": 182,
    "start_time": "2025-01-10T18:20:27.260Z"
   },
   {
    "duration": 769,
    "start_time": "2025-01-10T18:21:45.894Z"
   },
   {
    "duration": 185,
    "start_time": "2025-01-10T18:24:09.159Z"
   },
   {
    "duration": 196,
    "start_time": "2025-01-10T18:26:19.281Z"
   },
   {
    "duration": 8,
    "start_time": "2025-01-10T18:26:29.206Z"
   },
   {
    "duration": 184,
    "start_time": "2025-01-10T18:28:26.644Z"
   },
   {
    "duration": 10,
    "start_time": "2025-01-10T18:28:34.550Z"
   },
   {
    "duration": 192,
    "start_time": "2025-01-10T18:39:48.067Z"
   },
   {
    "duration": 5,
    "start_time": "2025-01-10T18:55:51.608Z"
   },
   {
    "duration": 4,
    "start_time": "2025-01-10T18:55:56.867Z"
   },
   {
    "duration": 184,
    "start_time": "2025-01-10T18:57:39.624Z"
   },
   {
    "duration": 125,
    "start_time": "2025-01-10T18:58:18.991Z"
   },
   {
    "duration": 12,
    "start_time": "2025-01-10T19:03:07.593Z"
   },
   {
    "duration": 792,
    "start_time": "2025-01-10T19:03:12.544Z"
   },
   {
    "duration": 803,
    "start_time": "2025-01-10T19:03:30.902Z"
   },
   {
    "duration": 836,
    "start_time": "2025-01-10T19:03:55.288Z"
   },
   {
    "duration": 830,
    "start_time": "2025-01-10T19:04:19.328Z"
   },
   {
    "duration": 830,
    "start_time": "2025-01-10T19:04:35.056Z"
   },
   {
    "duration": 820,
    "start_time": "2025-01-10T19:04:49.607Z"
   },
   {
    "duration": 18017,
    "start_time": "2025-01-10T19:10:10.421Z"
   },
   {
    "duration": 196,
    "start_time": "2025-01-10T19:10:31.397Z"
   },
   {
    "duration": 3,
    "start_time": "2025-01-10T19:11:02.521Z"
   },
   {
    "duration": 15814,
    "start_time": "2025-01-10T19:11:05.125Z"
   },
   {
    "duration": 839,
    "start_time": "2025-01-10T19:12:06.688Z"
   },
   {
    "duration": 44,
    "start_time": "2025-01-10T19:18:11.409Z"
   },
   {
    "duration": 62,
    "start_time": "2025-01-10T19:18:29.452Z"
   },
   {
    "duration": 65,
    "start_time": "2025-01-10T19:21:50.255Z"
   },
   {
    "duration": 4441,
    "start_time": "2025-01-10T19:23:16.602Z"
   },
   {
    "duration": 237,
    "start_time": "2025-01-10T19:31:53.339Z"
   },
   {
    "duration": 281,
    "start_time": "2025-01-10T19:32:31.317Z"
   },
   {
    "duration": 270,
    "start_time": "2025-01-10T19:45:18.719Z"
   },
   {
    "duration": 81,
    "start_time": "2025-01-10T19:50:37.716Z"
   },
   {
    "duration": 230,
    "start_time": "2025-01-10T19:51:07.486Z"
   },
   {
    "duration": 295,
    "start_time": "2025-01-10T19:52:51.643Z"
   },
   {
    "duration": 2,
    "start_time": "2025-01-10T19:52:51.941Z"
   },
   {
    "duration": 182,
    "start_time": "2025-01-10T19:52:51.945Z"
   },
   {
    "duration": 272,
    "start_time": "2025-01-10T19:52:52.129Z"
   },
   {
    "duration": 99,
    "start_time": "2025-01-10T19:52:52.404Z"
   },
   {
    "duration": 19,
    "start_time": "2025-01-10T19:52:52.504Z"
   },
   {
    "duration": 18,
    "start_time": "2025-01-10T19:52:52.525Z"
   },
   {
    "duration": 899,
    "start_time": "2025-01-10T19:52:52.545Z"
   },
   {
    "duration": 107,
    "start_time": "2025-01-10T19:52:53.446Z"
   },
   {
    "duration": 110,
    "start_time": "2025-01-10T19:52:53.555Z"
   },
   {
    "duration": 6,
    "start_time": "2025-01-10T19:52:53.674Z"
   },
   {
    "duration": 5,
    "start_time": "2025-01-10T19:52:53.699Z"
   },
   {
    "duration": 32,
    "start_time": "2025-01-10T19:52:53.706Z"
   },
   {
    "duration": 5,
    "start_time": "2025-01-10T19:52:53.742Z"
   },
   {
    "duration": 16,
    "start_time": "2025-01-10T19:52:53.748Z"
   },
   {
    "duration": 151,
    "start_time": "2025-01-10T19:52:53.766Z"
   },
   {
    "duration": 129,
    "start_time": "2025-01-10T19:52:53.919Z"
   },
   {
    "duration": 4,
    "start_time": "2025-01-10T19:52:54.050Z"
   },
   {
    "duration": 50,
    "start_time": "2025-01-10T19:52:54.056Z"
   },
   {
    "duration": 24,
    "start_time": "2025-01-10T19:52:54.109Z"
   },
   {
    "duration": 12,
    "start_time": "2025-01-10T19:52:54.138Z"
   },
   {
    "duration": 29,
    "start_time": "2025-01-10T19:52:54.152Z"
   },
   {
    "duration": 15,
    "start_time": "2025-01-10T19:52:54.185Z"
   },
   {
    "duration": 3,
    "start_time": "2025-01-10T19:52:54.203Z"
   },
   {
    "duration": 4,
    "start_time": "2025-01-10T19:52:54.208Z"
   },
   {
    "duration": 3,
    "start_time": "2025-01-10T19:52:54.214Z"
   },
   {
    "duration": 29,
    "start_time": "2025-01-10T19:52:54.219Z"
   },
   {
    "duration": 41,
    "start_time": "2025-01-10T19:52:54.249Z"
   },
   {
    "duration": 8,
    "start_time": "2025-01-10T19:52:54.292Z"
   },
   {
    "duration": 15,
    "start_time": "2025-01-10T19:52:54.301Z"
   },
   {
    "duration": 16,
    "start_time": "2025-01-10T19:52:54.318Z"
   },
   {
    "duration": 45,
    "start_time": "2025-01-10T19:52:54.336Z"
   },
   {
    "duration": 15,
    "start_time": "2025-01-10T19:52:54.383Z"
   },
   {
    "duration": 53,
    "start_time": "2025-01-10T19:52:54.399Z"
   },
   {
    "duration": 14,
    "start_time": "2025-01-10T19:52:54.454Z"
   },
   {
    "duration": 19,
    "start_time": "2025-01-10T19:52:54.478Z"
   },
   {
    "duration": 7,
    "start_time": "2025-01-10T19:52:54.499Z"
   },
   {
    "duration": 9,
    "start_time": "2025-01-10T19:52:54.508Z"
   },
   {
    "duration": 3,
    "start_time": "2025-01-10T19:52:54.519Z"
   },
   {
    "duration": 9,
    "start_time": "2025-01-10T19:52:54.524Z"
   },
   {
    "duration": 6,
    "start_time": "2025-01-10T19:52:54.538Z"
   },
   {
    "duration": 6,
    "start_time": "2025-01-10T19:52:54.573Z"
   },
   {
    "duration": 8,
    "start_time": "2025-01-10T19:52:54.582Z"
   },
   {
    "duration": 7,
    "start_time": "2025-01-10T19:52:54.591Z"
   },
   {
    "duration": 32,
    "start_time": "2025-01-10T19:52:54.599Z"
   },
   {
    "duration": 8,
    "start_time": "2025-01-10T19:52:54.634Z"
   },
   {
    "duration": 872,
    "start_time": "2025-01-10T19:52:54.644Z"
   },
   {
    "duration": 4,
    "start_time": "2025-01-10T19:52:55.518Z"
   },
   {
    "duration": 9,
    "start_time": "2025-01-10T19:52:55.524Z"
   },
   {
    "duration": 8,
    "start_time": "2025-01-10T19:52:55.534Z"
   },
   {
    "duration": 55,
    "start_time": "2025-01-10T19:52:55.543Z"
   },
   {
    "duration": 8,
    "start_time": "2025-01-10T19:52:55.600Z"
   },
   {
    "duration": 8,
    "start_time": "2025-01-10T19:52:55.609Z"
   },
   {
    "duration": 7,
    "start_time": "2025-01-10T19:52:55.618Z"
   },
   {
    "duration": 9,
    "start_time": "2025-01-10T19:52:55.627Z"
   },
   {
    "duration": 7,
    "start_time": "2025-01-10T19:52:55.638Z"
   },
   {
    "duration": 6,
    "start_time": "2025-01-10T19:52:55.647Z"
   },
   {
    "duration": 852,
    "start_time": "2025-01-10T19:52:55.654Z"
   },
   {
    "duration": 224,
    "start_time": "2025-01-10T19:52:56.509Z"
   },
   {
    "duration": 21,
    "start_time": "2025-01-10T19:52:56.734Z"
   },
   {
    "duration": 16,
    "start_time": "2025-01-10T19:52:56.757Z"
   },
   {
    "duration": 45,
    "start_time": "2025-01-10T19:52:56.774Z"
   },
   {
    "duration": 99,
    "start_time": "2025-01-10T19:52:56.820Z"
   },
   {
    "duration": 19,
    "start_time": "2025-01-10T19:52:56.920Z"
   },
   {
    "duration": 16,
    "start_time": "2025-01-10T19:52:56.941Z"
   },
   {
    "duration": 18,
    "start_time": "2025-01-10T19:52:56.959Z"
   },
   {
    "duration": 7,
    "start_time": "2025-01-10T19:52:56.979Z"
   },
   {
    "duration": 43,
    "start_time": "2025-01-10T19:52:56.988Z"
   },
   {
    "duration": 5,
    "start_time": "2025-01-10T19:52:57.033Z"
   },
   {
    "duration": 5,
    "start_time": "2025-01-10T19:52:57.039Z"
   },
   {
    "duration": 237,
    "start_time": "2025-01-10T19:52:57.071Z"
   },
   {
    "duration": 141,
    "start_time": "2025-01-10T19:52:57.311Z"
   },
   {
    "duration": 120,
    "start_time": "2025-01-10T19:52:57.454Z"
   },
   {
    "duration": 272,
    "start_time": "2025-01-10T19:52:57.576Z"
   },
   {
    "duration": 8,
    "start_time": "2025-01-10T19:52:57.850Z"
   },
   {
    "duration": 25,
    "start_time": "2025-01-10T19:52:57.860Z"
   },
   {
    "duration": 28,
    "start_time": "2025-01-10T19:52:57.886Z"
   },
   {
    "duration": 9,
    "start_time": "2025-01-10T19:52:57.915Z"
   },
   {
    "duration": 186,
    "start_time": "2025-01-10T19:52:57.926Z"
   },
   {
    "duration": 64,
    "start_time": "2025-01-10T19:52:58.114Z"
   },
   {
    "duration": 156,
    "start_time": "2025-01-10T19:52:58.180Z"
   },
   {
    "duration": 7,
    "start_time": "2025-01-10T19:52:58.338Z"
   },
   {
    "duration": 8,
    "start_time": "2025-01-10T19:52:58.346Z"
   },
   {
    "duration": 7,
    "start_time": "2025-01-10T19:52:58.370Z"
   },
   {
    "duration": 683,
    "start_time": "2025-01-10T19:52:58.379Z"
   },
   {
    "duration": 930,
    "start_time": "2025-01-10T19:52:59.064Z"
   },
   {
    "duration": 911,
    "start_time": "2025-01-10T19:52:59.995Z"
   },
   {
    "duration": 327,
    "start_time": "2025-01-10T19:53:00.909Z"
   },
   {
    "duration": 64,
    "start_time": "2025-01-10T19:53:01.238Z"
   },
   {
    "duration": 172,
    "start_time": "2025-01-10T19:53:01.304Z"
   },
   {
    "duration": 130,
    "start_time": "2025-01-10T19:53:01.477Z"
   },
   {
    "duration": 41,
    "start_time": "2025-01-10T19:53:01.609Z"
   },
   {
    "duration": 20,
    "start_time": "2025-01-10T19:53:01.652Z"
   },
   {
    "duration": 35388,
    "start_time": "2025-01-10T19:53:01.674Z"
   },
   {
    "duration": 354,
    "start_time": "2025-01-10T19:53:37.071Z"
   },
   {
    "duration": 4,
    "start_time": "2025-01-10T19:53:37.427Z"
   },
   {
    "duration": 4916,
    "start_time": "2025-01-10T19:53:37.433Z"
   },
   {
    "duration": 0,
    "start_time": "2025-01-10T19:53:42.351Z"
   },
   {
    "duration": 17,
    "start_time": "2025-01-10T19:54:27.637Z"
   },
   {
    "duration": 8,
    "start_time": "2025-01-10T19:54:44.830Z"
   },
   {
    "duration": 31,
    "start_time": "2025-01-10T19:55:04.818Z"
   },
   {
    "duration": 7,
    "start_time": "2025-01-10T19:55:53.541Z"
   },
   {
    "duration": 195,
    "start_time": "2025-01-10T19:57:09.550Z"
   },
   {
    "duration": 310,
    "start_time": "2025-01-10T19:57:23.736Z"
   },
   {
    "duration": 3,
    "start_time": "2025-01-10T19:57:24.048Z"
   },
   {
    "duration": 154,
    "start_time": "2025-01-10T19:57:24.052Z"
   },
   {
    "duration": 212,
    "start_time": "2025-01-10T19:57:24.208Z"
   },
   {
    "duration": 74,
    "start_time": "2025-01-10T19:57:24.423Z"
   },
   {
    "duration": 9,
    "start_time": "2025-01-10T19:57:24.499Z"
   },
   {
    "duration": 9,
    "start_time": "2025-01-10T19:57:24.509Z"
   },
   {
    "duration": 884,
    "start_time": "2025-01-10T19:57:24.519Z"
   },
   {
    "duration": 99,
    "start_time": "2025-01-10T19:57:25.405Z"
   },
   {
    "duration": 106,
    "start_time": "2025-01-10T19:57:25.506Z"
   },
   {
    "duration": 2,
    "start_time": "2025-01-10T19:57:25.614Z"
   },
   {
    "duration": 5,
    "start_time": "2025-01-10T19:57:25.618Z"
   },
   {
    "duration": 71,
    "start_time": "2025-01-10T19:57:25.624Z"
   },
   {
    "duration": 5,
    "start_time": "2025-01-10T19:57:25.699Z"
   },
   {
    "duration": 16,
    "start_time": "2025-01-10T19:57:25.705Z"
   },
   {
    "duration": 176,
    "start_time": "2025-01-10T19:57:25.722Z"
   },
   {
    "duration": 114,
    "start_time": "2025-01-10T19:57:25.900Z"
   },
   {
    "duration": 4,
    "start_time": "2025-01-10T19:57:26.016Z"
   },
   {
    "duration": 35,
    "start_time": "2025-01-10T19:57:26.022Z"
   },
   {
    "duration": 38,
    "start_time": "2025-01-10T19:57:26.082Z"
   },
   {
    "duration": 13,
    "start_time": "2025-01-10T19:57:26.123Z"
   },
   {
    "duration": 9,
    "start_time": "2025-01-10T19:57:26.138Z"
   },
   {
    "duration": 16,
    "start_time": "2025-01-10T19:57:26.149Z"
   },
   {
    "duration": 26,
    "start_time": "2025-01-10T19:57:26.167Z"
   },
   {
    "duration": 5,
    "start_time": "2025-01-10T19:57:26.197Z"
   },
   {
    "duration": 2,
    "start_time": "2025-01-10T19:57:26.204Z"
   },
   {
    "duration": 26,
    "start_time": "2025-01-10T19:57:26.208Z"
   },
   {
    "duration": 18,
    "start_time": "2025-01-10T19:57:26.235Z"
   },
   {
    "duration": 6,
    "start_time": "2025-01-10T19:57:26.254Z"
   },
   {
    "duration": 36,
    "start_time": "2025-01-10T19:57:26.261Z"
   },
   {
    "duration": 14,
    "start_time": "2025-01-10T19:57:26.300Z"
   },
   {
    "duration": 29,
    "start_time": "2025-01-10T19:57:26.315Z"
   },
   {
    "duration": 7,
    "start_time": "2025-01-10T19:57:26.350Z"
   },
   {
    "duration": 61,
    "start_time": "2025-01-10T19:57:26.361Z"
   },
   {
    "duration": 14,
    "start_time": "2025-01-10T19:57:26.423Z"
   },
   {
    "duration": 15,
    "start_time": "2025-01-10T19:57:26.439Z"
   },
   {
    "duration": 41,
    "start_time": "2025-01-10T19:57:26.455Z"
   },
   {
    "duration": 10,
    "start_time": "2025-01-10T19:57:26.498Z"
   },
   {
    "duration": 3,
    "start_time": "2025-01-10T19:57:26.509Z"
   },
   {
    "duration": 9,
    "start_time": "2025-01-10T19:57:26.514Z"
   },
   {
    "duration": 9,
    "start_time": "2025-01-10T19:57:26.531Z"
   },
   {
    "duration": 11,
    "start_time": "2025-01-10T19:57:26.542Z"
   },
   {
    "duration": 25,
    "start_time": "2025-01-10T19:57:26.556Z"
   },
   {
    "duration": 13,
    "start_time": "2025-01-10T19:57:26.590Z"
   },
   {
    "duration": 23,
    "start_time": "2025-01-10T19:57:26.606Z"
   },
   {
    "duration": 7,
    "start_time": "2025-01-10T19:57:26.631Z"
   },
   {
    "duration": 881,
    "start_time": "2025-01-10T19:57:26.639Z"
   },
   {
    "duration": 3,
    "start_time": "2025-01-10T19:57:27.522Z"
   },
   {
    "duration": 10,
    "start_time": "2025-01-10T19:57:27.526Z"
   },
   {
    "duration": 8,
    "start_time": "2025-01-10T19:57:27.538Z"
   },
   {
    "duration": 30,
    "start_time": "2025-01-10T19:57:27.547Z"
   },
   {
    "duration": 9,
    "start_time": "2025-01-10T19:57:27.578Z"
   },
   {
    "duration": 12,
    "start_time": "2025-01-10T19:57:27.588Z"
   },
   {
    "duration": 8,
    "start_time": "2025-01-10T19:57:27.602Z"
   },
   {
    "duration": 11,
    "start_time": "2025-01-10T19:57:27.611Z"
   },
   {
    "duration": 7,
    "start_time": "2025-01-10T19:57:27.623Z"
   },
   {
    "duration": 6,
    "start_time": "2025-01-10T19:57:27.632Z"
   },
   {
    "duration": 880,
    "start_time": "2025-01-10T19:57:27.640Z"
   },
   {
    "duration": 223,
    "start_time": "2025-01-10T19:57:28.522Z"
   },
   {
    "duration": 46,
    "start_time": "2025-01-10T19:57:28.747Z"
   },
   {
    "duration": 8,
    "start_time": "2025-01-10T19:57:28.794Z"
   },
   {
    "duration": 31,
    "start_time": "2025-01-10T19:57:28.804Z"
   },
   {
    "duration": 97,
    "start_time": "2025-01-10T19:57:28.837Z"
   },
   {
    "duration": 11,
    "start_time": "2025-01-10T19:57:28.936Z"
   },
   {
    "duration": 29,
    "start_time": "2025-01-10T19:57:28.948Z"
   },
   {
    "duration": 10,
    "start_time": "2025-01-10T19:57:28.995Z"
   },
   {
    "duration": 5,
    "start_time": "2025-01-10T19:57:29.007Z"
   },
   {
    "duration": 36,
    "start_time": "2025-01-10T19:57:29.014Z"
   },
   {
    "duration": 6,
    "start_time": "2025-01-10T19:57:29.053Z"
   },
   {
    "duration": 33,
    "start_time": "2025-01-10T19:57:29.061Z"
   },
   {
    "duration": 212,
    "start_time": "2025-01-10T19:57:29.096Z"
   },
   {
    "duration": 151,
    "start_time": "2025-01-10T19:57:29.311Z"
   },
   {
    "duration": 144,
    "start_time": "2025-01-10T19:57:29.464Z"
   },
   {
    "duration": 243,
    "start_time": "2025-01-10T19:57:29.610Z"
   },
   {
    "duration": 9,
    "start_time": "2025-01-10T19:57:29.854Z"
   },
   {
    "duration": 25,
    "start_time": "2025-01-10T19:57:29.864Z"
   },
   {
    "duration": 19,
    "start_time": "2025-01-10T19:57:29.898Z"
   },
   {
    "duration": 9,
    "start_time": "2025-01-10T19:57:29.919Z"
   },
   {
    "duration": 183,
    "start_time": "2025-01-10T19:57:29.930Z"
   },
   {
    "duration": 74,
    "start_time": "2025-01-10T19:57:30.115Z"
   },
   {
    "duration": 158,
    "start_time": "2025-01-10T19:57:30.194Z"
   },
   {
    "duration": 6,
    "start_time": "2025-01-10T19:57:30.354Z"
   },
   {
    "duration": 27,
    "start_time": "2025-01-10T19:57:30.362Z"
   },
   {
    "duration": 5,
    "start_time": "2025-01-10T19:57:30.402Z"
   },
   {
    "duration": 721,
    "start_time": "2025-01-10T19:57:30.408Z"
   },
   {
    "duration": 955,
    "start_time": "2025-01-10T19:57:31.130Z"
   },
   {
    "duration": 929,
    "start_time": "2025-01-10T19:57:32.094Z"
   },
   {
    "duration": 322,
    "start_time": "2025-01-10T19:57:33.024Z"
   },
   {
    "duration": 52,
    "start_time": "2025-01-10T19:57:33.349Z"
   },
   {
    "duration": 171,
    "start_time": "2025-01-10T19:57:33.402Z"
   },
   {
    "duration": 126,
    "start_time": "2025-01-10T19:57:33.575Z"
   },
   {
    "duration": 43,
    "start_time": "2025-01-10T19:57:33.703Z"
   },
   {
    "duration": 48,
    "start_time": "2025-01-10T19:57:33.748Z"
   },
   {
    "duration": 35112,
    "start_time": "2025-01-10T19:57:33.799Z"
   },
   {
    "duration": 0,
    "start_time": "2025-01-10T19:58:08.913Z"
   },
   {
    "duration": 311,
    "start_time": "2025-01-10T19:59:07.900Z"
   },
   {
    "duration": 4,
    "start_time": "2025-01-10T19:59:08.213Z"
   },
   {
    "duration": 145,
    "start_time": "2025-01-10T19:59:08.218Z"
   },
   {
    "duration": 246,
    "start_time": "2025-01-10T19:59:08.364Z"
   },
   {
    "duration": 57,
    "start_time": "2025-01-10T19:59:08.612Z"
   },
   {
    "duration": 19,
    "start_time": "2025-01-10T19:59:08.681Z"
   },
   {
    "duration": 8,
    "start_time": "2025-01-10T19:59:08.703Z"
   },
   {
    "duration": 897,
    "start_time": "2025-01-10T19:59:08.712Z"
   },
   {
    "duration": 105,
    "start_time": "2025-01-10T19:59:09.611Z"
   },
   {
    "duration": 121,
    "start_time": "2025-01-10T19:59:09.718Z"
   },
   {
    "duration": 2,
    "start_time": "2025-01-10T19:59:09.841Z"
   },
   {
    "duration": 6,
    "start_time": "2025-01-10T19:59:09.845Z"
   },
   {
    "duration": 55,
    "start_time": "2025-01-10T19:59:09.852Z"
   },
   {
    "duration": 4,
    "start_time": "2025-01-10T19:59:09.911Z"
   },
   {
    "duration": 14,
    "start_time": "2025-01-10T19:59:09.917Z"
   },
   {
    "duration": 172,
    "start_time": "2025-01-10T19:59:09.933Z"
   },
   {
    "duration": 145,
    "start_time": "2025-01-10T19:59:10.107Z"
   },
   {
    "duration": 3,
    "start_time": "2025-01-10T19:59:10.254Z"
   },
   {
    "duration": 45,
    "start_time": "2025-01-10T19:59:10.259Z"
   },
   {
    "duration": 25,
    "start_time": "2025-01-10T19:59:10.306Z"
   },
   {
    "duration": 12,
    "start_time": "2025-01-10T19:59:10.333Z"
   },
   {
    "duration": 6,
    "start_time": "2025-01-10T19:59:10.347Z"
   },
   {
    "duration": 22,
    "start_time": "2025-01-10T19:59:10.374Z"
   },
   {
    "duration": 3,
    "start_time": "2025-01-10T19:59:10.397Z"
   },
   {
    "duration": 4,
    "start_time": "2025-01-10T19:59:10.402Z"
   },
   {
    "duration": 3,
    "start_time": "2025-01-10T19:59:10.408Z"
   },
   {
    "duration": 27,
    "start_time": "2025-01-10T19:59:10.412Z"
   },
   {
    "duration": 40,
    "start_time": "2025-01-10T19:59:10.441Z"
   },
   {
    "duration": 7,
    "start_time": "2025-01-10T19:59:10.482Z"
   },
   {
    "duration": 17,
    "start_time": "2025-01-10T19:59:10.490Z"
   },
   {
    "duration": 12,
    "start_time": "2025-01-10T19:59:10.509Z"
   },
   {
    "duration": 24,
    "start_time": "2025-01-10T19:59:10.523Z"
   },
   {
    "duration": 4,
    "start_time": "2025-01-10T19:59:10.548Z"
   },
   {
    "duration": 96,
    "start_time": "2025-01-10T19:59:10.553Z"
   },
   {
    "duration": 42,
    "start_time": "2025-01-10T19:59:10.651Z"
   },
   {
    "duration": 14,
    "start_time": "2025-01-10T19:59:10.698Z"
   },
   {
    "duration": 8,
    "start_time": "2025-01-10T19:59:10.714Z"
   },
   {
    "duration": 9,
    "start_time": "2025-01-10T19:59:10.724Z"
   },
   {
    "duration": 3,
    "start_time": "2025-01-10T19:59:10.735Z"
   },
   {
    "duration": 8,
    "start_time": "2025-01-10T19:59:10.740Z"
   },
   {
    "duration": 21,
    "start_time": "2025-01-10T19:59:10.773Z"
   },
   {
    "duration": 3,
    "start_time": "2025-01-10T19:59:10.795Z"
   },
   {
    "duration": 8,
    "start_time": "2025-01-10T19:59:10.800Z"
   },
   {
    "duration": 5,
    "start_time": "2025-01-10T19:59:10.809Z"
   },
   {
    "duration": 23,
    "start_time": "2025-01-10T19:59:10.815Z"
   },
   {
    "duration": 6,
    "start_time": "2025-01-10T19:59:10.840Z"
   },
   {
    "duration": 878,
    "start_time": "2025-01-10T19:59:10.847Z"
   },
   {
    "duration": 3,
    "start_time": "2025-01-10T19:59:11.726Z"
   },
   {
    "duration": 9,
    "start_time": "2025-01-10T19:59:11.730Z"
   },
   {
    "duration": 6,
    "start_time": "2025-01-10T19:59:11.741Z"
   },
   {
    "duration": 46,
    "start_time": "2025-01-10T19:59:11.749Z"
   },
   {
    "duration": 7,
    "start_time": "2025-01-10T19:59:11.797Z"
   },
   {
    "duration": 6,
    "start_time": "2025-01-10T19:59:11.806Z"
   },
   {
    "duration": 7,
    "start_time": "2025-01-10T19:59:11.813Z"
   },
   {
    "duration": 10,
    "start_time": "2025-01-10T19:59:11.822Z"
   },
   {
    "duration": 7,
    "start_time": "2025-01-10T19:59:11.834Z"
   },
   {
    "duration": 6,
    "start_time": "2025-01-10T19:59:11.843Z"
   },
   {
    "duration": 874,
    "start_time": "2025-01-10T19:59:11.851Z"
   },
   {
    "duration": 225,
    "start_time": "2025-01-10T19:59:12.726Z"
   },
   {
    "duration": 37,
    "start_time": "2025-01-10T19:59:12.952Z"
   },
   {
    "duration": 7,
    "start_time": "2025-01-10T19:59:12.998Z"
   },
   {
    "duration": 31,
    "start_time": "2025-01-10T19:59:13.007Z"
   },
   {
    "duration": 101,
    "start_time": "2025-01-10T19:59:13.040Z"
   },
   {
    "duration": 11,
    "start_time": "2025-01-10T19:59:13.142Z"
   },
   {
    "duration": 22,
    "start_time": "2025-01-10T19:59:13.155Z"
   },
   {
    "duration": 15,
    "start_time": "2025-01-10T19:59:13.178Z"
   },
   {
    "duration": 6,
    "start_time": "2025-01-10T19:59:13.194Z"
   },
   {
    "duration": 44,
    "start_time": "2025-01-10T19:59:13.201Z"
   },
   {
    "duration": 7,
    "start_time": "2025-01-10T19:59:13.247Z"
   },
   {
    "duration": 18,
    "start_time": "2025-01-10T19:59:13.257Z"
   },
   {
    "duration": 238,
    "start_time": "2025-01-10T19:59:13.278Z"
   },
   {
    "duration": 142,
    "start_time": "2025-01-10T19:59:13.518Z"
   },
   {
    "duration": 138,
    "start_time": "2025-01-10T19:59:13.661Z"
   },
   {
    "duration": 235,
    "start_time": "2025-01-10T19:59:13.800Z"
   },
   {
    "duration": 9,
    "start_time": "2025-01-10T19:59:14.037Z"
   },
   {
    "duration": 5,
    "start_time": "2025-01-10T19:59:14.048Z"
   },
   {
    "duration": 23,
    "start_time": "2025-01-10T19:59:14.070Z"
   },
   {
    "duration": 15,
    "start_time": "2025-01-10T19:59:14.095Z"
   },
   {
    "duration": 207,
    "start_time": "2025-01-10T19:59:14.112Z"
   },
   {
    "duration": 80,
    "start_time": "2025-01-10T19:59:14.321Z"
   },
   {
    "duration": 158,
    "start_time": "2025-01-10T19:59:14.403Z"
   },
   {
    "duration": 26,
    "start_time": "2025-01-10T19:59:14.563Z"
   },
   {
    "duration": 8,
    "start_time": "2025-01-10T19:59:14.599Z"
   },
   {
    "duration": 5,
    "start_time": "2025-01-10T19:59:14.610Z"
   },
   {
    "duration": 707,
    "start_time": "2025-01-10T19:59:14.617Z"
   },
   {
    "duration": 936,
    "start_time": "2025-01-10T19:59:15.326Z"
   },
   {
    "duration": 1063,
    "start_time": "2025-01-10T19:59:16.264Z"
   },
   {
    "duration": 294,
    "start_time": "2025-01-10T19:59:17.329Z"
   },
   {
    "duration": 53,
    "start_time": "2025-01-10T19:59:17.624Z"
   },
   {
    "duration": 154,
    "start_time": "2025-01-10T19:59:17.694Z"
   },
   {
    "duration": 135,
    "start_time": "2025-01-10T19:59:17.850Z"
   },
   {
    "duration": 57,
    "start_time": "2025-01-10T19:59:17.986Z"
   },
   {
    "duration": 13,
    "start_time": "2025-01-10T19:59:18.045Z"
   },
   {
    "duration": 34675,
    "start_time": "2025-01-10T19:59:18.059Z"
   },
   {
    "duration": 9,
    "start_time": "2025-01-10T19:59:52.735Z"
   },
   {
    "duration": 1178,
    "start_time": "2025-01-10T20:02:05.349Z"
   },
   {
    "duration": 1230,
    "start_time": "2025-01-10T20:02:17.459Z"
   },
   {
    "duration": 2255,
    "start_time": "2025-01-10T20:03:27.767Z"
   },
   {
    "duration": 2062,
    "start_time": "2025-01-10T20:03:37.241Z"
   },
   {
    "duration": 1929,
    "start_time": "2025-01-10T20:03:50.686Z"
   },
   {
    "duration": 306,
    "start_time": "2025-01-10T20:04:57.951Z"
   },
   {
    "duration": 3,
    "start_time": "2025-01-10T20:04:58.259Z"
   },
   {
    "duration": 142,
    "start_time": "2025-01-10T20:04:58.285Z"
   },
   {
    "duration": 200,
    "start_time": "2025-01-10T20:04:58.429Z"
   },
   {
    "duration": 70,
    "start_time": "2025-01-10T20:04:58.632Z"
   },
   {
    "duration": 8,
    "start_time": "2025-01-10T20:04:58.704Z"
   },
   {
    "duration": 8,
    "start_time": "2025-01-10T20:04:58.714Z"
   },
   {
    "duration": 881,
    "start_time": "2025-01-10T20:04:58.723Z"
   },
   {
    "duration": 100,
    "start_time": "2025-01-10T20:04:59.606Z"
   },
   {
    "duration": 107,
    "start_time": "2025-01-10T20:04:59.708Z"
   },
   {
    "duration": 2,
    "start_time": "2025-01-10T20:04:59.817Z"
   },
   {
    "duration": 6,
    "start_time": "2025-01-10T20:04:59.820Z"
   },
   {
    "duration": 54,
    "start_time": "2025-01-10T20:04:59.827Z"
   },
   {
    "duration": 9,
    "start_time": "2025-01-10T20:04:59.884Z"
   },
   {
    "duration": 18,
    "start_time": "2025-01-10T20:04:59.894Z"
   },
   {
    "duration": 184,
    "start_time": "2025-01-10T20:04:59.914Z"
   },
   {
    "duration": 113,
    "start_time": "2025-01-10T20:05:00.102Z"
   },
   {
    "duration": 4,
    "start_time": "2025-01-10T20:05:00.217Z"
   },
   {
    "duration": 75,
    "start_time": "2025-01-10T20:05:00.222Z"
   },
   {
    "duration": 24,
    "start_time": "2025-01-10T20:05:00.299Z"
   },
   {
    "duration": 12,
    "start_time": "2025-01-10T20:05:00.325Z"
   },
   {
    "duration": 7,
    "start_time": "2025-01-10T20:05:00.338Z"
   },
   {
    "duration": 15,
    "start_time": "2025-01-10T20:05:00.347Z"
   },
   {
    "duration": 31,
    "start_time": "2025-01-10T20:05:00.364Z"
   },
   {
    "duration": 4,
    "start_time": "2025-01-10T20:05:00.398Z"
   },
   {
    "duration": 4,
    "start_time": "2025-01-10T20:05:00.404Z"
   },
   {
    "duration": 26,
    "start_time": "2025-01-10T20:05:00.409Z"
   },
   {
    "duration": 19,
    "start_time": "2025-01-10T20:05:00.436Z"
   },
   {
    "duration": 5,
    "start_time": "2025-01-10T20:05:00.457Z"
   },
   {
    "duration": 30,
    "start_time": "2025-01-10T20:05:00.464Z"
   },
   {
    "duration": 16,
    "start_time": "2025-01-10T20:05:00.498Z"
   },
   {
    "duration": 25,
    "start_time": "2025-01-10T20:05:00.517Z"
   },
   {
    "duration": 3,
    "start_time": "2025-01-10T20:05:00.544Z"
   },
   {
    "duration": 64,
    "start_time": "2025-01-10T20:05:00.549Z"
   },
   {
    "duration": 15,
    "start_time": "2025-01-10T20:05:00.615Z"
   },
   {
    "duration": 15,
    "start_time": "2025-01-10T20:05:00.632Z"
   },
   {
    "duration": 50,
    "start_time": "2025-01-10T20:05:00.648Z"
   },
   {
    "duration": 9,
    "start_time": "2025-01-10T20:05:00.700Z"
   },
   {
    "duration": 4,
    "start_time": "2025-01-10T20:05:00.711Z"
   },
   {
    "duration": 8,
    "start_time": "2025-01-10T20:05:00.718Z"
   },
   {
    "duration": 7,
    "start_time": "2025-01-10T20:05:00.733Z"
   },
   {
    "duration": 3,
    "start_time": "2025-01-10T20:05:00.742Z"
   },
   {
    "duration": 9,
    "start_time": "2025-01-10T20:05:00.746Z"
   },
   {
    "duration": 38,
    "start_time": "2025-01-10T20:05:00.757Z"
   },
   {
    "duration": 23,
    "start_time": "2025-01-10T20:05:00.797Z"
   },
   {
    "duration": 9,
    "start_time": "2025-01-10T20:05:00.821Z"
   },
   {
    "duration": 875,
    "start_time": "2025-01-10T20:05:00.831Z"
   },
   {
    "duration": 2,
    "start_time": "2025-01-10T20:05:01.708Z"
   },
   {
    "duration": 11,
    "start_time": "2025-01-10T20:05:01.712Z"
   },
   {
    "duration": 8,
    "start_time": "2025-01-10T20:05:01.724Z"
   },
   {
    "duration": 9,
    "start_time": "2025-01-10T20:05:01.734Z"
   },
   {
    "duration": 48,
    "start_time": "2025-01-10T20:05:01.744Z"
   },
   {
    "duration": 6,
    "start_time": "2025-01-10T20:05:01.803Z"
   },
   {
    "duration": 8,
    "start_time": "2025-01-10T20:05:01.811Z"
   },
   {
    "duration": 10,
    "start_time": "2025-01-10T20:05:01.821Z"
   },
   {
    "duration": 8,
    "start_time": "2025-01-10T20:05:01.832Z"
   },
   {
    "duration": 6,
    "start_time": "2025-01-10T20:05:01.841Z"
   },
   {
    "duration": 856,
    "start_time": "2025-01-10T20:05:01.849Z"
   },
   {
    "duration": 219,
    "start_time": "2025-01-10T20:05:02.707Z"
   },
   {
    "duration": 22,
    "start_time": "2025-01-10T20:05:02.928Z"
   },
   {
    "duration": 21,
    "start_time": "2025-01-10T20:05:02.952Z"
   },
   {
    "duration": 31,
    "start_time": "2025-01-10T20:05:02.990Z"
   },
   {
    "duration": 101,
    "start_time": "2025-01-10T20:05:03.023Z"
   },
   {
    "duration": 10,
    "start_time": "2025-01-10T20:05:03.126Z"
   },
   {
    "duration": 9,
    "start_time": "2025-01-10T20:05:03.138Z"
   },
   {
    "duration": 36,
    "start_time": "2025-01-10T20:05:03.149Z"
   },
   {
    "duration": 5,
    "start_time": "2025-01-10T20:05:03.198Z"
   },
   {
    "duration": 37,
    "start_time": "2025-01-10T20:05:03.204Z"
   },
   {
    "duration": 5,
    "start_time": "2025-01-10T20:05:03.243Z"
   },
   {
    "duration": 5,
    "start_time": "2025-01-10T20:05:03.250Z"
   },
   {
    "duration": 221,
    "start_time": "2025-01-10T20:05:03.256Z"
   },
   {
    "duration": 142,
    "start_time": "2025-01-10T20:05:03.479Z"
   },
   {
    "duration": 129,
    "start_time": "2025-01-10T20:05:03.623Z"
   },
   {
    "duration": 258,
    "start_time": "2025-01-10T20:05:03.754Z"
   },
   {
    "duration": 9,
    "start_time": "2025-01-10T20:05:04.014Z"
   },
   {
    "duration": 5,
    "start_time": "2025-01-10T20:05:04.025Z"
   },
   {
    "duration": 57,
    "start_time": "2025-01-10T20:05:04.032Z"
   },
   {
    "duration": 10,
    "start_time": "2025-01-10T20:05:04.094Z"
   },
   {
    "duration": 195,
    "start_time": "2025-01-10T20:05:04.106Z"
   },
   {
    "duration": 53,
    "start_time": "2025-01-10T20:05:04.303Z"
   },
   {
    "duration": 163,
    "start_time": "2025-01-10T20:05:04.357Z"
   },
   {
    "duration": 6,
    "start_time": "2025-01-10T20:05:04.522Z"
   },
   {
    "duration": 12,
    "start_time": "2025-01-10T20:05:04.530Z"
   },
   {
    "duration": 7,
    "start_time": "2025-01-10T20:05:04.544Z"
   },
   {
    "duration": 750,
    "start_time": "2025-01-10T20:05:04.552Z"
   },
   {
    "duration": 920,
    "start_time": "2025-01-10T20:05:05.304Z"
   },
   {
    "duration": 983,
    "start_time": "2025-01-10T20:05:06.225Z"
   },
   {
    "duration": 308,
    "start_time": "2025-01-10T20:05:07.210Z"
   },
   {
    "duration": 42,
    "start_time": "2025-01-10T20:05:07.520Z"
   },
   {
    "duration": 169,
    "start_time": "2025-01-10T20:05:07.570Z"
   },
   {
    "duration": 157,
    "start_time": "2025-01-10T20:05:07.741Z"
   },
   {
    "duration": 49,
    "start_time": "2025-01-10T20:05:07.899Z"
   },
   {
    "duration": 11,
    "start_time": "2025-01-10T20:05:07.949Z"
   },
   {
    "duration": 34147,
    "start_time": "2025-01-10T20:05:07.962Z"
   },
   {
    "duration": 5295,
    "start_time": "2025-01-10T20:05:42.111Z"
   },
   {
    "duration": 5285,
    "start_time": "2025-01-10T20:10:12.931Z"
   },
   {
    "duration": 5187,
    "start_time": "2025-01-10T20:11:41.898Z"
   },
   {
    "duration": 3665,
    "start_time": "2025-01-10T20:14:30.098Z"
   },
   {
    "duration": 3580,
    "start_time": "2025-01-10T20:14:56.597Z"
   },
   {
    "duration": 3650,
    "start_time": "2025-01-10T20:15:45.064Z"
   },
   {
    "duration": 3523,
    "start_time": "2025-01-10T20:15:59.404Z"
   },
   {
    "duration": 321,
    "start_time": "2025-01-11T18:45:25.921Z"
   },
   {
    "duration": 2,
    "start_time": "2025-01-11T18:45:26.247Z"
   },
   {
    "duration": 1911,
    "start_time": "2025-01-11T18:45:26.251Z"
   },
   {
    "duration": 204,
    "start_time": "2025-01-11T18:45:28.164Z"
   },
   {
    "duration": 66,
    "start_time": "2025-01-11T18:45:28.372Z"
   },
   {
    "duration": 10,
    "start_time": "2025-01-11T18:45:28.440Z"
   },
   {
    "duration": 10,
    "start_time": "2025-01-11T18:45:28.453Z"
   },
   {
    "duration": 841,
    "start_time": "2025-01-11T18:45:28.465Z"
   },
   {
    "duration": 133,
    "start_time": "2025-01-11T18:45:29.309Z"
   },
   {
    "duration": 106,
    "start_time": "2025-01-11T18:45:29.444Z"
   },
   {
    "duration": 2,
    "start_time": "2025-01-11T18:45:29.552Z"
   },
   {
    "duration": 7,
    "start_time": "2025-01-11T18:45:29.556Z"
   },
   {
    "duration": 30,
    "start_time": "2025-01-11T18:45:29.564Z"
   },
   {
    "duration": 6,
    "start_time": "2025-01-11T18:45:29.598Z"
   },
   {
    "duration": 52,
    "start_time": "2025-01-11T18:45:29.605Z"
   },
   {
    "duration": 194,
    "start_time": "2025-01-11T18:45:29.660Z"
   },
   {
    "duration": 135,
    "start_time": "2025-01-11T18:45:29.856Z"
   },
   {
    "duration": 3,
    "start_time": "2025-01-11T18:45:29.993Z"
   },
   {
    "duration": 45,
    "start_time": "2025-01-11T18:45:29.998Z"
   },
   {
    "duration": 27,
    "start_time": "2025-01-11T18:45:30.045Z"
   },
   {
    "duration": 18,
    "start_time": "2025-01-11T18:45:30.073Z"
   },
   {
    "duration": 7,
    "start_time": "2025-01-11T18:45:30.093Z"
   },
   {
    "duration": 12,
    "start_time": "2025-01-11T18:45:30.102Z"
   },
   {
    "duration": 29,
    "start_time": "2025-01-11T18:45:30.115Z"
   },
   {
    "duration": 5,
    "start_time": "2025-01-11T18:45:30.146Z"
   },
   {
    "duration": 3,
    "start_time": "2025-01-11T18:45:30.153Z"
   },
   {
    "duration": 25,
    "start_time": "2025-01-11T18:45:30.158Z"
   },
   {
    "duration": 21,
    "start_time": "2025-01-11T18:45:30.185Z"
   },
   {
    "duration": 5,
    "start_time": "2025-01-11T18:45:30.208Z"
   },
   {
    "duration": 15,
    "start_time": "2025-01-11T18:45:30.246Z"
   },
   {
    "duration": 16,
    "start_time": "2025-01-11T18:45:30.263Z"
   },
   {
    "duration": 33,
    "start_time": "2025-01-11T18:45:30.283Z"
   },
   {
    "duration": 4,
    "start_time": "2025-01-11T18:45:30.318Z"
   },
   {
    "duration": 97,
    "start_time": "2025-01-11T18:45:30.323Z"
   },
   {
    "duration": 27,
    "start_time": "2025-01-11T18:45:30.423Z"
   },
   {
    "duration": 18,
    "start_time": "2025-01-11T18:45:30.453Z"
   },
   {
    "duration": 12,
    "start_time": "2025-01-11T18:45:30.473Z"
   },
   {
    "duration": 12,
    "start_time": "2025-01-11T18:45:30.488Z"
   },
   {
    "duration": 7,
    "start_time": "2025-01-11T18:45:30.504Z"
   },
   {
    "duration": 14,
    "start_time": "2025-01-11T18:45:30.513Z"
   },
   {
    "duration": 7,
    "start_time": "2025-01-11T18:45:30.547Z"
   },
   {
    "duration": 5,
    "start_time": "2025-01-11T18:45:30.556Z"
   },
   {
    "duration": 8,
    "start_time": "2025-01-11T18:45:30.563Z"
   },
   {
    "duration": 6,
    "start_time": "2025-01-11T18:45:30.573Z"
   },
   {
    "duration": 31,
    "start_time": "2025-01-11T18:45:30.580Z"
   },
   {
    "duration": 31,
    "start_time": "2025-01-11T18:45:30.613Z"
   },
   {
    "duration": 897,
    "start_time": "2025-01-11T18:45:30.646Z"
   },
   {
    "duration": 2,
    "start_time": "2025-01-11T18:45:31.545Z"
   },
   {
    "duration": 10,
    "start_time": "2025-01-11T18:45:31.549Z"
   },
   {
    "duration": 6,
    "start_time": "2025-01-11T18:45:31.561Z"
   },
   {
    "duration": 8,
    "start_time": "2025-01-11T18:45:31.569Z"
   },
   {
    "duration": 8,
    "start_time": "2025-01-11T18:45:31.579Z"
   },
   {
    "duration": 7,
    "start_time": "2025-01-11T18:45:31.589Z"
   },
   {
    "duration": 52,
    "start_time": "2025-01-11T18:45:31.597Z"
   },
   {
    "duration": 12,
    "start_time": "2025-01-11T18:45:31.651Z"
   },
   {
    "duration": 10,
    "start_time": "2025-01-11T18:45:31.664Z"
   },
   {
    "duration": 7,
    "start_time": "2025-01-11T18:45:31.677Z"
   },
   {
    "duration": 815,
    "start_time": "2025-01-11T18:45:31.686Z"
   },
   {
    "duration": 240,
    "start_time": "2025-01-11T18:45:32.503Z"
   },
   {
    "duration": 22,
    "start_time": "2025-01-11T18:45:32.745Z"
   },
   {
    "duration": 7,
    "start_time": "2025-01-11T18:45:32.769Z"
   },
   {
    "duration": 32,
    "start_time": "2025-01-11T18:45:32.778Z"
   },
   {
    "duration": 121,
    "start_time": "2025-01-11T18:45:32.812Z"
   },
   {
    "duration": 20,
    "start_time": "2025-01-11T18:45:32.935Z"
   },
   {
    "duration": 21,
    "start_time": "2025-01-11T18:45:32.957Z"
   },
   {
    "duration": 11,
    "start_time": "2025-01-11T18:45:32.980Z"
   },
   {
    "duration": 6,
    "start_time": "2025-01-11T18:45:32.993Z"
   },
   {
    "duration": 56,
    "start_time": "2025-01-11T18:45:33.000Z"
   },
   {
    "duration": 7,
    "start_time": "2025-01-11T18:45:33.059Z"
   },
   {
    "duration": 7,
    "start_time": "2025-01-11T18:45:33.067Z"
   },
   {
    "duration": 222,
    "start_time": "2025-01-11T18:45:33.075Z"
   },
   {
    "duration": 144,
    "start_time": "2025-01-11T18:45:33.301Z"
   },
   {
    "duration": 128,
    "start_time": "2025-01-11T18:45:33.447Z"
   },
   {
    "duration": 277,
    "start_time": "2025-01-11T18:45:33.578Z"
   },
   {
    "duration": 9,
    "start_time": "2025-01-11T18:45:33.859Z"
   },
   {
    "duration": 6,
    "start_time": "2025-01-11T18:45:33.869Z"
   },
   {
    "duration": 19,
    "start_time": "2025-01-11T18:45:33.877Z"
   },
   {
    "duration": 9,
    "start_time": "2025-01-11T18:45:33.897Z"
   },
   {
    "duration": 205,
    "start_time": "2025-01-11T18:45:33.909Z"
   },
   {
    "duration": 57,
    "start_time": "2025-01-11T18:45:34.115Z"
   },
   {
    "duration": 163,
    "start_time": "2025-01-11T18:45:34.175Z"
   },
   {
    "duration": 8,
    "start_time": "2025-01-11T18:45:34.343Z"
   },
   {
    "duration": 8,
    "start_time": "2025-01-11T18:45:34.353Z"
   },
   {
    "duration": 5,
    "start_time": "2025-01-11T18:45:34.363Z"
   },
   {
    "duration": 661,
    "start_time": "2025-01-11T18:45:34.370Z"
   },
   {
    "duration": 869,
    "start_time": "2025-01-11T18:45:35.033Z"
   },
   {
    "duration": 907,
    "start_time": "2025-01-11T18:45:35.904Z"
   },
   {
    "duration": 264,
    "start_time": "2025-01-11T18:45:36.813Z"
   },
   {
    "duration": 42,
    "start_time": "2025-01-11T18:45:37.079Z"
   },
   {
    "duration": 160,
    "start_time": "2025-01-11T18:45:37.123Z"
   },
   {
    "duration": 126,
    "start_time": "2025-01-11T18:45:37.285Z"
   },
   {
    "duration": 54,
    "start_time": "2025-01-11T18:45:37.413Z"
   },
   {
    "duration": 11,
    "start_time": "2025-01-11T18:45:37.469Z"
   },
   {
    "duration": 32678,
    "start_time": "2025-01-11T18:45:37.482Z"
   },
   {
    "duration": 3296,
    "start_time": "2025-01-11T18:46:10.162Z"
   },
   {
    "duration": 3,
    "start_time": "2025-01-11T18:46:47.885Z"
   },
   {
    "duration": 9,
    "start_time": "2025-01-11T18:47:37.128Z"
   },
   {
    "duration": 5,
    "start_time": "2025-01-11T18:48:24.579Z"
   },
   {
    "duration": 8,
    "start_time": "2025-01-11T18:48:35.640Z"
   },
   {
    "duration": 97,
    "start_time": "2025-01-11T18:51:00.679Z"
   },
   {
    "duration": 107,
    "start_time": "2025-01-11T18:51:17.059Z"
   },
   {
    "duration": 7,
    "start_time": "2025-01-11T18:52:19.382Z"
   },
   {
    "duration": 8,
    "start_time": "2025-01-11T18:52:37.835Z"
   },
   {
    "duration": 8,
    "start_time": "2025-01-11T18:52:59.170Z"
   },
   {
    "duration": 7,
    "start_time": "2025-01-11T18:53:43.853Z"
   },
   {
    "duration": 4,
    "start_time": "2025-01-11T18:53:48.439Z"
   },
   {
    "duration": 99,
    "start_time": "2025-01-11T18:53:55.694Z"
   },
   {
    "duration": 114,
    "start_time": "2025-01-11T18:56:00.471Z"
   },
   {
    "duration": 6,
    "start_time": "2025-01-11T18:56:58.189Z"
   },
   {
    "duration": 238,
    "start_time": "2025-01-11T18:57:33.332Z"
   },
   {
    "duration": 20,
    "start_time": "2025-01-11T18:58:35.690Z"
   },
   {
    "duration": 17,
    "start_time": "2025-01-11T19:03:16.501Z"
   },
   {
    "duration": 5,
    "start_time": "2025-01-11T19:06:00.091Z"
   },
   {
    "duration": 316,
    "start_time": "2025-01-11T19:06:13.454Z"
   },
   {
    "duration": 32,
    "start_time": "2025-01-11T19:06:46.874Z"
   },
   {
    "duration": 40,
    "start_time": "2025-01-11T19:07:16.221Z"
   },
   {
    "duration": 48,
    "start_time": "2025-01-11T19:08:43.629Z"
   },
   {
    "duration": 38,
    "start_time": "2025-01-11T19:08:56.095Z"
   },
   {
    "duration": 120,
    "start_time": "2025-01-11T19:09:08.452Z"
   },
   {
    "duration": 45,
    "start_time": "2025-01-11T19:10:44.495Z"
   },
   {
    "duration": 15,
    "start_time": "2025-01-11T19:11:00.420Z"
   },
   {
    "duration": 124,
    "start_time": "2025-01-11T19:11:10.012Z"
   },
   {
    "duration": 29,
    "start_time": "2025-01-11T19:11:12.735Z"
   },
   {
    "duration": 39,
    "start_time": "2025-01-11T19:11:13.694Z"
   },
   {
    "duration": 20,
    "start_time": "2025-01-11T19:11:14.520Z"
   },
   {
    "duration": 123,
    "start_time": "2025-01-11T19:11:21.881Z"
   },
   {
    "duration": 16,
    "start_time": "2025-01-11T19:11:47.877Z"
   },
   {
    "duration": 62,
    "start_time": "2025-01-11T19:13:48.564Z"
   },
   {
    "duration": 8,
    "start_time": "2025-01-11T19:16:16.363Z"
   },
   {
    "duration": 2,
    "start_time": "2025-01-11T19:17:38.670Z"
   },
   {
    "duration": 11,
    "start_time": "2025-01-11T19:17:39.255Z"
   },
   {
    "duration": 3,
    "start_time": "2025-01-11T19:17:39.667Z"
   },
   {
    "duration": 128,
    "start_time": "2025-01-11T19:17:40.429Z"
   },
   {
    "duration": 33,
    "start_time": "2025-01-11T19:17:41.868Z"
   },
   {
    "duration": 10,
    "start_time": "2025-01-11T19:17:45.994Z"
   },
   {
    "duration": 11,
    "start_time": "2025-01-11T19:17:46.739Z"
   },
   {
    "duration": 773,
    "start_time": "2025-01-11T19:17:47.405Z"
   },
   {
    "duration": 77,
    "start_time": "2025-01-11T19:17:48.188Z"
   },
   {
    "duration": 91,
    "start_time": "2025-01-11T19:17:48.315Z"
   },
   {
    "duration": 2,
    "start_time": "2025-01-11T19:17:49.067Z"
   },
   {
    "duration": 6,
    "start_time": "2025-01-11T19:17:49.566Z"
   },
   {
    "duration": 28,
    "start_time": "2025-01-11T19:17:50.894Z"
   },
   {
    "duration": 5,
    "start_time": "2025-01-11T19:17:51.170Z"
   },
   {
    "duration": 17,
    "start_time": "2025-01-11T19:17:52.215Z"
   },
   {
    "duration": 118,
    "start_time": "2025-01-11T19:17:52.603Z"
   },
   {
    "duration": 103,
    "start_time": "2025-01-11T19:17:52.768Z"
   },
   {
    "duration": 4,
    "start_time": "2025-01-11T19:17:53.002Z"
   },
   {
    "duration": 28,
    "start_time": "2025-01-11T19:17:53.267Z"
   },
   {
    "duration": 36,
    "start_time": "2025-01-11T19:17:53.751Z"
   },
   {
    "duration": 27,
    "start_time": "2025-01-11T19:17:54.339Z"
   },
   {
    "duration": 20,
    "start_time": "2025-01-11T19:17:55.451Z"
   },
   {
    "duration": 15,
    "start_time": "2025-01-11T19:17:55.695Z"
   },
   {
    "duration": 3,
    "start_time": "2025-01-11T19:17:55.905Z"
   },
   {
    "duration": 6,
    "start_time": "2025-01-11T19:17:56.123Z"
   },
   {
    "duration": 3,
    "start_time": "2025-01-11T19:17:56.629Z"
   },
   {
    "duration": 24,
    "start_time": "2025-01-11T19:17:57.300Z"
   },
   {
    "duration": 19,
    "start_time": "2025-01-11T19:17:57.717Z"
   },
   {
    "duration": 7,
    "start_time": "2025-01-11T19:17:58.680Z"
   },
   {
    "duration": 21,
    "start_time": "2025-01-11T19:17:58.931Z"
   },
   {
    "duration": 32,
    "start_time": "2025-01-11T19:17:59.640Z"
   },
   {
    "duration": 28,
    "start_time": "2025-01-11T19:18:00.095Z"
   },
   {
    "duration": 5,
    "start_time": "2025-01-11T19:18:00.594Z"
   },
   {
    "duration": 56,
    "start_time": "2025-01-11T19:18:00.967Z"
   },
   {
    "duration": 28,
    "start_time": "2025-01-11T19:18:01.541Z"
   },
   {
    "duration": 15,
    "start_time": "2025-01-11T19:18:02.095Z"
   },
   {
    "duration": 10,
    "start_time": "2025-01-11T19:18:02.689Z"
   },
   {
    "duration": 11,
    "start_time": "2025-01-11T19:18:06.714Z"
   },
   {
    "duration": 3,
    "start_time": "2025-01-11T19:18:07.690Z"
   },
   {
    "duration": 9,
    "start_time": "2025-01-11T19:18:08.024Z"
   },
   {
    "duration": 6,
    "start_time": "2025-01-11T19:18:08.520Z"
   },
   {
    "duration": 3,
    "start_time": "2025-01-11T19:18:10.095Z"
   },
   {
    "duration": 9,
    "start_time": "2025-01-11T19:18:10.429Z"
   },
   {
    "duration": 35,
    "start_time": "2025-01-11T19:18:10.839Z"
   },
   {
    "duration": 21,
    "start_time": "2025-01-11T19:18:14.720Z"
   },
   {
    "duration": 14,
    "start_time": "2025-01-11T19:18:17.255Z"
   },
   {
    "duration": 807,
    "start_time": "2025-01-11T19:18:22.255Z"
   },
   {
    "duration": 3,
    "start_time": "2025-01-11T19:18:23.067Z"
   },
   {
    "duration": 10,
    "start_time": "2025-01-11T19:18:24.902Z"
   },
   {
    "duration": 7,
    "start_time": "2025-01-11T19:18:30.320Z"
   },
   {
    "duration": 8,
    "start_time": "2025-01-11T19:18:31.205Z"
   },
   {
    "duration": 7,
    "start_time": "2025-01-11T19:18:33.588Z"
   },
   {
    "duration": 8,
    "start_time": "2025-01-11T19:18:36.719Z"
   },
   {
    "duration": 8,
    "start_time": "2025-01-11T19:18:37.825Z"
   },
   {
    "duration": 12,
    "start_time": "2025-01-11T19:18:38.851Z"
   },
   {
    "duration": 7,
    "start_time": "2025-01-11T19:18:39.075Z"
   },
   {
    "duration": 10,
    "start_time": "2025-01-11T19:18:39.339Z"
   },
   {
    "duration": 758,
    "start_time": "2025-01-11T19:18:39.751Z"
   },
   {
    "duration": 229,
    "start_time": "2025-01-11T19:18:40.511Z"
   },
   {
    "duration": 20,
    "start_time": "2025-01-11T19:18:41.885Z"
   },
   {
    "duration": 14,
    "start_time": "2025-01-11T19:18:42.160Z"
   },
   {
    "duration": 35,
    "start_time": "2025-01-11T19:18:42.772Z"
   },
   {
    "duration": 99,
    "start_time": "2025-01-11T19:18:43.463Z"
   },
   {
    "duration": 12,
    "start_time": "2025-01-11T19:18:43.776Z"
   },
   {
    "duration": 11,
    "start_time": "2025-01-11T19:18:44.217Z"
   },
   {
    "duration": 9,
    "start_time": "2025-01-11T19:18:44.579Z"
   },
   {
    "duration": 12,
    "start_time": "2025-01-11T19:18:44.955Z"
   },
   {
    "duration": 40,
    "start_time": "2025-01-11T19:18:45.880Z"
   },
   {
    "duration": 7,
    "start_time": "2025-01-11T19:18:52.040Z"
   },
   {
    "duration": 7,
    "start_time": "2025-01-11T19:18:54.834Z"
   },
   {
    "duration": 203,
    "start_time": "2025-01-11T19:18:58.885Z"
   },
   {
    "duration": 150,
    "start_time": "2025-01-11T19:19:10.690Z"
   },
   {
    "duration": 141,
    "start_time": "2025-01-11T19:19:26.129Z"
   },
   {
    "duration": 114,
    "start_time": "2025-01-11T19:19:51.264Z"
   },
   {
    "duration": 235,
    "start_time": "2025-01-11T19:20:21.871Z"
   },
   {
    "duration": 8,
    "start_time": "2025-01-11T19:22:27.309Z"
   },
   {
    "duration": 5,
    "start_time": "2025-01-11T19:22:38.817Z"
   },
   {
    "duration": 18,
    "start_time": "2025-01-11T19:22:41.669Z"
   },
   {
    "duration": 12,
    "start_time": "2025-01-11T19:22:42.855Z"
   },
   {
    "duration": 184,
    "start_time": "2025-01-11T19:22:48.171Z"
   },
   {
    "duration": 52,
    "start_time": "2025-01-11T19:22:57.167Z"
   },
   {
    "duration": 164,
    "start_time": "2025-01-11T19:22:58.018Z"
   },
   {
    "duration": 6,
    "start_time": "2025-01-11T19:23:09.997Z"
   },
   {
    "duration": 8,
    "start_time": "2025-01-11T19:23:19.627Z"
   },
   {
    "duration": 17,
    "start_time": "2025-01-11T19:23:24.055Z"
   },
   {
    "duration": 168,
    "start_time": "2025-01-11T19:23:34.113Z"
   },
   {
    "duration": 296,
    "start_time": "2025-01-11T19:24:14.025Z"
   },
   {
    "duration": 2,
    "start_time": "2025-01-11T19:24:14.323Z"
   },
   {
    "duration": 150,
    "start_time": "2025-01-11T19:24:14.327Z"
   },
   {
    "duration": 207,
    "start_time": "2025-01-11T19:24:14.479Z"
   },
   {
    "duration": 76,
    "start_time": "2025-01-11T19:24:14.688Z"
   },
   {
    "duration": 10,
    "start_time": "2025-01-11T19:24:14.765Z"
   },
   {
    "duration": 9,
    "start_time": "2025-01-11T19:24:14.777Z"
   },
   {
    "duration": 888,
    "start_time": "2025-01-11T19:24:14.788Z"
   },
   {
    "duration": 120,
    "start_time": "2025-01-11T19:24:15.677Z"
   },
   {
    "duration": 109,
    "start_time": "2025-01-11T19:24:15.801Z"
   },
   {
    "duration": 3,
    "start_time": "2025-01-11T19:24:15.912Z"
   },
   {
    "duration": 5,
    "start_time": "2025-01-11T19:24:15.917Z"
   },
   {
    "duration": 50,
    "start_time": "2025-01-11T19:24:15.924Z"
   },
   {
    "duration": 5,
    "start_time": "2025-01-11T19:24:15.975Z"
   },
   {
    "duration": 18,
    "start_time": "2025-01-11T19:24:15.982Z"
   },
   {
    "duration": 174,
    "start_time": "2025-01-11T19:24:16.003Z"
   },
   {
    "duration": 117,
    "start_time": "2025-01-11T19:24:16.179Z"
   },
   {
    "duration": 3,
    "start_time": "2025-01-11T19:24:16.298Z"
   },
   {
    "duration": 67,
    "start_time": "2025-01-11T19:24:16.304Z"
   },
   {
    "duration": 25,
    "start_time": "2025-01-11T19:24:16.373Z"
   },
   {
    "duration": 12,
    "start_time": "2025-01-11T19:24:16.399Z"
   },
   {
    "duration": 6,
    "start_time": "2025-01-11T19:24:16.413Z"
   },
   {
    "duration": 12,
    "start_time": "2025-01-11T19:24:16.421Z"
   },
   {
    "duration": 3,
    "start_time": "2025-01-11T19:24:16.434Z"
   },
   {
    "duration": 10,
    "start_time": "2025-01-11T19:24:16.458Z"
   },
   {
    "duration": 2,
    "start_time": "2025-01-11T19:24:16.470Z"
   },
   {
    "duration": 24,
    "start_time": "2025-01-11T19:24:16.474Z"
   },
   {
    "duration": 17,
    "start_time": "2025-01-11T19:24:16.503Z"
   },
   {
    "duration": 5,
    "start_time": "2025-01-11T19:24:16.521Z"
   },
   {
    "duration": 42,
    "start_time": "2025-01-11T19:24:16.528Z"
   },
   {
    "duration": 14,
    "start_time": "2025-01-11T19:24:16.573Z"
   },
   {
    "duration": 21,
    "start_time": "2025-01-11T19:24:16.589Z"
   },
   {
    "duration": 4,
    "start_time": "2025-01-11T19:24:16.612Z"
   },
   {
    "duration": 59,
    "start_time": "2025-01-11T19:24:16.618Z"
   },
   {
    "duration": 14,
    "start_time": "2025-01-11T19:24:16.678Z"
   },
   {
    "duration": 13,
    "start_time": "2025-01-11T19:24:16.694Z"
   },
   {
    "duration": 9,
    "start_time": "2025-01-11T19:24:16.708Z"
   },
   {
    "duration": 39,
    "start_time": "2025-01-11T19:24:16.719Z"
   },
   {
    "duration": 11,
    "start_time": "2025-01-11T19:24:16.759Z"
   },
   {
    "duration": 10,
    "start_time": "2025-01-11T19:24:16.772Z"
   },
   {
    "duration": 6,
    "start_time": "2025-01-11T19:24:16.784Z"
   },
   {
    "duration": 5,
    "start_time": "2025-01-11T19:24:16.792Z"
   },
   {
    "duration": 9,
    "start_time": "2025-01-11T19:24:16.799Z"
   },
   {
    "duration": 5,
    "start_time": "2025-01-11T19:24:16.810Z"
   },
   {
    "duration": 53,
    "start_time": "2025-01-11T19:24:16.817Z"
   },
   {
    "duration": 7,
    "start_time": "2025-01-11T19:24:16.871Z"
   },
   {
    "duration": 822,
    "start_time": "2025-01-11T19:24:16.880Z"
   },
   {
    "duration": 3,
    "start_time": "2025-01-11T19:24:17.703Z"
   },
   {
    "duration": 9,
    "start_time": "2025-01-11T19:24:17.708Z"
   },
   {
    "duration": 7,
    "start_time": "2025-01-11T19:24:17.718Z"
   },
   {
    "duration": 7,
    "start_time": "2025-01-11T19:24:17.746Z"
   },
   {
    "duration": 15,
    "start_time": "2025-01-11T19:24:17.755Z"
   },
   {
    "duration": 6,
    "start_time": "2025-01-11T19:24:17.771Z"
   },
   {
    "duration": 7,
    "start_time": "2025-01-11T19:24:17.779Z"
   },
   {
    "duration": 10,
    "start_time": "2025-01-11T19:24:17.787Z"
   },
   {
    "duration": 6,
    "start_time": "2025-01-11T19:24:17.799Z"
   },
   {
    "duration": 7,
    "start_time": "2025-01-11T19:24:17.807Z"
   },
   {
    "duration": 864,
    "start_time": "2025-01-11T19:24:17.815Z"
   },
   {
    "duration": 219,
    "start_time": "2025-01-11T19:24:18.681Z"
   },
   {
    "duration": 27,
    "start_time": "2025-01-11T19:24:18.902Z"
   },
   {
    "duration": 25,
    "start_time": "2025-01-11T19:24:18.931Z"
   },
   {
    "duration": 42,
    "start_time": "2025-01-11T19:24:18.957Z"
   },
   {
    "duration": 117,
    "start_time": "2025-01-11T19:24:19.000Z"
   },
   {
    "duration": 11,
    "start_time": "2025-01-11T19:24:19.119Z"
   },
   {
    "duration": 30,
    "start_time": "2025-01-11T19:24:19.132Z"
   },
   {
    "duration": 14,
    "start_time": "2025-01-11T19:24:19.163Z"
   },
   {
    "duration": 5,
    "start_time": "2025-01-11T19:24:19.178Z"
   },
   {
    "duration": 40,
    "start_time": "2025-01-11T19:24:19.184Z"
   },
   {
    "duration": 6,
    "start_time": "2025-01-11T19:24:19.226Z"
   },
   {
    "duration": 26,
    "start_time": "2025-01-11T19:24:19.244Z"
   },
   {
    "duration": 212,
    "start_time": "2025-01-11T19:24:19.272Z"
   },
   {
    "duration": 140,
    "start_time": "2025-01-11T19:24:19.485Z"
   },
   {
    "duration": 138,
    "start_time": "2025-01-11T19:24:19.628Z"
   },
   {
    "duration": 260,
    "start_time": "2025-01-11T19:24:19.768Z"
   },
   {
    "duration": 17,
    "start_time": "2025-01-11T19:24:20.032Z"
   },
   {
    "duration": 8,
    "start_time": "2025-01-11T19:24:20.051Z"
   },
   {
    "duration": 23,
    "start_time": "2025-01-11T19:24:20.060Z"
   },
   {
    "duration": 9,
    "start_time": "2025-01-11T19:24:20.085Z"
   },
   {
    "duration": 210,
    "start_time": "2025-01-11T19:24:20.096Z"
   },
   {
    "duration": 66,
    "start_time": "2025-01-11T19:24:20.308Z"
   },
   {
    "duration": 194,
    "start_time": "2025-01-11T19:24:20.376Z"
   },
   {
    "duration": 6,
    "start_time": "2025-01-11T19:24:20.584Z"
   },
   {
    "duration": 8,
    "start_time": "2025-01-11T19:24:20.592Z"
   },
   {
    "duration": 6,
    "start_time": "2025-01-11T19:24:20.602Z"
   },
   {
    "duration": 763,
    "start_time": "2025-01-11T19:24:20.609Z"
   },
   {
    "duration": 954,
    "start_time": "2025-01-11T19:24:21.375Z"
   },
   {
    "duration": 965,
    "start_time": "2025-01-11T19:24:22.330Z"
   },
   {
    "duration": 293,
    "start_time": "2025-01-11T19:24:23.297Z"
   },
   {
    "duration": 41,
    "start_time": "2025-01-11T19:24:23.592Z"
   },
   {
    "duration": 160,
    "start_time": "2025-01-11T19:24:23.643Z"
   },
   {
    "duration": 132,
    "start_time": "2025-01-11T19:24:23.805Z"
   },
   {
    "duration": 52,
    "start_time": "2025-01-11T19:24:23.946Z"
   },
   {
    "duration": 12,
    "start_time": "2025-01-11T19:24:24.000Z"
   },
   {
    "duration": 139,
    "start_time": "2025-01-11T19:24:24.014Z"
   },
   {
    "duration": 18,
    "start_time": "2025-01-11T19:24:24.155Z"
   },
   {
    "duration": 40,
    "start_time": "2025-01-11T19:24:24.174Z"
   },
   {
    "duration": 4,
    "start_time": "2025-01-11T19:24:24.215Z"
   },
   {
    "duration": 27,
    "start_time": "2025-01-11T19:24:24.220Z"
   },
   {
    "duration": 8,
    "start_time": "2025-01-11T19:26:31.173Z"
   },
   {
    "duration": 664,
    "start_time": "2025-01-11T19:27:44.128Z"
   },
   {
    "duration": 948,
    "start_time": "2025-01-11T19:29:20.234Z"
   },
   {
    "duration": 935,
    "start_time": "2025-01-11T19:29:39.034Z"
   },
   {
    "duration": 1631,
    "start_time": "2025-01-11T19:32:16.454Z"
   },
   {
    "duration": 1422,
    "start_time": "2025-01-11T19:34:03.820Z"
   },
   {
    "duration": 1317,
    "start_time": "2025-01-11T19:34:52.439Z"
   },
   {
    "duration": 8,
    "start_time": "2025-01-11T19:36:20.665Z"
   },
   {
    "duration": 367,
    "start_time": "2025-01-11T19:36:51.714Z"
   },
   {
    "duration": 847,
    "start_time": "2025-01-11T19:38:34.489Z"
   },
   {
    "duration": 291,
    "start_time": "2025-01-11T19:39:10.288Z"
   },
   {
    "duration": 282,
    "start_time": "2025-01-11T19:40:09.969Z"
   },
   {
    "duration": 6,
    "start_time": "2025-01-11T19:40:28.610Z"
   },
   {
    "duration": 324,
    "start_time": "2025-01-11T19:41:46.852Z"
   },
   {
    "duration": 3,
    "start_time": "2025-01-11T19:41:47.177Z"
   },
   {
    "duration": 138,
    "start_time": "2025-01-11T19:41:47.181Z"
   },
   {
    "duration": 189,
    "start_time": "2025-01-11T19:41:47.321Z"
   },
   {
    "duration": 55,
    "start_time": "2025-01-11T19:41:47.512Z"
   },
   {
    "duration": 10,
    "start_time": "2025-01-11T19:41:47.569Z"
   },
   {
    "duration": 9,
    "start_time": "2025-01-11T19:41:47.580Z"
   },
   {
    "duration": 838,
    "start_time": "2025-01-11T19:41:47.591Z"
   },
   {
    "duration": 104,
    "start_time": "2025-01-11T19:41:48.431Z"
   },
   {
    "duration": 110,
    "start_time": "2025-01-11T19:41:48.544Z"
   },
   {
    "duration": 3,
    "start_time": "2025-01-11T19:41:48.655Z"
   },
   {
    "duration": 6,
    "start_time": "2025-01-11T19:41:48.660Z"
   },
   {
    "duration": 31,
    "start_time": "2025-01-11T19:41:48.667Z"
   },
   {
    "duration": 5,
    "start_time": "2025-01-11T19:41:48.701Z"
   },
   {
    "duration": 49,
    "start_time": "2025-01-11T19:41:48.707Z"
   },
   {
    "duration": 156,
    "start_time": "2025-01-11T19:41:48.757Z"
   },
   {
    "duration": 115,
    "start_time": "2025-01-11T19:41:48.915Z"
   },
   {
    "duration": 4,
    "start_time": "2025-01-11T19:41:49.031Z"
   },
   {
    "duration": 37,
    "start_time": "2025-01-11T19:41:49.043Z"
   },
   {
    "duration": 33,
    "start_time": "2025-01-11T19:41:49.082Z"
   },
   {
    "duration": 30,
    "start_time": "2025-01-11T19:41:49.119Z"
   },
   {
    "duration": 6,
    "start_time": "2025-01-11T19:41:49.151Z"
   },
   {
    "duration": 13,
    "start_time": "2025-01-11T19:41:49.158Z"
   },
   {
    "duration": 4,
    "start_time": "2025-01-11T19:41:49.172Z"
   },
   {
    "duration": 4,
    "start_time": "2025-01-11T19:41:49.177Z"
   },
   {
    "duration": 2,
    "start_time": "2025-01-11T19:41:49.183Z"
   },
   {
    "duration": 24,
    "start_time": "2025-01-11T19:41:49.187Z"
   },
   {
    "duration": 45,
    "start_time": "2025-01-11T19:41:49.212Z"
   },
   {
    "duration": 6,
    "start_time": "2025-01-11T19:41:49.259Z"
   },
   {
    "duration": 11,
    "start_time": "2025-01-11T19:41:49.267Z"
   },
   {
    "duration": 13,
    "start_time": "2025-01-11T19:41:49.280Z"
   },
   {
    "duration": 51,
    "start_time": "2025-01-11T19:41:49.295Z"
   },
   {
    "duration": 3,
    "start_time": "2025-01-11T19:41:49.347Z"
   },
   {
    "duration": 52,
    "start_time": "2025-01-11T19:41:49.352Z"
   },
   {
    "duration": 13,
    "start_time": "2025-01-11T19:41:49.405Z"
   },
   {
    "duration": 34,
    "start_time": "2025-01-11T19:41:49.420Z"
   },
   {
    "duration": 8,
    "start_time": "2025-01-11T19:41:49.455Z"
   },
   {
    "duration": 9,
    "start_time": "2025-01-11T19:41:49.465Z"
   },
   {
    "duration": 2,
    "start_time": "2025-01-11T19:41:49.476Z"
   },
   {
    "duration": 8,
    "start_time": "2025-01-11T19:41:49.480Z"
   },
   {
    "duration": 5,
    "start_time": "2025-01-11T19:41:49.494Z"
   },
   {
    "duration": 4,
    "start_time": "2025-01-11T19:41:49.500Z"
   },
   {
    "duration": 8,
    "start_time": "2025-01-11T19:41:49.542Z"
   },
   {
    "duration": 5,
    "start_time": "2025-01-11T19:41:49.551Z"
   },
   {
    "duration": 23,
    "start_time": "2025-01-11T19:41:49.557Z"
   },
   {
    "duration": 7,
    "start_time": "2025-01-11T19:41:49.582Z"
   },
   {
    "duration": 760,
    "start_time": "2025-01-11T19:41:49.590Z"
   },
   {
    "duration": 2,
    "start_time": "2025-01-11T19:41:50.352Z"
   },
   {
    "duration": 10,
    "start_time": "2025-01-11T19:41:50.356Z"
   },
   {
    "duration": 6,
    "start_time": "2025-01-11T19:41:50.368Z"
   },
   {
    "duration": 8,
    "start_time": "2025-01-11T19:41:50.375Z"
   },
   {
    "duration": 6,
    "start_time": "2025-01-11T19:41:50.385Z"
   },
   {
    "duration": 7,
    "start_time": "2025-01-11T19:41:50.393Z"
   },
   {
    "duration": 46,
    "start_time": "2025-01-11T19:41:50.401Z"
   },
   {
    "duration": 11,
    "start_time": "2025-01-11T19:41:50.448Z"
   },
   {
    "duration": 7,
    "start_time": "2025-01-11T19:41:50.461Z"
   },
   {
    "duration": 6,
    "start_time": "2025-01-11T19:41:50.470Z"
   },
   {
    "duration": 791,
    "start_time": "2025-01-11T19:41:50.478Z"
   },
   {
    "duration": 215,
    "start_time": "2025-01-11T19:41:51.271Z"
   },
   {
    "duration": 22,
    "start_time": "2025-01-11T19:41:51.488Z"
   },
   {
    "duration": 6,
    "start_time": "2025-01-11T19:41:51.511Z"
   },
   {
    "duration": 48,
    "start_time": "2025-01-11T19:41:51.519Z"
   },
   {
    "duration": 109,
    "start_time": "2025-01-11T19:41:51.569Z"
   },
   {
    "duration": 11,
    "start_time": "2025-01-11T19:41:51.680Z"
   },
   {
    "duration": 10,
    "start_time": "2025-01-11T19:41:51.692Z"
   },
   {
    "duration": 7,
    "start_time": "2025-01-11T19:41:51.704Z"
   },
   {
    "duration": 5,
    "start_time": "2025-01-11T19:41:51.712Z"
   },
   {
    "duration": 38,
    "start_time": "2025-01-11T19:41:51.743Z"
   },
   {
    "duration": 5,
    "start_time": "2025-01-11T19:41:51.783Z"
   },
   {
    "duration": 6,
    "start_time": "2025-01-11T19:41:51.789Z"
   },
   {
    "duration": 220,
    "start_time": "2025-01-11T19:41:51.796Z"
   },
   {
    "duration": 133,
    "start_time": "2025-01-11T19:41:52.018Z"
   },
   {
    "duration": 121,
    "start_time": "2025-01-11T19:41:52.153Z"
   },
   {
    "duration": 235,
    "start_time": "2025-01-11T19:41:52.276Z"
   },
   {
    "duration": 8,
    "start_time": "2025-01-11T19:41:52.513Z"
   },
   {
    "duration": 5,
    "start_time": "2025-01-11T19:41:52.522Z"
   },
   {
    "duration": 19,
    "start_time": "2025-01-11T19:41:52.543Z"
   },
   {
    "duration": 8,
    "start_time": "2025-01-11T19:41:52.564Z"
   },
   {
    "duration": 189,
    "start_time": "2025-01-11T19:41:52.576Z"
   },
   {
    "duration": 54,
    "start_time": "2025-01-11T19:41:52.767Z"
   },
   {
    "duration": 162,
    "start_time": "2025-01-11T19:41:52.823Z"
   },
   {
    "duration": 6,
    "start_time": "2025-01-11T19:41:52.987Z"
   },
   {
    "duration": 8,
    "start_time": "2025-01-11T19:41:52.994Z"
   },
   {
    "duration": 5,
    "start_time": "2025-01-11T19:41:53.004Z"
   },
   {
    "duration": 670,
    "start_time": "2025-01-11T19:41:53.011Z"
   },
   {
    "duration": 899,
    "start_time": "2025-01-11T19:41:53.682Z"
   },
   {
    "duration": 881,
    "start_time": "2025-01-11T19:41:54.583Z"
   },
   {
    "duration": 261,
    "start_time": "2025-01-11T19:41:55.465Z"
   },
   {
    "duration": 42,
    "start_time": "2025-01-11T19:41:55.728Z"
   },
   {
    "duration": 158,
    "start_time": "2025-01-11T19:41:55.772Z"
   },
   {
    "duration": 135,
    "start_time": "2025-01-11T19:41:55.933Z"
   },
   {
    "duration": 45,
    "start_time": "2025-01-11T19:41:56.071Z"
   },
   {
    "duration": 25,
    "start_time": "2025-01-11T19:41:56.118Z"
   },
   {
    "duration": 127,
    "start_time": "2025-01-11T19:41:56.144Z"
   },
   {
    "duration": 15,
    "start_time": "2025-01-11T19:41:56.273Z"
   },
   {
    "duration": 58,
    "start_time": "2025-01-11T19:41:56.289Z"
   },
   {
    "duration": 4,
    "start_time": "2025-01-11T19:41:56.349Z"
   },
   {
    "duration": 6,
    "start_time": "2025-01-11T19:41:56.355Z"
   },
   {
    "duration": 57,
    "start_time": "2025-01-11T19:41:56.362Z"
   },
   {
    "duration": 734,
    "start_time": "2025-01-11T19:41:56.421Z"
   },
   {
    "duration": 1572,
    "start_time": "2025-01-11T19:41:57.158Z"
   },
   {
    "duration": 768,
    "start_time": "2025-01-11T19:41:58.732Z"
   },
   {
    "duration": 0,
    "start_time": "2025-01-11T19:41:59.502Z"
   },
   {
    "duration": 0,
    "start_time": "2025-01-11T19:41:59.504Z"
   },
   {
    "duration": 6,
    "start_time": "2025-01-11T19:42:38.888Z"
   },
   {
    "duration": 7,
    "start_time": "2025-01-11T19:42:41.676Z"
   },
   {
    "duration": 541,
    "start_time": "2025-01-11T19:42:45.250Z"
   },
   {
    "duration": 1532,
    "start_time": "2025-01-11T19:42:50.064Z"
   },
   {
    "duration": 396,
    "start_time": "2025-01-11T19:42:56.466Z"
   },
   {
    "duration": 7,
    "start_time": "2025-01-11T19:43:07.726Z"
   },
   {
    "duration": 255,
    "start_time": "2025-01-11T19:43:23.852Z"
   },
   {
    "duration": 5,
    "start_time": "2025-01-11T19:43:29.464Z"
   },
   {
    "duration": 7,
    "start_time": "2025-01-11T19:43:30.024Z"
   },
   {
    "duration": 10,
    "start_time": "2025-01-11T19:43:30.453Z"
   },
   {
    "duration": 162,
    "start_time": "2025-01-11T19:43:34.867Z"
   },
   {
    "duration": 330,
    "start_time": "2025-01-11T19:43:41.575Z"
   },
   {
    "duration": 2,
    "start_time": "2025-01-11T19:43:41.908Z"
   },
   {
    "duration": 138,
    "start_time": "2025-01-11T19:43:41.912Z"
   },
   {
    "duration": 195,
    "start_time": "2025-01-11T19:43:42.052Z"
   },
   {
    "duration": 55,
    "start_time": "2025-01-11T19:43:42.249Z"
   },
   {
    "duration": 8,
    "start_time": "2025-01-11T19:43:42.305Z"
   },
   {
    "duration": 9,
    "start_time": "2025-01-11T19:43:42.315Z"
   },
   {
    "duration": 826,
    "start_time": "2025-01-11T19:43:42.325Z"
   },
   {
    "duration": 113,
    "start_time": "2025-01-11T19:43:43.152Z"
   },
   {
    "duration": 106,
    "start_time": "2025-01-11T19:43:43.269Z"
   },
   {
    "duration": 3,
    "start_time": "2025-01-11T19:43:43.377Z"
   },
   {
    "duration": 5,
    "start_time": "2025-01-11T19:43:43.381Z"
   },
   {
    "duration": 31,
    "start_time": "2025-01-11T19:43:43.388Z"
   },
   {
    "duration": 25,
    "start_time": "2025-01-11T19:43:43.421Z"
   },
   {
    "duration": 18,
    "start_time": "2025-01-11T19:43:43.447Z"
   },
   {
    "duration": 160,
    "start_time": "2025-01-11T19:43:43.467Z"
   },
   {
    "duration": 114,
    "start_time": "2025-01-11T19:43:43.629Z"
   },
   {
    "duration": 4,
    "start_time": "2025-01-11T19:43:43.744Z"
   },
   {
    "duration": 34,
    "start_time": "2025-01-11T19:43:43.750Z"
   },
   {
    "duration": 25,
    "start_time": "2025-01-11T19:43:43.786Z"
   },
   {
    "duration": 38,
    "start_time": "2025-01-11T19:43:43.813Z"
   },
   {
    "duration": 6,
    "start_time": "2025-01-11T19:43:43.853Z"
   },
   {
    "duration": 13,
    "start_time": "2025-01-11T19:43:43.861Z"
   },
   {
    "duration": 4,
    "start_time": "2025-01-11T19:43:43.875Z"
   },
   {
    "duration": 5,
    "start_time": "2025-01-11T19:43:43.880Z"
   },
   {
    "duration": 3,
    "start_time": "2025-01-11T19:43:43.886Z"
   },
   {
    "duration": 53,
    "start_time": "2025-01-11T19:43:43.891Z"
   },
   {
    "duration": 18,
    "start_time": "2025-01-11T19:43:43.949Z"
   },
   {
    "duration": 4,
    "start_time": "2025-01-11T19:43:43.969Z"
   },
   {
    "duration": 12,
    "start_time": "2025-01-11T19:43:43.975Z"
   },
   {
    "duration": 12,
    "start_time": "2025-01-11T19:43:43.988Z"
   },
   {
    "duration": 55,
    "start_time": "2025-01-11T19:43:44.002Z"
   },
   {
    "duration": 4,
    "start_time": "2025-01-11T19:43:44.059Z"
   },
   {
    "duration": 53,
    "start_time": "2025-01-11T19:43:44.065Z"
   },
   {
    "duration": 32,
    "start_time": "2025-01-11T19:43:44.120Z"
   },
   {
    "duration": 14,
    "start_time": "2025-01-11T19:43:44.153Z"
   },
   {
    "duration": 7,
    "start_time": "2025-01-11T19:43:44.169Z"
   },
   {
    "duration": 9,
    "start_time": "2025-01-11T19:43:44.178Z"
   },
   {
    "duration": 3,
    "start_time": "2025-01-11T19:43:44.189Z"
   },
   {
    "duration": 8,
    "start_time": "2025-01-11T19:43:44.194Z"
   },
   {
    "duration": 46,
    "start_time": "2025-01-11T19:43:44.203Z"
   },
   {
    "duration": 4,
    "start_time": "2025-01-11T19:43:44.252Z"
   },
   {
    "duration": 9,
    "start_time": "2025-01-11T19:43:44.257Z"
   },
   {
    "duration": 5,
    "start_time": "2025-01-11T19:43:44.268Z"
   },
   {
    "duration": 23,
    "start_time": "2025-01-11T19:43:44.275Z"
   },
   {
    "duration": 6,
    "start_time": "2025-01-11T19:43:44.302Z"
   },
   {
    "duration": 782,
    "start_time": "2025-01-11T19:43:44.310Z"
   },
   {
    "duration": 2,
    "start_time": "2025-01-11T19:43:45.094Z"
   },
   {
    "duration": 9,
    "start_time": "2025-01-11T19:43:45.098Z"
   },
   {
    "duration": 6,
    "start_time": "2025-01-11T19:43:45.109Z"
   },
   {
    "duration": 28,
    "start_time": "2025-01-11T19:43:45.116Z"
   },
   {
    "duration": 6,
    "start_time": "2025-01-11T19:43:45.146Z"
   },
   {
    "duration": 6,
    "start_time": "2025-01-11T19:43:45.154Z"
   },
   {
    "duration": 6,
    "start_time": "2025-01-11T19:43:45.162Z"
   },
   {
    "duration": 16,
    "start_time": "2025-01-11T19:43:45.170Z"
   },
   {
    "duration": 9,
    "start_time": "2025-01-11T19:43:45.188Z"
   },
   {
    "duration": 7,
    "start_time": "2025-01-11T19:43:45.198Z"
   },
   {
    "duration": 790,
    "start_time": "2025-01-11T19:43:45.242Z"
   },
   {
    "duration": 209,
    "start_time": "2025-01-11T19:43:46.034Z"
   },
   {
    "duration": 23,
    "start_time": "2025-01-11T19:43:46.245Z"
   },
   {
    "duration": 7,
    "start_time": "2025-01-11T19:43:46.270Z"
   },
   {
    "duration": 30,
    "start_time": "2025-01-11T19:43:46.279Z"
   },
   {
    "duration": 118,
    "start_time": "2025-01-11T19:43:46.311Z"
   },
   {
    "duration": 20,
    "start_time": "2025-01-11T19:43:46.430Z"
   },
   {
    "duration": 9,
    "start_time": "2025-01-11T19:43:46.452Z"
   },
   {
    "duration": 8,
    "start_time": "2025-01-11T19:43:46.463Z"
   },
   {
    "duration": 6,
    "start_time": "2025-01-11T19:43:46.473Z"
   },
   {
    "duration": 63,
    "start_time": "2025-01-11T19:43:46.480Z"
   },
   {
    "duration": 7,
    "start_time": "2025-01-11T19:43:46.544Z"
   },
   {
    "duration": 6,
    "start_time": "2025-01-11T19:43:46.552Z"
   },
   {
    "duration": 219,
    "start_time": "2025-01-11T19:43:46.560Z"
   },
   {
    "duration": 130,
    "start_time": "2025-01-11T19:43:46.780Z"
   },
   {
    "duration": 121,
    "start_time": "2025-01-11T19:43:46.912Z"
   },
   {
    "duration": 234,
    "start_time": "2025-01-11T19:43:47.035Z"
   },
   {
    "duration": 7,
    "start_time": "2025-01-11T19:43:47.271Z"
   },
   {
    "duration": 5,
    "start_time": "2025-01-11T19:43:47.281Z"
   },
   {
    "duration": 19,
    "start_time": "2025-01-11T19:43:47.287Z"
   },
   {
    "duration": 9,
    "start_time": "2025-01-11T19:43:47.307Z"
   },
   {
    "duration": 212,
    "start_time": "2025-01-11T19:43:47.318Z"
   },
   {
    "duration": 59,
    "start_time": "2025-01-11T19:43:47.531Z"
   },
   {
    "duration": 156,
    "start_time": "2025-01-11T19:43:47.591Z"
   },
   {
    "duration": 6,
    "start_time": "2025-01-11T19:43:47.754Z"
   },
   {
    "duration": 7,
    "start_time": "2025-01-11T19:43:47.761Z"
   },
   {
    "duration": 6,
    "start_time": "2025-01-11T19:43:47.769Z"
   },
   {
    "duration": 646,
    "start_time": "2025-01-11T19:43:47.777Z"
   },
   {
    "duration": 874,
    "start_time": "2025-01-11T19:43:48.426Z"
   },
   {
    "duration": 870,
    "start_time": "2025-01-11T19:43:49.302Z"
   },
   {
    "duration": 257,
    "start_time": "2025-01-11T19:43:50.173Z"
   },
   {
    "duration": 47,
    "start_time": "2025-01-11T19:43:50.431Z"
   },
   {
    "duration": 183,
    "start_time": "2025-01-11T19:43:50.481Z"
   },
   {
    "duration": 126,
    "start_time": "2025-01-11T19:43:50.666Z"
   },
   {
    "duration": 51,
    "start_time": "2025-01-11T19:43:50.794Z"
   },
   {
    "duration": 12,
    "start_time": "2025-01-11T19:43:50.847Z"
   },
   {
    "duration": 129,
    "start_time": "2025-01-11T19:43:50.861Z"
   },
   {
    "duration": 16,
    "start_time": "2025-01-11T19:43:50.992Z"
   },
   {
    "duration": 61,
    "start_time": "2025-01-11T19:43:51.009Z"
   },
   {
    "duration": 4,
    "start_time": "2025-01-11T19:43:51.072Z"
   },
   {
    "duration": 6,
    "start_time": "2025-01-11T19:43:51.077Z"
   },
   {
    "duration": 64,
    "start_time": "2025-01-11T19:43:51.085Z"
   },
   {
    "duration": 675,
    "start_time": "2025-01-11T19:43:51.151Z"
   },
   {
    "duration": 1583,
    "start_time": "2025-01-11T19:43:51.828Z"
   },
   {
    "duration": 373,
    "start_time": "2025-01-11T19:43:53.413Z"
   },
   {
    "duration": 8,
    "start_time": "2025-01-11T19:43:53.788Z"
   },
   {
    "duration": 5,
    "start_time": "2025-01-11T19:43:53.797Z"
   },
   {
    "duration": 4,
    "start_time": "2025-01-11T19:44:24.189Z"
   },
   {
    "duration": 6,
    "start_time": "2025-01-11T19:44:24.379Z"
   },
   {
    "duration": 7,
    "start_time": "2025-01-11T19:44:24.568Z"
   },
   {
    "duration": 644,
    "start_time": "2025-01-11T19:44:24.759Z"
   },
   {
    "duration": 1495,
    "start_time": "2025-01-11T19:44:25.405Z"
   },
   {
    "duration": 377,
    "start_time": "2025-01-11T19:44:26.903Z"
   },
   {
    "duration": 6,
    "start_time": "2025-01-11T19:44:27.283Z"
   },
   {
    "duration": 122,
    "start_time": "2025-01-11T19:45:18.108Z"
   },
   {
    "duration": 1169,
    "start_time": "2025-01-11T19:45:30.435Z"
   },
   {
    "duration": 1243,
    "start_time": "2025-01-11T19:45:41.401Z"
   },
   {
    "duration": 1590,
    "start_time": "2025-01-11T19:46:50.764Z"
   },
   {
    "duration": 1634,
    "start_time": "2025-01-11T19:47:19.747Z"
   },
   {
    "duration": 317,
    "start_time": "2025-01-11T19:47:48.989Z"
   },
   {
    "duration": 4,
    "start_time": "2025-01-11T19:47:49.309Z"
   },
   {
    "duration": 144,
    "start_time": "2025-01-11T19:47:49.315Z"
   },
   {
    "duration": 195,
    "start_time": "2025-01-11T19:47:49.461Z"
   },
   {
    "duration": 57,
    "start_time": "2025-01-11T19:47:49.658Z"
   },
   {
    "duration": 8,
    "start_time": "2025-01-11T19:47:49.717Z"
   },
   {
    "duration": 8,
    "start_time": "2025-01-11T19:47:49.727Z"
   },
   {
    "duration": 806,
    "start_time": "2025-01-11T19:47:49.736Z"
   },
   {
    "duration": 100,
    "start_time": "2025-01-11T19:47:50.544Z"
   },
   {
    "duration": 111,
    "start_time": "2025-01-11T19:47:50.648Z"
   },
   {
    "duration": 2,
    "start_time": "2025-01-11T19:47:50.761Z"
   },
   {
    "duration": 5,
    "start_time": "2025-01-11T19:47:50.764Z"
   },
   {
    "duration": 31,
    "start_time": "2025-01-11T19:47:50.771Z"
   },
   {
    "duration": 5,
    "start_time": "2025-01-11T19:47:50.804Z"
   },
   {
    "duration": 44,
    "start_time": "2025-01-11T19:47:50.811Z"
   },
   {
    "duration": 151,
    "start_time": "2025-01-11T19:47:50.858Z"
   },
   {
    "duration": 119,
    "start_time": "2025-01-11T19:47:51.011Z"
   },
   {
    "duration": 4,
    "start_time": "2025-01-11T19:47:51.132Z"
   },
   {
    "duration": 40,
    "start_time": "2025-01-11T19:47:51.137Z"
   },
   {
    "duration": 25,
    "start_time": "2025-01-11T19:47:51.179Z"
   },
   {
    "duration": 12,
    "start_time": "2025-01-11T19:47:51.205Z"
   },
   {
    "duration": 26,
    "start_time": "2025-01-11T19:47:51.218Z"
   },
   {
    "duration": 11,
    "start_time": "2025-01-11T19:47:51.247Z"
   },
   {
    "duration": 7,
    "start_time": "2025-01-11T19:47:51.260Z"
   },
   {
    "duration": 6,
    "start_time": "2025-01-11T19:47:51.268Z"
   },
   {
    "duration": 2,
    "start_time": "2025-01-11T19:47:51.276Z"
   },
   {
    "duration": 26,
    "start_time": "2025-01-11T19:47:51.280Z"
   },
   {
    "duration": 18,
    "start_time": "2025-01-11T19:47:51.342Z"
   },
   {
    "duration": 5,
    "start_time": "2025-01-11T19:47:51.361Z"
   },
   {
    "duration": 13,
    "start_time": "2025-01-11T19:47:51.367Z"
   },
   {
    "duration": 13,
    "start_time": "2025-01-11T19:47:51.382Z"
   },
   {
    "duration": 52,
    "start_time": "2025-01-11T19:47:51.397Z"
   },
   {
    "duration": 4,
    "start_time": "2025-01-11T19:47:51.451Z"
   },
   {
    "duration": 52,
    "start_time": "2025-01-11T19:47:51.457Z"
   },
   {
    "duration": 13,
    "start_time": "2025-01-11T19:47:51.510Z"
   },
   {
    "duration": 14,
    "start_time": "2025-01-11T19:47:51.543Z"
   },
   {
    "duration": 8,
    "start_time": "2025-01-11T19:47:51.559Z"
   },
   {
    "duration": 10,
    "start_time": "2025-01-11T19:47:51.568Z"
   },
   {
    "duration": 3,
    "start_time": "2025-01-11T19:47:51.579Z"
   },
   {
    "duration": 7,
    "start_time": "2025-01-11T19:47:51.584Z"
   },
   {
    "duration": 5,
    "start_time": "2025-01-11T19:47:51.593Z"
   },
   {
    "duration": 3,
    "start_time": "2025-01-11T19:47:51.601Z"
   },
   {
    "duration": 8,
    "start_time": "2025-01-11T19:47:51.642Z"
   },
   {
    "duration": 5,
    "start_time": "2025-01-11T19:47:51.651Z"
   },
   {
    "duration": 22,
    "start_time": "2025-01-11T19:47:51.658Z"
   },
   {
    "duration": 6,
    "start_time": "2025-01-11T19:47:51.681Z"
   },
   {
    "duration": 759,
    "start_time": "2025-01-11T19:47:51.689Z"
   },
   {
    "duration": 2,
    "start_time": "2025-01-11T19:47:52.452Z"
   },
   {
    "duration": 10,
    "start_time": "2025-01-11T19:47:52.456Z"
   },
   {
    "duration": 7,
    "start_time": "2025-01-11T19:47:52.468Z"
   },
   {
    "duration": 9,
    "start_time": "2025-01-11T19:47:52.477Z"
   },
   {
    "duration": 7,
    "start_time": "2025-01-11T19:47:52.487Z"
   },
   {
    "duration": 9,
    "start_time": "2025-01-11T19:47:52.495Z"
   },
   {
    "duration": 8,
    "start_time": "2025-01-11T19:47:52.542Z"
   },
   {
    "duration": 11,
    "start_time": "2025-01-11T19:47:52.551Z"
   },
   {
    "duration": 9,
    "start_time": "2025-01-11T19:47:52.563Z"
   },
   {
    "duration": 5,
    "start_time": "2025-01-11T19:47:52.574Z"
   },
   {
    "duration": 761,
    "start_time": "2025-01-11T19:47:52.581Z"
   },
   {
    "duration": 211,
    "start_time": "2025-01-11T19:47:53.343Z"
   },
   {
    "duration": 25,
    "start_time": "2025-01-11T19:47:53.556Z"
   },
   {
    "duration": 7,
    "start_time": "2025-01-11T19:47:53.584Z"
   },
   {
    "duration": 31,
    "start_time": "2025-01-11T19:47:53.592Z"
   },
   {
    "duration": 101,
    "start_time": "2025-01-11T19:47:53.643Z"
   },
   {
    "duration": 9,
    "start_time": "2025-01-11T19:47:53.746Z"
   },
   {
    "duration": 10,
    "start_time": "2025-01-11T19:47:53.757Z"
   },
   {
    "duration": 7,
    "start_time": "2025-01-11T19:47:53.769Z"
   },
   {
    "duration": 4,
    "start_time": "2025-01-11T19:47:53.778Z"
   },
   {
    "duration": 65,
    "start_time": "2025-01-11T19:47:53.784Z"
   },
   {
    "duration": 5,
    "start_time": "2025-01-11T19:47:53.851Z"
   },
   {
    "duration": 7,
    "start_time": "2025-01-11T19:47:53.859Z"
   },
   {
    "duration": 211,
    "start_time": "2025-01-11T19:47:53.867Z"
   },
   {
    "duration": 133,
    "start_time": "2025-01-11T19:47:54.080Z"
   },
   {
    "duration": 121,
    "start_time": "2025-01-11T19:47:54.215Z"
   },
   {
    "duration": 233,
    "start_time": "2025-01-11T19:47:54.342Z"
   },
   {
    "duration": 11,
    "start_time": "2025-01-11T19:47:54.576Z"
   },
   {
    "duration": 5,
    "start_time": "2025-01-11T19:47:54.590Z"
   },
   {
    "duration": 21,
    "start_time": "2025-01-11T19:47:54.597Z"
   },
   {
    "duration": 22,
    "start_time": "2025-01-11T19:47:54.622Z"
   },
   {
    "duration": 182,
    "start_time": "2025-01-11T19:47:54.646Z"
   },
   {
    "duration": 62,
    "start_time": "2025-01-11T19:47:54.830Z"
   },
   {
    "duration": 164,
    "start_time": "2025-01-11T19:47:54.894Z"
   },
   {
    "duration": 6,
    "start_time": "2025-01-11T19:47:55.065Z"
   },
   {
    "duration": 7,
    "start_time": "2025-01-11T19:47:55.072Z"
   },
   {
    "duration": 5,
    "start_time": "2025-01-11T19:47:55.081Z"
   },
   {
    "duration": 654,
    "start_time": "2025-01-11T19:47:55.089Z"
   },
   {
    "duration": 863,
    "start_time": "2025-01-11T19:47:55.745Z"
   },
   {
    "duration": 853,
    "start_time": "2025-01-11T19:47:56.610Z"
   },
   {
    "duration": 242,
    "start_time": "2025-01-11T19:47:57.465Z"
   },
   {
    "duration": 56,
    "start_time": "2025-01-11T19:47:57.709Z"
   },
   {
    "duration": 161,
    "start_time": "2025-01-11T19:47:57.766Z"
   },
   {
    "duration": 127,
    "start_time": "2025-01-11T19:47:57.929Z"
   },
   {
    "duration": 47,
    "start_time": "2025-01-11T19:47:58.058Z"
   },
   {
    "duration": 11,
    "start_time": "2025-01-11T19:47:58.106Z"
   },
   {
    "duration": 132,
    "start_time": "2025-01-11T19:47:58.119Z"
   },
   {
    "duration": 16,
    "start_time": "2025-01-11T19:47:58.253Z"
   },
   {
    "duration": 39,
    "start_time": "2025-01-11T19:47:58.271Z"
   },
   {
    "duration": 3,
    "start_time": "2025-01-11T19:47:58.313Z"
   },
   {
    "duration": 31,
    "start_time": "2025-01-11T19:47:58.317Z"
   },
   {
    "duration": 57,
    "start_time": "2025-01-11T19:47:58.350Z"
   },
   {
    "duration": 666,
    "start_time": "2025-01-11T19:47:58.409Z"
   },
   {
    "duration": 1550,
    "start_time": "2025-01-11T19:47:59.077Z"
   },
   {
    "duration": 435,
    "start_time": "2025-01-11T19:48:00.629Z"
   },
   {
    "duration": 1687,
    "start_time": "2025-01-11T19:48:01.066Z"
   },
   {
    "duration": 5,
    "start_time": "2025-01-11T19:48:02.755Z"
   },
   {
    "duration": 1540,
    "start_time": "2025-01-11T19:49:03.149Z"
   },
   {
    "duration": 1316,
    "start_time": "2025-01-11T19:50:40.890Z"
   },
   {
    "duration": 1303,
    "start_time": "2025-01-11T19:50:54.169Z"
   },
   {
    "duration": 6,
    "start_time": "2025-01-11T20:03:09.247Z"
   },
   {
    "duration": 7,
    "start_time": "2025-01-11T20:03:10.165Z"
   },
   {
    "duration": 510,
    "start_time": "2025-01-11T20:03:18.978Z"
   },
   {
    "duration": 525,
    "start_time": "2025-01-11T20:04:40.668Z"
   },
   {
    "duration": 232,
    "start_time": "2025-01-11T20:06:07.550Z"
   },
   {
    "duration": 7,
    "start_time": "2025-01-11T20:12:22.082Z"
   },
   {
    "duration": 120,
    "start_time": "2025-01-11T20:13:09.941Z"
   },
   {
    "duration": 10,
    "start_time": "2025-01-11T20:14:22.959Z"
   },
   {
    "duration": 6,
    "start_time": "2025-01-11T20:15:21.464Z"
   },
   {
    "duration": 36,
    "start_time": "2025-01-11T20:16:36.895Z"
   },
   {
    "duration": 42,
    "start_time": "2025-01-11T20:18:00.625Z"
   },
   {
    "duration": 41,
    "start_time": "2025-01-11T20:18:35.206Z"
   },
   {
    "duration": 42,
    "start_time": "2025-01-11T20:19:07.075Z"
   },
   {
    "duration": 42,
    "start_time": "2025-01-11T20:19:38.343Z"
   },
   {
    "duration": 38,
    "start_time": "2025-01-11T20:20:00.085Z"
   },
   {
    "duration": 42,
    "start_time": "2025-01-11T20:20:41.519Z"
   },
   {
    "duration": 43,
    "start_time": "2025-01-11T20:20:58.765Z"
   },
   {
    "duration": 44,
    "start_time": "2025-01-11T20:23:34.874Z"
   },
   {
    "duration": 43,
    "start_time": "2025-01-11T20:25:42.051Z"
   },
   {
    "duration": 15,
    "start_time": "2025-01-11T20:27:32.570Z"
   },
   {
    "duration": 12,
    "start_time": "2025-01-11T20:28:16.894Z"
   },
   {
    "duration": 12,
    "start_time": "2025-01-11T20:29:09.482Z"
   },
   {
    "duration": 196,
    "start_time": "2025-01-11T20:29:25.702Z"
   },
   {
    "duration": 54,
    "start_time": "2025-01-11T20:29:35.319Z"
   },
   {
    "duration": 192,
    "start_time": "2025-01-11T20:29:43.613Z"
   },
   {
    "duration": 20,
    "start_time": "2025-01-11T20:30:19.879Z"
   },
   {
    "duration": 191,
    "start_time": "2025-01-11T20:30:37.353Z"
   },
   {
    "duration": 6,
    "start_time": "2025-01-11T20:32:15.728Z"
   },
   {
    "duration": 4,
    "start_time": "2025-01-11T20:32:19.370Z"
   },
   {
    "duration": 200,
    "start_time": "2025-01-11T20:32:30.574Z"
   },
   {
    "duration": 198,
    "start_time": "2025-01-11T20:32:37.729Z"
   },
   {
    "duration": 192,
    "start_time": "2025-01-11T20:32:54.808Z"
   },
   {
    "duration": 194,
    "start_time": "2025-01-11T20:33:07.390Z"
   },
   {
    "duration": 205,
    "start_time": "2025-01-11T20:33:27.179Z"
   },
   {
    "duration": 6,
    "start_time": "2025-01-11T20:33:46.981Z"
   },
   {
    "duration": 270,
    "start_time": "2025-01-11T20:33:50.884Z"
   },
   {
    "duration": 191,
    "start_time": "2025-01-11T20:35:27.109Z"
   },
   {
    "duration": 199,
    "start_time": "2025-01-11T20:35:36.164Z"
   },
   {
    "duration": 149,
    "start_time": "2025-01-11T20:36:13.073Z"
   },
   {
    "duration": 40,
    "start_time": "2025-01-11T20:37:00.590Z"
   },
   {
    "duration": 319,
    "start_time": "2025-01-11T20:37:07.659Z"
   },
   {
    "duration": 2,
    "start_time": "2025-01-11T20:37:07.980Z"
   },
   {
    "duration": 137,
    "start_time": "2025-01-11T20:37:07.985Z"
   },
   {
    "duration": 158,
    "start_time": "2025-01-11T20:37:08.124Z"
   },
   {
    "duration": 42,
    "start_time": "2025-01-11T20:37:08.284Z"
   },
   {
    "duration": 18,
    "start_time": "2025-01-11T20:37:08.328Z"
   },
   {
    "duration": 8,
    "start_time": "2025-01-11T20:37:08.347Z"
   },
   {
    "duration": 733,
    "start_time": "2025-01-11T20:37:08.357Z"
   },
   {
    "duration": 109,
    "start_time": "2025-01-11T20:37:09.093Z"
   },
   {
    "duration": 115,
    "start_time": "2025-01-11T20:37:09.203Z"
   },
   {
    "duration": 2,
    "start_time": "2025-01-11T20:37:09.320Z"
   },
   {
    "duration": 20,
    "start_time": "2025-01-11T20:37:09.324Z"
   },
   {
    "duration": 31,
    "start_time": "2025-01-11T20:37:09.346Z"
   },
   {
    "duration": 5,
    "start_time": "2025-01-11T20:37:09.380Z"
   },
   {
    "duration": 18,
    "start_time": "2025-01-11T20:37:09.387Z"
   },
   {
    "duration": 175,
    "start_time": "2025-01-11T20:37:09.406Z"
   },
   {
    "duration": 122,
    "start_time": "2025-01-11T20:37:09.583Z"
   },
   {
    "duration": 4,
    "start_time": "2025-01-11T20:37:09.707Z"
   },
   {
    "duration": 49,
    "start_time": "2025-01-11T20:37:09.713Z"
   },
   {
    "duration": 24,
    "start_time": "2025-01-11T20:37:09.764Z"
   },
   {
    "duration": 11,
    "start_time": "2025-01-11T20:37:09.789Z"
   },
   {
    "duration": 6,
    "start_time": "2025-01-11T20:37:09.802Z"
   },
   {
    "duration": 36,
    "start_time": "2025-01-11T20:37:09.810Z"
   },
   {
    "duration": 4,
    "start_time": "2025-01-11T20:37:09.848Z"
   },
   {
    "duration": 5,
    "start_time": "2025-01-11T20:37:09.853Z"
   },
   {
    "duration": 3,
    "start_time": "2025-01-11T20:37:09.859Z"
   },
   {
    "duration": 25,
    "start_time": "2025-01-11T20:37:09.864Z"
   },
   {
    "duration": 18,
    "start_time": "2025-01-11T20:37:09.891Z"
   },
   {
    "duration": 33,
    "start_time": "2025-01-11T20:37:09.911Z"
   },
   {
    "duration": 12,
    "start_time": "2025-01-11T20:37:09.946Z"
   },
   {
    "duration": 13,
    "start_time": "2025-01-11T20:37:09.959Z"
   },
   {
    "duration": 24,
    "start_time": "2025-01-11T20:37:09.974Z"
   },
   {
    "duration": 4,
    "start_time": "2025-01-11T20:37:09.999Z"
   },
   {
    "duration": 86,
    "start_time": "2025-01-11T20:37:10.004Z"
   },
   {
    "duration": 15,
    "start_time": "2025-01-11T20:37:10.092Z"
   },
   {
    "duration": 14,
    "start_time": "2025-01-11T20:37:10.109Z"
   },
   {
    "duration": 25,
    "start_time": "2025-01-11T20:37:10.124Z"
   },
   {
    "duration": 9,
    "start_time": "2025-01-11T20:37:10.152Z"
   },
   {
    "duration": 3,
    "start_time": "2025-01-11T20:37:10.163Z"
   },
   {
    "duration": 9,
    "start_time": "2025-01-11T20:37:10.168Z"
   },
   {
    "duration": 5,
    "start_time": "2025-01-11T20:37:10.185Z"
   },
   {
    "duration": 3,
    "start_time": "2025-01-11T20:37:10.192Z"
   },
   {
    "duration": 46,
    "start_time": "2025-01-11T20:37:10.197Z"
   },
   {
    "duration": 5,
    "start_time": "2025-01-11T20:37:10.246Z"
   },
   {
    "duration": 23,
    "start_time": "2025-01-11T20:37:10.253Z"
   },
   {
    "duration": 6,
    "start_time": "2025-01-11T20:37:10.278Z"
   },
   {
    "duration": 795,
    "start_time": "2025-01-11T20:37:10.286Z"
   },
   {
    "duration": 2,
    "start_time": "2025-01-11T20:37:11.083Z"
   },
   {
    "duration": 10,
    "start_time": "2025-01-11T20:37:11.087Z"
   },
   {
    "duration": 7,
    "start_time": "2025-01-11T20:37:11.098Z"
   },
   {
    "duration": 7,
    "start_time": "2025-01-11T20:37:11.107Z"
   },
   {
    "duration": 34,
    "start_time": "2025-01-11T20:37:11.116Z"
   },
   {
    "duration": 6,
    "start_time": "2025-01-11T20:37:11.152Z"
   },
   {
    "duration": 6,
    "start_time": "2025-01-11T20:37:11.160Z"
   },
   {
    "duration": 10,
    "start_time": "2025-01-11T20:37:11.168Z"
   },
   {
    "duration": 7,
    "start_time": "2025-01-11T20:37:11.180Z"
   },
   {
    "duration": 5,
    "start_time": "2025-01-11T20:37:11.189Z"
   },
   {
    "duration": 786,
    "start_time": "2025-01-11T20:37:11.196Z"
   },
   {
    "duration": 208,
    "start_time": "2025-01-11T20:37:11.983Z"
   },
   {
    "duration": 20,
    "start_time": "2025-01-11T20:37:12.193Z"
   },
   {
    "duration": 6,
    "start_time": "2025-01-11T20:37:12.215Z"
   },
   {
    "duration": 47,
    "start_time": "2025-01-11T20:37:12.223Z"
   },
   {
    "duration": 105,
    "start_time": "2025-01-11T20:37:12.272Z"
   },
   {
    "duration": 10,
    "start_time": "2025-01-11T20:37:12.379Z"
   },
   {
    "duration": 9,
    "start_time": "2025-01-11T20:37:12.392Z"
   },
   {
    "duration": 10,
    "start_time": "2025-01-11T20:37:12.403Z"
   },
   {
    "duration": 31,
    "start_time": "2025-01-11T20:37:12.414Z"
   },
   {
    "duration": 39,
    "start_time": "2025-01-11T20:37:12.447Z"
   },
   {
    "duration": 6,
    "start_time": "2025-01-11T20:37:12.487Z"
   },
   {
    "duration": 6,
    "start_time": "2025-01-11T20:37:12.495Z"
   },
   {
    "duration": 232,
    "start_time": "2025-01-11T20:37:12.504Z"
   },
   {
    "duration": 140,
    "start_time": "2025-01-11T20:37:12.738Z"
   },
   {
    "duration": 126,
    "start_time": "2025-01-11T20:37:12.880Z"
   },
   {
    "duration": 236,
    "start_time": "2025-01-11T20:37:13.008Z"
   },
   {
    "duration": 9,
    "start_time": "2025-01-11T20:37:13.246Z"
   },
   {
    "duration": 6,
    "start_time": "2025-01-11T20:37:13.256Z"
   },
   {
    "duration": 18,
    "start_time": "2025-01-11T20:37:13.264Z"
   },
   {
    "duration": 9,
    "start_time": "2025-01-11T20:37:13.284Z"
   },
   {
    "duration": 198,
    "start_time": "2025-01-11T20:37:13.294Z"
   },
   {
    "duration": 60,
    "start_time": "2025-01-11T20:37:13.494Z"
   },
   {
    "duration": 158,
    "start_time": "2025-01-11T20:37:13.555Z"
   },
   {
    "duration": 6,
    "start_time": "2025-01-11T20:37:13.715Z"
   },
   {
    "duration": 20,
    "start_time": "2025-01-11T20:37:13.723Z"
   },
   {
    "duration": 6,
    "start_time": "2025-01-11T20:37:13.745Z"
   },
   {
    "duration": 641,
    "start_time": "2025-01-11T20:37:13.753Z"
   },
   {
    "duration": 875,
    "start_time": "2025-01-11T20:37:14.396Z"
   },
   {
    "duration": 911,
    "start_time": "2025-01-11T20:37:15.272Z"
   },
   {
    "duration": 260,
    "start_time": "2025-01-11T20:37:16.185Z"
   },
   {
    "duration": 41,
    "start_time": "2025-01-11T20:37:16.447Z"
   },
   {
    "duration": 166,
    "start_time": "2025-01-11T20:37:16.490Z"
   },
   {
    "duration": 125,
    "start_time": "2025-01-11T20:37:16.658Z"
   },
   {
    "duration": 43,
    "start_time": "2025-01-11T20:37:16.785Z"
   },
   {
    "duration": 23,
    "start_time": "2025-01-11T20:37:16.830Z"
   },
   {
    "duration": 127,
    "start_time": "2025-01-11T20:37:16.854Z"
   },
   {
    "duration": 17,
    "start_time": "2025-01-11T20:37:16.983Z"
   },
   {
    "duration": 53,
    "start_time": "2025-01-11T20:37:17.002Z"
   },
   {
    "duration": 6,
    "start_time": "2025-01-11T20:37:17.056Z"
   },
   {
    "duration": 53,
    "start_time": "2025-01-11T20:37:17.063Z"
   },
   {
    "duration": 651,
    "start_time": "2025-01-11T20:37:17.118Z"
   },
   {
    "duration": 281,
    "start_time": "2025-01-11T20:37:17.771Z"
   },
   {
    "duration": 129,
    "start_time": "2025-01-11T20:37:18.053Z"
   },
   {
    "duration": 6,
    "start_time": "2025-01-11T20:37:18.184Z"
   },
   {
    "duration": 5,
    "start_time": "2025-01-11T20:37:18.193Z"
   },
   {
    "duration": 62,
    "start_time": "2025-01-11T20:37:18.200Z"
   },
   {
    "duration": 201,
    "start_time": "2025-01-11T20:37:18.263Z"
   },
   {
    "duration": 226,
    "start_time": "2025-01-11T20:37:48.475Z"
   },
   {
    "duration": 219,
    "start_time": "2025-01-11T20:38:37.771Z"
   },
   {
    "duration": 226,
    "start_time": "2025-01-11T20:39:13.579Z"
   },
   {
    "duration": 228,
    "start_time": "2025-01-11T20:39:29.735Z"
   },
   {
    "duration": 235,
    "start_time": "2025-01-11T20:40:06.577Z"
   },
   {
    "duration": 249,
    "start_time": "2025-01-11T20:40:28.831Z"
   },
   {
    "duration": 204,
    "start_time": "2025-01-11T20:41:10.020Z"
   },
   {
    "duration": 211,
    "start_time": "2025-01-11T20:41:15.772Z"
   },
   {
    "duration": 312,
    "start_time": "2025-01-11T20:41:41.170Z"
   },
   {
    "duration": 225,
    "start_time": "2025-01-11T20:41:56.320Z"
   },
   {
    "duration": 209,
    "start_time": "2025-01-11T20:42:24.795Z"
   },
   {
    "duration": 183,
    "start_time": "2025-01-11T20:46:17.729Z"
   },
   {
    "duration": 512,
    "start_time": "2025-01-11T20:47:16.875Z"
   },
   {
    "duration": 293,
    "start_time": "2025-01-11T20:47:24.806Z"
   },
   {
    "duration": 3,
    "start_time": "2025-01-11T20:47:25.101Z"
   },
   {
    "duration": 144,
    "start_time": "2025-01-11T20:47:25.106Z"
   },
   {
    "duration": 162,
    "start_time": "2025-01-11T20:47:25.252Z"
   },
   {
    "duration": 45,
    "start_time": "2025-01-11T20:47:25.417Z"
   },
   {
    "duration": 9,
    "start_time": "2025-01-11T20:47:25.463Z"
   },
   {
    "duration": 8,
    "start_time": "2025-01-11T20:47:25.473Z"
   },
   {
    "duration": 722,
    "start_time": "2025-01-11T20:47:25.482Z"
   },
   {
    "duration": 102,
    "start_time": "2025-01-11T20:47:26.206Z"
   },
   {
    "duration": 107,
    "start_time": "2025-01-11T20:47:26.310Z"
   },
   {
    "duration": 2,
    "start_time": "2025-01-11T20:47:26.419Z"
   },
   {
    "duration": 5,
    "start_time": "2025-01-11T20:47:26.423Z"
   },
   {
    "duration": 31,
    "start_time": "2025-01-11T20:47:26.443Z"
   },
   {
    "duration": 4,
    "start_time": "2025-01-11T20:47:26.478Z"
   },
   {
    "duration": 17,
    "start_time": "2025-01-11T20:47:26.483Z"
   },
   {
    "duration": 162,
    "start_time": "2025-01-11T20:47:26.501Z"
   },
   {
    "duration": 112,
    "start_time": "2025-01-11T20:47:26.664Z"
   },
   {
    "duration": 4,
    "start_time": "2025-01-11T20:47:26.778Z"
   },
   {
    "duration": 33,
    "start_time": "2025-01-11T20:47:26.784Z"
   },
   {
    "duration": 41,
    "start_time": "2025-01-11T20:47:26.819Z"
   },
   {
    "duration": 11,
    "start_time": "2025-01-11T20:47:26.862Z"
   },
   {
    "duration": 5,
    "start_time": "2025-01-11T20:47:26.875Z"
   },
   {
    "duration": 11,
    "start_time": "2025-01-11T20:47:26.882Z"
   },
   {
    "duration": 3,
    "start_time": "2025-01-11T20:47:26.895Z"
   },
   {
    "duration": 4,
    "start_time": "2025-01-11T20:47:26.900Z"
   },
   {
    "duration": 3,
    "start_time": "2025-01-11T20:47:26.905Z"
   },
   {
    "duration": 26,
    "start_time": "2025-01-11T20:47:26.943Z"
   },
   {
    "duration": 17,
    "start_time": "2025-01-11T20:47:26.970Z"
   },
   {
    "duration": 5,
    "start_time": "2025-01-11T20:47:26.989Z"
   },
   {
    "duration": 12,
    "start_time": "2025-01-11T20:47:26.996Z"
   },
   {
    "duration": 41,
    "start_time": "2025-01-11T20:47:27.010Z"
   },
   {
    "duration": 23,
    "start_time": "2025-01-11T20:47:27.052Z"
   },
   {
    "duration": 4,
    "start_time": "2025-01-11T20:47:27.077Z"
   },
   {
    "duration": 69,
    "start_time": "2025-01-11T20:47:27.082Z"
   },
   {
    "duration": 14,
    "start_time": "2025-01-11T20:47:27.153Z"
   },
   {
    "duration": 12,
    "start_time": "2025-01-11T20:47:27.168Z"
   },
   {
    "duration": 8,
    "start_time": "2025-01-11T20:47:27.182Z"
   },
   {
    "duration": 10,
    "start_time": "2025-01-11T20:47:27.192Z"
   },
   {
    "duration": 6,
    "start_time": "2025-01-11T20:47:27.203Z"
   },
   {
    "duration": 39,
    "start_time": "2025-01-11T20:47:27.210Z"
   },
   {
    "duration": 6,
    "start_time": "2025-01-11T20:47:27.255Z"
   },
   {
    "duration": 4,
    "start_time": "2025-01-11T20:47:27.262Z"
   },
   {
    "duration": 9,
    "start_time": "2025-01-11T20:47:27.267Z"
   },
   {
    "duration": 4,
    "start_time": "2025-01-11T20:47:27.278Z"
   },
   {
    "duration": 23,
    "start_time": "2025-01-11T20:47:27.284Z"
   },
   {
    "duration": 6,
    "start_time": "2025-01-11T20:47:27.344Z"
   },
   {
    "duration": 782,
    "start_time": "2025-01-11T20:47:27.351Z"
   },
   {
    "duration": 2,
    "start_time": "2025-01-11T20:47:28.135Z"
   },
   {
    "duration": 10,
    "start_time": "2025-01-11T20:47:28.142Z"
   },
   {
    "duration": 7,
    "start_time": "2025-01-11T20:47:28.153Z"
   },
   {
    "duration": 7,
    "start_time": "2025-01-11T20:47:28.161Z"
   },
   {
    "duration": 6,
    "start_time": "2025-01-11T20:47:28.171Z"
   },
   {
    "duration": 8,
    "start_time": "2025-01-11T20:47:28.179Z"
   },
   {
    "duration": 7,
    "start_time": "2025-01-11T20:47:28.189Z"
   },
   {
    "duration": 47,
    "start_time": "2025-01-11T20:47:28.198Z"
   },
   {
    "duration": 7,
    "start_time": "2025-01-11T20:47:28.247Z"
   },
   {
    "duration": 9,
    "start_time": "2025-01-11T20:47:28.256Z"
   },
   {
    "duration": 782,
    "start_time": "2025-01-11T20:47:28.267Z"
   },
   {
    "duration": 206,
    "start_time": "2025-01-11T20:47:29.051Z"
   },
   {
    "duration": 20,
    "start_time": "2025-01-11T20:47:29.261Z"
   },
   {
    "duration": 6,
    "start_time": "2025-01-11T20:47:29.283Z"
   },
   {
    "duration": 54,
    "start_time": "2025-01-11T20:47:29.291Z"
   },
   {
    "duration": 101,
    "start_time": "2025-01-11T20:47:29.347Z"
   },
   {
    "duration": 11,
    "start_time": "2025-01-11T20:47:29.450Z"
   },
   {
    "duration": 10,
    "start_time": "2025-01-11T20:47:29.463Z"
   },
   {
    "duration": 8,
    "start_time": "2025-01-11T20:47:29.474Z"
   },
   {
    "duration": 5,
    "start_time": "2025-01-11T20:47:29.483Z"
   },
   {
    "duration": 64,
    "start_time": "2025-01-11T20:47:29.490Z"
   },
   {
    "duration": 6,
    "start_time": "2025-01-11T20:47:29.556Z"
   },
   {
    "duration": 4,
    "start_time": "2025-01-11T20:47:29.564Z"
   },
   {
    "duration": 214,
    "start_time": "2025-01-11T20:47:29.570Z"
   },
   {
    "duration": 134,
    "start_time": "2025-01-11T20:47:29.786Z"
   },
   {
    "duration": 120,
    "start_time": "2025-01-11T20:47:29.922Z"
   },
   {
    "duration": 235,
    "start_time": "2025-01-11T20:47:30.044Z"
   },
   {
    "duration": 8,
    "start_time": "2025-01-11T20:47:30.281Z"
   },
   {
    "duration": 5,
    "start_time": "2025-01-11T20:47:30.291Z"
   },
   {
    "duration": 18,
    "start_time": "2025-01-11T20:47:30.298Z"
   },
   {
    "duration": 26,
    "start_time": "2025-01-11T20:47:30.318Z"
   },
   {
    "duration": 198,
    "start_time": "2025-01-11T20:47:30.345Z"
   },
   {
    "duration": 55,
    "start_time": "2025-01-11T20:47:30.545Z"
   },
   {
    "duration": 163,
    "start_time": "2025-01-11T20:47:30.603Z"
   },
   {
    "duration": 6,
    "start_time": "2025-01-11T20:47:30.768Z"
   },
   {
    "duration": 8,
    "start_time": "2025-01-11T20:47:30.775Z"
   },
   {
    "duration": 6,
    "start_time": "2025-01-11T20:47:30.784Z"
   },
   {
    "duration": 679,
    "start_time": "2025-01-11T20:47:30.792Z"
   },
   {
    "duration": 849,
    "start_time": "2025-01-11T20:47:31.473Z"
   },
   {
    "duration": 864,
    "start_time": "2025-01-11T20:47:32.323Z"
   },
   {
    "duration": 244,
    "start_time": "2025-01-11T20:47:33.189Z"
   },
   {
    "duration": 44,
    "start_time": "2025-01-11T20:47:33.443Z"
   },
   {
    "duration": 170,
    "start_time": "2025-01-11T20:47:33.489Z"
   },
   {
    "duration": 127,
    "start_time": "2025-01-11T20:47:33.662Z"
   },
   {
    "duration": 42,
    "start_time": "2025-01-11T20:47:33.791Z"
   },
   {
    "duration": 11,
    "start_time": "2025-01-11T20:47:33.843Z"
   },
   {
    "duration": 126,
    "start_time": "2025-01-11T20:47:33.855Z"
   },
   {
    "duration": 15,
    "start_time": "2025-01-11T20:47:33.983Z"
   },
   {
    "duration": 55,
    "start_time": "2025-01-11T20:47:34.000Z"
   },
   {
    "duration": 5,
    "start_time": "2025-01-11T20:47:34.057Z"
   },
   {
    "duration": 52,
    "start_time": "2025-01-11T20:47:34.064Z"
   },
   {
    "duration": 654,
    "start_time": "2025-01-11T20:47:34.118Z"
   },
   {
    "duration": 269,
    "start_time": "2025-01-11T20:47:34.774Z"
   },
   {
    "duration": 130,
    "start_time": "2025-01-11T20:47:35.045Z"
   },
   {
    "duration": 11,
    "start_time": "2025-01-11T20:47:35.176Z"
   },
   {
    "duration": 9,
    "start_time": "2025-01-11T20:47:35.189Z"
   },
   {
    "duration": 51,
    "start_time": "2025-01-11T20:47:35.199Z"
   },
   {
    "duration": 223,
    "start_time": "2025-01-11T20:47:35.252Z"
   },
   {
    "duration": 518,
    "start_time": "2025-01-11T20:48:41.235Z"
   },
   {
    "duration": 340,
    "start_time": "2025-01-11T20:48:49.660Z"
   },
   {
    "duration": 2,
    "start_time": "2025-01-11T20:48:50.002Z"
   },
   {
    "duration": 151,
    "start_time": "2025-01-11T20:48:50.006Z"
   },
   {
    "duration": 165,
    "start_time": "2025-01-11T20:48:50.159Z"
   },
   {
    "duration": 44,
    "start_time": "2025-01-11T20:48:50.327Z"
   },
   {
    "duration": 8,
    "start_time": "2025-01-11T20:48:50.372Z"
   },
   {
    "duration": 11,
    "start_time": "2025-01-11T20:48:50.382Z"
   },
   {
    "duration": 746,
    "start_time": "2025-01-11T20:48:50.394Z"
   },
   {
    "duration": 104,
    "start_time": "2025-01-11T20:48:51.142Z"
   },
   {
    "duration": 113,
    "start_time": "2025-01-11T20:48:51.249Z"
   },
   {
    "duration": 2,
    "start_time": "2025-01-11T20:48:51.364Z"
   },
   {
    "duration": 6,
    "start_time": "2025-01-11T20:48:51.368Z"
   },
   {
    "duration": 31,
    "start_time": "2025-01-11T20:48:51.375Z"
   },
   {
    "duration": 4,
    "start_time": "2025-01-11T20:48:51.410Z"
   },
   {
    "duration": 42,
    "start_time": "2025-01-11T20:48:51.416Z"
   },
   {
    "duration": 152,
    "start_time": "2025-01-11T20:48:51.460Z"
   },
   {
    "duration": 120,
    "start_time": "2025-01-11T20:48:51.614Z"
   },
   {
    "duration": 8,
    "start_time": "2025-01-11T20:48:51.736Z"
   },
   {
    "duration": 36,
    "start_time": "2025-01-11T20:48:51.746Z"
   },
   {
    "duration": 24,
    "start_time": "2025-01-11T20:48:51.783Z"
   },
   {
    "duration": 12,
    "start_time": "2025-01-11T20:48:51.809Z"
   },
   {
    "duration": 6,
    "start_time": "2025-01-11T20:48:51.843Z"
   },
   {
    "duration": 13,
    "start_time": "2025-01-11T20:48:51.851Z"
   },
   {
    "duration": 3,
    "start_time": "2025-01-11T20:48:51.866Z"
   },
   {
    "duration": 5,
    "start_time": "2025-01-11T20:48:51.871Z"
   },
   {
    "duration": 3,
    "start_time": "2025-01-11T20:48:51.878Z"
   },
   {
    "duration": 25,
    "start_time": "2025-01-11T20:48:51.883Z"
   },
   {
    "duration": 19,
    "start_time": "2025-01-11T20:48:51.943Z"
   },
   {
    "duration": 5,
    "start_time": "2025-01-11T20:48:51.964Z"
   },
   {
    "duration": 12,
    "start_time": "2025-01-11T20:48:51.972Z"
   },
   {
    "duration": 14,
    "start_time": "2025-01-11T20:48:51.985Z"
   },
   {
    "duration": 52,
    "start_time": "2025-01-11T20:48:52.001Z"
   },
   {
    "duration": 3,
    "start_time": "2025-01-11T20:48:52.055Z"
   },
   {
    "duration": 53,
    "start_time": "2025-01-11T20:48:52.060Z"
   },
   {
    "duration": 35,
    "start_time": "2025-01-11T20:48:52.115Z"
   },
   {
    "duration": 15,
    "start_time": "2025-01-11T20:48:52.151Z"
   },
   {
    "duration": 9,
    "start_time": "2025-01-11T20:48:52.168Z"
   },
   {
    "duration": 11,
    "start_time": "2025-01-11T20:48:52.179Z"
   },
   {
    "duration": 4,
    "start_time": "2025-01-11T20:48:52.192Z"
   },
   {
    "duration": 9,
    "start_time": "2025-01-11T20:48:52.197Z"
   },
   {
    "duration": 5,
    "start_time": "2025-01-11T20:48:52.242Z"
   },
   {
    "duration": 4,
    "start_time": "2025-01-11T20:48:52.249Z"
   },
   {
    "duration": 9,
    "start_time": "2025-01-11T20:48:52.254Z"
   },
   {
    "duration": 5,
    "start_time": "2025-01-11T20:48:52.265Z"
   },
   {
    "duration": 23,
    "start_time": "2025-01-11T20:48:52.272Z"
   },
   {
    "duration": 7,
    "start_time": "2025-01-11T20:48:52.296Z"
   },
   {
    "duration": 803,
    "start_time": "2025-01-11T20:48:52.304Z"
   },
   {
    "duration": 2,
    "start_time": "2025-01-11T20:48:53.109Z"
   },
   {
    "duration": 9,
    "start_time": "2025-01-11T20:48:53.113Z"
   },
   {
    "duration": 20,
    "start_time": "2025-01-11T20:48:53.123Z"
   },
   {
    "duration": 7,
    "start_time": "2025-01-11T20:48:53.145Z"
   },
   {
    "duration": 6,
    "start_time": "2025-01-11T20:48:53.154Z"
   },
   {
    "duration": 7,
    "start_time": "2025-01-11T20:48:53.161Z"
   },
   {
    "duration": 7,
    "start_time": "2025-01-11T20:48:53.169Z"
   },
   {
    "duration": 10,
    "start_time": "2025-01-11T20:48:53.177Z"
   },
   {
    "duration": 7,
    "start_time": "2025-01-11T20:48:53.188Z"
   },
   {
    "duration": 47,
    "start_time": "2025-01-11T20:48:53.197Z"
   },
   {
    "duration": 698,
    "start_time": "2025-01-11T20:48:53.245Z"
   },
   {
    "duration": 208,
    "start_time": "2025-01-11T20:48:53.945Z"
   },
   {
    "duration": 21,
    "start_time": "2025-01-11T20:48:54.154Z"
   },
   {
    "duration": 6,
    "start_time": "2025-01-11T20:48:54.177Z"
   },
   {
    "duration": 31,
    "start_time": "2025-01-11T20:48:54.184Z"
   },
   {
    "duration": 117,
    "start_time": "2025-01-11T20:48:54.217Z"
   },
   {
    "duration": 11,
    "start_time": "2025-01-11T20:48:54.343Z"
   },
   {
    "duration": 9,
    "start_time": "2025-01-11T20:48:54.356Z"
   },
   {
    "duration": 9,
    "start_time": "2025-01-11T20:48:54.366Z"
   },
   {
    "duration": 4,
    "start_time": "2025-01-11T20:48:54.377Z"
   },
   {
    "duration": 64,
    "start_time": "2025-01-11T20:48:54.384Z"
   },
   {
    "duration": 5,
    "start_time": "2025-01-11T20:48:54.450Z"
   },
   {
    "duration": 7,
    "start_time": "2025-01-11T20:48:54.456Z"
   },
   {
    "duration": 214,
    "start_time": "2025-01-11T20:48:54.464Z"
   },
   {
    "duration": 134,
    "start_time": "2025-01-11T20:48:54.680Z"
   },
   {
    "duration": 121,
    "start_time": "2025-01-11T20:48:54.816Z"
   },
   {
    "duration": 236,
    "start_time": "2025-01-11T20:48:54.942Z"
   },
   {
    "duration": 11,
    "start_time": "2025-01-11T20:48:55.183Z"
   },
   {
    "duration": 6,
    "start_time": "2025-01-11T20:48:55.196Z"
   },
   {
    "duration": 19,
    "start_time": "2025-01-11T20:48:55.203Z"
   },
   {
    "duration": 25,
    "start_time": "2025-01-11T20:48:55.223Z"
   },
   {
    "duration": 197,
    "start_time": "2025-01-11T20:48:55.250Z"
   },
   {
    "duration": 52,
    "start_time": "2025-01-11T20:48:55.449Z"
   },
   {
    "duration": 160,
    "start_time": "2025-01-11T20:48:55.503Z"
   },
   {
    "duration": 6,
    "start_time": "2025-01-11T20:48:55.665Z"
   },
   {
    "duration": 6,
    "start_time": "2025-01-11T20:48:55.673Z"
   },
   {
    "duration": 5,
    "start_time": "2025-01-11T20:48:55.681Z"
   },
   {
    "duration": 641,
    "start_time": "2025-01-11T20:48:55.688Z"
   },
   {
    "duration": 863,
    "start_time": "2025-01-11T20:48:56.330Z"
   },
   {
    "duration": 840,
    "start_time": "2025-01-11T20:48:57.195Z"
   },
   {
    "duration": 250,
    "start_time": "2025-01-11T20:48:58.037Z"
   },
   {
    "duration": 55,
    "start_time": "2025-01-11T20:48:58.289Z"
   },
   {
    "duration": 159,
    "start_time": "2025-01-11T20:48:58.345Z"
   },
   {
    "duration": 128,
    "start_time": "2025-01-11T20:48:58.506Z"
   },
   {
    "duration": 48,
    "start_time": "2025-01-11T20:48:58.636Z"
   },
   {
    "duration": 12,
    "start_time": "2025-01-11T20:48:58.685Z"
   },
   {
    "duration": 127,
    "start_time": "2025-01-11T20:48:58.700Z"
   },
   {
    "duration": 20,
    "start_time": "2025-01-11T20:48:58.829Z"
   },
   {
    "duration": 41,
    "start_time": "2025-01-11T20:48:58.851Z"
   },
   {
    "duration": 5,
    "start_time": "2025-01-11T20:48:58.894Z"
   },
   {
    "duration": 73,
    "start_time": "2025-01-11T20:48:58.901Z"
   },
   {
    "duration": 661,
    "start_time": "2025-01-11T20:48:58.975Z"
   },
   {
    "duration": 262,
    "start_time": "2025-01-11T20:48:59.643Z"
   },
   {
    "duration": 123,
    "start_time": "2025-01-11T20:48:59.907Z"
   },
   {
    "duration": 13,
    "start_time": "2025-01-11T20:49:00.032Z"
   },
   {
    "duration": 5,
    "start_time": "2025-01-11T20:49:00.047Z"
   },
   {
    "duration": 45,
    "start_time": "2025-01-11T20:49:00.053Z"
   },
   {
    "duration": 235,
    "start_time": "2025-01-11T20:49:00.100Z"
   }
  ],
  "kernelspec": {
   "display_name": "Python 3 (ipykernel)",
   "language": "python",
   "name": "python3"
  },
  "language_info": {
   "codemirror_mode": {
    "name": "ipython",
    "version": 3
   },
   "file_extension": ".py",
   "mimetype": "text/x-python",
   "name": "python",
   "nbconvert_exporter": "python",
   "pygments_lexer": "ipython3",
   "version": "3.9.6"
  },
  "toc": {
   "base_numbering": 1,
   "nav_menu": {},
   "number_sections": true,
   "sideBar": true,
   "skip_h1_title": true,
   "title_cell": "Table of Contents",
   "title_sidebar": "Contents",
   "toc_cell": false,
   "toc_position": {},
   "toc_section_display": true,
   "toc_window_display": false
  },
  "vscode": {
   "interpreter": {
    "hash": "01a7be9ec63e704a62cefc5fe7a4756944464ee731be31632bdf42a4cb4688cf"
   }
  }
 },
 "nbformat": 4,
 "nbformat_minor": 5
}
